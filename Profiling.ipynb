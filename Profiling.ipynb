{
 "cells": [
  {
   "cell_type": "markdown",
   "metadata": {},
   "source": [
    "# Mother Tongues of Canada, by Knowledge of the official languages\n",
    "by Grace Cowderoy"
   ]
  },
  {
   "cell_type": "markdown",
   "metadata": {},
   "source": [
    "## Abstract\n",
    "Canada is a nation with two official languages: English and French. According to the 2021 Statistics Canada census, 98.2% of Canadian residents speak at least one of the official languages. However, only 74.5% of the population consider one of the official languages as their first language (L1), also called their mother tongue - the language first learnt in childhood. For the other 25.6% of people, their mother tongue is a non-official language. \n",
    "\n",
    "The dataset Table 98-10-0175-01  Mother tongue by knowledge of official languages: Canada, provinces and territories, census metropolitan areas and census agglomerations with parts provides data from the 2021 Statistics Canada census on the respondent’s mother tongue, age at the time of census, gender, knowledge of the two official languages, and their location within Canada. \n",
    "\n",
    "This study proposes to weigh the factors that influence the knowledge of each official language. Research questions include: Does living in a particular area influence a speaker of a non-official language towards English or French? Does any single mother tongue influence a speaker towards English or French? What influence does the age of the speaker have on knowledge of the official languages? \n",
    "\n",
    "Classification techniques will be used to identify groups that may be more likely to speak each of the official languages, both the official languages, and those more likely to speak neither official language. As the dataset is imbalanced due to more speakers of English than French, balancing techniques such as oversampling and undersampling will be used. \n"
   ]
  },
  {
   "cell_type": "markdown",
   "metadata": {},
   "source": [
    "## Introduction\n",
    "In Canada, the term ‘bilingual’ refers to speakers of both official languages, as opposed to the more general term where a speaker knows two different languages. The distribution of these bilingual speakers is not uniform across Canada, and neither is the distribution of speakers of non-official languages. \n",
    "\n",
    "The population of Canada has a variety of both indigenous and non-indigenous languages as their mother tongue. Canada is home to 81 living indigenous languages (Ethnologue), with many immigrants bringing their own native language to Canada. \n",
    "\n",
    "There are approximately 7,000 languages currently in use in the world (Ethnologue). These languages can be structured into families. English belongs to the Germanic branch of the Indo-European family, while French belongs to the Romance branch of the same family. It has been established that generally it is easier to acquire a second language (L2) when it is closely related to the learner’s first language (L1) (Gampe, A 2021). As such, within Canada, it may reasonably be expected that those speakers with an L1 more closely related to French would have greater knowledge of French. Another factor may be the location of the individual within Canada - policies in different provinces may promote one official language over another. The age of the individual can affect their language skills, as it is generally easier to acquire a second language in childhood compared to adulthood. Further, language policy in Canada has changed over time and varies between the provinces and territories, which suggests that age may be a factor in knowledge of the official languages depending on the policies in place over time. \n",
    "\n",
    "This is an investigation of the dataset Statistics Canada. Table 98-10-0175-01  Mother tongue by knowledge of official languages: Canada, provinces and territories, census metropolitan areas and census agglomerations with parts, https://doi.org/10.25318/9810017501-eng \n",
    "\n",
    "The dataset was released 2022-08-17 and comes from the 2021 Census of Population of Canada. Due to the recent release of the dataset, it does not yet appear to have been cited on Web of Science (As of 2023-10-07)\n",
    "\n",
    "The dataset has multiple dimensions, including age, gender, geographic location, mother tongue of respondent, respondent's knowledge of the official languages (French and English). These dimensions include aggregates as individual records, e.g. Canada as a record, Ontario, Toronto. Part of the data cleaning will involve converting these aggregations into their tree structures. "
   ]
  },
  {
   "cell_type": "markdown",
   "metadata": {},
   "source": [
    "Importing the required libraries, bringing in the dataset motherTongues Table 98-10-0175-01 and doing the initial exploratory data analysis. "
   ]
  },
  {
   "cell_type": "code",
   "execution_count": 37,
   "metadata": {},
   "outputs": [],
   "source": [
    "import pandas as pd\n",
    "import matplotlib.pyplot as plt\n",
    "import numpy as np\n",
    "from ydata_profiling import ProfileReport\n",
    "from ydata_profiling.model.typeset import ProfilingTypeSet\n",
    "from bigtree import dataframe_to_tree_by_relation\n",
    "from sklearn.preprocessing import MultiLabelBinarizer\n",
    "from sklearn.model_selection import train_test_split\n",
    "from sklearn.tree import DecisionTreeRegressor, DecisionTreeClassifier, plot_tree, export_graphviz\n",
    "from sklearn.multioutput import MultiOutputClassifier, MultiOutputRegressor\n",
    "from sklearn.linear_model import LogisticRegression\n",
    "from sklearn.metrics import classification_report, confusion_matrix, brier_score_loss, matthews_corrcoef, multilabel_confusion_matrix\n",
    "from skmultilearn.model_selection import iterative_train_test_split\n",
    "from skmultilearn.model_selection.measures import get_combination_wise_output_matrix\n",
    "import graphviz"
   ]
  },
  {
   "cell_type": "code",
   "execution_count": 2,
   "metadata": {},
   "outputs": [
    {
     "data": {
      "text/html": [
       "<div>\n",
       "<style scoped>\n",
       "    .dataframe tbody tr th:only-of-type {\n",
       "        vertical-align: middle;\n",
       "    }\n",
       "\n",
       "    .dataframe tbody tr th {\n",
       "        vertical-align: top;\n",
       "    }\n",
       "\n",
       "    .dataframe thead th {\n",
       "        text-align: right;\n",
       "    }\n",
       "</style>\n",
       "<table border=\"1\" class=\"dataframe\">\n",
       "  <thead>\n",
       "    <tr style=\"text-align: right;\">\n",
       "      <th></th>\n",
       "      <th>REF_DATE</th>\n",
       "      <th>Knowledge of official languages (5):Total - Knowledge of official languages[1]</th>\n",
       "      <th>Symbol</th>\n",
       "      <th>Knowledge of official languages (5):English only[2]</th>\n",
       "      <th>Symbol.1</th>\n",
       "      <th>Knowledge of official languages (5):French only[3]</th>\n",
       "      <th>Symbol.2</th>\n",
       "      <th>Knowledge of official languages (5):English and French[4]</th>\n",
       "      <th>Symbol.3</th>\n",
       "      <th>Knowledge of official languages (5):Neither English nor French[5]</th>\n",
       "      <th>Symbol.4</th>\n",
       "    </tr>\n",
       "  </thead>\n",
       "  <tbody>\n",
       "    <tr>\n",
       "      <th>count</th>\n",
       "      <td>2591730.0</td>\n",
       "      <td>2.591730e+06</td>\n",
       "      <td>0.0</td>\n",
       "      <td>2.591730e+06</td>\n",
       "      <td>0.0</td>\n",
       "      <td>2.591730e+06</td>\n",
       "      <td>0.0</td>\n",
       "      <td>2.591730e+06</td>\n",
       "      <td>0.0</td>\n",
       "      <td>2.591730e+06</td>\n",
       "      <td>0.0</td>\n",
       "    </tr>\n",
       "    <tr>\n",
       "      <th>mean</th>\n",
       "      <td>2021.0</td>\n",
       "      <td>1.067793e+03</td>\n",
       "      <td>NaN</td>\n",
       "      <td>7.499710e+02</td>\n",
       "      <td>NaN</td>\n",
       "      <td>1.010610e+02</td>\n",
       "      <td>NaN</td>\n",
       "      <td>1.881355e+02</td>\n",
       "      <td>NaN</td>\n",
       "      <td>2.855237e+01</td>\n",
       "      <td>NaN</td>\n",
       "    </tr>\n",
       "    <tr>\n",
       "      <th>std</th>\n",
       "      <td>0.0</td>\n",
       "      <td>6.512709e+04</td>\n",
       "      <td>NaN</td>\n",
       "      <td>4.737592e+04</td>\n",
       "      <td>NaN</td>\n",
       "      <td>1.002769e+04</td>\n",
       "      <td>NaN</td>\n",
       "      <td>1.314044e+04</td>\n",
       "      <td>NaN</td>\n",
       "      <td>1.603253e+03</td>\n",
       "      <td>NaN</td>\n",
       "    </tr>\n",
       "    <tr>\n",
       "      <th>min</th>\n",
       "      <td>2021.0</td>\n",
       "      <td>0.000000e+00</td>\n",
       "      <td>NaN</td>\n",
       "      <td>0.000000e+00</td>\n",
       "      <td>NaN</td>\n",
       "      <td>0.000000e+00</td>\n",
       "      <td>NaN</td>\n",
       "      <td>0.000000e+00</td>\n",
       "      <td>NaN</td>\n",
       "      <td>0.000000e+00</td>\n",
       "      <td>NaN</td>\n",
       "    </tr>\n",
       "    <tr>\n",
       "      <th>25%</th>\n",
       "      <td>2021.0</td>\n",
       "      <td>0.000000e+00</td>\n",
       "      <td>NaN</td>\n",
       "      <td>0.000000e+00</td>\n",
       "      <td>NaN</td>\n",
       "      <td>0.000000e+00</td>\n",
       "      <td>NaN</td>\n",
       "      <td>0.000000e+00</td>\n",
       "      <td>NaN</td>\n",
       "      <td>0.000000e+00</td>\n",
       "      <td>NaN</td>\n",
       "    </tr>\n",
       "    <tr>\n",
       "      <th>50%</th>\n",
       "      <td>2021.0</td>\n",
       "      <td>0.000000e+00</td>\n",
       "      <td>NaN</td>\n",
       "      <td>0.000000e+00</td>\n",
       "      <td>NaN</td>\n",
       "      <td>0.000000e+00</td>\n",
       "      <td>NaN</td>\n",
       "      <td>0.000000e+00</td>\n",
       "      <td>NaN</td>\n",
       "      <td>0.000000e+00</td>\n",
       "      <td>NaN</td>\n",
       "    </tr>\n",
       "    <tr>\n",
       "      <th>75%</th>\n",
       "      <td>2021.0</td>\n",
       "      <td>0.000000e+00</td>\n",
       "      <td>NaN</td>\n",
       "      <td>0.000000e+00</td>\n",
       "      <td>NaN</td>\n",
       "      <td>0.000000e+00</td>\n",
       "      <td>NaN</td>\n",
       "      <td>0.000000e+00</td>\n",
       "      <td>NaN</td>\n",
       "      <td>0.000000e+00</td>\n",
       "      <td>NaN</td>\n",
       "    </tr>\n",
       "    <tr>\n",
       "      <th>max</th>\n",
       "      <td>2021.0</td>\n",
       "      <td>3.662096e+07</td>\n",
       "      <td>NaN</td>\n",
       "      <td>2.526166e+07</td>\n",
       "      <td>NaN</td>\n",
       "      <td>4.087895e+06</td>\n",
       "      <td>NaN</td>\n",
       "      <td>6.581680e+06</td>\n",
       "      <td>NaN</td>\n",
       "      <td>6.897250e+05</td>\n",
       "      <td>NaN</td>\n",
       "    </tr>\n",
       "  </tbody>\n",
       "</table>\n",
       "</div>"
      ],
      "text/plain": [
       "        REF_DATE  \\\n",
       "count  2591730.0   \n",
       "mean      2021.0   \n",
       "std          0.0   \n",
       "min       2021.0   \n",
       "25%       2021.0   \n",
       "50%       2021.0   \n",
       "75%       2021.0   \n",
       "max       2021.0   \n",
       "\n",
       "       Knowledge of official languages (5):Total - Knowledge of official languages[1]  \\\n",
       "count                                       2.591730e+06                                \n",
       "mean                                        1.067793e+03                                \n",
       "std                                         6.512709e+04                                \n",
       "min                                         0.000000e+00                                \n",
       "25%                                         0.000000e+00                                \n",
       "50%                                         0.000000e+00                                \n",
       "75%                                         0.000000e+00                                \n",
       "max                                         3.662096e+07                                \n",
       "\n",
       "       Symbol  Knowledge of official languages (5):English only[2]  Symbol.1  \\\n",
       "count     0.0                                       2.591730e+06         0.0   \n",
       "mean      NaN                                       7.499710e+02         NaN   \n",
       "std       NaN                                       4.737592e+04         NaN   \n",
       "min       NaN                                       0.000000e+00         NaN   \n",
       "25%       NaN                                       0.000000e+00         NaN   \n",
       "50%       NaN                                       0.000000e+00         NaN   \n",
       "75%       NaN                                       0.000000e+00         NaN   \n",
       "max       NaN                                       2.526166e+07         NaN   \n",
       "\n",
       "       Knowledge of official languages (5):French only[3]  Symbol.2  \\\n",
       "count                                       2.591730e+06        0.0   \n",
       "mean                                        1.010610e+02        NaN   \n",
       "std                                         1.002769e+04        NaN   \n",
       "min                                         0.000000e+00        NaN   \n",
       "25%                                         0.000000e+00        NaN   \n",
       "50%                                         0.000000e+00        NaN   \n",
       "75%                                         0.000000e+00        NaN   \n",
       "max                                         4.087895e+06        NaN   \n",
       "\n",
       "       Knowledge of official languages (5):English and French[4]  Symbol.3  \\\n",
       "count                                       2.591730e+06               0.0   \n",
       "mean                                        1.881355e+02               NaN   \n",
       "std                                         1.314044e+04               NaN   \n",
       "min                                         0.000000e+00               NaN   \n",
       "25%                                         0.000000e+00               NaN   \n",
       "50%                                         0.000000e+00               NaN   \n",
       "75%                                         0.000000e+00               NaN   \n",
       "max                                         6.581680e+06               NaN   \n",
       "\n",
       "       Knowledge of official languages (5):Neither English nor French[5]  \\\n",
       "count                                       2.591730e+06                   \n",
       "mean                                        2.855237e+01                   \n",
       "std                                         1.603253e+03                   \n",
       "min                                         0.000000e+00                   \n",
       "25%                                         0.000000e+00                   \n",
       "50%                                         0.000000e+00                   \n",
       "75%                                         0.000000e+00                   \n",
       "max                                         6.897250e+05                   \n",
       "\n",
       "       Symbol.4  \n",
       "count       0.0  \n",
       "mean        NaN  \n",
       "std         NaN  \n",
       "min         NaN  \n",
       "25%         NaN  \n",
       "50%         NaN  \n",
       "75%         NaN  \n",
       "max         NaN  "
      ]
     },
     "execution_count": 2,
     "metadata": {},
     "output_type": "execute_result"
    }
   ],
   "source": [
    "motherTongues_filepath = '/home/grace/Documents/CapstoneProject/MotherTongues/98100175.csv'\n",
    "motherTongues_data = pd.read_csv(motherTongues_filepath)\n",
    "motherTongues_data.describe()"
   ]
  },
  {
   "cell_type": "code",
   "execution_count": 3,
   "metadata": {},
   "outputs": [
    {
     "name": "stdout",
     "output_type": "stream",
     "text": [
      "2591730\n"
     ]
    },
    {
     "data": {
      "text/plain": [
       "['REF_DATE',\n",
       " 'GEO',\n",
       " 'DGUID',\n",
       " 'Gender (3)',\n",
       " 'Age (15A)',\n",
       " 'Mother tongue (331)',\n",
       " 'Coordinate',\n",
       " 'Knowledge of official languages (5):Total - Knowledge of official languages[1]',\n",
       " 'Symbol',\n",
       " 'Knowledge of official languages (5):English only[2]',\n",
       " 'Symbol.1',\n",
       " 'Knowledge of official languages (5):French only[3]',\n",
       " 'Symbol.2',\n",
       " 'Knowledge of official languages (5):English and French[4]',\n",
       " 'Symbol.3',\n",
       " 'Knowledge of official languages (5):Neither English nor French[5]',\n",
       " 'Symbol.4']"
      ]
     },
     "execution_count": 3,
     "metadata": {},
     "output_type": "execute_result"
    }
   ],
   "source": [
    "print(len(motherTongues_data))\n",
    "list(motherTongues_data.columns)"
   ]
  },
  {
   "cell_type": "code",
   "execution_count": 4,
   "metadata": {},
   "outputs": [
    {
     "name": "stdout",
     "output_type": "stream",
     "text": [
      "<class 'pandas.core.frame.DataFrame'>\n",
      "RangeIndex: 2591730 entries, 0 to 2591729\n",
      "Data columns (total 17 columns):\n",
      " #   Column                                                                          Dtype  \n",
      "---  ------                                                                          -----  \n",
      " 0   REF_DATE                                                                        int64  \n",
      " 1   GEO                                                                             object \n",
      " 2   DGUID                                                                           object \n",
      " 3   Gender (3)                                                                      object \n",
      " 4   Age (15A)                                                                       object \n",
      " 5   Mother tongue (331)                                                             object \n",
      " 6   Coordinate                                                                      object \n",
      " 7   Knowledge of official languages (5):Total - Knowledge of official languages[1]  int64  \n",
      " 8   Symbol                                                                          float64\n",
      " 9   Knowledge of official languages (5):English only[2]                             int64  \n",
      " 10  Symbol.1                                                                        float64\n",
      " 11  Knowledge of official languages (5):French only[3]                              int64  \n",
      " 12  Symbol.2                                                                        float64\n",
      " 13  Knowledge of official languages (5):English and French[4]                       int64  \n",
      " 14  Symbol.3                                                                        float64\n",
      " 15  Knowledge of official languages (5):Neither English nor French[5]               int64  \n",
      " 16  Symbol.4                                                                        float64\n",
      "dtypes: float64(5), int64(6), object(6)\n",
      "memory usage: 336.1+ MB\n"
     ]
    }
   ],
   "source": [
    "motherTongues_data.info()"
   ]
  },
  {
   "cell_type": "code",
   "execution_count": 5,
   "metadata": {},
   "outputs": [],
   "source": [
    "genderList = motherTongues_data[\"Gender (3)\"].unique()\n"
   ]
  },
  {
   "cell_type": "code",
   "execution_count": 6,
   "metadata": {},
   "outputs": [],
   "source": [
    "profile = ProfileReport(motherTongues_data, title = \"Profiling Report\", explorative=True)\n",
    "##profile"
   ]
  },
  {
   "cell_type": "code",
   "execution_count": 7,
   "metadata": {},
   "outputs": [
    {
     "data": {
      "application/vnd.jupyter.widget-view+json": {
       "model_id": "8d9f70d197584e29940f6e3ae5944595",
       "version_major": 2,
       "version_minor": 0
      },
      "text/plain": [
       "Summarize dataset:   0%|          | 0/5 [00:00<?, ?it/s]"
      ]
     },
     "metadata": {},
     "output_type": "display_data"
    },
    {
     "data": {
      "application/vnd.jupyter.widget-view+json": {
       "model_id": "271dc4bd68d84cf19136fd951f8df832",
       "version_major": 2,
       "version_minor": 0
      },
      "text/plain": [
       "Generate report structure:   0%|          | 0/1 [00:00<?, ?it/s]"
      ]
     },
     "metadata": {},
     "output_type": "display_data"
    },
    {
     "data": {
      "application/vnd.jupyter.widget-view+json": {
       "model_id": "45c984af68a346cb94f7ce8ec7d26568",
       "version_major": 2,
       "version_minor": 0
      },
      "text/plain": [
       "Render HTML:   0%|          | 0/1 [00:00<?, ?it/s]"
      ]
     },
     "metadata": {},
     "output_type": "display_data"
    },
    {
     "data": {
      "application/vnd.jupyter.widget-view+json": {
       "model_id": "f575011ace494ed2b43ce9c9f5d16af9",
       "version_major": 2,
       "version_minor": 0
      },
      "text/plain": [
       "Export report to file:   0%|          | 0/1 [00:00<?, ?it/s]"
      ]
     },
     "metadata": {},
     "output_type": "display_data"
    }
   ],
   "source": [
    "profile.to_file('/home/grace/Documents/CapstoneProject/MotherTongues-Canada/EDA.html')\n"
   ]
  },
  {
   "cell_type": "markdown",
   "metadata": {},
   "source": [
    "The YData Profiling identified a number of empty features and some uniform features. These will be handled in the next steps and YData Profile will be run again. "
   ]
  },
  {
   "cell_type": "code",
   "execution_count": 8,
   "metadata": {},
   "outputs": [
    {
     "data": {
      "text/plain": [
       "REF_DATE                                                                                0\n",
       "GEO                                                                                     0\n",
       "DGUID                                                                                   0\n",
       "Gender (3)                                                                              0\n",
       "Age (15A)                                                                               0\n",
       "Mother tongue (331)                                                                     0\n",
       "Coordinate                                                                              0\n",
       "Knowledge of official languages (5):Total - Knowledge of official languages[1]          0\n",
       "Symbol                                                                            2591730\n",
       "Knowledge of official languages (5):English only[2]                                     0\n",
       "Symbol.1                                                                          2591730\n",
       "Knowledge of official languages (5):French only[3]                                      0\n",
       "Symbol.2                                                                          2591730\n",
       "Knowledge of official languages (5):English and French[4]                               0\n",
       "Symbol.3                                                                          2591730\n",
       "Knowledge of official languages (5):Neither English nor French[5]                       0\n",
       "Symbol.4                                                                          2591730\n",
       "dtype: int64"
      ]
     },
     "execution_count": 8,
     "metadata": {},
     "output_type": "execute_result"
    }
   ],
   "source": [
    "motherTongues_data.isnull().sum()"
   ]
  },
  {
   "cell_type": "code",
   "execution_count": 9,
   "metadata": {},
   "outputs": [
    {
     "data": {
      "text/plain": [
       "['REF_DATE',\n",
       " 'GEO',\n",
       " 'DGUID',\n",
       " 'Gender (3)',\n",
       " 'Age (15A)',\n",
       " 'Mother tongue (331)',\n",
       " 'Coordinate',\n",
       " 'Knowledge of official languages (5):Total - Knowledge of official languages[1]',\n",
       " 'Knowledge of official languages (5):English only[2]',\n",
       " 'Knowledge of official languages (5):French only[3]',\n",
       " 'Knowledge of official languages (5):English and French[4]',\n",
       " 'Knowledge of official languages (5):Neither English nor French[5]']"
      ]
     },
     "execution_count": 9,
     "metadata": {},
     "output_type": "execute_result"
    }
   ],
   "source": [
    "df = motherTongues_data[[c for c in motherTongues_data.columns if 'Symbol' not in c]]\n",
    "list(df.columns)"
   ]
  },
  {
   "cell_type": "code",
   "execution_count": 10,
   "metadata": {},
   "outputs": [],
   "source": [
    "df=df.loc[:,df.columns != 'REF_DATE']\n",
    "df=df.loc[:,df.columns != 'DGUID']"
   ]
  },
  {
   "cell_type": "code",
   "execution_count": 11,
   "metadata": {},
   "outputs": [
    {
     "data": {
      "text/plain": [
       "GEO                                                                               0\n",
       "Gender (3)                                                                        0\n",
       "Age (15A)                                                                         0\n",
       "Mother tongue (331)                                                               0\n",
       "Coordinate                                                                        0\n",
       "Knowledge of official languages (5):Total - Knowledge of official languages[1]    0\n",
       "Knowledge of official languages (5):English only[2]                               0\n",
       "Knowledge of official languages (5):French only[3]                                0\n",
       "Knowledge of official languages (5):English and French[4]                         0\n",
       "Knowledge of official languages (5):Neither English nor French[5]                 0\n",
       "dtype: int64"
      ]
     },
     "execution_count": 11,
     "metadata": {},
     "output_type": "execute_result"
    }
   ],
   "source": [
    "df.isnull().sum()"
   ]
  },
  {
   "cell_type": "code",
   "execution_count": 12,
   "metadata": {},
   "outputs": [
    {
     "data": {
      "application/vnd.jupyter.widget-view+json": {
       "model_id": "7398db95e34247bc8eaba4d5f1832554",
       "version_major": 2,
       "version_minor": 0
      },
      "text/plain": [
       "Summarize dataset:   0%|          | 0/5 [00:00<?, ?it/s]"
      ]
     },
     "metadata": {},
     "output_type": "display_data"
    },
    {
     "data": {
      "application/vnd.jupyter.widget-view+json": {
       "model_id": "bab0b92352a74e93a696fd500afe1ccb",
       "version_major": 2,
       "version_minor": 0
      },
      "text/plain": [
       "Generate report structure:   0%|          | 0/1 [00:00<?, ?it/s]"
      ]
     },
     "metadata": {},
     "output_type": "display_data"
    },
    {
     "data": {
      "application/vnd.jupyter.widget-view+json": {
       "model_id": "1661a8e9babd4aea8fe55f51e9125477",
       "version_major": 2,
       "version_minor": 0
      },
      "text/plain": [
       "Render HTML:   0%|          | 0/1 [00:00<?, ?it/s]"
      ]
     },
     "metadata": {},
     "output_type": "display_data"
    },
    {
     "data": {
      "application/vnd.jupyter.widget-view+json": {
       "model_id": "eb0467468a6043a9b738b38a263a742b",
       "version_major": 2,
       "version_minor": 0
      },
      "text/plain": [
       "Export report to file:   0%|          | 0/1 [00:00<?, ?it/s]"
      ]
     },
     "metadata": {},
     "output_type": "display_data"
    }
   ],
   "source": [
    "profileDF = ProfileReport(df, title = \"Profiling Report (Reduced)\", explorative=True)\n",
    "profileDF.to_file('/home/grace/Documents/CapstoneProject/MotherTongues-Canada/EDA-reduced.html')"
   ]
  },
  {
   "cell_type": "code",
   "execution_count": 13,
   "metadata": {},
   "outputs": [
    {
     "data": {
      "text/plain": [
       "['GEO',\n",
       " 'Gender (3)',\n",
       " 'Age (15A)',\n",
       " 'Mother tongue (331)',\n",
       " 'Coordinate',\n",
       " 'Knowledge of official languages (5):Total - Knowledge of official languages[1]',\n",
       " 'Knowledge of official languages (5):English only[2]',\n",
       " 'Knowledge of official languages (5):French only[3]',\n",
       " 'Knowledge of official languages (5):English and French[4]',\n",
       " 'Knowledge of official languages (5):Neither English nor French[5]']"
      ]
     },
     "execution_count": 13,
     "metadata": {},
     "output_type": "execute_result"
    }
   ],
   "source": [
    "list(df.columns)"
   ]
  },
  {
   "cell_type": "markdown",
   "metadata": {},
   "source": [
    "The dataset includes aggregations as individual rows. The features 'Knowledge of Official languages' for Single responses (row 1, coordinate 1.1.1.2) is the sum of row 2 and row 5 - Official languages and Non-official languages respectively. Part of the data cleaning will require separating out these aggregations. \n",
    "\n",
    "Upon reviewing the metadata - each Geographical area has a unique member ID and is listed with its parent Member ID. \n",
    "E.g. Canada has ID 1; Nova Scotia has ID 10 and parent ID 1; and Halifax has ID 12 and parent member 10 (Nova Scotia)\n",
    "\n",
    "Similarly for age - Total Age has ID 1; 25 to 64 years has ID 9 and parent ID 1; 25 to 34 years has ID 10 and parent ID 9. \n",
    "\n",
    "Mother tongues, Gender, knowledge of official languages have similar encoding available in the metadata. \n",
    "\n",
    "The next sections will review the tree hierarchies for the independent variables and flatten them to reduce dimensionality. "
   ]
  },
  {
   "cell_type": "code",
   "execution_count": 14,
   "metadata": {},
   "outputs": [
    {
     "data": {
      "text/html": [
       "<div>\n",
       "<style scoped>\n",
       "    .dataframe tbody tr th:only-of-type {\n",
       "        vertical-align: middle;\n",
       "    }\n",
       "\n",
       "    .dataframe tbody tr th {\n",
       "        vertical-align: top;\n",
       "    }\n",
       "\n",
       "    .dataframe thead th {\n",
       "        text-align: right;\n",
       "    }\n",
       "</style>\n",
       "<table border=\"1\" class=\"dataframe\">\n",
       "  <thead>\n",
       "    <tr style=\"text-align: right;\">\n",
       "      <th></th>\n",
       "      <th>GEO</th>\n",
       "      <th>Gender (3)</th>\n",
       "      <th>Age (15A)</th>\n",
       "      <th>Mother tongue (331)</th>\n",
       "      <th>Coordinate</th>\n",
       "      <th>Knowledge of official languages (5):Total - Knowledge of official languages[1]</th>\n",
       "      <th>Knowledge of official languages (5):English only[2]</th>\n",
       "      <th>Knowledge of official languages (5):French only[3]</th>\n",
       "      <th>Knowledge of official languages (5):English and French[4]</th>\n",
       "      <th>Knowledge of official languages (5):Neither English nor French[5]</th>\n",
       "    </tr>\n",
       "  </thead>\n",
       "  <tbody>\n",
       "    <tr>\n",
       "      <th>0</th>\n",
       "      <td>Canada</td>\n",
       "      <td>Total - Gender</td>\n",
       "      <td>Total - Age</td>\n",
       "      <td>Total - Mother tongue</td>\n",
       "      <td>1.1.1.1</td>\n",
       "      <td>36620955</td>\n",
       "      <td>25261655</td>\n",
       "      <td>4087895</td>\n",
       "      <td>6581680</td>\n",
       "      <td>689725</td>\n",
       "    </tr>\n",
       "    <tr>\n",
       "      <th>1</th>\n",
       "      <td>Canada</td>\n",
       "      <td>Total - Gender</td>\n",
       "      <td>Total - Age</td>\n",
       "      <td>Single responses</td>\n",
       "      <td>1.1.1.2</td>\n",
       "      <td>35145265</td>\n",
       "      <td>24306165</td>\n",
       "      <td>4029960</td>\n",
       "      <td>6130560</td>\n",
       "      <td>678580</td>\n",
       "    </tr>\n",
       "    <tr>\n",
       "      <th>2</th>\n",
       "      <td>Canada</td>\n",
       "      <td>Total - Gender</td>\n",
       "      <td>Total - Age</td>\n",
       "      <td>Official languages</td>\n",
       "      <td>1.1.1.3</td>\n",
       "      <td>27296445</td>\n",
       "      <td>18325325</td>\n",
       "      <td>3734010</td>\n",
       "      <td>5226490</td>\n",
       "      <td>10620</td>\n",
       "    </tr>\n",
       "    <tr>\n",
       "      <th>3</th>\n",
       "      <td>Canada</td>\n",
       "      <td>Total - Gender</td>\n",
       "      <td>Total - Age</td>\n",
       "      <td>English</td>\n",
       "      <td>1.1.1.4</td>\n",
       "      <td>20107200</td>\n",
       "      <td>18285580</td>\n",
       "      <td>5990</td>\n",
       "      <td>1806605</td>\n",
       "      <td>9025</td>\n",
       "    </tr>\n",
       "    <tr>\n",
       "      <th>4</th>\n",
       "      <td>Canada</td>\n",
       "      <td>Total - Gender</td>\n",
       "      <td>Total - Age</td>\n",
       "      <td>French</td>\n",
       "      <td>1.1.1.5</td>\n",
       "      <td>7189245</td>\n",
       "      <td>39740</td>\n",
       "      <td>3728020</td>\n",
       "      <td>3419880</td>\n",
       "      <td>1595</td>\n",
       "    </tr>\n",
       "    <tr>\n",
       "      <th>5</th>\n",
       "      <td>Canada</td>\n",
       "      <td>Total - Gender</td>\n",
       "      <td>Total - Age</td>\n",
       "      <td>Non-official languages</td>\n",
       "      <td>1.1.1.6</td>\n",
       "      <td>7848820</td>\n",
       "      <td>5980845</td>\n",
       "      <td>295950</td>\n",
       "      <td>904065</td>\n",
       "      <td>667955</td>\n",
       "    </tr>\n",
       "    <tr>\n",
       "      <th>6</th>\n",
       "      <td>Canada</td>\n",
       "      <td>Total - Gender</td>\n",
       "      <td>Total - Age</td>\n",
       "      <td>Indigenous languages</td>\n",
       "      <td>1.1.1.7</td>\n",
       "      <td>148895</td>\n",
       "      <td>123580</td>\n",
       "      <td>10995</td>\n",
       "      <td>8785</td>\n",
       "      <td>5535</td>\n",
       "    </tr>\n",
       "    <tr>\n",
       "      <th>7</th>\n",
       "      <td>Canada</td>\n",
       "      <td>Total - Gender</td>\n",
       "      <td>Total - Age</td>\n",
       "      <td>Algonquian languages</td>\n",
       "      <td>1.1.1.8</td>\n",
       "      <td>97125</td>\n",
       "      <td>79020</td>\n",
       "      <td>10730</td>\n",
       "      <td>5625</td>\n",
       "      <td>1760</td>\n",
       "    </tr>\n",
       "  </tbody>\n",
       "</table>\n",
       "</div>"
      ],
      "text/plain": [
       "      GEO      Gender (3)    Age (15A)     Mother tongue (331) Coordinate  \\\n",
       "0  Canada  Total - Gender  Total - Age   Total - Mother tongue    1.1.1.1   \n",
       "1  Canada  Total - Gender  Total - Age        Single responses    1.1.1.2   \n",
       "2  Canada  Total - Gender  Total - Age      Official languages    1.1.1.3   \n",
       "3  Canada  Total - Gender  Total - Age                 English    1.1.1.4   \n",
       "4  Canada  Total - Gender  Total - Age                  French    1.1.1.5   \n",
       "5  Canada  Total - Gender  Total - Age  Non-official languages    1.1.1.6   \n",
       "6  Canada  Total - Gender  Total - Age    Indigenous languages    1.1.1.7   \n",
       "7  Canada  Total - Gender  Total - Age    Algonquian languages    1.1.1.8   \n",
       "\n",
       "   Knowledge of official languages (5):Total - Knowledge of official languages[1]  \\\n",
       "0                                           36620955                                \n",
       "1                                           35145265                                \n",
       "2                                           27296445                                \n",
       "3                                           20107200                                \n",
       "4                                            7189245                                \n",
       "5                                            7848820                                \n",
       "6                                             148895                                \n",
       "7                                              97125                                \n",
       "\n",
       "   Knowledge of official languages (5):English only[2]  \\\n",
       "0                                           25261655     \n",
       "1                                           24306165     \n",
       "2                                           18325325     \n",
       "3                                           18285580     \n",
       "4                                              39740     \n",
       "5                                            5980845     \n",
       "6                                             123580     \n",
       "7                                              79020     \n",
       "\n",
       "   Knowledge of official languages (5):French only[3]  \\\n",
       "0                                            4087895    \n",
       "1                                            4029960    \n",
       "2                                            3734010    \n",
       "3                                               5990    \n",
       "4                                            3728020    \n",
       "5                                             295950    \n",
       "6                                              10995    \n",
       "7                                              10730    \n",
       "\n",
       "   Knowledge of official languages (5):English and French[4]  \\\n",
       "0                                            6581680           \n",
       "1                                            6130560           \n",
       "2                                            5226490           \n",
       "3                                            1806605           \n",
       "4                                            3419880           \n",
       "5                                             904065           \n",
       "6                                               8785           \n",
       "7                                               5625           \n",
       "\n",
       "   Knowledge of official languages (5):Neither English nor French[5]  \n",
       "0                                             689725                  \n",
       "1                                             678580                  \n",
       "2                                              10620                  \n",
       "3                                               9025                  \n",
       "4                                               1595                  \n",
       "5                                             667955                  \n",
       "6                                               5535                  \n",
       "7                                               1760                  "
      ]
     },
     "execution_count": 14,
     "metadata": {},
     "output_type": "execute_result"
    }
   ],
   "source": [
    "df.head(n=8)"
   ]
  },
  {
   "cell_type": "markdown",
   "metadata": {},
   "source": [
    "The following section brings in the metadata files as individual dataframes. The metadata provides the id of the element and the id of the parent element. Any element that is listed with an ID that is not in the Parent ID column thus is not an aggregation. Each data element is labelled as being a parent or not. This equates to True whenever it appears in the Parent ID list and False when it does not. This will allow us to consider those values that are not aggregations. "
   ]
  },
  {
   "cell_type": "code",
   "execution_count": 15,
   "metadata": {},
   "outputs": [
    {
     "name": "stderr",
     "output_type": "stream",
     "text": [
      "/tmp/ipykernel_5275/4052823195.py:9: SettingWithCopyWarning: \n",
      "A value is trying to be set on a copy of a slice from a DataFrame.\n",
      "Try using .loc[row_indexer,col_indexer] = value instead\n",
      "\n",
      "See the caveats in the documentation: https://pandas.pydata.org/pandas-docs/stable/user_guide/indexing.html#returning-a-view-versus-a-copy\n",
      "  geoReduced['Is Parent Loc'] = isParent\n"
     ]
    },
    {
     "data": {
      "text/html": [
       "<div>\n",
       "<style scoped>\n",
       "    .dataframe tbody tr th:only-of-type {\n",
       "        vertical-align: middle;\n",
       "    }\n",
       "\n",
       "    .dataframe tbody tr th {\n",
       "        vertical-align: top;\n",
       "    }\n",
       "\n",
       "    .dataframe thead th {\n",
       "        text-align: right;\n",
       "    }\n",
       "</style>\n",
       "<table border=\"1\" class=\"dataframe\">\n",
       "  <thead>\n",
       "    <tr style=\"text-align: right;\">\n",
       "      <th></th>\n",
       "      <th>Member Name</th>\n",
       "      <th>Member ID</th>\n",
       "      <th>Parent Member ID</th>\n",
       "      <th>Is Parent Loc</th>\n",
       "    </tr>\n",
       "  </thead>\n",
       "  <tbody>\n",
       "    <tr>\n",
       "      <th>2</th>\n",
       "      <td>Corner Brook (CA), N.L.</td>\n",
       "      <td>3</td>\n",
       "      <td>2.0</td>\n",
       "      <td>False</td>\n",
       "    </tr>\n",
       "    <tr>\n",
       "      <th>3</th>\n",
       "      <td>Gander (CA), N.L.</td>\n",
       "      <td>4</td>\n",
       "      <td>2.0</td>\n",
       "      <td>False</td>\n",
       "    </tr>\n",
       "    <tr>\n",
       "      <th>4</th>\n",
       "      <td>Grand Falls-Windsor (CA), N.L.</td>\n",
       "      <td>5</td>\n",
       "      <td>2.0</td>\n",
       "      <td>False</td>\n",
       "    </tr>\n",
       "    <tr>\n",
       "      <th>5</th>\n",
       "      <td>St. John's (CMA), N.L.</td>\n",
       "      <td>6</td>\n",
       "      <td>2.0</td>\n",
       "      <td>False</td>\n",
       "    </tr>\n",
       "    <tr>\n",
       "      <th>7</th>\n",
       "      <td>Charlottetown (CA), P.E.I.</td>\n",
       "      <td>8</td>\n",
       "      <td>7.0</td>\n",
       "      <td>False</td>\n",
       "    </tr>\n",
       "  </tbody>\n",
       "</table>\n",
       "</div>"
      ],
      "text/plain": [
       "                      Member Name  Member ID  Parent Member ID  Is Parent Loc\n",
       "2         Corner Brook (CA), N.L.          3               2.0          False\n",
       "3               Gander (CA), N.L.          4               2.0          False\n",
       "4  Grand Falls-Windsor (CA), N.L.          5               2.0          False\n",
       "5          St. John's (CMA), N.L.          6               2.0          False\n",
       "7      Charlottetown (CA), P.E.I.          8               7.0          False"
      ]
     },
     "execution_count": 15,
     "metadata": {},
     "output_type": "execute_result"
    }
   ],
   "source": [
    "motherTonguesMeta_filepath = '/home/grace/Documents/CapstoneProject/MotherTongues-Canada/MetaData_Geography.csv'\n",
    "geoData = pd.read_csv(motherTonguesMeta_filepath)\n",
    "\n",
    "#geoData.head()\n",
    "geoReduced = geoData[['Member Name','Member ID','Parent Member ID']]\n",
    "\n",
    "isParent = geoReduced['Member ID'].isin(geoReduced['Parent Member ID'])\n",
    "\n",
    "geoReduced['Is Parent Loc'] = isParent\n",
    "\n",
    "#geoReduced.tail()\n",
    "censusMA = geoReduced.loc[geoReduced['Is Parent Loc']== False]\n",
    "\n",
    "censusMA.head()"
   ]
  },
  {
   "cell_type": "markdown",
   "metadata": {},
   "source": [
    "This following section shows the hierarchical structure of the GEO attribute - the geographical location within Canada. Note that CMA refers to Census Metropolitan Area while CA refers to Census Agglomeration. https://www12.statcan.gc.ca/census-recensement/2021/ref/dict/az/Definition-eng.cfm?ID=geo009 "
   ]
  },
  {
   "cell_type": "code",
   "execution_count": 16,
   "metadata": {},
   "outputs": [
    {
     "name": "stdout",
     "output_type": "stream",
     "text": [
      "1 [Member Name=Canada]\n",
      "├── 2 [Member Name=Newfoundland and Labrador]\n",
      "│   ├── 3 [Member Name=Corner Brook (CA), N.L.]\n",
      "│   ├── 4 [Member Name=Gander (CA), N.L.]\n",
      "│   ├── 5 [Member Name=Grand Falls-Windsor (CA), N.L.]\n",
      "│   └── 6 [Member Name=St. John's (CMA), N.L.]\n",
      "├── 7 [Member Name=Prince Edward Island]\n",
      "│   ├── 8 [Member Name=Charlottetown (CA), P.E.I.]\n",
      "│   └── 9 [Member Name=Summerside (CA), P.E.I.]\n",
      "├── 10 [Member Name=Nova Scotia]\n",
      "│   ├── 11 [Member Name=Cape Breton (CA), N.S.]\n",
      "│   ├── 12 [Member Name=Halifax (CMA), N.S.]\n",
      "│   ├── 13 [Member Name=Kentville (CA), N.S.]\n",
      "│   ├── 14 [Member Name=New Glasgow (CA), N.S.]\n",
      "│   └── 15 [Member Name=Truro (CA), N.S.]\n",
      "├── 16 [Member Name=New Brunswick]\n",
      "│   ├── 17 [Member Name=Bathurst (CA), N.B.]\n",
      "│   ├── 18 [Member Name=Campbellton (CA), N.B./Que.]\n",
      "│   │   ├── 19 [Member Name=Campbellton (New Brunswick part) (CA), N.B.]\n",
      "│   │   └── 20 [Member Name=Campbellton (Quebec part) (CA), Que.]\n",
      "│   ├── 21 [Member Name=Edmundston (CA), N.B.]\n",
      "│   ├── 22 [Member Name=Fredericton (CMA), N.B.]\n",
      "│   ├── 23 [Member Name=Miramichi (CA), N.B.]\n",
      "│   ├── 24 [Member Name=Moncton (CMA), N.B.]\n",
      "│   └── 25 [Member Name=Saint John (CMA), N.B.]\n",
      "├── 26 [Member Name=Quebec]\n",
      "│   ├── 27 [Member Name=Alma (CA), Que.]\n",
      "│   ├── 28 [Member Name=Amos (CA), Que.]\n",
      "│   ├── 29 [Member Name=Baie-Comeau (CA), Que.]\n",
      "│   ├── 30 [Member Name=Cowansville (CA), Que.]\n",
      "│   ├── 31 [Member Name=Dolbeau-Mistassini (CA), Que.]\n",
      "│   ├── 32 [Member Name=Drummondville (CMA), Que.]\n",
      "│   ├── 33 [Member Name=Granby (CA), Que.]\n",
      "│   ├── 34 [Member Name=Joliette (CA), Que.]\n",
      "│   ├── 35 [Member Name=Lachute (CA), Que.]\n",
      "│   ├── 36 [Member Name=Matane (CA), Que.]\n",
      "│   ├── 37 [Member Name=Montréal (CMA), Que.]\n",
      "│   ├── 38 [Member Name=Québec (CMA), Que.]\n",
      "│   ├── 39 [Member Name=Rimouski (CA), Que.]\n",
      "│   ├── 40 [Member Name=Rivière-du-Loup (CA), Que.]\n",
      "│   ├── 41 [Member Name=Rouyn-Noranda (CA), Que.]\n",
      "│   ├── 42 [Member Name=Saguenay (CMA), Que.]\n",
      "│   ├── 43 [Member Name=Saint-Georges (CA), Que.]\n",
      "│   ├── 44 [Member Name=Saint-Hyacinthe (CA), Que.]\n",
      "│   ├── 45 [Member Name=Sainte-Agathe-des-Monts (CA), Que.]\n",
      "│   ├── 46 [Member Name=Sainte-Marie (CA), Que.]\n",
      "│   ├── 47 [Member Name=Salaberry-de-Valleyfield (CA), Que.]\n",
      "│   ├── 48 [Member Name=Sept-Îles (CA), Que.]\n",
      "│   ├── 49 [Member Name=Shawinigan (CA), Que.]\n",
      "│   ├── 50 [Member Name=Sherbrooke (CMA), Que.]\n",
      "│   ├── 51 [Member Name=Sorel-Tracy (CA), Que.]\n",
      "│   ├── 52 [Member Name=Thetford Mines (CA), Que.]\n",
      "│   ├── 53 [Member Name=Trois-Rivières (CMA), Que.]\n",
      "│   ├── 54 [Member Name=Val-d'Or (CA), Que.]\n",
      "│   └── 55 [Member Name=Victoriaville (CA), Que.]\n",
      "├── 56 [Member Name=Ontario]\n",
      "│   ├── 57 [Member Name=Barrie (CMA), Ont.]\n",
      "│   ├── 58 [Member Name=Belleville - Quinte West (CMA), Ont.]\n",
      "│   ├── 59 [Member Name=Brantford (CMA), Ont.]\n",
      "│   ├── 60 [Member Name=Brockville (CA), Ont.]\n",
      "│   ├── 61 [Member Name=Centre Wellington (CA), Ont.]\n",
      "│   ├── 62 [Member Name=Chatham-Kent (CA), Ont.]\n",
      "│   ├── 63 [Member Name=Cobourg (CA), Ont.]\n",
      "│   ├── 64 [Member Name=Collingwood (CA), Ont.]\n",
      "│   ├── 65 [Member Name=Cornwall (CA), Ont.]\n",
      "│   ├── 66 [Member Name=Elliot Lake (CA), Ont.]\n",
      "│   ├── 67 [Member Name=Essa (CA), Ont.]\n",
      "│   ├── 68 [Member Name=Greater Sudbury (CMA), Ont.]\n",
      "│   ├── 69 [Member Name=Guelph (CMA), Ont.]\n",
      "│   ├── 70 [Member Name=Hamilton (CMA), Ont.]\n",
      "│   ├── 71 [Member Name=Hawkesbury (CA), Ont./Que.]\n",
      "│   │   ├── 72 [Member Name=Hawkesbury (Ontario part) (CA), Ont.]\n",
      "│   │   └── 73 [Member Name=Hawkesbury (Quebec part) (CA), Que.]\n",
      "│   ├── 74 [Member Name=Ingersoll (CA), Ont.]\n",
      "│   ├── 75 [Member Name=Kawartha Lakes (CA), Ont.]\n",
      "│   ├── 76 [Member Name=Kenora (CA), Ont.]\n",
      "│   ├── 77 [Member Name=Kingston (CMA), Ont.]\n",
      "│   ├── 78 [Member Name=Kitchener - Cambridge - Waterloo (CMA), Ont.]\n",
      "│   ├── 79 [Member Name=London (CMA), Ont.]\n",
      "│   ├── 80 [Member Name=Midland (CA), Ont.]\n",
      "│   ├── 81 [Member Name=Norfolk (CA), Ont.]\n",
      "│   ├── 82 [Member Name=North Bay (CA), Ont.]\n",
      "│   ├── 83 [Member Name=Orillia (CA), Ont.]\n",
      "│   ├── 84 [Member Name=Oshawa (CMA), Ont.]\n",
      "│   ├── 85 [Member Name=Ottawa - Gatineau (CMA), Ont./Que.]\n",
      "│   │   ├── 86 [Member Name=Ottawa - Gatineau (Ontario part) (CMA), Ont.]\n",
      "│   │   └── 87 [Member Name=Ottawa - Gatineau (Quebec part) (CMA), Que.]\n",
      "│   ├── 88 [Member Name=Owen Sound (CA), Ont.]\n",
      "│   ├── 89 [Member Name=Pembroke (CA), Ont.]\n",
      "│   ├── 90 [Member Name=Petawawa (CA), Ont.]\n",
      "│   ├── 91 [Member Name=Peterborough (CMA), Ont.]\n",
      "│   ├── 92 [Member Name=Port Hope (CA), Ont.]\n",
      "│   ├── 93 [Member Name=Sarnia (CA), Ont.]\n",
      "│   ├── 94 [Member Name=Sault Ste. Marie (CA), Ont.]\n",
      "│   ├── 95 [Member Name=St. Catharines - Niagara (CMA), Ont.]\n",
      "│   ├── 96 [Member Name=Stratford (CA), Ont.]\n",
      "│   ├── 97 [Member Name=Thunder Bay (CMA), Ont.]\n",
      "│   ├── 98 [Member Name=Tillsonburg (CA), Ont.]\n",
      "│   ├── 99 [Member Name=Timmins (CA), Ont.]\n",
      "│   ├── 100 [Member Name=Toronto (CMA), Ont.]\n",
      "│   ├── 101 [Member Name=Wasaga Beach (CA), Ont.]\n",
      "│   ├── 102 [Member Name=Windsor (CMA), Ont.]\n",
      "│   └── 103 [Member Name=Woodstock (CA), Ont.]\n",
      "├── 104 [Member Name=Manitoba]\n",
      "│   ├── 105 [Member Name=Brandon (CA), Man.]\n",
      "│   ├── 106 [Member Name=Portage la Prairie (CA), Man.]\n",
      "│   ├── 107 [Member Name=Steinbach (CA), Man.]\n",
      "│   ├── 108 [Member Name=Thompson (CA), Man.]\n",
      "│   ├── 109 [Member Name=Winkler (CA), Man.]\n",
      "│   └── 110 [Member Name=Winnipeg (CMA), Man.]\n",
      "├── 111 [Member Name=Saskatchewan]\n",
      "│   ├── 112 [Member Name=Estevan (CA), Sask.]\n",
      "│   ├── 113 [Member Name=Moose Jaw (CA), Sask.]\n",
      "│   ├── 114 [Member Name=North Battleford (CA), Sask.]\n",
      "│   ├── 115 [Member Name=Prince Albert (CA), Sask.]\n",
      "│   ├── 116 [Member Name=Regina (CMA), Sask.]\n",
      "│   ├── 117 [Member Name=Saskatoon (CMA), Sask.]\n",
      "│   ├── 118 [Member Name=Swift Current (CA), Sask.]\n",
      "│   ├── 119 [Member Name=Weyburn (CA), Sask.]\n",
      "│   └── 120 [Member Name=Yorkton (CA), Sask.]\n",
      "├── 121 [Member Name=Alberta]\n",
      "│   ├── 122 [Member Name=Brooks (CA), Alta.]\n",
      "│   ├── 123 [Member Name=Calgary (CMA), Alta.]\n",
      "│   ├── 124 [Member Name=Camrose (CA), Alta.]\n",
      "│   ├── 125 [Member Name=Canmore (CA), Alta.]\n",
      "│   ├── 126 [Member Name=Edmonton (CMA), Alta.]\n",
      "│   ├── 127 [Member Name=Grande Prairie (CA), Alta.]\n",
      "│   ├── 128 [Member Name=High River (CA), Alta.]\n",
      "│   ├── 129 [Member Name=Lacombe (CA), Alta.]\n",
      "│   ├── 130 [Member Name=Lethbridge (CMA), Alta.]\n",
      "│   ├── 131 [Member Name=Lloydminster (CA), Alta./Sask.]\n",
      "│   │   ├── 132 [Member Name=Lloydminster (Alberta part) (CA), Alta.]\n",
      "│   │   └── 133 [Member Name=Lloydminster (Saskatchewan part) (CA), Sask.]\n",
      "│   ├── 134 [Member Name=Medicine Hat (CA), Alta.]\n",
      "│   ├── 135 [Member Name=Okotoks (CA), Alta.]\n",
      "│   ├── 136 [Member Name=Red Deer (CMA), Alta.]\n",
      "│   ├── 137 [Member Name=Strathmore (CA), Alta.]\n",
      "│   ├── 138 [Member Name=Sylvan Lake (CA), Alta.]\n",
      "│   ├── 139 [Member Name=Wetaskiwin (CA), Alta.]\n",
      "│   └── 140 [Member Name=Wood Buffalo (CA), Alta.]\n",
      "├── 141 [Member Name=British Columbia]\n",
      "│   ├── 142 [Member Name=Abbotsford - Mission (CMA), B.C.]\n",
      "│   ├── 143 [Member Name=Campbell River (CA), B.C.]\n",
      "│   ├── 144 [Member Name=Chilliwack (CMA), B.C.]\n",
      "│   ├── 145 [Member Name=Courtenay (CA), B.C.]\n",
      "│   ├── 146 [Member Name=Cranbrook (CA), B.C.]\n",
      "│   ├── 147 [Member Name=Dawson Creek (CA), B.C.]\n",
      "│   ├── 148 [Member Name=Duncan (CA), B.C.]\n",
      "│   ├── 149 [Member Name=Fort St. John (CA), B.C.]\n",
      "│   ├── 150 [Member Name=Kamloops (CMA), B.C.]\n",
      "│   ├── 151 [Member Name=Kelowna (CMA), B.C.]\n",
      "│   ├── 152 [Member Name=Ladysmith (CA), B.C.]\n",
      "│   ├── 153 [Member Name=Nanaimo (CMA), B.C.]\n",
      "│   ├── 154 [Member Name=Nelson (CA), B.C.]\n",
      "│   ├── 155 [Member Name=Parksville (CA), B.C.]\n",
      "│   ├── 156 [Member Name=Penticton (CA), B.C.]\n",
      "│   ├── 157 [Member Name=Port Alberni (CA), B.C.]\n",
      "│   ├── 158 [Member Name=Powell River (CA), B.C.]\n",
      "│   ├── 159 [Member Name=Prince George (CA), B.C.]\n",
      "│   ├── 160 [Member Name=Prince Rupert (CA), B.C.]\n",
      "│   ├── 161 [Member Name=Quesnel (CA), B.C.]\n",
      "│   ├── 162 [Member Name=Salmon Arm (CA), B.C.]\n",
      "│   ├── 163 [Member Name=Squamish (CA), B.C.]\n",
      "│   ├── 164 [Member Name=Terrace (CA), B.C.]\n",
      "│   ├── 165 [Member Name=Trail (CA), B.C.]\n",
      "│   ├── 166 [Member Name=Vancouver (CMA), B.C.]\n",
      "│   ├── 167 [Member Name=Vernon (CA), B.C.]\n",
      "│   ├── 168 [Member Name=Victoria (CMA), B.C.]\n",
      "│   └── 169 [Member Name=Williams Lake (CA), B.C.]\n",
      "├── 170 [Member Name=Yukon]\n",
      "│   └── 171 [Member Name=Whitehorse (CA), Y.T.]\n",
      "├── 172 [Member Name=Northwest Territories]\n",
      "│   └── 173 [Member Name=Yellowknife (CA), N.W.T.]\n",
      "└── 174 [Member Name=Nunavut]\n"
     ]
    }
   ],
   "source": [
    "geoTree = dataframe_to_tree_by_relation(geoReduced, 'Member ID','Parent Member ID')\n",
    "geoTree.show(attr_list = ['Member Name'])\n"
   ]
  },
  {
   "cell_type": "code",
   "execution_count": 17,
   "metadata": {},
   "outputs": [
    {
     "data": {
      "text/html": [
       "<div>\n",
       "<style scoped>\n",
       "    .dataframe tbody tr th:only-of-type {\n",
       "        vertical-align: middle;\n",
       "    }\n",
       "\n",
       "    .dataframe tbody tr th {\n",
       "        vertical-align: top;\n",
       "    }\n",
       "\n",
       "    .dataframe thead th {\n",
       "        text-align: right;\n",
       "    }\n",
       "</style>\n",
       "<table border=\"1\" class=\"dataframe\">\n",
       "  <thead>\n",
       "    <tr style=\"text-align: right;\">\n",
       "      <th></th>\n",
       "      <th>Member Name</th>\n",
       "      <th>Member ID</th>\n",
       "      <th>Parent Member ID</th>\n",
       "      <th>Is Parent Lang</th>\n",
       "    </tr>\n",
       "  </thead>\n",
       "  <tbody>\n",
       "    <tr>\n",
       "      <th>323</th>\n",
       "      <td>Hungarian</td>\n",
       "      <td>324</td>\n",
       "      <td>321.0</td>\n",
       "      <td>False</td>\n",
       "    </tr>\n",
       "    <tr>\n",
       "      <th>324</th>\n",
       "      <td>Other languages, n.i.e.</td>\n",
       "      <td>325</td>\n",
       "      <td>98.0</td>\n",
       "      <td>False</td>\n",
       "    </tr>\n",
       "    <tr>\n",
       "      <th>325</th>\n",
       "      <td>Multiple responses</td>\n",
       "      <td>326</td>\n",
       "      <td>1.0</td>\n",
       "      <td>True</td>\n",
       "    </tr>\n",
       "    <tr>\n",
       "      <th>326</th>\n",
       "      <td>English and French</td>\n",
       "      <td>327</td>\n",
       "      <td>326.0</td>\n",
       "      <td>False</td>\n",
       "    </tr>\n",
       "    <tr>\n",
       "      <th>327</th>\n",
       "      <td>English and non-official language(s)</td>\n",
       "      <td>328</td>\n",
       "      <td>326.0</td>\n",
       "      <td>False</td>\n",
       "    </tr>\n",
       "    <tr>\n",
       "      <th>328</th>\n",
       "      <td>French and non-official language(s)</td>\n",
       "      <td>329</td>\n",
       "      <td>326.0</td>\n",
       "      <td>False</td>\n",
       "    </tr>\n",
       "    <tr>\n",
       "      <th>329</th>\n",
       "      <td>English, French and non-official language(s)</td>\n",
       "      <td>330</td>\n",
       "      <td>326.0</td>\n",
       "      <td>False</td>\n",
       "    </tr>\n",
       "    <tr>\n",
       "      <th>330</th>\n",
       "      <td>Multiple non-official languages</td>\n",
       "      <td>331</td>\n",
       "      <td>326.0</td>\n",
       "      <td>False</td>\n",
       "    </tr>\n",
       "  </tbody>\n",
       "</table>\n",
       "</div>"
      ],
      "text/plain": [
       "                                      Member Name  Member ID  \\\n",
       "323                                     Hungarian        324   \n",
       "324                       Other languages, n.i.e.        325   \n",
       "325                            Multiple responses        326   \n",
       "326                            English and French        327   \n",
       "327          English and non-official language(s)        328   \n",
       "328           French and non-official language(s)        329   \n",
       "329  English, French and non-official language(s)        330   \n",
       "330               Multiple non-official languages        331   \n",
       "\n",
       "     Parent Member ID  Is Parent Lang  \n",
       "323             321.0           False  \n",
       "324              98.0           False  \n",
       "325               1.0            True  \n",
       "326             326.0           False  \n",
       "327             326.0           False  \n",
       "328             326.0           False  \n",
       "329             326.0           False  \n",
       "330             326.0           False  "
      ]
     },
     "execution_count": 17,
     "metadata": {},
     "output_type": "execute_result"
    }
   ],
   "source": [
    "motherTonguesMeta_filepath = '/home/grace/Documents/CapstoneProject/MotherTongues-Canada/MetaData_MotherTongue.csv'\n",
    "motherTongueData = pd.read_csv(motherTonguesMeta_filepath)\n",
    "\n",
    "motherTongueData.head()\n",
    "motherTongueData = motherTongueData[['Member Name','Member ID','Parent Member ID']]\n",
    "\n",
    "isLanguage = motherTongueData['Member ID'].isin(motherTongueData['Parent Member ID'])\n",
    "\n",
    "motherTongueData['Is Parent Lang'] = isLanguage\n",
    "motherTongueData.tail(8)"
   ]
  },
  {
   "cell_type": "code",
   "execution_count": 18,
   "metadata": {},
   "outputs": [
    {
     "name": "stdout",
     "output_type": "stream",
     "text": [
      "1 [Member Name=Total - Mother tongue]\n",
      "├── 2 [Member Name=Single responses]\n",
      "│   ├── 3 [Member Name=Official languages]\n",
      "│   │   ├── 4 [Member Name=English]\n",
      "│   │   └── 5 [Member Name=French]\n",
      "│   └── 6 [Member Name=Non-official languages]\n",
      "│       ├── 7 [Member Name=Indigenous languages]\n",
      "│       │   ├── 8 [Member Name=Algonquian languages]\n",
      "│       │   │   ├── 9 [Member Name=Blackfoot]\n",
      "│       │   │   ├── 10 [Member Name=Cree-Innu languages]\n",
      "│       │   │   │   ├── 11 [Member Name=Atikamekw]\n",
      "│       │   │   │   ├── 12 [Member Name=Cree languages]\n",
      "│       │   │   │   │   ├── 13 [Member Name=Ililimowin (Moose Cree)]\n",
      "│       │   │   │   │   ├── 14 [Member Name=Inu Ayimun (Southern East Cree)]\n",
      "│       │   │   │   │   ├── 15 [Member Name=Iyiyiw-Ayimiwin (Northern East Cree)]\n",
      "│       │   │   │   │   ├── 16 [Member Name=Nehinawewin (Swampy Cree)]\n",
      "│       │   │   │   │   ├── 17 [Member Name=Nehiyawewin (Plains Cree)]\n",
      "│       │   │   │   │   ├── 18 [Member Name=Nihithawiwin (Woods Cree)]\n",
      "│       │   │   │   │   └── 19 [Member Name=Cree, n.o.s.]\n",
      "│       │   │   │   ├── 20 [Member Name=Innu (Montagnais)]\n",
      "│       │   │   │   └── 21 [Member Name=Naskapi]\n",
      "│       │   │   ├── 22 [Member Name=Eastern Algonquian languages]\n",
      "│       │   │   │   ├── 23 [Member Name=Mi'kmaq]\n",
      "│       │   │   │   └── 24 [Member Name=Wolastoqewi (Malecite)]\n",
      "│       │   │   ├── 25 [Member Name=Ojibway-Potawatomi languages]\n",
      "│       │   │   │   ├── 26 [Member Name=Anicinabemowin (Algonquin)]\n",
      "│       │   │   │   ├── 27 [Member Name=Oji-Cree]\n",
      "│       │   │   │   └── 28 [Member Name=Ojibway languages]\n",
      "│       │   │   │       ├── 29 [Member Name=Anishinaabemowin (Chippewa)]\n",
      "│       │   │   │       ├── 30 [Member Name=Daawaamwin (Odawa)]\n",
      "│       │   │   │       ├── 31 [Member Name=Saulteau (Western Ojibway)]\n",
      "│       │   │   │       └── 32 [Member Name=Ojibway, n.o.s.]\n",
      "│       │   │   └── 33 [Member Name=Algonquian languages, n.i.e.]\n",
      "│       │   ├── 34 [Member Name=Athabaskan languages]\n",
      "│       │   │   ├── 35 [Member Name=Northern Athabaskan languages]\n",
      "│       │   │   │   ├── 36 [Member Name=Dakelh (Carrier)]\n",
      "│       │   │   │   ├── 37 [Member Name=Dane-zaa (Beaver)]\n",
      "│       │   │   │   ├── 38 [Member Name=Dene, n.o.s.]\n",
      "│       │   │   │   ├── 39 [Member Name=Gwich'in]\n",
      "│       │   │   │   ├── 40 [Member Name=Slavey-Hare languages]\n",
      "│       │   │   │   │   ├── 41 [Member Name=Deh Gah Ghotie Zhatie (South Slavey)]\n",
      "│       │   │   │   │   ├── 42 [Member Name=Satuotine Yati (North Slavey)]\n",
      "│       │   │   │   │   └── 43 [Member Name=Slavey, n.o.s.]\n",
      "│       │   │   │   ├── 44 [Member Name=Tahltan languages]\n",
      "│       │   │   │   │   ├── 45 [Member Name=Kaska (Nahani)]\n",
      "│       │   │   │   │   └── 46 [Member Name=Tahltan]\n",
      "│       │   │   │   ├── 47 [Member Name=Tlicho (Dogrib)]\n",
      "│       │   │   │   ├── 48 [Member Name=Tse'khene (Sekani)]\n",
      "│       │   │   │   ├── 49 [Member Name=Tsilhqot'in (Chilcotin)]\n",
      "│       │   │   │   ├── 50 [Member Name=Tsuu T'ina (Sarsi)]\n",
      "│       │   │   │   ├── 51 [Member Name=Tutchone languages]\n",
      "│       │   │   │   │   ├── 52 [Member Name=Northern Tutchone]\n",
      "│       │   │   │   │   ├── 53 [Member Name=Southern Tutchone]\n",
      "│       │   │   │   │   └── 54 [Member Name=Tutchone, n.o.s.]\n",
      "│       │   │   │   └── 55 [Member Name=Wetsuwet'en-Babine]\n",
      "│       │   │   ├── 56 [Member Name=Tlingit]\n",
      "│       │   │   └── 57 [Member Name=Athabaskan languages, n.i.e.]\n",
      "│       │   ├── 58 [Member Name=Haida]\n",
      "│       │   ├── 59 [Member Name=Inuktut (Inuit) languages]\n",
      "│       │   │   ├── 60 [Member Name=Inuinnaqtun (Inuvialuktun)]\n",
      "│       │   │   │   ├── 61 [Member Name=Inuinnaqtun]\n",
      "│       │   │   │   └── 62 [Member Name=Inuvialuktun]\n",
      "│       │   │   ├── 63 [Member Name=Inuktitut]\n",
      "│       │   │   └── 64 [Member Name=Inuktut (Inuit) languages, n.i.e.]\n",
      "│       │   ├── 65 [Member Name=Iroquoian languages]\n",
      "│       │   │   ├── 66 [Member Name=Cayuga]\n",
      "│       │   │   ├── 67 [Member Name=Mohawk]\n",
      "│       │   │   ├── 68 [Member Name=Oneida]\n",
      "│       │   │   └── 69 [Member Name=Iroquoian languages, n.i.e.]\n",
      "│       │   ├── 70 [Member Name=Ktunaxa (Kutenai)]\n",
      "│       │   ├── 71 [Member Name=Michif]\n",
      "│       │   ├── 72 [Member Name=Salish languages]\n",
      "│       │   │   ├── 73 [Member Name=Halkomelem]\n",
      "│       │   │   ├── 74 [Member Name=Lillooet]\n",
      "│       │   │   ├── 75 [Member Name=Ntlakapamux (Thompson)]\n",
      "│       │   │   ├── 76 [Member Name=Secwepemctsin (Shuswap)]\n",
      "│       │   │   ├── 77 [Member Name=Squamish]\n",
      "│       │   │   ├── 78 [Member Name=Straits]\n",
      "│       │   │   ├── 79 [Member Name=Syilx (Okanagan)]\n",
      "│       │   │   └── 80 [Member Name=Salish languages, n.i.e.]\n",
      "│       │   ├── 81 [Member Name=Siouan languages]\n",
      "│       │   │   ├── 82 [Member Name=Assiniboine]\n",
      "│       │   │   ├── 83 [Member Name=Dakota]\n",
      "│       │   │   ├── 84 [Member Name=Stoney]\n",
      "│       │   │   └── 85 [Member Name=Siouan languages, n.i.e.]\n",
      "│       │   ├── 86 [Member Name=Tsimshian languages]\n",
      "│       │   │   ├── 87 [Member Name=Gitxsan (Gitksan)]\n",
      "│       │   │   ├── 88 [Member Name=Nisga'a]\n",
      "│       │   │   └── 89 [Member Name=Tsimshian]\n",
      "│       │   ├── 90 [Member Name=Wakashan languages]\n",
      "│       │   │   ├── 91 [Member Name=Haisla]\n",
      "│       │   │   ├── 92 [Member Name=Heiltsuk]\n",
      "│       │   │   ├── 93 [Member Name=Kwak'wala (Kwakiutl)]\n",
      "│       │   │   ├── 94 [Member Name=Nuu-chah-nulth (Nootka)]\n",
      "│       │   │   └── 95 [Member Name=Wakashan languages, n.i.e.]\n",
      "│       │   ├── 96 [Member Name=Indigenous languages, n.i.e.]\n",
      "│       │   └── 97 [Member Name=Indigenous languages, n.o.s.]\n",
      "│       └── 98 [Member Name=Non-Indigenous languages]\n",
      "│           ├── 99 [Member Name=Afro-Asiatic languages]\n",
      "│           │   ├── 100 [Member Name=Berber languages]\n",
      "│           │   │   ├── 101 [Member Name=Kabyle]\n",
      "│           │   │   ├── 102 [Member Name=Tamazight]\n",
      "│           │   │   └── 103 [Member Name=Berber languages, n.i.e.]\n",
      "│           │   ├── 104 [Member Name=Chadic languages]\n",
      "│           │   │   ├── 105 [Member Name=Hausa]\n",
      "│           │   │   └── 106 [Member Name=Mina]\n",
      "│           │   ├── 107 [Member Name=Coptic]\n",
      "│           │   ├── 108 [Member Name=Cushitic languages]\n",
      "│           │   │   ├── 109 [Member Name=Bilen]\n",
      "│           │   │   ├── 110 [Member Name=Oromo]\n",
      "│           │   │   ├── 111 [Member Name=Somali]\n",
      "│           │   │   └── 112 [Member Name=Cushitic languages, n.i.e.]\n",
      "│           │   └── 113 [Member Name=Semitic languages]\n",
      "│           │       ├── 114 [Member Name=Amharic]\n",
      "│           │       ├── 115 [Member Name=Arabic]\n",
      "│           │       ├── 116 [Member Name=Aramaic languages]\n",
      "│           │       │   ├── 117 [Member Name=Assyrian Neo-Aramaic]\n",
      "│           │       │   ├── 118 [Member Name=Chaldean Neo-Aramaic]\n",
      "│           │       │   └── 119 [Member Name=Aramaic, n.o.s.]\n",
      "│           │       ├── 120 [Member Name=Harari]\n",
      "│           │       ├── 121 [Member Name=Hebrew]\n",
      "│           │       ├── 122 [Member Name=Maltese]\n",
      "│           │       ├── 123 [Member Name=Tigrigna]\n",
      "│           │       └── 124 [Member Name=Semitic languages, n.i.e.]\n",
      "│           ├── 125 [Member Name=Austro-Asiatic languages]\n",
      "│           │   ├── 126 [Member Name=Khmer (Cambodian)]\n",
      "│           │   ├── 127 [Member Name=Vietnamese]\n",
      "│           │   └── 128 [Member Name=Austro-Asiatic languages, n.i.e]\n",
      "│           ├── 129 [Member Name=Austronesian languages]\n",
      "│           │   ├── 130 [Member Name=Bikol]\n",
      "│           │   ├── 131 [Member Name=Bisaya, n.o.s.]\n",
      "│           │   ├── 132 [Member Name=Cebuano]\n",
      "│           │   ├── 133 [Member Name=Fijian]\n",
      "│           │   ├── 134 [Member Name=Hiligaynon]\n",
      "│           │   ├── 135 [Member Name=Ilocano]\n",
      "│           │   ├── 136 [Member Name=Indonesian]\n",
      "│           │   ├── 137 [Member Name=Kankanaey]\n",
      "│           │   ├── 138 [Member Name=Kinaray-a]\n",
      "│           │   ├── 139 [Member Name=Malagasy languages]\n",
      "│           │   │   ├── 140 [Member Name=Merina]\n",
      "│           │   │   └── 141 [Member Name=Malagasy, n.o.s.]\n",
      "│           │   ├── 142 [Member Name=Malay]\n",
      "│           │   ├── 143 [Member Name=Pampangan (Kapampangan, Pampango)]\n",
      "│           │   ├── 144 [Member Name=Pangasinan]\n",
      "│           │   ├── 145 [Member Name=Tagalog (Pilipino, Filipino)]\n",
      "│           │   ├── 146 [Member Name=Waray-Waray]\n",
      "│           │   └── 147 [Member Name=Austronesian languages, n.i.e.]\n",
      "│           ├── 148 [Member Name=Creole languages]\n",
      "│           │   ├── 149 [Member Name=Haitian Creole]\n",
      "│           │   ├── 150 [Member Name=Jamaican English Creole]\n",
      "│           │   ├── 151 [Member Name=Krio]\n",
      "│           │   ├── 152 [Member Name=Morisyen]\n",
      "│           │   ├── 153 [Member Name=Sango]\n",
      "│           │   ├── 154 [Member Name=Creole, n.o.s.]\n",
      "│           │   └── 155 [Member Name=Creole languages, n.i.e.]\n",
      "│           ├── 156 [Member Name=Dravidian languages]\n",
      "│           │   ├── 157 [Member Name=Kannada]\n",
      "│           │   ├── 158 [Member Name=Malayalam]\n",
      "│           │   ├── 159 [Member Name=Tamil]\n",
      "│           │   ├── 160 [Member Name=Telugu]\n",
      "│           │   ├── 161 [Member Name=Tulu]\n",
      "│           │   └── 162 [Member Name=Dravidian languages, n.i.e.]\n",
      "│           ├── 163 [Member Name=Georgian]\n",
      "│           ├── 164 [Member Name=Hmong-Mien languages]\n",
      "│           ├── 165 [Member Name=Indo-European languages]\n",
      "│           │   ├── 166 [Member Name=Albanian]\n",
      "│           │   ├── 167 [Member Name=Armenian]\n",
      "│           │   ├── 168 [Member Name=Balto-Slavic languages]\n",
      "│           │   │   ├── 169 [Member Name=Baltic languages]\n",
      "│           │   │   │   ├── 170 [Member Name=Latvian]\n",
      "│           │   │   │   └── 171 [Member Name=Lithuanian]\n",
      "│           │   │   └── 172 [Member Name=Slavic languages]\n",
      "│           │   │       ├── 173 [Member Name=Belarusian]\n",
      "│           │   │       ├── 174 [Member Name=Bulgarian]\n",
      "│           │   │       ├── 175 [Member Name=Czech]\n",
      "│           │   │       ├── 176 [Member Name=Macedonian]\n",
      "│           │   │       ├── 177 [Member Name=Polish]\n",
      "│           │   │       ├── 178 [Member Name=Russian]\n",
      "│           │   │       ├── 179 [Member Name=Rusyn]\n",
      "│           │   │       ├── 180 [Member Name=Serbo-Croatian]\n",
      "│           │   │       │   ├── 181 [Member Name=Bosnian]\n",
      "│           │   │       │   ├── 182 [Member Name=Croatian]\n",
      "│           │   │       │   ├── 183 [Member Name=Serbian]\n",
      "│           │   │       │   └── 184 [Member Name=Serbo-Croatian, n.i.e.]\n",
      "│           │   │       ├── 185 [Member Name=Slovak]\n",
      "│           │   │       ├── 186 [Member Name=Slovene (Slovenian)]\n",
      "│           │   │       ├── 187 [Member Name=Ukrainian]\n",
      "│           │   │       └── 188 [Member Name=Slavic languages, n.i.e.]\n",
      "│           │   ├── 189 [Member Name=Celtic languages]\n",
      "│           │   │   ├── 190 [Member Name=Irish]\n",
      "│           │   │   ├── 191 [Member Name=Scottish Gaelic]\n",
      "│           │   │   ├── 192 [Member Name=Welsh]\n",
      "│           │   │   └── 193 [Member Name=Celtic languages, n.i.e.]\n",
      "│           │   ├── 194 [Member Name=Germanic languages]\n",
      "│           │   │   ├── 195 [Member Name=Frisian]\n",
      "│           │   │   ├── 196 [Member Name=High German languages]\n",
      "│           │   │   │   ├── 197 [Member Name=German]\n",
      "│           │   │   │   ├── 198 [Member Name=Pennsylvania German]\n",
      "│           │   │   │   ├── 199 [Member Name=Swiss German]\n",
      "│           │   │   │   └── 200 [Member Name=Yiddish]\n",
      "│           │   │   ├── 201 [Member Name=Low Saxon-Low Franconian languages]\n",
      "│           │   │   │   ├── 202 [Member Name=Afrikaans]\n",
      "│           │   │   │   ├── 203 [Member Name=Dutch]\n",
      "│           │   │   │   ├── 204 [Member Name=Low German, n.o.s.]\n",
      "│           │   │   │   ├── 205 [Member Name=Low Saxon]\n",
      "│           │   │   │   ├── 206 [Member Name=Plautdietsch]\n",
      "│           │   │   │   └── 207 [Member Name=Vlaams (Flemish)]\n",
      "│           │   │   ├── 208 [Member Name=Scandinavian languages]\n",
      "│           │   │   │   ├── 209 [Member Name=Danish]\n",
      "│           │   │   │   ├── 210 [Member Name=Icelandic]\n",
      "│           │   │   │   ├── 211 [Member Name=Norwegian]\n",
      "│           │   │   │   └── 212 [Member Name=Swedish]\n",
      "│           │   │   └── 213 [Member Name=Germanic languages, n.i.e.]\n",
      "│           │   ├── 214 [Member Name=Greek]\n",
      "│           │   ├── 215 [Member Name=Indo-Iranian languages]\n",
      "│           │   │   ├── 216 [Member Name=Indo-Aryan languages]\n",
      "│           │   │   │   ├── 217 [Member Name=Assamese]\n",
      "│           │   │   │   ├── 218 [Member Name=Bengali]\n",
      "│           │   │   │   ├── 219 [Member Name=Gujarati]\n",
      "│           │   │   │   ├── 220 [Member Name=Hindi]\n",
      "│           │   │   │   ├── 221 [Member Name=Kacchi]\n",
      "│           │   │   │   ├── 222 [Member Name=Kashmiri]\n",
      "│           │   │   │   ├── 223 [Member Name=Konkani]\n",
      "│           │   │   │   ├── 224 [Member Name=Marathi]\n",
      "│           │   │   │   ├── 225 [Member Name=Nepali]\n",
      "│           │   │   │   ├── 226 [Member Name=Oriya languages]\n",
      "│           │   │   │   │   ├── 227 [Member Name=Odia]\n",
      "│           │   │   │   │   └── 228 [Member Name=Oriya, n.o.s.]\n",
      "│           │   │   │   ├── 229 [Member Name=Punjabi (Panjabi)]\n",
      "│           │   │   │   ├── 230 [Member Name=Rohingya]\n",
      "│           │   │   │   ├── 231 [Member Name=Sindhi]\n",
      "│           │   │   │   ├── 232 [Member Name=Sinhala (Sinhalese)]\n",
      "│           │   │   │   ├── 233 [Member Name=Urdu]\n",
      "│           │   │   │   └── 234 [Member Name=Indo-Aryan languages, n.i.e.]\n",
      "│           │   │   ├── 235 [Member Name=Iranian languages]\n",
      "│           │   │   │   ├── 236 [Member Name=Baluchi]\n",
      "│           │   │   │   ├── 237 [Member Name=Kurdish]\n",
      "│           │   │   │   ├── 238 [Member Name=Parsi]\n",
      "│           │   │   │   ├── 239 [Member Name=Pashto]\n",
      "│           │   │   │   ├── 240 [Member Name=Persian languages]\n",
      "│           │   │   │   │   ├── 241 [Member Name=Dari]\n",
      "│           │   │   │   │   ├── 242 [Member Name=Iranian Persian]\n",
      "│           │   │   │   │   └── 243 [Member Name=Persian (Farsi), n.o.s.]\n",
      "│           │   │   │   └── 244 [Member Name=Iranian languages, n.i.e.]\n",
      "│           │   │   └── 245 [Member Name=Indo-Iranian languages, n.i.e.]\n",
      "│           │   ├── 246 [Member Name=Italic (Romance) languages]\n",
      "│           │   │   ├── 247 [Member Name=Catalan]\n",
      "│           │   │   ├── 248 [Member Name=Italian]\n",
      "│           │   │   ├── 249 [Member Name=Portuguese]\n",
      "│           │   │   ├── 250 [Member Name=Romanian]\n",
      "│           │   │   ├── 251 [Member Name=Spanish]\n",
      "│           │   │   └── 252 [Member Name=Italic (Romance) languages, n.i.e.]\n",
      "│           │   └── 253 [Member Name=Indo-European languages, n.i.e.]\n",
      "│           ├── 254 [Member Name=Japanese]\n",
      "│           ├── 255 [Member Name=Korean]\n",
      "│           ├── 256 [Member Name=Mongolian]\n",
      "│           ├── 257 [Member Name=Niger-Congo languages]\n",
      "│           │   ├── 258 [Member Name=Akan (Twi)]\n",
      "│           │   ├── 259 [Member Name=Bamanankan]\n",
      "│           │   ├── 260 [Member Name=Edo]\n",
      "│           │   ├── 261 [Member Name=Éwé]\n",
      "│           │   ├── 262 [Member Name=Fulah (Pular, Pulaar, Fulfulde)]\n",
      "│           │   ├── 263 [Member Name=Ga]\n",
      "│           │   ├── 264 [Member Name=Ganda]\n",
      "│           │   ├── 265 [Member Name=Gikuyu]\n",
      "│           │   ├── 266 [Member Name=Igbo]\n",
      "│           │   ├── 267 [Member Name=Kinyarwanda (Rwanda)]\n",
      "│           │   ├── 268 [Member Name=Lingala]\n",
      "│           │   ├── 269 [Member Name=Luba-Kasai]\n",
      "│           │   ├── 270 [Member Name=Mòoré]\n",
      "│           │   ├── 271 [Member Name=Mwani]\n",
      "│           │   ├── 272 [Member Name=Ndebele]\n",
      "│           │   ├── 273 [Member Name=Rundi (Kirundi)]\n",
      "│           │   ├── 274 [Member Name=Shona]\n",
      "│           │   ├── 275 [Member Name=Soninke]\n",
      "│           │   ├── 276 [Member Name=Sotho-Tswana languages]\n",
      "│           │   ├── 277 [Member Name=Swahili]\n",
      "│           │   ├── 278 [Member Name=Wojenaka]\n",
      "│           │   ├── 279 [Member Name=Wolof]\n",
      "│           │   ├── 280 [Member Name=Yoruba]\n",
      "│           │   └── 281 [Member Name=Niger-Congo languages, n.i.e.]\n",
      "│           ├── 282 [Member Name=Nilo-Saharan languages]\n",
      "│           │   ├── 283 [Member Name=Dinka]\n",
      "│           │   ├── 284 [Member Name=Nuer]\n",
      "│           │   ├── 285 [Member Name=Nilo-Saharan languages, n.i.e.]\n",
      "│           │   └── 286 [Member Name=African, n.o.s.]\n",
      "│           ├── 287 [Member Name=Sign languages]\n",
      "│           │   ├── 288 [Member Name=American Sign Language]\n",
      "│           │   ├── 289 [Member Name=Quebec Sign Language]\n",
      "│           │   └── 290 [Member Name=Sign languages, n.i.e.]\n",
      "│           ├── 291 [Member Name=Sino-Tibetan languages]\n",
      "│           │   ├── 292 [Member Name=Chinese languages]\n",
      "│           │   │   ├── 293 [Member Name=Hakka]\n",
      "│           │   │   ├── 294 [Member Name=Mandarin]\n",
      "│           │   │   ├── 295 [Member Name=Min Dong]\n",
      "│           │   │   ├── 296 [Member Name=Min Nan (Chaochow, Teochow, Fukien, Taiwanese)]\n",
      "│           │   │   ├── 297 [Member Name=Wu (Shanghainese)]\n",
      "│           │   │   ├── 298 [Member Name=Yue (Cantonese)]\n",
      "│           │   │   ├── 299 [Member Name=Chinese, n.o.s.]\n",
      "│           │   │   └── 300 [Member Name=Chinese languages, n.i.e.]\n",
      "│           │   ├── 301 [Member Name=Tibeto-Burman languages]\n",
      "│           │   │   ├── 302 [Member Name=Burmese]\n",
      "│           │   │   ├── 303 [Member Name=Kuki-Chin languages]\n",
      "│           │   │   ├── 304 [Member Name=Karenic languages]\n",
      "│           │   │   │   ├── 305 [Member Name=S'gaw Karen]\n",
      "│           │   │   │   └── 306 [Member Name=Karenic languages, n.i.e.]\n",
      "│           │   │   ├── 307 [Member Name=Tibetan]\n",
      "│           │   │   └── 308 [Member Name=Tibeto-Burman languages, n.i.e.]\n",
      "│           │   └── 309 [Member Name=Sino-Tibetan languages, n.i.e.]\n",
      "│           ├── 310 [Member Name=Tai-Kadai languages]\n",
      "│           │   ├── 311 [Member Name=Lao]\n",
      "│           │   ├── 312 [Member Name=Thai]\n",
      "│           │   └── 313 [Member Name=Tai-Kadai languages, n.i.e.]\n",
      "│           ├── 314 [Member Name=Turkic languages]\n",
      "│           │   ├── 315 [Member Name=Azerbaijani]\n",
      "│           │   ├── 316 [Member Name=Kazakh]\n",
      "│           │   ├── 317 [Member Name=Turkish]\n",
      "│           │   ├── 318 [Member Name=Uyghur]\n",
      "│           │   ├── 319 [Member Name=Uzbek]\n",
      "│           │   └── 320 [Member Name=Turkic languages, n.i.e.]\n",
      "│           ├── 321 [Member Name=Uralic languages]\n",
      "│           │   ├── 322 [Member Name=Estonian]\n",
      "│           │   ├── 323 [Member Name=Finnish]\n",
      "│           │   └── 324 [Member Name=Hungarian]\n",
      "│           └── 325 [Member Name=Other languages, n.i.e.]\n",
      "└── 326 [Member Name=Multiple responses]\n",
      "    ├── 327 [Member Name=English and French]\n",
      "    ├── 328 [Member Name=English and non-official language(s)]\n",
      "    ├── 329 [Member Name=French and non-official language(s)]\n",
      "    ├── 330 [Member Name=English, French and non-official language(s)]\n",
      "    └── 331 [Member Name=Multiple non-official languages]\n"
     ]
    }
   ],
   "source": [
    "motherTongueTree = dataframe_to_tree_by_relation(motherTongueData,'Member ID','Parent Member ID')\n",
    "motherTongueTree.show(attr_list = ['Member Name'])"
   ]
  },
  {
   "cell_type": "code",
   "execution_count": 19,
   "metadata": {},
   "outputs": [
    {
     "data": {
      "text/html": [
       "<div>\n",
       "<style scoped>\n",
       "    .dataframe tbody tr th:only-of-type {\n",
       "        vertical-align: middle;\n",
       "    }\n",
       "\n",
       "    .dataframe tbody tr th {\n",
       "        vertical-align: top;\n",
       "    }\n",
       "\n",
       "    .dataframe thead th {\n",
       "        text-align: right;\n",
       "    }\n",
       "</style>\n",
       "<table border=\"1\" class=\"dataframe\">\n",
       "  <thead>\n",
       "    <tr style=\"text-align: right;\">\n",
       "      <th></th>\n",
       "      <th>Member Name</th>\n",
       "      <th>Member ID</th>\n",
       "      <th>Parent Member ID</th>\n",
       "      <th>Is Parent Lang</th>\n",
       "    </tr>\n",
       "  </thead>\n",
       "  <tbody>\n",
       "    <tr>\n",
       "      <th>3</th>\n",
       "      <td>English</td>\n",
       "      <td>4</td>\n",
       "      <td>3.0</td>\n",
       "      <td>False</td>\n",
       "    </tr>\n",
       "    <tr>\n",
       "      <th>4</th>\n",
       "      <td>French</td>\n",
       "      <td>5</td>\n",
       "      <td>3.0</td>\n",
       "      <td>False</td>\n",
       "    </tr>\n",
       "    <tr>\n",
       "      <th>8</th>\n",
       "      <td>Blackfoot</td>\n",
       "      <td>9</td>\n",
       "      <td>8.0</td>\n",
       "      <td>False</td>\n",
       "    </tr>\n",
       "    <tr>\n",
       "      <th>10</th>\n",
       "      <td>Atikamekw</td>\n",
       "      <td>11</td>\n",
       "      <td>10.0</td>\n",
       "      <td>False</td>\n",
       "    </tr>\n",
       "    <tr>\n",
       "      <th>12</th>\n",
       "      <td>Ililimowin (Moose Cree)</td>\n",
       "      <td>13</td>\n",
       "      <td>12.0</td>\n",
       "      <td>False</td>\n",
       "    </tr>\n",
       "    <tr>\n",
       "      <th>13</th>\n",
       "      <td>Inu Ayimun (Southern East Cree)</td>\n",
       "      <td>14</td>\n",
       "      <td>12.0</td>\n",
       "      <td>False</td>\n",
       "    </tr>\n",
       "    <tr>\n",
       "      <th>14</th>\n",
       "      <td>Iyiyiw-Ayimiwin (Northern East Cree)</td>\n",
       "      <td>15</td>\n",
       "      <td>12.0</td>\n",
       "      <td>False</td>\n",
       "    </tr>\n",
       "    <tr>\n",
       "      <th>15</th>\n",
       "      <td>Nehinawewin (Swampy Cree)</td>\n",
       "      <td>16</td>\n",
       "      <td>12.0</td>\n",
       "      <td>False</td>\n",
       "    </tr>\n",
       "    <tr>\n",
       "      <th>16</th>\n",
       "      <td>Nehiyawewin (Plains Cree)</td>\n",
       "      <td>17</td>\n",
       "      <td>12.0</td>\n",
       "      <td>False</td>\n",
       "    </tr>\n",
       "    <tr>\n",
       "      <th>17</th>\n",
       "      <td>Nihithawiwin (Woods Cree)</td>\n",
       "      <td>18</td>\n",
       "      <td>12.0</td>\n",
       "      <td>False</td>\n",
       "    </tr>\n",
       "  </tbody>\n",
       "</table>\n",
       "</div>"
      ],
      "text/plain": [
       "                             Member Name  Member ID  Parent Member ID  \\\n",
       "3                                English          4               3.0   \n",
       "4                                 French          5               3.0   \n",
       "8                              Blackfoot          9               8.0   \n",
       "10                             Atikamekw         11              10.0   \n",
       "12               Ililimowin (Moose Cree)         13              12.0   \n",
       "13       Inu Ayimun (Southern East Cree)         14              12.0   \n",
       "14  Iyiyiw-Ayimiwin (Northern East Cree)         15              12.0   \n",
       "15             Nehinawewin (Swampy Cree)         16              12.0   \n",
       "16             Nehiyawewin (Plains Cree)         17              12.0   \n",
       "17             Nihithawiwin (Woods Cree)         18              12.0   \n",
       "\n",
       "    Is Parent Lang  \n",
       "3            False  \n",
       "4            False  \n",
       "8            False  \n",
       "10           False  \n",
       "12           False  \n",
       "13           False  \n",
       "14           False  \n",
       "15           False  \n",
       "16           False  \n",
       "17           False  "
      ]
     },
     "execution_count": 19,
     "metadata": {},
     "output_type": "execute_result"
    }
   ],
   "source": [
    "motherTongueLangs = motherTongueData.loc[(motherTongueData['Is Parent Lang']== False) & (motherTongueData['Parent Member ID'] != 326)]\n",
    "motherTongueLangs.head(10)"
   ]
  },
  {
   "cell_type": "code",
   "execution_count": 20,
   "metadata": {},
   "outputs": [],
   "source": [
    "motherTonguesMeta_filepath = '/home/grace/Documents/CapstoneProject/MotherTongues-Canada/MetaData_Age.csv'\n",
    "motherTongueAge = pd.read_csv(motherTonguesMeta_filepath)\n",
    "motherTongueAge = motherTongueAge[['Member Name','Member ID','Parent Member ID']]\n",
    "\n",
    "isAgeGroup = motherTongueAge['Member ID'].isin(motherTongueAge['Parent Member ID'])\n",
    "motherTongueAge['Is Parent Age']=isAgeGroup\n",
    "#motherTongueAge.head()"
   ]
  },
  {
   "cell_type": "code",
   "execution_count": 21,
   "metadata": {},
   "outputs": [
    {
     "data": {
      "text/html": [
       "<div>\n",
       "<style scoped>\n",
       "    .dataframe tbody tr th:only-of-type {\n",
       "        vertical-align: middle;\n",
       "    }\n",
       "\n",
       "    .dataframe tbody tr th {\n",
       "        vertical-align: top;\n",
       "    }\n",
       "\n",
       "    .dataframe thead th {\n",
       "        text-align: right;\n",
       "    }\n",
       "</style>\n",
       "<table border=\"1\" class=\"dataframe\">\n",
       "  <thead>\n",
       "    <tr style=\"text-align: right;\">\n",
       "      <th></th>\n",
       "      <th>Member Name</th>\n",
       "      <th>Member ID</th>\n",
       "      <th>Parent Member ID</th>\n",
       "      <th>Is Parent Gender</th>\n",
       "    </tr>\n",
       "  </thead>\n",
       "  <tbody>\n",
       "    <tr>\n",
       "      <th>0</th>\n",
       "      <td>Total - Gender</td>\n",
       "      <td>1</td>\n",
       "      <td>NaN</td>\n",
       "      <td>True</td>\n",
       "    </tr>\n",
       "    <tr>\n",
       "      <th>1</th>\n",
       "      <td>Men+</td>\n",
       "      <td>2</td>\n",
       "      <td>1.0</td>\n",
       "      <td>False</td>\n",
       "    </tr>\n",
       "    <tr>\n",
       "      <th>2</th>\n",
       "      <td>Women+</td>\n",
       "      <td>3</td>\n",
       "      <td>1.0</td>\n",
       "      <td>False</td>\n",
       "    </tr>\n",
       "  </tbody>\n",
       "</table>\n",
       "</div>"
      ],
      "text/plain": [
       "      Member Name  Member ID  Parent Member ID  Is Parent Gender\n",
       "0  Total - Gender          1               NaN              True\n",
       "1            Men+          2               1.0             False\n",
       "2          Women+          3               1.0             False"
      ]
     },
     "execution_count": 21,
     "metadata": {},
     "output_type": "execute_result"
    }
   ],
   "source": [
    "motherTonguesMeta_filepath = '/home/grace/Documents/CapstoneProject/MotherTongues-Canada/MetaData_Gender.csv'\n",
    "motherTongueGender = pd.read_csv(motherTonguesMeta_filepath)\n",
    "motherTongueGender = motherTongueGender[['Member Name','Member ID','Parent Member ID']]\n",
    "\n",
    "isGenderGroup = motherTongueGender['Member ID'].isin(motherTongueGender['Parent Member ID'])\n",
    "motherTongueGender['Is Parent Gender']=isGenderGroup\n",
    "motherTongueGender.head()"
   ]
  },
  {
   "cell_type": "markdown",
   "metadata": {},
   "source": [
    "This next section takes the metadata dataframes from the previous section and joins them on the motherTongues data from earlier. This provides the option to filter out aggregations or keep only aggregations. "
   ]
  },
  {
   "cell_type": "code",
   "execution_count": 22,
   "metadata": {},
   "outputs": [
    {
     "data": {
      "text/plain": [
       "['GEO',\n",
       " 'Gender (3)',\n",
       " 'Age (15A)',\n",
       " 'Mother tongue (331)',\n",
       " 'Coordinate',\n",
       " 'Knowledge of official languages (5):Total - Knowledge of official languages[1]',\n",
       " 'Knowledge of official languages (5):English only[2]',\n",
       " 'Knowledge of official languages (5):French only[3]',\n",
       " 'Knowledge of official languages (5):English and French[4]',\n",
       " 'Knowledge of official languages (5):Neither English nor French[5]',\n",
       " 'Member ID',\n",
       " 'Parent Member ID',\n",
       " 'Is Parent Lang',\n",
       " 'Member ID_geo',\n",
       " 'Parent Member ID_geo',\n",
       " 'Is Parent Loc',\n",
       " 'Member ID_age',\n",
       " 'Parent Member ID_age',\n",
       " 'Is Parent Age',\n",
       " 'Member ID_gender',\n",
       " 'Parent Member ID_gender',\n",
       " 'Is Parent Gender']"
      ]
     },
     "execution_count": 22,
     "metadata": {},
     "output_type": "execute_result"
    }
   ],
   "source": [
    "df = df.join(motherTongueData.set_index('Member Name'), on='Mother tongue (331)', rsuffix='_lang')\n",
    "df = df.join(geoReduced.set_index('Member Name'), on='GEO',rsuffix='_geo')\n",
    "df = df.join(motherTongueAge.set_index('Member Name'), on='Age (15A)', rsuffix='_age')\n",
    "df = df.join(motherTongueGender.set_index('Member Name'),on='Gender (3)', rsuffix='_gender')\n",
    "list(df.columns)"
   ]
  },
  {
   "cell_type": "markdown",
   "metadata": {},
   "source": [
    "Excluding aggregate values - those that have parent = true. Also excluding the multiple mother tongues for consistency. "
   ]
  },
  {
   "cell_type": "code",
   "execution_count": 23,
   "metadata": {},
   "outputs": [],
   "source": [
    "\n",
    "dfFlat = df.loc[(df['Is Parent Lang'] == False) & (df['Parent Member ID'] != 326) & (df['Is Parent Loc'] == False)& (df['Is Parent Age'] == False)& (df['Is Parent Gender'] == False)]\n",
    "\n"
   ]
  },
  {
   "cell_type": "code",
   "execution_count": 24,
   "metadata": {},
   "outputs": [
    {
     "name": "stdout",
     "output_type": "stream",
     "text": [
      "<class 'pandas.core.frame.DataFrame'>\n",
      "Int64Index: 911856 entries, 35420 to 2591723\n",
      "Data columns (total 22 columns):\n",
      " #   Column                                                                          Non-Null Count   Dtype  \n",
      "---  ------                                                                          --------------   -----  \n",
      " 0   GEO                                                                             911856 non-null  object \n",
      " 1   Gender (3)                                                                      911856 non-null  object \n",
      " 2   Age (15A)                                                                       911856 non-null  object \n",
      " 3   Mother tongue (331)                                                             911856 non-null  object \n",
      " 4   Coordinate                                                                      911856 non-null  object \n",
      " 5   Knowledge of official languages (5):Total - Knowledge of official languages[1]  911856 non-null  int64  \n",
      " 6   Knowledge of official languages (5):English only[2]                             911856 non-null  int64  \n",
      " 7   Knowledge of official languages (5):French only[3]                              911856 non-null  int64  \n",
      " 8   Knowledge of official languages (5):English and French[4]                       911856 non-null  int64  \n",
      " 9   Knowledge of official languages (5):Neither English nor French[5]               911856 non-null  int64  \n",
      " 10  Member ID                                                                       911856 non-null  int64  \n",
      " 11  Parent Member ID                                                                911856 non-null  float64\n",
      " 12  Is Parent Lang                                                                  911856 non-null  bool   \n",
      " 13  Member ID_geo                                                                   911856 non-null  int64  \n",
      " 14  Parent Member ID_geo                                                            911856 non-null  float64\n",
      " 15  Is Parent Loc                                                                   911856 non-null  bool   \n",
      " 16  Member ID_age                                                                   911856 non-null  int64  \n",
      " 17  Parent Member ID_age                                                            911856 non-null  float64\n",
      " 18  Is Parent Age                                                                   911856 non-null  bool   \n",
      " 19  Member ID_gender                                                                911856 non-null  int64  \n",
      " 20  Parent Member ID_gender                                                         911856 non-null  float64\n",
      " 21  Is Parent Gender                                                                911856 non-null  bool   \n",
      "dtypes: bool(4), float64(4), int64(9), object(5)\n",
      "memory usage: 135.7+ MB\n"
     ]
    }
   ],
   "source": [
    "dfFlat.info()"
   ]
  },
  {
   "cell_type": "code",
   "execution_count": 25,
   "metadata": {},
   "outputs": [
    {
     "name": "stdout",
     "output_type": "stream",
     "text": [
      "<class 'pandas.core.frame.DataFrame'>\n",
      "Int64Index: 911856 entries, 35420 to 2591723\n",
      "Data columns (total 9 columns):\n",
      " #   Column                                                             Non-Null Count   Dtype \n",
      "---  ------                                                             --------------   ----- \n",
      " 0   GEO                                                                911856 non-null  object\n",
      " 1   Gender (3)                                                         911856 non-null  object\n",
      " 2   Age (15A)                                                          911856 non-null  object\n",
      " 3   Mother tongue (331)                                                911856 non-null  object\n",
      " 4   Coordinate                                                         911856 non-null  object\n",
      " 5   Knowledge of official languages (5):English only[2]                911856 non-null  int64 \n",
      " 6   Knowledge of official languages (5):French only[3]                 911856 non-null  int64 \n",
      " 7   Knowledge of official languages (5):English and French[4]          911856 non-null  int64 \n",
      " 8   Knowledge of official languages (5):Neither English nor French[5]  911856 non-null  int64 \n",
      "dtypes: int64(4), object(5)\n",
      "memory usage: 69.6+ MB\n"
     ]
    }
   ],
   "source": [
    "dfFlatReduced = dfFlat[['GEO', 'Gender (3)', 'Age (15A)', 'Mother tongue (331)', 'Coordinate',  'Knowledge of official languages (5):English only[2]', 'Knowledge of official languages (5):French only[3]', 'Knowledge of official languages (5):English and French[4]', 'Knowledge of official languages (5):Neither English nor French[5]']]\n",
    "dfFlatReduced.info()"
   ]
  },
  {
   "cell_type": "code",
   "execution_count": 26,
   "metadata": {},
   "outputs": [
    {
     "name": "stderr",
     "output_type": "stream",
     "text": [
      "/tmp/ipykernel_5275/1589484963.py:1: SettingWithCopyWarning: \n",
      "A value is trying to be set on a copy of a slice from a DataFrame.\n",
      "Try using .loc[row_indexer,col_indexer] = value instead\n",
      "\n",
      "See the caveats in the documentation: https://pandas.pydata.org/pandas-docs/stable/user_guide/indexing.html#returning-a-view-versus-a-copy\n",
      "  dfFlatReduced['Mother tongue (331)'] = dfFlatReduced['Mother tongue (331)'].astype('category')\n",
      "/tmp/ipykernel_5275/1589484963.py:2: SettingWithCopyWarning: \n",
      "A value is trying to be set on a copy of a slice from a DataFrame.\n",
      "Try using .loc[row_indexer,col_indexer] = value instead\n",
      "\n",
      "See the caveats in the documentation: https://pandas.pydata.org/pandas-docs/stable/user_guide/indexing.html#returning-a-view-versus-a-copy\n",
      "  dfFlatReduced['GEO'] = dfFlatReduced['GEO'].astype('category')\n"
     ]
    }
   ],
   "source": [
    "dfFlatReduced['Mother tongue (331)'] = dfFlatReduced['Mother tongue (331)'].astype('category')\n",
    "dfFlatReduced['GEO'] = dfFlatReduced['GEO'].astype('category')"
   ]
  },
  {
   "cell_type": "markdown",
   "metadata": {},
   "source": [
    "Repeating the YData Profile Report again, this time with the cleaned and flattened data. "
   ]
  },
  {
   "cell_type": "code",
   "execution_count": 27,
   "metadata": {},
   "outputs": [
    {
     "name": "stderr",
     "output_type": "stream",
     "text": [
      "/home/grace/anaconda3/lib/python3.11/site-packages/ydata_profiling/utils/dataframe.py:137: SettingWithCopyWarning: \n",
      "A value is trying to be set on a copy of a slice from a DataFrame\n",
      "\n",
      "See the caveats in the documentation: https://pandas.pydata.org/pandas-docs/stable/user_guide/indexing.html#returning-a-view-versus-a-copy\n",
      "  df.rename(columns={\"index\": \"df_index\"}, inplace=True)\n"
     ]
    },
    {
     "data": {
      "application/vnd.jupyter.widget-view+json": {
       "model_id": "7db6441f38ca4a239c6e4b52123cacd5",
       "version_major": 2,
       "version_minor": 0
      },
      "text/plain": [
       "Summarize dataset:   0%|          | 0/5 [00:00<?, ?it/s]"
      ]
     },
     "metadata": {},
     "output_type": "display_data"
    },
    {
     "data": {
      "application/vnd.jupyter.widget-view+json": {
       "model_id": "8fe72023420c4d5cbd2f3348c6f42ba8",
       "version_major": 2,
       "version_minor": 0
      },
      "text/plain": [
       "Generate report structure:   0%|          | 0/1 [00:00<?, ?it/s]"
      ]
     },
     "metadata": {},
     "output_type": "display_data"
    },
    {
     "data": {
      "application/vnd.jupyter.widget-view+json": {
       "model_id": "fbff04ca7cae4c21b8a8c0d4dfe30536",
       "version_major": 2,
       "version_minor": 0
      },
      "text/plain": [
       "Render HTML:   0%|          | 0/1 [00:00<?, ?it/s]"
      ]
     },
     "metadata": {},
     "output_type": "display_data"
    },
    {
     "data": {
      "application/vnd.jupyter.widget-view+json": {
       "model_id": "44b804c6b43c442fbfa991e358014db8",
       "version_major": 2,
       "version_minor": 0
      },
      "text/plain": [
       "Export report to file:   0%|          | 0/1 [00:00<?, ?it/s]"
      ]
     },
     "metadata": {},
     "output_type": "display_data"
    }
   ],
   "source": [
    "profileDF = ProfileReport(dfFlatReduced, title = \"Profiling Report (Reduced)\", explorative=True)\n",
    "profileDF.to_file('/home/grace/Documents/CapstoneProject/MotherTongues-Canada/EDA-Flattened-reduced.html')"
   ]
  },
  {
   "cell_type": "markdown",
   "metadata": {},
   "source": [
    "Now that the data has been cleaned and flattened, we are ready to start applying machine learning models. The first step is to list which features are the target variables . We will also need to encode the categorical features as numbers; fortunately this has already been done, as the Coordinate feature is a combination of the member IDs. The string can be expanded by the deliminator. We will also divide the data into training and test sets at this time. "
   ]
  },
  {
   "cell_type": "code",
   "execution_count": null,
   "metadata": {},
   "outputs": [],
   "source": []
  },
  {
   "cell_type": "code",
   "execution_count": 30,
   "metadata": {},
   "outputs": [],
   "source": [
    "col_namesX = list(dfFlatReduced[[c for c in dfFlatReduced.columns if 'Knowledge' not in c]].columns)\n",
    "col_namesY = list(dfFlatReduced[[c for c in dfFlatReduced.columns if 'Knowledge' in c]].columns)\n",
    "#dfFlatReduced['Total People'] = dfFlatReduced[col_namesY].sum(axis='columns')\n",
    "#dfFlatReduced['Not Empty'] = np.where(dfFlatReduced['Total People'] >0, True, False)\n",
    "\n",
    "dfFlatReduced.head()\n",
    "#print(col_namesX, col_namesY)\n",
    "X_Categories = dfFlatReduced[col_namesX]\n",
    "Y_Categories = dfFlatReduced[col_namesY]\n"
   ]
  },
  {
   "cell_type": "code",
   "execution_count": 116,
   "metadata": {},
   "outputs": [
    {
     "data": {
      "text/plain": [
       "35420      525\n",
       "35421        0\n",
       "35425        0\n",
       "35427        0\n",
       "35429        0\n",
       "          ... \n",
       "2591718      0\n",
       "2591720      0\n",
       "2591721      0\n",
       "2591722      0\n",
       "2591723      0\n",
       "Length: 911856, dtype: int64"
      ]
     },
     "execution_count": 116,
     "metadata": {},
     "output_type": "execute_result"
    }
   ],
   "source": [
    "dfFlatReduced[col_namesY].sum(axis='columns')"
   ]
  },
  {
   "cell_type": "code",
   "execution_count": 31,
   "metadata": {},
   "outputs": [
    {
     "name": "stderr",
     "output_type": "stream",
     "text": [
      "/tmp/ipykernel_5275/2786190882.py:1: SettingWithCopyWarning: \n",
      "A value is trying to be set on a copy of a slice from a DataFrame.\n",
      "Try using .loc[row_indexer,col_indexer] = value instead\n",
      "\n",
      "See the caveats in the documentation: https://pandas.pydata.org/pandas-docs/stable/user_guide/indexing.html#returning-a-view-versus-a-copy\n",
      "  X_Categories[['Geography','Gender','Age','Mother Tongue']]=X_Categories['Coordinate'].str.split('.', expand=True)\n",
      "/tmp/ipykernel_5275/2786190882.py:1: SettingWithCopyWarning: \n",
      "A value is trying to be set on a copy of a slice from a DataFrame.\n",
      "Try using .loc[row_indexer,col_indexer] = value instead\n",
      "\n",
      "See the caveats in the documentation: https://pandas.pydata.org/pandas-docs/stable/user_guide/indexing.html#returning-a-view-versus-a-copy\n",
      "  X_Categories[['Geography','Gender','Age','Mother Tongue']]=X_Categories['Coordinate'].str.split('.', expand=True)\n",
      "/tmp/ipykernel_5275/2786190882.py:1: SettingWithCopyWarning: \n",
      "A value is trying to be set on a copy of a slice from a DataFrame.\n",
      "Try using .loc[row_indexer,col_indexer] = value instead\n",
      "\n",
      "See the caveats in the documentation: https://pandas.pydata.org/pandas-docs/stable/user_guide/indexing.html#returning-a-view-versus-a-copy\n",
      "  X_Categories[['Geography','Gender','Age','Mother Tongue']]=X_Categories['Coordinate'].str.split('.', expand=True)\n"
     ]
    },
    {
     "data": {
      "text/html": [
       "<div>\n",
       "<style scoped>\n",
       "    .dataframe tbody tr th:only-of-type {\n",
       "        vertical-align: middle;\n",
       "    }\n",
       "\n",
       "    .dataframe tbody tr th {\n",
       "        vertical-align: top;\n",
       "    }\n",
       "\n",
       "    .dataframe thead th {\n",
       "        text-align: right;\n",
       "    }\n",
       "</style>\n",
       "<table border=\"1\" class=\"dataframe\">\n",
       "  <thead>\n",
       "    <tr style=\"text-align: right;\">\n",
       "      <th></th>\n",
       "      <th>GEO</th>\n",
       "      <th>Gender (3)</th>\n",
       "      <th>Age (15A)</th>\n",
       "      <th>Mother tongue (331)</th>\n",
       "      <th>Coordinate</th>\n",
       "      <th>Geography</th>\n",
       "      <th>Gender</th>\n",
       "      <th>Age</th>\n",
       "      <th>Mother Tongue</th>\n",
       "    </tr>\n",
       "  </thead>\n",
       "  <tbody>\n",
       "    <tr>\n",
       "      <th>35420</th>\n",
       "      <td>Corner Brook (CA), N.L.</td>\n",
       "      <td>Men+</td>\n",
       "      <td>0 to 4 years</td>\n",
       "      <td>English</td>\n",
       "      <td>3.2.3.4</td>\n",
       "      <td>3</td>\n",
       "      <td>2</td>\n",
       "      <td>3</td>\n",
       "      <td>4</td>\n",
       "    </tr>\n",
       "    <tr>\n",
       "      <th>35421</th>\n",
       "      <td>Corner Brook (CA), N.L.</td>\n",
       "      <td>Men+</td>\n",
       "      <td>0 to 4 years</td>\n",
       "      <td>French</td>\n",
       "      <td>3.2.3.5</td>\n",
       "      <td>3</td>\n",
       "      <td>2</td>\n",
       "      <td>3</td>\n",
       "      <td>5</td>\n",
       "    </tr>\n",
       "    <tr>\n",
       "      <th>35425</th>\n",
       "      <td>Corner Brook (CA), N.L.</td>\n",
       "      <td>Men+</td>\n",
       "      <td>0 to 4 years</td>\n",
       "      <td>Blackfoot</td>\n",
       "      <td>3.2.3.9</td>\n",
       "      <td>3</td>\n",
       "      <td>2</td>\n",
       "      <td>3</td>\n",
       "      <td>9</td>\n",
       "    </tr>\n",
       "    <tr>\n",
       "      <th>35427</th>\n",
       "      <td>Corner Brook (CA), N.L.</td>\n",
       "      <td>Men+</td>\n",
       "      <td>0 to 4 years</td>\n",
       "      <td>Atikamekw</td>\n",
       "      <td>3.2.3.11</td>\n",
       "      <td>3</td>\n",
       "      <td>2</td>\n",
       "      <td>3</td>\n",
       "      <td>11</td>\n",
       "    </tr>\n",
       "    <tr>\n",
       "      <th>35429</th>\n",
       "      <td>Corner Brook (CA), N.L.</td>\n",
       "      <td>Men+</td>\n",
       "      <td>0 to 4 years</td>\n",
       "      <td>Ililimowin (Moose Cree)</td>\n",
       "      <td>3.2.3.13</td>\n",
       "      <td>3</td>\n",
       "      <td>2</td>\n",
       "      <td>3</td>\n",
       "      <td>13</td>\n",
       "    </tr>\n",
       "  </tbody>\n",
       "</table>\n",
       "</div>"
      ],
      "text/plain": [
       "                           GEO Gender (3)     Age (15A)  \\\n",
       "35420  Corner Brook (CA), N.L.       Men+  0 to 4 years   \n",
       "35421  Corner Brook (CA), N.L.       Men+  0 to 4 years   \n",
       "35425  Corner Brook (CA), N.L.       Men+  0 to 4 years   \n",
       "35427  Corner Brook (CA), N.L.       Men+  0 to 4 years   \n",
       "35429  Corner Brook (CA), N.L.       Men+  0 to 4 years   \n",
       "\n",
       "           Mother tongue (331) Coordinate Geography Gender Age Mother Tongue  \n",
       "35420                  English    3.2.3.4         3      2   3             4  \n",
       "35421                   French    3.2.3.5         3      2   3             5  \n",
       "35425                Blackfoot    3.2.3.9         3      2   3             9  \n",
       "35427                Atikamekw   3.2.3.11         3      2   3            11  \n",
       "35429  Ililimowin (Moose Cree)   3.2.3.13         3      2   3            13  "
      ]
     },
     "execution_count": 31,
     "metadata": {},
     "output_type": "execute_result"
    }
   ],
   "source": [
    "\n",
    "X_Categories[['Geography','Gender','Age','Mother Tongue']]=X_Categories['Coordinate'].str.split('.', expand=True)\n",
    "X_Categories.head()"
   ]
  },
  {
   "cell_type": "code",
   "execution_count": 32,
   "metadata": {},
   "outputs": [
    {
     "name": "stdout",
     "output_type": "stream",
     "text": [
      "<class 'pandas.core.frame.DataFrame'>\n",
      "Int64Index: 911856 entries, 35420 to 2591723\n",
      "Data columns (total 4 columns):\n",
      " #   Column         Non-Null Count   Dtype \n",
      "---  ------         --------------   ----- \n",
      " 0   Geography      911856 non-null  object\n",
      " 1   Gender         911856 non-null  object\n",
      " 2   Age            911856 non-null  object\n",
      " 3   Mother Tongue  911856 non-null  object\n",
      "dtypes: object(4)\n",
      "memory usage: 67.0+ MB\n"
     ]
    }
   ],
   "source": [
    "X = X_Categories[['Geography','Gender','Age','Mother Tongue']]\n",
    "X.info()"
   ]
  },
  {
   "cell_type": "code",
   "execution_count": 109,
   "metadata": {},
   "outputs": [
    {
     "data": {
      "text/html": [
       "<style>#sk-container-id-7 {color: black;}#sk-container-id-7 pre{padding: 0;}#sk-container-id-7 div.sk-toggleable {background-color: white;}#sk-container-id-7 label.sk-toggleable__label {cursor: pointer;display: block;width: 100%;margin-bottom: 0;padding: 0.3em;box-sizing: border-box;text-align: center;}#sk-container-id-7 label.sk-toggleable__label-arrow:before {content: \"▸\";float: left;margin-right: 0.25em;color: #696969;}#sk-container-id-7 label.sk-toggleable__label-arrow:hover:before {color: black;}#sk-container-id-7 div.sk-estimator:hover label.sk-toggleable__label-arrow:before {color: black;}#sk-container-id-7 div.sk-toggleable__content {max-height: 0;max-width: 0;overflow: hidden;text-align: left;background-color: #f0f8ff;}#sk-container-id-7 div.sk-toggleable__content pre {margin: 0.2em;color: black;border-radius: 0.25em;background-color: #f0f8ff;}#sk-container-id-7 input.sk-toggleable__control:checked~div.sk-toggleable__content {max-height: 200px;max-width: 100%;overflow: auto;}#sk-container-id-7 input.sk-toggleable__control:checked~label.sk-toggleable__label-arrow:before {content: \"▾\";}#sk-container-id-7 div.sk-estimator input.sk-toggleable__control:checked~label.sk-toggleable__label {background-color: #d4ebff;}#sk-container-id-7 div.sk-label input.sk-toggleable__control:checked~label.sk-toggleable__label {background-color: #d4ebff;}#sk-container-id-7 input.sk-hidden--visually {border: 0;clip: rect(1px 1px 1px 1px);clip: rect(1px, 1px, 1px, 1px);height: 1px;margin: -1px;overflow: hidden;padding: 0;position: absolute;width: 1px;}#sk-container-id-7 div.sk-estimator {font-family: monospace;background-color: #f0f8ff;border: 1px dotted black;border-radius: 0.25em;box-sizing: border-box;margin-bottom: 0.5em;}#sk-container-id-7 div.sk-estimator:hover {background-color: #d4ebff;}#sk-container-id-7 div.sk-parallel-item::after {content: \"\";width: 100%;border-bottom: 1px solid gray;flex-grow: 1;}#sk-container-id-7 div.sk-label:hover label.sk-toggleable__label {background-color: #d4ebff;}#sk-container-id-7 div.sk-serial::before {content: \"\";position: absolute;border-left: 1px solid gray;box-sizing: border-box;top: 0;bottom: 0;left: 50%;z-index: 0;}#sk-container-id-7 div.sk-serial {display: flex;flex-direction: column;align-items: center;background-color: white;padding-right: 0.2em;padding-left: 0.2em;position: relative;}#sk-container-id-7 div.sk-item {position: relative;z-index: 1;}#sk-container-id-7 div.sk-parallel {display: flex;align-items: stretch;justify-content: center;background-color: white;position: relative;}#sk-container-id-7 div.sk-item::before, #sk-container-id-7 div.sk-parallel-item::before {content: \"\";position: absolute;border-left: 1px solid gray;box-sizing: border-box;top: 0;bottom: 0;left: 50%;z-index: -1;}#sk-container-id-7 div.sk-parallel-item {display: flex;flex-direction: column;z-index: 1;position: relative;background-color: white;}#sk-container-id-7 div.sk-parallel-item:first-child::after {align-self: flex-end;width: 50%;}#sk-container-id-7 div.sk-parallel-item:last-child::after {align-self: flex-start;width: 50%;}#sk-container-id-7 div.sk-parallel-item:only-child::after {width: 0;}#sk-container-id-7 div.sk-dashed-wrapped {border: 1px dashed gray;margin: 0 0.4em 0.5em 0.4em;box-sizing: border-box;padding-bottom: 0.4em;background-color: white;}#sk-container-id-7 div.sk-label label {font-family: monospace;font-weight: bold;display: inline-block;line-height: 1.2em;}#sk-container-id-7 div.sk-label-container {text-align: center;}#sk-container-id-7 div.sk-container {/* jupyter's `normalize.less` sets `[hidden] { display: none; }` but bootstrap.min.css set `[hidden] { display: none !important; }` so we also need the `!important` here to be able to override the default hidden behavior on the sphinx rendered scikit-learn.org. See: https://github.com/scikit-learn/scikit-learn/issues/21755 */display: inline-block !important;position: relative;}#sk-container-id-7 div.sk-text-repr-fallback {display: none;}</style><div id=\"sk-container-id-7\" class=\"sk-top-container\"><div class=\"sk-text-repr-fallback\"><pre>MultiLabelBinarizer(classes=Index([&#x27;Knowledge of official languages (5):English only[2]&#x27;,\n",
       "       &#x27;Knowledge of official languages (5):French only[3]&#x27;,\n",
       "       &#x27;Knowledge of official languages (5):English and French[4]&#x27;,\n",
       "       &#x27;Knowledge of official languages (5):Neither English nor French[5]&#x27;],\n",
       "      dtype=&#x27;object&#x27;))</pre><b>In a Jupyter environment, please rerun this cell to show the HTML representation or trust the notebook. <br />On GitHub, the HTML representation is unable to render, please try loading this page with nbviewer.org.</b></div><div class=\"sk-container\" hidden><div class=\"sk-item\"><div class=\"sk-estimator sk-toggleable\"><input class=\"sk-toggleable__control sk-hidden--visually\" id=\"sk-estimator-id-7\" type=\"checkbox\" checked><label for=\"sk-estimator-id-7\" class=\"sk-toggleable__label sk-toggleable__label-arrow\">MultiLabelBinarizer</label><div class=\"sk-toggleable__content\"><pre>MultiLabelBinarizer(classes=Index([&#x27;Knowledge of official languages (5):English only[2]&#x27;,\n",
       "       &#x27;Knowledge of official languages (5):French only[3]&#x27;,\n",
       "       &#x27;Knowledge of official languages (5):English and French[4]&#x27;,\n",
       "       &#x27;Knowledge of official languages (5):Neither English nor French[5]&#x27;],\n",
       "      dtype=&#x27;object&#x27;))</pre></div></div></div></div></div>"
      ],
      "text/plain": [
       "MultiLabelBinarizer(classes=Index(['Knowledge of official languages (5):English only[2]',\n",
       "       'Knowledge of official languages (5):French only[3]',\n",
       "       'Knowledge of official languages (5):English and French[4]',\n",
       "       'Knowledge of official languages (5):Neither English nor French[5]'],\n",
       "      dtype='object'))"
      ]
     },
     "execution_count": 109,
     "metadata": {},
     "output_type": "execute_result"
    }
   ],
   "source": [
    "#mlb = MultiLabelBinarizer(classes=Y_Categories.columns)\n",
    "#y = mlb.fit(Y_Categories)\n",
    "#y"
   ]
  },
  {
   "cell_type": "code",
   "execution_count": 33,
   "metadata": {},
   "outputs": [
    {
     "data": {
      "text/html": [
       "<div>\n",
       "<style scoped>\n",
       "    .dataframe tbody tr th:only-of-type {\n",
       "        vertical-align: middle;\n",
       "    }\n",
       "\n",
       "    .dataframe tbody tr th {\n",
       "        vertical-align: top;\n",
       "    }\n",
       "\n",
       "    .dataframe thead th {\n",
       "        text-align: right;\n",
       "    }\n",
       "</style>\n",
       "<table border=\"1\" class=\"dataframe\">\n",
       "  <thead>\n",
       "    <tr style=\"text-align: right;\">\n",
       "      <th></th>\n",
       "      <th>Knowledge of official languages (5):English only[2]</th>\n",
       "      <th>Knowledge of official languages (5):French only[3]</th>\n",
       "      <th>Knowledge of official languages (5):English and French[4]</th>\n",
       "      <th>Knowledge of official languages (5):Neither English nor French[5]</th>\n",
       "    </tr>\n",
       "  </thead>\n",
       "  <tbody>\n",
       "    <tr>\n",
       "      <th>35420</th>\n",
       "      <td>525</td>\n",
       "      <td>0</td>\n",
       "      <td>0</td>\n",
       "      <td>0</td>\n",
       "    </tr>\n",
       "    <tr>\n",
       "      <th>35421</th>\n",
       "      <td>0</td>\n",
       "      <td>0</td>\n",
       "      <td>0</td>\n",
       "      <td>0</td>\n",
       "    </tr>\n",
       "    <tr>\n",
       "      <th>35425</th>\n",
       "      <td>0</td>\n",
       "      <td>0</td>\n",
       "      <td>0</td>\n",
       "      <td>0</td>\n",
       "    </tr>\n",
       "    <tr>\n",
       "      <th>35427</th>\n",
       "      <td>0</td>\n",
       "      <td>0</td>\n",
       "      <td>0</td>\n",
       "      <td>0</td>\n",
       "    </tr>\n",
       "    <tr>\n",
       "      <th>35429</th>\n",
       "      <td>0</td>\n",
       "      <td>0</td>\n",
       "      <td>0</td>\n",
       "      <td>0</td>\n",
       "    </tr>\n",
       "  </tbody>\n",
       "</table>\n",
       "</div>"
      ],
      "text/plain": [
       "       Knowledge of official languages (5):English only[2]  \\\n",
       "35420                                                525     \n",
       "35421                                                  0     \n",
       "35425                                                  0     \n",
       "35427                                                  0     \n",
       "35429                                                  0     \n",
       "\n",
       "       Knowledge of official languages (5):French only[3]  \\\n",
       "35420                                                  0    \n",
       "35421                                                  0    \n",
       "35425                                                  0    \n",
       "35427                                                  0    \n",
       "35429                                                  0    \n",
       "\n",
       "       Knowledge of official languages (5):English and French[4]  \\\n",
       "35420                                                  0           \n",
       "35421                                                  0           \n",
       "35425                                                  0           \n",
       "35427                                                  0           \n",
       "35429                                                  0           \n",
       "\n",
       "       Knowledge of official languages (5):Neither English nor French[5]  \n",
       "35420                                                  0                  \n",
       "35421                                                  0                  \n",
       "35425                                                  0                  \n",
       "35427                                                  0                  \n",
       "35429                                                  0                  "
      ]
     },
     "execution_count": 33,
     "metadata": {},
     "output_type": "execute_result"
    }
   ],
   "source": [
    "Y_Categories.head()"
   ]
  },
  {
   "cell_type": "code",
   "execution_count": 42,
   "metadata": {},
   "outputs": [
    {
     "data": {
      "text/plain": [
       "\"\\nY_Categories['Target Vector'] = Y_Categories.loc[:, Y_Categories.columns != 'Target Vector'].values.tolist()\\nY_Categories.head()\\nY = Y_Categories['Target Vector']\\nts = pd.Series(pd.arrays.SparseArray(Y_Categories['Target Vector']))\\nts.head()\\nY = MultiLabelBinarizer()\\nY.fit(Y_Categories['Target Vector'])\\n\""
      ]
     },
     "execution_count": 42,
     "metadata": {},
     "output_type": "execute_result"
    }
   ],
   "source": [
    "'''\n",
    "Y_Categories['Target Vector'] = Y_Categories.loc[:, Y_Categories.columns != 'Target Vector'].values.tolist()\n",
    "Y_Categories.head()\n",
    "Y = Y_Categories['Target Vector']\n",
    "ts = pd.Series(pd.arrays.SparseArray(Y_Categories['Target Vector']))\n",
    "ts.head()\n",
    "Y = MultiLabelBinarizer()\n",
    "Y.fit(Y_Categories['Target Vector'])\n",
    "'''"
   ]
  },
  {
   "cell_type": "markdown",
   "metadata": {},
   "source": [
    "Originally had the test set as 30% of the output data, however this crashed when the decision_tree predictor function was run. As such, reduced the test_size down to 0.1. This still gives 91,186 records for the test set. "
   ]
  },
  {
   "cell_type": "code",
   "execution_count": 35,
   "metadata": {},
   "outputs": [
    {
     "name": "stdout",
     "output_type": "stream",
     "text": [
      "820670 820670 91186 91186\n"
     ]
    }
   ],
   "source": [
    "X_train, X_test, Y_train, Y_test = train_test_split(X,Y_Categories, test_size=0.1)\n",
    "print(len(X_train),len(Y_train),len(X_test),len(Y_test))"
   ]
  },
  {
   "cell_type": "code",
   "execution_count": 36,
   "metadata": {},
   "outputs": [
    {
     "data": {
      "text/html": [
       "<div>\n",
       "<style scoped>\n",
       "    .dataframe tbody tr th:only-of-type {\n",
       "        vertical-align: middle;\n",
       "    }\n",
       "\n",
       "    .dataframe tbody tr th {\n",
       "        vertical-align: top;\n",
       "    }\n",
       "\n",
       "    .dataframe thead th {\n",
       "        text-align: right;\n",
       "    }\n",
       "</style>\n",
       "<table border=\"1\" class=\"dataframe\">\n",
       "  <thead>\n",
       "    <tr style=\"text-align: right;\">\n",
       "      <th></th>\n",
       "      <th>Geography</th>\n",
       "      <th>Gender</th>\n",
       "      <th>Age</th>\n",
       "      <th>Mother Tongue</th>\n",
       "    </tr>\n",
       "  </thead>\n",
       "  <tbody>\n",
       "    <tr>\n",
       "      <th>203397</th>\n",
       "      <td>14</td>\n",
       "      <td>2</td>\n",
       "      <td>15</td>\n",
       "      <td>164</td>\n",
       "    </tr>\n",
       "    <tr>\n",
       "      <th>782910</th>\n",
       "      <td>53</td>\n",
       "      <td>2</td>\n",
       "      <td>11</td>\n",
       "      <td>96</td>\n",
       "    </tr>\n",
       "    <tr>\n",
       "      <th>2033910</th>\n",
       "      <td>137</td>\n",
       "      <td>2</td>\n",
       "      <td>10</td>\n",
       "      <td>247</td>\n",
       "    </tr>\n",
       "    <tr>\n",
       "      <th>453311</th>\n",
       "      <td>31</td>\n",
       "      <td>2</td>\n",
       "      <td>5</td>\n",
       "      <td>173</td>\n",
       "    </tr>\n",
       "    <tr>\n",
       "      <th>1146437</th>\n",
       "      <td>77</td>\n",
       "      <td>3</td>\n",
       "      <td>14</td>\n",
       "      <td>185</td>\n",
       "    </tr>\n",
       "  </tbody>\n",
       "</table>\n",
       "</div>"
      ],
      "text/plain": [
       "        Geography Gender Age Mother Tongue\n",
       "203397         14      2  15           164\n",
       "782910         53      2  11            96\n",
       "2033910       137      2  10           247\n",
       "453311         31      2   5           173\n",
       "1146437        77      3  14           185"
      ]
     },
     "execution_count": 36,
     "metadata": {},
     "output_type": "execute_result"
    }
   ],
   "source": [
    "X_names = list(X_train.columns)\n",
    "X_train.head()"
   ]
  },
  {
   "cell_type": "code",
   "execution_count": 38,
   "metadata": {},
   "outputs": [
    {
     "name": "stdout",
     "output_type": "stream",
     "text": [
      "Successfully trained the decision tree...\n"
     ]
    }
   ],
   "source": [
    "mtTree = MultiOutputClassifier(DecisionTreeClassifier(max_depth=8))\n",
    "mtTree=mtTree.fit(X_train,Y_train)\n",
    "print(\"Successfully trained the decision tree...\")"
   ]
  },
  {
   "cell_type": "code",
   "execution_count": 41,
   "metadata": {},
   "outputs": [
    {
     "data": {
      "text/plain": [
       "'\\nclass_values = dfFlatReduced[col_namesY].unique()\\nfeature_names = list(X_train.columns())\\ndot_data = export_graphviz(mtTree, out_file=None, feature_names=)\\n\\n\\ndot_data = export_graphviz(mtTree, \\n                           out_file=None, \\n                           filled=True, \\n                           special_characters= True, \\n                           class_names=col_namesY,\\n                           feature_names=X_names)\\ngraph = graphviz.Source(dot_data, format=\"png\")\\ngraph\\n'"
      ]
     },
     "execution_count": 41,
     "metadata": {},
     "output_type": "execute_result"
    }
   ],
   "source": [
    "'''\n",
    "class_values = dfFlatReduced[col_namesY].unique()\n",
    "feature_names = list(X_train.columns())\n",
    "dot_data = export_graphviz(mtTree, out_file=None, feature_names=)\n",
    "\n",
    "\n",
    "dot_data = export_graphviz(mtTree, \n",
    "                           out_file=None, \n",
    "                           filled=True, \n",
    "                           special_characters= True, \n",
    "                           class_names=col_namesY,\n",
    "                           feature_names=X_names)\n",
    "graph = graphviz.Source(dot_data, format=\"png\")\n",
    "graph\n",
    "'''"
   ]
  },
  {
   "cell_type": "code",
   "execution_count": 47,
   "metadata": {},
   "outputs": [
    {
     "data": {
      "text/plain": [
       "(91186, 4)"
      ]
     },
     "execution_count": 47,
     "metadata": {},
     "output_type": "execute_result"
    }
   ],
   "source": [
    "decision_pred = mtTree.predict(X_test)\n",
    "decision_pred.shape\n"
   ]
  },
  {
   "cell_type": "code",
   "execution_count": 45,
   "metadata": {},
   "outputs": [
    {
     "ename": "ValueError",
     "evalue": "multiclass-multioutput is not supported",
     "output_type": "error",
     "traceback": [
      "\u001b[0;31m---------------------------------------------------------------------------\u001b[0m",
      "\u001b[0;31mValueError\u001b[0m                                Traceback (most recent call last)",
      "\u001b[1;32m/home/grace/Documents/CapstoneProject/MotherTongues-Canada/Profiling.ipynb Cell 54\u001b[0m line \u001b[0;36m1\n\u001b[0;32m----> <a href='vscode-notebook-cell:/home/grace/Documents/CapstoneProject/MotherTongues-Canada/Profiling.ipynb#Y104sZmlsZQ%3D%3D?line=0'>1</a>\u001b[0m decision_matrix \u001b[39m=\u001b[39m multilabel_confusion_matrix(y_true\u001b[39m=\u001b[39mY_test,y_pred\u001b[39m=\u001b[39mdecision_pred)\n",
      "File \u001b[0;32m~/anaconda3/lib/python3.11/site-packages/sklearn/utils/_param_validation.py:211\u001b[0m, in \u001b[0;36mvalidate_params.<locals>.decorator.<locals>.wrapper\u001b[0;34m(*args, **kwargs)\u001b[0m\n\u001b[1;32m    205\u001b[0m \u001b[39mtry\u001b[39;00m:\n\u001b[1;32m    206\u001b[0m     \u001b[39mwith\u001b[39;00m config_context(\n\u001b[1;32m    207\u001b[0m         skip_parameter_validation\u001b[39m=\u001b[39m(\n\u001b[1;32m    208\u001b[0m             prefer_skip_nested_validation \u001b[39mor\u001b[39;00m global_skip_validation\n\u001b[1;32m    209\u001b[0m         )\n\u001b[1;32m    210\u001b[0m     ):\n\u001b[0;32m--> 211\u001b[0m         \u001b[39mreturn\u001b[39;00m func(\u001b[39m*\u001b[39margs, \u001b[39m*\u001b[39m\u001b[39m*\u001b[39mkwargs)\n\u001b[1;32m    212\u001b[0m \u001b[39mexcept\u001b[39;00m InvalidParameterError \u001b[39mas\u001b[39;00m e:\n\u001b[1;32m    213\u001b[0m     \u001b[39m# When the function is just a wrapper around an estimator, we allow\u001b[39;00m\n\u001b[1;32m    214\u001b[0m     \u001b[39m# the function to delegate validation to the estimator, but we replace\u001b[39;00m\n\u001b[1;32m    215\u001b[0m     \u001b[39m# the name of the estimator by the name of the function in the error\u001b[39;00m\n\u001b[1;32m    216\u001b[0m     \u001b[39m# message to avoid confusion.\u001b[39;00m\n\u001b[1;32m    217\u001b[0m     msg \u001b[39m=\u001b[39m re\u001b[39m.\u001b[39msub(\n\u001b[1;32m    218\u001b[0m         \u001b[39mr\u001b[39m\u001b[39m\"\u001b[39m\u001b[39mparameter of \u001b[39m\u001b[39m\\\u001b[39m\u001b[39mw+ must be\u001b[39m\u001b[39m\"\u001b[39m,\n\u001b[1;32m    219\u001b[0m         \u001b[39mf\u001b[39m\u001b[39m\"\u001b[39m\u001b[39mparameter of \u001b[39m\u001b[39m{\u001b[39;00mfunc\u001b[39m.\u001b[39m\u001b[39m__qualname__\u001b[39m\u001b[39m}\u001b[39;00m\u001b[39m must be\u001b[39m\u001b[39m\"\u001b[39m,\n\u001b[1;32m    220\u001b[0m         \u001b[39mstr\u001b[39m(e),\n\u001b[1;32m    221\u001b[0m     )\n",
      "File \u001b[0;32m~/anaconda3/lib/python3.11/site-packages/sklearn/metrics/_classification.py:505\u001b[0m, in \u001b[0;36mmultilabel_confusion_matrix\u001b[0;34m(y_true, y_pred, sample_weight, labels, samplewise)\u001b[0m\n\u001b[1;32m    395\u001b[0m \u001b[39m@validate_params\u001b[39m(\n\u001b[1;32m    396\u001b[0m     {\n\u001b[1;32m    397\u001b[0m         \u001b[39m\"\u001b[39m\u001b[39my_true\u001b[39m\u001b[39m\"\u001b[39m: [\u001b[39m\"\u001b[39m\u001b[39marray-like\u001b[39m\u001b[39m\"\u001b[39m, \u001b[39m\"\u001b[39m\u001b[39msparse matrix\u001b[39m\u001b[39m\"\u001b[39m],\n\u001b[0;32m   (...)\u001b[0m\n\u001b[1;32m    406\u001b[0m     y_true, y_pred, \u001b[39m*\u001b[39m, sample_weight\u001b[39m=\u001b[39m\u001b[39mNone\u001b[39;00m, labels\u001b[39m=\u001b[39m\u001b[39mNone\u001b[39;00m, samplewise\u001b[39m=\u001b[39m\u001b[39mFalse\u001b[39;00m\n\u001b[1;32m    407\u001b[0m ):\n\u001b[1;32m    408\u001b[0m \u001b[39m    \u001b[39m\u001b[39m\"\"\"Compute a confusion matrix for each class or sample.\u001b[39;00m\n\u001b[1;32m    409\u001b[0m \n\u001b[1;32m    410\u001b[0m \u001b[39m    .. versionadded:: 0.21\u001b[39;00m\n\u001b[0;32m   (...)\u001b[0m\n\u001b[1;32m    503\u001b[0m \u001b[39m            [1, 2]]])\u001b[39;00m\n\u001b[1;32m    504\u001b[0m \u001b[39m    \"\"\"\u001b[39;00m\n\u001b[0;32m--> 505\u001b[0m     y_type, y_true, y_pred \u001b[39m=\u001b[39m _check_targets(y_true, y_pred)\n\u001b[1;32m    506\u001b[0m     \u001b[39mif\u001b[39;00m sample_weight \u001b[39mis\u001b[39;00m \u001b[39mnot\u001b[39;00m \u001b[39mNone\u001b[39;00m:\n\u001b[1;32m    507\u001b[0m         sample_weight \u001b[39m=\u001b[39m column_or_1d(sample_weight)\n",
      "File \u001b[0;32m~/anaconda3/lib/python3.11/site-packages/sklearn/metrics/_classification.py:104\u001b[0m, in \u001b[0;36m_check_targets\u001b[0;34m(y_true, y_pred)\u001b[0m\n\u001b[1;32m    102\u001b[0m \u001b[39m# No metrics support \"multiclass-multioutput\" format\u001b[39;00m\n\u001b[1;32m    103\u001b[0m \u001b[39mif\u001b[39;00m y_type \u001b[39mnot\u001b[39;00m \u001b[39min\u001b[39;00m [\u001b[39m\"\u001b[39m\u001b[39mbinary\u001b[39m\u001b[39m\"\u001b[39m, \u001b[39m\"\u001b[39m\u001b[39mmulticlass\u001b[39m\u001b[39m\"\u001b[39m, \u001b[39m\"\u001b[39m\u001b[39mmultilabel-indicator\u001b[39m\u001b[39m\"\u001b[39m]:\n\u001b[0;32m--> 104\u001b[0m     \u001b[39mraise\u001b[39;00m \u001b[39mValueError\u001b[39;00m(\u001b[39m\"\u001b[39m\u001b[39m{0}\u001b[39;00m\u001b[39m is not supported\u001b[39m\u001b[39m\"\u001b[39m\u001b[39m.\u001b[39mformat(y_type))\n\u001b[1;32m    106\u001b[0m \u001b[39mif\u001b[39;00m y_type \u001b[39min\u001b[39;00m [\u001b[39m\"\u001b[39m\u001b[39mbinary\u001b[39m\u001b[39m\"\u001b[39m, \u001b[39m\"\u001b[39m\u001b[39mmulticlass\u001b[39m\u001b[39m\"\u001b[39m]:\n\u001b[1;32m    107\u001b[0m     y_true \u001b[39m=\u001b[39m column_or_1d(y_true)\n",
      "\u001b[0;31mValueError\u001b[0m: multiclass-multioutput is not supported"
     ]
    }
   ],
   "source": [
    "\n",
    "decision_matrix = multilabel_confusion_matrix(y_true=Y_test,y_pred=decision_pred)"
   ]
  },
  {
   "cell_type": "code",
   "execution_count": 54,
   "metadata": {},
   "outputs": [
    {
     "ename": "ValueError",
     "evalue": "y should be a 1d array, got an array of shape (820670, 4) instead.",
     "output_type": "error",
     "traceback": [
      "\u001b[0;31m---------------------------------------------------------------------------\u001b[0m",
      "\u001b[0;31mValueError\u001b[0m                                Traceback (most recent call last)",
      "\u001b[1;32m/home/grace/Documents/CapstoneProject/MotherTongues-Canada/Profiling.ipynb Cell 52\u001b[0m line \u001b[0;36m2\n\u001b[1;32m      <a href='vscode-notebook-cell:/home/grace/Documents/CapstoneProject/MotherTongues-Canada/Profiling.ipynb#X65sZmlsZQ%3D%3D?line=0'>1</a>\u001b[0m model \u001b[39m=\u001b[39m LogisticRegression(multi_class\u001b[39m=\u001b[39m\u001b[39m'\u001b[39m\u001b[39mmultinomial\u001b[39m\u001b[39m'\u001b[39m, solver\u001b[39m=\u001b[39m\u001b[39m'\u001b[39m\u001b[39mlbfgs\u001b[39m\u001b[39m'\u001b[39m, random_state\u001b[39m=\u001b[39m\u001b[39m42\u001b[39m)\n\u001b[0;32m----> <a href='vscode-notebook-cell:/home/grace/Documents/CapstoneProject/MotherTongues-Canada/Profiling.ipynb#X65sZmlsZQ%3D%3D?line=1'>2</a>\u001b[0m model\u001b[39m.\u001b[39mfit(X_train,Y_train)\n",
      "File \u001b[0;32m~/anaconda3/lib/python3.11/site-packages/sklearn/base.py:1151\u001b[0m, in \u001b[0;36m_fit_context.<locals>.decorator.<locals>.wrapper\u001b[0;34m(estimator, *args, **kwargs)\u001b[0m\n\u001b[1;32m   1144\u001b[0m     estimator\u001b[39m.\u001b[39m_validate_params()\n\u001b[1;32m   1146\u001b[0m \u001b[39mwith\u001b[39;00m config_context(\n\u001b[1;32m   1147\u001b[0m     skip_parameter_validation\u001b[39m=\u001b[39m(\n\u001b[1;32m   1148\u001b[0m         prefer_skip_nested_validation \u001b[39mor\u001b[39;00m global_skip_validation\n\u001b[1;32m   1149\u001b[0m     )\n\u001b[1;32m   1150\u001b[0m ):\n\u001b[0;32m-> 1151\u001b[0m     \u001b[39mreturn\u001b[39;00m fit_method(estimator, \u001b[39m*\u001b[39margs, \u001b[39m*\u001b[39m\u001b[39m*\u001b[39mkwargs)\n",
      "File \u001b[0;32m~/anaconda3/lib/python3.11/site-packages/sklearn/linear_model/_logistic.py:1207\u001b[0m, in \u001b[0;36mLogisticRegression.fit\u001b[0;34m(self, X, y, sample_weight)\u001b[0m\n\u001b[1;32m   1204\u001b[0m \u001b[39melse\u001b[39;00m:\n\u001b[1;32m   1205\u001b[0m     _dtype \u001b[39m=\u001b[39m [np\u001b[39m.\u001b[39mfloat64, np\u001b[39m.\u001b[39mfloat32]\n\u001b[0;32m-> 1207\u001b[0m X, y \u001b[39m=\u001b[39m \u001b[39mself\u001b[39m\u001b[39m.\u001b[39m_validate_data(\n\u001b[1;32m   1208\u001b[0m     X,\n\u001b[1;32m   1209\u001b[0m     y,\n\u001b[1;32m   1210\u001b[0m     accept_sparse\u001b[39m=\u001b[39m\u001b[39m\"\u001b[39m\u001b[39mcsr\u001b[39m\u001b[39m\"\u001b[39m,\n\u001b[1;32m   1211\u001b[0m     dtype\u001b[39m=\u001b[39m_dtype,\n\u001b[1;32m   1212\u001b[0m     order\u001b[39m=\u001b[39m\u001b[39m\"\u001b[39m\u001b[39mC\u001b[39m\u001b[39m\"\u001b[39m,\n\u001b[1;32m   1213\u001b[0m     accept_large_sparse\u001b[39m=\u001b[39msolver \u001b[39mnot\u001b[39;00m \u001b[39min\u001b[39;00m [\u001b[39m\"\u001b[39m\u001b[39mliblinear\u001b[39m\u001b[39m\"\u001b[39m, \u001b[39m\"\u001b[39m\u001b[39msag\u001b[39m\u001b[39m\"\u001b[39m, \u001b[39m\"\u001b[39m\u001b[39msaga\u001b[39m\u001b[39m\"\u001b[39m],\n\u001b[1;32m   1214\u001b[0m )\n\u001b[1;32m   1215\u001b[0m check_classification_targets(y)\n\u001b[1;32m   1216\u001b[0m \u001b[39mself\u001b[39m\u001b[39m.\u001b[39mclasses_ \u001b[39m=\u001b[39m np\u001b[39m.\u001b[39munique(y)\n",
      "File \u001b[0;32m~/anaconda3/lib/python3.11/site-packages/sklearn/base.py:621\u001b[0m, in \u001b[0;36mBaseEstimator._validate_data\u001b[0;34m(self, X, y, reset, validate_separately, cast_to_ndarray, **check_params)\u001b[0m\n\u001b[1;32m    619\u001b[0m         y \u001b[39m=\u001b[39m check_array(y, input_name\u001b[39m=\u001b[39m\u001b[39m\"\u001b[39m\u001b[39my\u001b[39m\u001b[39m\"\u001b[39m, \u001b[39m*\u001b[39m\u001b[39m*\u001b[39mcheck_y_params)\n\u001b[1;32m    620\u001b[0m     \u001b[39melse\u001b[39;00m:\n\u001b[0;32m--> 621\u001b[0m         X, y \u001b[39m=\u001b[39m check_X_y(X, y, \u001b[39m*\u001b[39m\u001b[39m*\u001b[39mcheck_params)\n\u001b[1;32m    622\u001b[0m     out \u001b[39m=\u001b[39m X, y\n\u001b[1;32m    624\u001b[0m \u001b[39mif\u001b[39;00m \u001b[39mnot\u001b[39;00m no_val_X \u001b[39mand\u001b[39;00m check_params\u001b[39m.\u001b[39mget(\u001b[39m\"\u001b[39m\u001b[39mensure_2d\u001b[39m\u001b[39m\"\u001b[39m, \u001b[39mTrue\u001b[39;00m):\n",
      "File \u001b[0;32m~/anaconda3/lib/python3.11/site-packages/sklearn/utils/validation.py:1163\u001b[0m, in \u001b[0;36mcheck_X_y\u001b[0;34m(X, y, accept_sparse, accept_large_sparse, dtype, order, copy, force_all_finite, ensure_2d, allow_nd, multi_output, ensure_min_samples, ensure_min_features, y_numeric, estimator)\u001b[0m\n\u001b[1;32m   1143\u001b[0m     \u001b[39mraise\u001b[39;00m \u001b[39mValueError\u001b[39;00m(\n\u001b[1;32m   1144\u001b[0m         \u001b[39mf\u001b[39m\u001b[39m\"\u001b[39m\u001b[39m{\u001b[39;00mestimator_name\u001b[39m}\u001b[39;00m\u001b[39m requires y to be passed, but the target y is None\u001b[39m\u001b[39m\"\u001b[39m\n\u001b[1;32m   1145\u001b[0m     )\n\u001b[1;32m   1147\u001b[0m X \u001b[39m=\u001b[39m check_array(\n\u001b[1;32m   1148\u001b[0m     X,\n\u001b[1;32m   1149\u001b[0m     accept_sparse\u001b[39m=\u001b[39maccept_sparse,\n\u001b[0;32m   (...)\u001b[0m\n\u001b[1;32m   1160\u001b[0m     input_name\u001b[39m=\u001b[39m\u001b[39m\"\u001b[39m\u001b[39mX\u001b[39m\u001b[39m\"\u001b[39m,\n\u001b[1;32m   1161\u001b[0m )\n\u001b[0;32m-> 1163\u001b[0m y \u001b[39m=\u001b[39m _check_y(y, multi_output\u001b[39m=\u001b[39mmulti_output, y_numeric\u001b[39m=\u001b[39my_numeric, estimator\u001b[39m=\u001b[39mestimator)\n\u001b[1;32m   1165\u001b[0m check_consistent_length(X, y)\n\u001b[1;32m   1167\u001b[0m \u001b[39mreturn\u001b[39;00m X, y\n",
      "File \u001b[0;32m~/anaconda3/lib/python3.11/site-packages/sklearn/utils/validation.py:1184\u001b[0m, in \u001b[0;36m_check_y\u001b[0;34m(y, multi_output, y_numeric, estimator)\u001b[0m\n\u001b[1;32m   1182\u001b[0m \u001b[39melse\u001b[39;00m:\n\u001b[1;32m   1183\u001b[0m     estimator_name \u001b[39m=\u001b[39m _check_estimator_name(estimator)\n\u001b[0;32m-> 1184\u001b[0m     y \u001b[39m=\u001b[39m column_or_1d(y, warn\u001b[39m=\u001b[39m\u001b[39mTrue\u001b[39;00m)\n\u001b[1;32m   1185\u001b[0m     _assert_all_finite(y, input_name\u001b[39m=\u001b[39m\u001b[39m\"\u001b[39m\u001b[39my\u001b[39m\u001b[39m\"\u001b[39m, estimator_name\u001b[39m=\u001b[39mestimator_name)\n\u001b[1;32m   1186\u001b[0m     _ensure_no_complex_data(y)\n",
      "File \u001b[0;32m~/anaconda3/lib/python3.11/site-packages/sklearn/utils/validation.py:1245\u001b[0m, in \u001b[0;36mcolumn_or_1d\u001b[0;34m(y, dtype, warn)\u001b[0m\n\u001b[1;32m   1234\u001b[0m         warnings\u001b[39m.\u001b[39mwarn(\n\u001b[1;32m   1235\u001b[0m             (\n\u001b[1;32m   1236\u001b[0m                 \u001b[39m\"\u001b[39m\u001b[39mA column-vector y was passed when a 1d array was\u001b[39m\u001b[39m\"\u001b[39m\n\u001b[0;32m   (...)\u001b[0m\n\u001b[1;32m   1241\u001b[0m             stacklevel\u001b[39m=\u001b[39m\u001b[39m2\u001b[39m,\n\u001b[1;32m   1242\u001b[0m         )\n\u001b[1;32m   1243\u001b[0m     \u001b[39mreturn\u001b[39;00m _asarray_with_order(xp\u001b[39m.\u001b[39mreshape(y, (\u001b[39m-\u001b[39m\u001b[39m1\u001b[39m,)), order\u001b[39m=\u001b[39m\u001b[39m\"\u001b[39m\u001b[39mC\u001b[39m\u001b[39m\"\u001b[39m, xp\u001b[39m=\u001b[39mxp)\n\u001b[0;32m-> 1245\u001b[0m \u001b[39mraise\u001b[39;00m \u001b[39mValueError\u001b[39;00m(\n\u001b[1;32m   1246\u001b[0m     \u001b[39m\"\u001b[39m\u001b[39my should be a 1d array, got an array of shape \u001b[39m\u001b[39m{}\u001b[39;00m\u001b[39m instead.\u001b[39m\u001b[39m\"\u001b[39m\u001b[39m.\u001b[39mformat(shape)\n\u001b[1;32m   1247\u001b[0m )\n",
      "\u001b[0;31mValueError\u001b[0m: y should be a 1d array, got an array of shape (820670, 4) instead."
     ]
    }
   ],
   "source": [
    "model = LogisticRegression(multi_class='multinomial', solver='lbfgs', random_state=42)\n",
    "model.fit(X_train,Y_train)"
   ]
  }
 ],
 "metadata": {
  "kernelspec": {
   "display_name": "base",
   "language": "python",
   "name": "python3"
  },
  "language_info": {
   "codemirror_mode": {
    "name": "ipython",
    "version": 3
   },
   "file_extension": ".py",
   "mimetype": "text/x-python",
   "name": "python",
   "nbconvert_exporter": "python",
   "pygments_lexer": "ipython3",
   "version": "3.11.4"
  },
  "orig_nbformat": 4
 },
 "nbformat": 4,
 "nbformat_minor": 2
}
