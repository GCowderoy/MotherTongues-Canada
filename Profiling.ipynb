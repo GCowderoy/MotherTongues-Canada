{
 "cells": [
  {
   "cell_type": "markdown",
   "metadata": {},
   "source": [
    "# Mother Tongues of Canada, by Knowledge of the official languages\n",
    "by Grace Cowderoy"
   ]
  },
  {
   "cell_type": "markdown",
   "metadata": {},
   "source": [
    "## Abstract\n",
    "Canada is a nation with two official languages: English and French. According to the 2021 Statistics Canada census, 98.2% of Canadian residents speak at least one of the official languages. However, only 74.5% of the population consider one of the official languages as their first language (L1), also called their mother tongue - the language first learnt in childhood. For the other 25.6% of people, their mother tongue is a non-official language. \n",
    "\n",
    "The dataset Table 98-10-0175-01  Mother tongue by knowledge of official languages: Canada, provinces and territories, census metropolitan areas and census agglomerations with parts provides data from the 2021 Statistics Canada census on the respondent’s mother tongue, age at the time of census, gender, knowledge of the two official languages, and their location within Canada. \n",
    "\n",
    "This study proposes to weigh the factors that influence the knowledge of each official language. Research questions include: Does living in a particular area influence a speaker of a non-official language towards English or French? Does any single mother tongue influence a speaker towards English or French? What influence does the age of the speaker have on knowledge of the official languages? \n",
    "\n",
    "Classification techniques will be used to identify groups that may be more likely to speak each of the official languages, both the official languages, and those more likely to speak neither official language. As the dataset is imbalanced due to more speakers of English than French, balancing techniques such as oversampling and undersampling will be used. \n"
   ]
  },
  {
   "cell_type": "markdown",
   "metadata": {},
   "source": [
    "## Introduction\n",
    "In Canada, the term ‘bilingual’ refers to speakers of both official languages, as opposed to the more general term where a speaker knows two different languages. The distribution of these bilingual speakers is not uniform across Canada, and neither is the distribution of speakers of non-official languages. \n",
    "\n",
    "The population of Canada has a variety of both indigenous and non-indigenous languages as their mother tongue. Canada is home to 81 living indigenous languages (Ethnologue), with many immigrants bringing their own native language to Canada. \n",
    "\n",
    "There are approximately 7,000 languages currently in use in the world (Ethnologue). These languages can be structured into families. English belongs to the Germanic branch of the Indo-European family, while French belongs to the Romance branch of the same family. It has been established that generally it is easier to acquire a second language (L2) when it is closely related to the learner’s first language (L1) (Gampe, A 2021). As such, within Canada, it may reasonably be expected that those speakers with an L1 more closely related to French would have greater knowledge of French. Another factor may be the location of the individual within Canada - policies in different provinces may promote one official language over another. The age of the individual can affect their language skills, as it is generally easier to acquire a second language in childhood compared to adulthood. Further, language policy in Canada has changed over time and varies between the provinces and territories, which suggests that age may be a factor in knowledge of the official languages depending on the policies in place over time. \n",
    "\n",
    "This is an investigation of the dataset Statistics Canada. Table 98-10-0175-01  Mother tongue by knowledge of official languages: Canada, provinces and territories, census metropolitan areas and census agglomerations with parts, https://doi.org/10.25318/9810017501-eng \n",
    "\n",
    "The dataset was released 2022-08-17 and comes from the 2021 Census of Population of Canada. Due to the recent release of the dataset, it does not yet appear to have been cited on Web of Science (As of 2023-10-07)\n",
    "\n",
    "The dataset has multiple dimensions, including age, gender, geographic location, mother tongue of respondent, respondent's knowledge of the official languages (French and English). These dimensions include aggregates as individual records, e.g. Canada as a record, Ontario, Toronto. Part of the data cleaning will involve converting these aggregations into their tree structures. "
   ]
  },
  {
   "cell_type": "markdown",
   "metadata": {},
   "source": [
    "Importing the required libraries, bringing in the dataset motherTongues Table 98-10-0175-01 and doing the initial exploratory data analysis. "
   ]
  },
  {
   "cell_type": "code",
   "execution_count": 3,
   "metadata": {},
   "outputs": [
    {
     "name": "stderr",
     "output_type": "stream",
     "text": [
      "/home/grace/anaconda3/lib/python3.11/site-packages/numba/core/decorators.py:262: NumbaDeprecationWarning: \u001b[1mnumba.generated_jit is deprecated. Please see the documentation at: https://numba.readthedocs.io/en/stable/reference/deprecation.html#deprecation-of-generated-jit for more information and advice on a suitable replacement.\u001b[0m\n",
      "  warnings.warn(msg, NumbaDeprecationWarning)\n",
      "/home/grace/anaconda3/lib/python3.11/site-packages/visions/backends/shared/nan_handling.py:50: NumbaDeprecationWarning: \u001b[1mThe 'nopython' keyword argument was not supplied to the 'numba.jit' decorator. The implicit default value for this argument is currently False, but it will be changed to True in Numba 0.59.0. See https://numba.readthedocs.io/en/stable/reference/deprecation.html#deprecation-of-object-mode-fall-back-behaviour-when-using-jit for details.\u001b[0m\n",
      "  @nb.jit\n"
     ]
    }
   ],
   "source": [
    "#Data Handling and Modeling Tools\n",
    "import pandas as pd\n",
    "import matplotlib.pyplot as plt\n",
    "import numpy as np\n",
    "from ydata_profiling import ProfileReport\n",
    "from ydata_profiling.model.typeset import ProfilingTypeSet\n",
    "from bigtree import dataframe_to_tree_by_relation\n",
    "from sklearn.preprocessing import MultiLabelBinarizer\n",
    "from sklearn.model_selection import train_test_split, KFold,cross_val_score,cross_validate\n",
    "from sklearn.tree import DecisionTreeRegressor, DecisionTreeClassifier, plot_tree, export_graphviz\n",
    "from sklearn.multioutput import MultiOutputClassifier, MultiOutputRegressor\n",
    "from sklearn.linear_model import LinearRegression\n",
    "from sklearn.ensemble import RandomForestRegressor\n",
    "from sklearn.metrics import mean_squared_error, mean_absolute_error, brier_score_loss, matthews_corrcoef\n",
    "from skmultilearn.model_selection import iterative_train_test_split\n",
    "from skmultilearn.model_selection.measures import get_combination_wise_output_matrix\n",
    "import graphviz"
   ]
  },
  {
   "cell_type": "code",
   "execution_count": 4,
   "metadata": {},
   "outputs": [],
   "source": [
    "#Benchmarking Tools\n",
    "import pyperformance\n",
    "import pyperf\n",
    "import memory_profiler\n",
    "from scipy.stats import ttest_ind"
   ]
  },
  {
   "cell_type": "code",
   "execution_count": 5,
   "metadata": {},
   "outputs": [],
   "source": [
    "%load_ext memory_profiler"
   ]
  },
  {
   "cell_type": "code",
   "execution_count": 6,
   "metadata": {},
   "outputs": [
    {
     "data": {
      "text/html": [
       "<div>\n",
       "<style scoped>\n",
       "    .dataframe tbody tr th:only-of-type {\n",
       "        vertical-align: middle;\n",
       "    }\n",
       "\n",
       "    .dataframe tbody tr th {\n",
       "        vertical-align: top;\n",
       "    }\n",
       "\n",
       "    .dataframe thead th {\n",
       "        text-align: right;\n",
       "    }\n",
       "</style>\n",
       "<table border=\"1\" class=\"dataframe\">\n",
       "  <thead>\n",
       "    <tr style=\"text-align: right;\">\n",
       "      <th></th>\n",
       "      <th>REF_DATE</th>\n",
       "      <th>Knowledge of official languages (5):Total - Knowledge of official languages[1]</th>\n",
       "      <th>Symbol</th>\n",
       "      <th>Knowledge of official languages (5):English only[2]</th>\n",
       "      <th>Symbol.1</th>\n",
       "      <th>Knowledge of official languages (5):French only[3]</th>\n",
       "      <th>Symbol.2</th>\n",
       "      <th>Knowledge of official languages (5):English and French[4]</th>\n",
       "      <th>Symbol.3</th>\n",
       "      <th>Knowledge of official languages (5):Neither English nor French[5]</th>\n",
       "      <th>Symbol.4</th>\n",
       "    </tr>\n",
       "  </thead>\n",
       "  <tbody>\n",
       "    <tr>\n",
       "      <th>count</th>\n",
       "      <td>2591730.0</td>\n",
       "      <td>2.591730e+06</td>\n",
       "      <td>0.0</td>\n",
       "      <td>2.591730e+06</td>\n",
       "      <td>0.0</td>\n",
       "      <td>2.591730e+06</td>\n",
       "      <td>0.0</td>\n",
       "      <td>2.591730e+06</td>\n",
       "      <td>0.0</td>\n",
       "      <td>2.591730e+06</td>\n",
       "      <td>0.0</td>\n",
       "    </tr>\n",
       "    <tr>\n",
       "      <th>mean</th>\n",
       "      <td>2021.0</td>\n",
       "      <td>1.067793e+03</td>\n",
       "      <td>NaN</td>\n",
       "      <td>7.499710e+02</td>\n",
       "      <td>NaN</td>\n",
       "      <td>1.010610e+02</td>\n",
       "      <td>NaN</td>\n",
       "      <td>1.881355e+02</td>\n",
       "      <td>NaN</td>\n",
       "      <td>2.855237e+01</td>\n",
       "      <td>NaN</td>\n",
       "    </tr>\n",
       "    <tr>\n",
       "      <th>std</th>\n",
       "      <td>0.0</td>\n",
       "      <td>6.512709e+04</td>\n",
       "      <td>NaN</td>\n",
       "      <td>4.737592e+04</td>\n",
       "      <td>NaN</td>\n",
       "      <td>1.002769e+04</td>\n",
       "      <td>NaN</td>\n",
       "      <td>1.314044e+04</td>\n",
       "      <td>NaN</td>\n",
       "      <td>1.603253e+03</td>\n",
       "      <td>NaN</td>\n",
       "    </tr>\n",
       "    <tr>\n",
       "      <th>min</th>\n",
       "      <td>2021.0</td>\n",
       "      <td>0.000000e+00</td>\n",
       "      <td>NaN</td>\n",
       "      <td>0.000000e+00</td>\n",
       "      <td>NaN</td>\n",
       "      <td>0.000000e+00</td>\n",
       "      <td>NaN</td>\n",
       "      <td>0.000000e+00</td>\n",
       "      <td>NaN</td>\n",
       "      <td>0.000000e+00</td>\n",
       "      <td>NaN</td>\n",
       "    </tr>\n",
       "    <tr>\n",
       "      <th>25%</th>\n",
       "      <td>2021.0</td>\n",
       "      <td>0.000000e+00</td>\n",
       "      <td>NaN</td>\n",
       "      <td>0.000000e+00</td>\n",
       "      <td>NaN</td>\n",
       "      <td>0.000000e+00</td>\n",
       "      <td>NaN</td>\n",
       "      <td>0.000000e+00</td>\n",
       "      <td>NaN</td>\n",
       "      <td>0.000000e+00</td>\n",
       "      <td>NaN</td>\n",
       "    </tr>\n",
       "    <tr>\n",
       "      <th>50%</th>\n",
       "      <td>2021.0</td>\n",
       "      <td>0.000000e+00</td>\n",
       "      <td>NaN</td>\n",
       "      <td>0.000000e+00</td>\n",
       "      <td>NaN</td>\n",
       "      <td>0.000000e+00</td>\n",
       "      <td>NaN</td>\n",
       "      <td>0.000000e+00</td>\n",
       "      <td>NaN</td>\n",
       "      <td>0.000000e+00</td>\n",
       "      <td>NaN</td>\n",
       "    </tr>\n",
       "    <tr>\n",
       "      <th>75%</th>\n",
       "      <td>2021.0</td>\n",
       "      <td>0.000000e+00</td>\n",
       "      <td>NaN</td>\n",
       "      <td>0.000000e+00</td>\n",
       "      <td>NaN</td>\n",
       "      <td>0.000000e+00</td>\n",
       "      <td>NaN</td>\n",
       "      <td>0.000000e+00</td>\n",
       "      <td>NaN</td>\n",
       "      <td>0.000000e+00</td>\n",
       "      <td>NaN</td>\n",
       "    </tr>\n",
       "    <tr>\n",
       "      <th>max</th>\n",
       "      <td>2021.0</td>\n",
       "      <td>3.662096e+07</td>\n",
       "      <td>NaN</td>\n",
       "      <td>2.526166e+07</td>\n",
       "      <td>NaN</td>\n",
       "      <td>4.087895e+06</td>\n",
       "      <td>NaN</td>\n",
       "      <td>6.581680e+06</td>\n",
       "      <td>NaN</td>\n",
       "      <td>6.897250e+05</td>\n",
       "      <td>NaN</td>\n",
       "    </tr>\n",
       "  </tbody>\n",
       "</table>\n",
       "</div>"
      ],
      "text/plain": [
       "        REF_DATE  \\\n",
       "count  2591730.0   \n",
       "mean      2021.0   \n",
       "std          0.0   \n",
       "min       2021.0   \n",
       "25%       2021.0   \n",
       "50%       2021.0   \n",
       "75%       2021.0   \n",
       "max       2021.0   \n",
       "\n",
       "       Knowledge of official languages (5):Total - Knowledge of official languages[1]  \\\n",
       "count                                       2.591730e+06                                \n",
       "mean                                        1.067793e+03                                \n",
       "std                                         6.512709e+04                                \n",
       "min                                         0.000000e+00                                \n",
       "25%                                         0.000000e+00                                \n",
       "50%                                         0.000000e+00                                \n",
       "75%                                         0.000000e+00                                \n",
       "max                                         3.662096e+07                                \n",
       "\n",
       "       Symbol  Knowledge of official languages (5):English only[2]  Symbol.1  \\\n",
       "count     0.0                                       2.591730e+06         0.0   \n",
       "mean      NaN                                       7.499710e+02         NaN   \n",
       "std       NaN                                       4.737592e+04         NaN   \n",
       "min       NaN                                       0.000000e+00         NaN   \n",
       "25%       NaN                                       0.000000e+00         NaN   \n",
       "50%       NaN                                       0.000000e+00         NaN   \n",
       "75%       NaN                                       0.000000e+00         NaN   \n",
       "max       NaN                                       2.526166e+07         NaN   \n",
       "\n",
       "       Knowledge of official languages (5):French only[3]  Symbol.2  \\\n",
       "count                                       2.591730e+06        0.0   \n",
       "mean                                        1.010610e+02        NaN   \n",
       "std                                         1.002769e+04        NaN   \n",
       "min                                         0.000000e+00        NaN   \n",
       "25%                                         0.000000e+00        NaN   \n",
       "50%                                         0.000000e+00        NaN   \n",
       "75%                                         0.000000e+00        NaN   \n",
       "max                                         4.087895e+06        NaN   \n",
       "\n",
       "       Knowledge of official languages (5):English and French[4]  Symbol.3  \\\n",
       "count                                       2.591730e+06               0.0   \n",
       "mean                                        1.881355e+02               NaN   \n",
       "std                                         1.314044e+04               NaN   \n",
       "min                                         0.000000e+00               NaN   \n",
       "25%                                         0.000000e+00               NaN   \n",
       "50%                                         0.000000e+00               NaN   \n",
       "75%                                         0.000000e+00               NaN   \n",
       "max                                         6.581680e+06               NaN   \n",
       "\n",
       "       Knowledge of official languages (5):Neither English nor French[5]  \\\n",
       "count                                       2.591730e+06                   \n",
       "mean                                        2.855237e+01                   \n",
       "std                                         1.603253e+03                   \n",
       "min                                         0.000000e+00                   \n",
       "25%                                         0.000000e+00                   \n",
       "50%                                         0.000000e+00                   \n",
       "75%                                         0.000000e+00                   \n",
       "max                                         6.897250e+05                   \n",
       "\n",
       "       Symbol.4  \n",
       "count       0.0  \n",
       "mean        NaN  \n",
       "std         NaN  \n",
       "min         NaN  \n",
       "25%         NaN  \n",
       "50%         NaN  \n",
       "75%         NaN  \n",
       "max         NaN  "
      ]
     },
     "execution_count": 6,
     "metadata": {},
     "output_type": "execute_result"
    }
   ],
   "source": [
    "motherTongues_filepath = '/home/grace/Documents/CapstoneProject/MotherTongues/98100175.csv'\n",
    "motherTongues_data = pd.read_csv(motherTongues_filepath)\n",
    "motherTongues_data.describe()"
   ]
  },
  {
   "cell_type": "code",
   "execution_count": 7,
   "metadata": {},
   "outputs": [
    {
     "name": "stdout",
     "output_type": "stream",
     "text": [
      "2591730\n"
     ]
    },
    {
     "data": {
      "text/plain": [
       "['REF_DATE',\n",
       " 'GEO',\n",
       " 'DGUID',\n",
       " 'Gender (3)',\n",
       " 'Age (15A)',\n",
       " 'Mother tongue (331)',\n",
       " 'Coordinate',\n",
       " 'Knowledge of official languages (5):Total - Knowledge of official languages[1]',\n",
       " 'Symbol',\n",
       " 'Knowledge of official languages (5):English only[2]',\n",
       " 'Symbol.1',\n",
       " 'Knowledge of official languages (5):French only[3]',\n",
       " 'Symbol.2',\n",
       " 'Knowledge of official languages (5):English and French[4]',\n",
       " 'Symbol.3',\n",
       " 'Knowledge of official languages (5):Neither English nor French[5]',\n",
       " 'Symbol.4']"
      ]
     },
     "execution_count": 7,
     "metadata": {},
     "output_type": "execute_result"
    }
   ],
   "source": [
    "print(len(motherTongues_data))\n",
    "list(motherTongues_data.columns)"
   ]
  },
  {
   "cell_type": "code",
   "execution_count": 8,
   "metadata": {},
   "outputs": [
    {
     "name": "stdout",
     "output_type": "stream",
     "text": [
      "<class 'pandas.core.frame.DataFrame'>\n",
      "RangeIndex: 2591730 entries, 0 to 2591729\n",
      "Data columns (total 17 columns):\n",
      " #   Column                                                                          Dtype  \n",
      "---  ------                                                                          -----  \n",
      " 0   REF_DATE                                                                        int64  \n",
      " 1   GEO                                                                             object \n",
      " 2   DGUID                                                                           object \n",
      " 3   Gender (3)                                                                      object \n",
      " 4   Age (15A)                                                                       object \n",
      " 5   Mother tongue (331)                                                             object \n",
      " 6   Coordinate                                                                      object \n",
      " 7   Knowledge of official languages (5):Total - Knowledge of official languages[1]  int64  \n",
      " 8   Symbol                                                                          float64\n",
      " 9   Knowledge of official languages (5):English only[2]                             int64  \n",
      " 10  Symbol.1                                                                        float64\n",
      " 11  Knowledge of official languages (5):French only[3]                              int64  \n",
      " 12  Symbol.2                                                                        float64\n",
      " 13  Knowledge of official languages (5):English and French[4]                       int64  \n",
      " 14  Symbol.3                                                                        float64\n",
      " 15  Knowledge of official languages (5):Neither English nor French[5]               int64  \n",
      " 16  Symbol.4                                                                        float64\n",
      "dtypes: float64(5), int64(6), object(6)\n",
      "memory usage: 336.1+ MB\n"
     ]
    }
   ],
   "source": [
    "motherTongues_data.info()"
   ]
  },
  {
   "cell_type": "code",
   "execution_count": 9,
   "metadata": {},
   "outputs": [],
   "source": [
    "genderList = motherTongues_data[\"Gender (3)\"].unique()\n"
   ]
  },
  {
   "cell_type": "code",
   "execution_count": 10,
   "metadata": {},
   "outputs": [],
   "source": [
    "profile = ProfileReport(motherTongues_data, title = \"Profiling Report\", explorative=True)\n",
    "##profile"
   ]
  },
  {
   "cell_type": "code",
   "execution_count": 11,
   "metadata": {},
   "outputs": [],
   "source": [
    "#profile.to_file('/home/grace/Documents/CapstoneProject/MotherTongues-Canada/EDA.html')\n"
   ]
  },
  {
   "cell_type": "markdown",
   "metadata": {},
   "source": [
    "The YData Profiling identified a number of empty features and some uniform features. These will be handled in the next steps and YData Profile will be run again. "
   ]
  },
  {
   "cell_type": "code",
   "execution_count": 12,
   "metadata": {},
   "outputs": [
    {
     "data": {
      "text/plain": [
       "REF_DATE                                                                                0\n",
       "GEO                                                                                     0\n",
       "DGUID                                                                                   0\n",
       "Gender (3)                                                                              0\n",
       "Age (15A)                                                                               0\n",
       "Mother tongue (331)                                                                     0\n",
       "Coordinate                                                                              0\n",
       "Knowledge of official languages (5):Total - Knowledge of official languages[1]          0\n",
       "Symbol                                                                            2591730\n",
       "Knowledge of official languages (5):English only[2]                                     0\n",
       "Symbol.1                                                                          2591730\n",
       "Knowledge of official languages (5):French only[3]                                      0\n",
       "Symbol.2                                                                          2591730\n",
       "Knowledge of official languages (5):English and French[4]                               0\n",
       "Symbol.3                                                                          2591730\n",
       "Knowledge of official languages (5):Neither English nor French[5]                       0\n",
       "Symbol.4                                                                          2591730\n",
       "dtype: int64"
      ]
     },
     "execution_count": 12,
     "metadata": {},
     "output_type": "execute_result"
    }
   ],
   "source": [
    "motherTongues_data.isnull().sum()"
   ]
  },
  {
   "cell_type": "code",
   "execution_count": 13,
   "metadata": {},
   "outputs": [
    {
     "data": {
      "text/plain": [
       "['REF_DATE',\n",
       " 'GEO',\n",
       " 'DGUID',\n",
       " 'Gender (3)',\n",
       " 'Age (15A)',\n",
       " 'Mother tongue (331)',\n",
       " 'Coordinate',\n",
       " 'Knowledge of official languages (5):Total - Knowledge of official languages[1]',\n",
       " 'Knowledge of official languages (5):English only[2]',\n",
       " 'Knowledge of official languages (5):French only[3]',\n",
       " 'Knowledge of official languages (5):English and French[4]',\n",
       " 'Knowledge of official languages (5):Neither English nor French[5]']"
      ]
     },
     "execution_count": 13,
     "metadata": {},
     "output_type": "execute_result"
    }
   ],
   "source": [
    "df = motherTongues_data[[c for c in motherTongues_data.columns if 'Symbol' not in c]]\n",
    "list(df.columns)"
   ]
  },
  {
   "cell_type": "code",
   "execution_count": 14,
   "metadata": {},
   "outputs": [],
   "source": [
    "df=df.loc[:,df.columns != 'REF_DATE']\n",
    "df=df.loc[:,df.columns != 'DGUID']"
   ]
  },
  {
   "cell_type": "code",
   "execution_count": 15,
   "metadata": {},
   "outputs": [
    {
     "data": {
      "text/plain": [
       "GEO                                                                               0\n",
       "Gender (3)                                                                        0\n",
       "Age (15A)                                                                         0\n",
       "Mother tongue (331)                                                               0\n",
       "Coordinate                                                                        0\n",
       "Knowledge of official languages (5):Total - Knowledge of official languages[1]    0\n",
       "Knowledge of official languages (5):English only[2]                               0\n",
       "Knowledge of official languages (5):French only[3]                                0\n",
       "Knowledge of official languages (5):English and French[4]                         0\n",
       "Knowledge of official languages (5):Neither English nor French[5]                 0\n",
       "dtype: int64"
      ]
     },
     "execution_count": 15,
     "metadata": {},
     "output_type": "execute_result"
    }
   ],
   "source": [
    "df.isnull().sum()"
   ]
  },
  {
   "cell_type": "code",
   "execution_count": 16,
   "metadata": {},
   "outputs": [],
   "source": [
    "profileDF = ProfileReport(df, title = \"Profiling Report (Reduced)\", explorative=True)\n",
    "#profileDF.to_file('/home/grace/Documents/CapstoneProject/MotherTongues-Canada/EDA-reduced.html')"
   ]
  },
  {
   "cell_type": "code",
   "execution_count": 17,
   "metadata": {},
   "outputs": [
    {
     "data": {
      "text/plain": [
       "['GEO',\n",
       " 'Gender (3)',\n",
       " 'Age (15A)',\n",
       " 'Mother tongue (331)',\n",
       " 'Coordinate',\n",
       " 'Knowledge of official languages (5):Total - Knowledge of official languages[1]',\n",
       " 'Knowledge of official languages (5):English only[2]',\n",
       " 'Knowledge of official languages (5):French only[3]',\n",
       " 'Knowledge of official languages (5):English and French[4]',\n",
       " 'Knowledge of official languages (5):Neither English nor French[5]']"
      ]
     },
     "execution_count": 17,
     "metadata": {},
     "output_type": "execute_result"
    }
   ],
   "source": [
    "list(df.columns)"
   ]
  },
  {
   "cell_type": "markdown",
   "metadata": {},
   "source": [
    "The dataset includes aggregations as individual rows. The features 'Knowledge of Official languages' for Single responses (row 1, coordinate 1.1.1.2) is the sum of row 2 and row 5 - Official languages and Non-official languages respectively. Part of the data cleaning will require separating out these aggregations. \n",
    "\n",
    "Upon reviewing the metadata - each Geographical area has a unique member ID and is listed with its parent Member ID. \n",
    "E.g. Canada has ID 1; Nova Scotia has ID 10 and parent ID 1; and Halifax has ID 12 and parent member 10 (Nova Scotia)\n",
    "\n",
    "Similarly for age - Total Age has ID 1; 25 to 64 years has ID 9 and parent ID 1; 25 to 34 years has ID 10 and parent ID 9. \n",
    "\n",
    "Mother tongues, Gender, knowledge of official languages have similar encoding available in the metadata. \n",
    "\n",
    "The next sections will review the tree hierarchies for the independent variables and flatten them to reduce dimensionality. "
   ]
  },
  {
   "cell_type": "code",
   "execution_count": 18,
   "metadata": {},
   "outputs": [
    {
     "data": {
      "text/html": [
       "<div>\n",
       "<style scoped>\n",
       "    .dataframe tbody tr th:only-of-type {\n",
       "        vertical-align: middle;\n",
       "    }\n",
       "\n",
       "    .dataframe tbody tr th {\n",
       "        vertical-align: top;\n",
       "    }\n",
       "\n",
       "    .dataframe thead th {\n",
       "        text-align: right;\n",
       "    }\n",
       "</style>\n",
       "<table border=\"1\" class=\"dataframe\">\n",
       "  <thead>\n",
       "    <tr style=\"text-align: right;\">\n",
       "      <th></th>\n",
       "      <th>GEO</th>\n",
       "      <th>Gender (3)</th>\n",
       "      <th>Age (15A)</th>\n",
       "      <th>Mother tongue (331)</th>\n",
       "      <th>Coordinate</th>\n",
       "      <th>Knowledge of official languages (5):Total - Knowledge of official languages[1]</th>\n",
       "      <th>Knowledge of official languages (5):English only[2]</th>\n",
       "      <th>Knowledge of official languages (5):French only[3]</th>\n",
       "      <th>Knowledge of official languages (5):English and French[4]</th>\n",
       "      <th>Knowledge of official languages (5):Neither English nor French[5]</th>\n",
       "    </tr>\n",
       "  </thead>\n",
       "  <tbody>\n",
       "    <tr>\n",
       "      <th>0</th>\n",
       "      <td>Canada</td>\n",
       "      <td>Total - Gender</td>\n",
       "      <td>Total - Age</td>\n",
       "      <td>Total - Mother tongue</td>\n",
       "      <td>1.1.1.1</td>\n",
       "      <td>36620955</td>\n",
       "      <td>25261655</td>\n",
       "      <td>4087895</td>\n",
       "      <td>6581680</td>\n",
       "      <td>689725</td>\n",
       "    </tr>\n",
       "    <tr>\n",
       "      <th>1</th>\n",
       "      <td>Canada</td>\n",
       "      <td>Total - Gender</td>\n",
       "      <td>Total - Age</td>\n",
       "      <td>Single responses</td>\n",
       "      <td>1.1.1.2</td>\n",
       "      <td>35145265</td>\n",
       "      <td>24306165</td>\n",
       "      <td>4029960</td>\n",
       "      <td>6130560</td>\n",
       "      <td>678580</td>\n",
       "    </tr>\n",
       "    <tr>\n",
       "      <th>2</th>\n",
       "      <td>Canada</td>\n",
       "      <td>Total - Gender</td>\n",
       "      <td>Total - Age</td>\n",
       "      <td>Official languages</td>\n",
       "      <td>1.1.1.3</td>\n",
       "      <td>27296445</td>\n",
       "      <td>18325325</td>\n",
       "      <td>3734010</td>\n",
       "      <td>5226490</td>\n",
       "      <td>10620</td>\n",
       "    </tr>\n",
       "    <tr>\n",
       "      <th>3</th>\n",
       "      <td>Canada</td>\n",
       "      <td>Total - Gender</td>\n",
       "      <td>Total - Age</td>\n",
       "      <td>English</td>\n",
       "      <td>1.1.1.4</td>\n",
       "      <td>20107200</td>\n",
       "      <td>18285580</td>\n",
       "      <td>5990</td>\n",
       "      <td>1806605</td>\n",
       "      <td>9025</td>\n",
       "    </tr>\n",
       "    <tr>\n",
       "      <th>4</th>\n",
       "      <td>Canada</td>\n",
       "      <td>Total - Gender</td>\n",
       "      <td>Total - Age</td>\n",
       "      <td>French</td>\n",
       "      <td>1.1.1.5</td>\n",
       "      <td>7189245</td>\n",
       "      <td>39740</td>\n",
       "      <td>3728020</td>\n",
       "      <td>3419880</td>\n",
       "      <td>1595</td>\n",
       "    </tr>\n",
       "    <tr>\n",
       "      <th>5</th>\n",
       "      <td>Canada</td>\n",
       "      <td>Total - Gender</td>\n",
       "      <td>Total - Age</td>\n",
       "      <td>Non-official languages</td>\n",
       "      <td>1.1.1.6</td>\n",
       "      <td>7848820</td>\n",
       "      <td>5980845</td>\n",
       "      <td>295950</td>\n",
       "      <td>904065</td>\n",
       "      <td>667955</td>\n",
       "    </tr>\n",
       "    <tr>\n",
       "      <th>6</th>\n",
       "      <td>Canada</td>\n",
       "      <td>Total - Gender</td>\n",
       "      <td>Total - Age</td>\n",
       "      <td>Indigenous languages</td>\n",
       "      <td>1.1.1.7</td>\n",
       "      <td>148895</td>\n",
       "      <td>123580</td>\n",
       "      <td>10995</td>\n",
       "      <td>8785</td>\n",
       "      <td>5535</td>\n",
       "    </tr>\n",
       "    <tr>\n",
       "      <th>7</th>\n",
       "      <td>Canada</td>\n",
       "      <td>Total - Gender</td>\n",
       "      <td>Total - Age</td>\n",
       "      <td>Algonquian languages</td>\n",
       "      <td>1.1.1.8</td>\n",
       "      <td>97125</td>\n",
       "      <td>79020</td>\n",
       "      <td>10730</td>\n",
       "      <td>5625</td>\n",
       "      <td>1760</td>\n",
       "    </tr>\n",
       "  </tbody>\n",
       "</table>\n",
       "</div>"
      ],
      "text/plain": [
       "      GEO      Gender (3)    Age (15A)     Mother tongue (331) Coordinate  \\\n",
       "0  Canada  Total - Gender  Total - Age   Total - Mother tongue    1.1.1.1   \n",
       "1  Canada  Total - Gender  Total - Age        Single responses    1.1.1.2   \n",
       "2  Canada  Total - Gender  Total - Age      Official languages    1.1.1.3   \n",
       "3  Canada  Total - Gender  Total - Age                 English    1.1.1.4   \n",
       "4  Canada  Total - Gender  Total - Age                  French    1.1.1.5   \n",
       "5  Canada  Total - Gender  Total - Age  Non-official languages    1.1.1.6   \n",
       "6  Canada  Total - Gender  Total - Age    Indigenous languages    1.1.1.7   \n",
       "7  Canada  Total - Gender  Total - Age    Algonquian languages    1.1.1.8   \n",
       "\n",
       "   Knowledge of official languages (5):Total - Knowledge of official languages[1]  \\\n",
       "0                                           36620955                                \n",
       "1                                           35145265                                \n",
       "2                                           27296445                                \n",
       "3                                           20107200                                \n",
       "4                                            7189245                                \n",
       "5                                            7848820                                \n",
       "6                                             148895                                \n",
       "7                                              97125                                \n",
       "\n",
       "   Knowledge of official languages (5):English only[2]  \\\n",
       "0                                           25261655     \n",
       "1                                           24306165     \n",
       "2                                           18325325     \n",
       "3                                           18285580     \n",
       "4                                              39740     \n",
       "5                                            5980845     \n",
       "6                                             123580     \n",
       "7                                              79020     \n",
       "\n",
       "   Knowledge of official languages (5):French only[3]  \\\n",
       "0                                            4087895    \n",
       "1                                            4029960    \n",
       "2                                            3734010    \n",
       "3                                               5990    \n",
       "4                                            3728020    \n",
       "5                                             295950    \n",
       "6                                              10995    \n",
       "7                                              10730    \n",
       "\n",
       "   Knowledge of official languages (5):English and French[4]  \\\n",
       "0                                            6581680           \n",
       "1                                            6130560           \n",
       "2                                            5226490           \n",
       "3                                            1806605           \n",
       "4                                            3419880           \n",
       "5                                             904065           \n",
       "6                                               8785           \n",
       "7                                               5625           \n",
       "\n",
       "   Knowledge of official languages (5):Neither English nor French[5]  \n",
       "0                                             689725                  \n",
       "1                                             678580                  \n",
       "2                                              10620                  \n",
       "3                                               9025                  \n",
       "4                                               1595                  \n",
       "5                                             667955                  \n",
       "6                                               5535                  \n",
       "7                                               1760                  "
      ]
     },
     "execution_count": 18,
     "metadata": {},
     "output_type": "execute_result"
    }
   ],
   "source": [
    "df.head(n=8)"
   ]
  },
  {
   "cell_type": "markdown",
   "metadata": {},
   "source": [
    "The following section brings in the metadata files as individual dataframes. The metadata provides the id of the element and the id of the parent element. Any element that is listed with an ID that is not in the Parent ID column thus is not an aggregation. Each data element is labelled as being a parent or not. This equates to True whenever it appears in the Parent ID list and False when it does not. This will allow us to consider those values that are not aggregations. "
   ]
  },
  {
   "cell_type": "code",
   "execution_count": 19,
   "metadata": {},
   "outputs": [
    {
     "name": "stderr",
     "output_type": "stream",
     "text": [
      "/tmp/ipykernel_34980/4052823195.py:9: SettingWithCopyWarning: \n",
      "A value is trying to be set on a copy of a slice from a DataFrame.\n",
      "Try using .loc[row_indexer,col_indexer] = value instead\n",
      "\n",
      "See the caveats in the documentation: https://pandas.pydata.org/pandas-docs/stable/user_guide/indexing.html#returning-a-view-versus-a-copy\n",
      "  geoReduced['Is Parent Loc'] = isParent\n"
     ]
    },
    {
     "data": {
      "text/html": [
       "<div>\n",
       "<style scoped>\n",
       "    .dataframe tbody tr th:only-of-type {\n",
       "        vertical-align: middle;\n",
       "    }\n",
       "\n",
       "    .dataframe tbody tr th {\n",
       "        vertical-align: top;\n",
       "    }\n",
       "\n",
       "    .dataframe thead th {\n",
       "        text-align: right;\n",
       "    }\n",
       "</style>\n",
       "<table border=\"1\" class=\"dataframe\">\n",
       "  <thead>\n",
       "    <tr style=\"text-align: right;\">\n",
       "      <th></th>\n",
       "      <th>Member Name</th>\n",
       "      <th>Member ID</th>\n",
       "      <th>Parent Member ID</th>\n",
       "      <th>Is Parent Loc</th>\n",
       "    </tr>\n",
       "  </thead>\n",
       "  <tbody>\n",
       "    <tr>\n",
       "      <th>2</th>\n",
       "      <td>Corner Brook (CA), N.L.</td>\n",
       "      <td>3</td>\n",
       "      <td>2.0</td>\n",
       "      <td>False</td>\n",
       "    </tr>\n",
       "    <tr>\n",
       "      <th>3</th>\n",
       "      <td>Gander (CA), N.L.</td>\n",
       "      <td>4</td>\n",
       "      <td>2.0</td>\n",
       "      <td>False</td>\n",
       "    </tr>\n",
       "    <tr>\n",
       "      <th>4</th>\n",
       "      <td>Grand Falls-Windsor (CA), N.L.</td>\n",
       "      <td>5</td>\n",
       "      <td>2.0</td>\n",
       "      <td>False</td>\n",
       "    </tr>\n",
       "    <tr>\n",
       "      <th>5</th>\n",
       "      <td>St. John's (CMA), N.L.</td>\n",
       "      <td>6</td>\n",
       "      <td>2.0</td>\n",
       "      <td>False</td>\n",
       "    </tr>\n",
       "    <tr>\n",
       "      <th>7</th>\n",
       "      <td>Charlottetown (CA), P.E.I.</td>\n",
       "      <td>8</td>\n",
       "      <td>7.0</td>\n",
       "      <td>False</td>\n",
       "    </tr>\n",
       "  </tbody>\n",
       "</table>\n",
       "</div>"
      ],
      "text/plain": [
       "                      Member Name  Member ID  Parent Member ID  Is Parent Loc\n",
       "2         Corner Brook (CA), N.L.          3               2.0          False\n",
       "3               Gander (CA), N.L.          4               2.0          False\n",
       "4  Grand Falls-Windsor (CA), N.L.          5               2.0          False\n",
       "5          St. John's (CMA), N.L.          6               2.0          False\n",
       "7      Charlottetown (CA), P.E.I.          8               7.0          False"
      ]
     },
     "execution_count": 19,
     "metadata": {},
     "output_type": "execute_result"
    }
   ],
   "source": [
    "motherTonguesMeta_filepath = '/home/grace/Documents/CapstoneProject/MotherTongues-Canada/MetaData_Geography.csv'\n",
    "geoData = pd.read_csv(motherTonguesMeta_filepath)\n",
    "\n",
    "#geoData.head()\n",
    "geoReduced = geoData[['Member Name','Member ID','Parent Member ID']]\n",
    "\n",
    "isParent = geoReduced['Member ID'].isin(geoReduced['Parent Member ID'])\n",
    "\n",
    "geoReduced['Is Parent Loc'] = isParent\n",
    "\n",
    "#geoReduced.tail()\n",
    "censusMA = geoReduced.loc[geoReduced['Is Parent Loc']== False]\n",
    "\n",
    "censusMA.head()"
   ]
  },
  {
   "cell_type": "markdown",
   "metadata": {},
   "source": [
    "This following section shows the hierarchical structure of the GEO attribute - the geographical location within Canada. Note that CMA refers to Census Metropolitan Area while CA refers to Census Agglomeration. https://www12.statcan.gc.ca/census-recensement/2021/ref/dict/az/Definition-eng.cfm?ID=geo009 "
   ]
  },
  {
   "cell_type": "code",
   "execution_count": 20,
   "metadata": {},
   "outputs": [
    {
     "name": "stdout",
     "output_type": "stream",
     "text": [
      "1 [Member Name=Canada]\n",
      "├── 2 [Member Name=Newfoundland and Labrador]\n",
      "│   ├── 3 [Member Name=Corner Brook (CA), N.L.]\n",
      "│   ├── 4 [Member Name=Gander (CA), N.L.]\n",
      "│   ├── 5 [Member Name=Grand Falls-Windsor (CA), N.L.]\n",
      "│   └── 6 [Member Name=St. John's (CMA), N.L.]\n",
      "├── 7 [Member Name=Prince Edward Island]\n",
      "│   ├── 8 [Member Name=Charlottetown (CA), P.E.I.]\n",
      "│   └── 9 [Member Name=Summerside (CA), P.E.I.]\n",
      "├── 10 [Member Name=Nova Scotia]\n",
      "│   ├── 11 [Member Name=Cape Breton (CA), N.S.]\n",
      "│   ├── 12 [Member Name=Halifax (CMA), N.S.]\n",
      "│   ├── 13 [Member Name=Kentville (CA), N.S.]\n",
      "│   ├── 14 [Member Name=New Glasgow (CA), N.S.]\n",
      "│   └── 15 [Member Name=Truro (CA), N.S.]\n",
      "├── 16 [Member Name=New Brunswick]\n",
      "│   ├── 17 [Member Name=Bathurst (CA), N.B.]\n",
      "│   ├── 18 [Member Name=Campbellton (CA), N.B./Que.]\n",
      "│   │   ├── 19 [Member Name=Campbellton (New Brunswick part) (CA), N.B.]\n",
      "│   │   └── 20 [Member Name=Campbellton (Quebec part) (CA), Que.]\n",
      "│   ├── 21 [Member Name=Edmundston (CA), N.B.]\n",
      "│   ├── 22 [Member Name=Fredericton (CMA), N.B.]\n",
      "│   ├── 23 [Member Name=Miramichi (CA), N.B.]\n",
      "│   ├── 24 [Member Name=Moncton (CMA), N.B.]\n",
      "│   └── 25 [Member Name=Saint John (CMA), N.B.]\n",
      "├── 26 [Member Name=Quebec]\n",
      "│   ├── 27 [Member Name=Alma (CA), Que.]\n",
      "│   ├── 28 [Member Name=Amos (CA), Que.]\n",
      "│   ├── 29 [Member Name=Baie-Comeau (CA), Que.]\n",
      "│   ├── 30 [Member Name=Cowansville (CA), Que.]\n",
      "│   ├── 31 [Member Name=Dolbeau-Mistassini (CA), Que.]\n",
      "│   ├── 32 [Member Name=Drummondville (CMA), Que.]\n",
      "│   ├── 33 [Member Name=Granby (CA), Que.]\n",
      "│   ├── 34 [Member Name=Joliette (CA), Que.]\n",
      "│   ├── 35 [Member Name=Lachute (CA), Que.]\n",
      "│   ├── 36 [Member Name=Matane (CA), Que.]\n",
      "│   ├── 37 [Member Name=Montréal (CMA), Que.]\n",
      "│   ├── 38 [Member Name=Québec (CMA), Que.]\n",
      "│   ├── 39 [Member Name=Rimouski (CA), Que.]\n",
      "│   ├── 40 [Member Name=Rivière-du-Loup (CA), Que.]\n",
      "│   ├── 41 [Member Name=Rouyn-Noranda (CA), Que.]\n",
      "│   ├── 42 [Member Name=Saguenay (CMA), Que.]\n",
      "│   ├── 43 [Member Name=Saint-Georges (CA), Que.]\n",
      "│   ├── 44 [Member Name=Saint-Hyacinthe (CA), Que.]\n",
      "│   ├── 45 [Member Name=Sainte-Agathe-des-Monts (CA), Que.]\n",
      "│   ├── 46 [Member Name=Sainte-Marie (CA), Que.]\n",
      "│   ├── 47 [Member Name=Salaberry-de-Valleyfield (CA), Que.]\n",
      "│   ├── 48 [Member Name=Sept-Îles (CA), Que.]\n",
      "│   ├── 49 [Member Name=Shawinigan (CA), Que.]\n",
      "│   ├── 50 [Member Name=Sherbrooke (CMA), Que.]\n",
      "│   ├── 51 [Member Name=Sorel-Tracy (CA), Que.]\n",
      "│   ├── 52 [Member Name=Thetford Mines (CA), Que.]\n",
      "│   ├── 53 [Member Name=Trois-Rivières (CMA), Que.]\n",
      "│   ├── 54 [Member Name=Val-d'Or (CA), Que.]\n",
      "│   └── 55 [Member Name=Victoriaville (CA), Que.]\n",
      "├── 56 [Member Name=Ontario]\n",
      "│   ├── 57 [Member Name=Barrie (CMA), Ont.]\n",
      "│   ├── 58 [Member Name=Belleville - Quinte West (CMA), Ont.]\n",
      "│   ├── 59 [Member Name=Brantford (CMA), Ont.]\n",
      "│   ├── 60 [Member Name=Brockville (CA), Ont.]\n",
      "│   ├── 61 [Member Name=Centre Wellington (CA), Ont.]\n",
      "│   ├── 62 [Member Name=Chatham-Kent (CA), Ont.]\n",
      "│   ├── 63 [Member Name=Cobourg (CA), Ont.]\n",
      "│   ├── 64 [Member Name=Collingwood (CA), Ont.]\n",
      "│   ├── 65 [Member Name=Cornwall (CA), Ont.]\n",
      "│   ├── 66 [Member Name=Elliot Lake (CA), Ont.]\n",
      "│   ├── 67 [Member Name=Essa (CA), Ont.]\n",
      "│   ├── 68 [Member Name=Greater Sudbury (CMA), Ont.]\n",
      "│   ├── 69 [Member Name=Guelph (CMA), Ont.]\n",
      "│   ├── 70 [Member Name=Hamilton (CMA), Ont.]\n",
      "│   ├── 71 [Member Name=Hawkesbury (CA), Ont./Que.]\n",
      "│   │   ├── 72 [Member Name=Hawkesbury (Ontario part) (CA), Ont.]\n",
      "│   │   └── 73 [Member Name=Hawkesbury (Quebec part) (CA), Que.]\n",
      "│   ├── 74 [Member Name=Ingersoll (CA), Ont.]\n",
      "│   ├── 75 [Member Name=Kawartha Lakes (CA), Ont.]\n",
      "│   ├── 76 [Member Name=Kenora (CA), Ont.]\n",
      "│   ├── 77 [Member Name=Kingston (CMA), Ont.]\n",
      "│   ├── 78 [Member Name=Kitchener - Cambridge - Waterloo (CMA), Ont.]\n",
      "│   ├── 79 [Member Name=London (CMA), Ont.]\n",
      "│   ├── 80 [Member Name=Midland (CA), Ont.]\n",
      "│   ├── 81 [Member Name=Norfolk (CA), Ont.]\n",
      "│   ├── 82 [Member Name=North Bay (CA), Ont.]\n",
      "│   ├── 83 [Member Name=Orillia (CA), Ont.]\n",
      "│   ├── 84 [Member Name=Oshawa (CMA), Ont.]\n",
      "│   ├── 85 [Member Name=Ottawa - Gatineau (CMA), Ont./Que.]\n",
      "│   │   ├── 86 [Member Name=Ottawa - Gatineau (Ontario part) (CMA), Ont.]\n",
      "│   │   └── 87 [Member Name=Ottawa - Gatineau (Quebec part) (CMA), Que.]\n",
      "│   ├── 88 [Member Name=Owen Sound (CA), Ont.]\n",
      "│   ├── 89 [Member Name=Pembroke (CA), Ont.]\n",
      "│   ├── 90 [Member Name=Petawawa (CA), Ont.]\n",
      "│   ├── 91 [Member Name=Peterborough (CMA), Ont.]\n",
      "│   ├── 92 [Member Name=Port Hope (CA), Ont.]\n",
      "│   ├── 93 [Member Name=Sarnia (CA), Ont.]\n",
      "│   ├── 94 [Member Name=Sault Ste. Marie (CA), Ont.]\n",
      "│   ├── 95 [Member Name=St. Catharines - Niagara (CMA), Ont.]\n",
      "│   ├── 96 [Member Name=Stratford (CA), Ont.]\n",
      "│   ├── 97 [Member Name=Thunder Bay (CMA), Ont.]\n",
      "│   ├── 98 [Member Name=Tillsonburg (CA), Ont.]\n",
      "│   ├── 99 [Member Name=Timmins (CA), Ont.]\n",
      "│   ├── 100 [Member Name=Toronto (CMA), Ont.]\n",
      "│   ├── 101 [Member Name=Wasaga Beach (CA), Ont.]\n",
      "│   ├── 102 [Member Name=Windsor (CMA), Ont.]\n",
      "│   └── 103 [Member Name=Woodstock (CA), Ont.]\n",
      "├── 104 [Member Name=Manitoba]\n",
      "│   ├── 105 [Member Name=Brandon (CA), Man.]\n",
      "│   ├── 106 [Member Name=Portage la Prairie (CA), Man.]\n",
      "│   ├── 107 [Member Name=Steinbach (CA), Man.]\n",
      "│   ├── 108 [Member Name=Thompson (CA), Man.]\n",
      "│   ├── 109 [Member Name=Winkler (CA), Man.]\n",
      "│   └── 110 [Member Name=Winnipeg (CMA), Man.]\n",
      "├── 111 [Member Name=Saskatchewan]\n",
      "│   ├── 112 [Member Name=Estevan (CA), Sask.]\n",
      "│   ├── 113 [Member Name=Moose Jaw (CA), Sask.]\n",
      "│   ├── 114 [Member Name=North Battleford (CA), Sask.]\n",
      "│   ├── 115 [Member Name=Prince Albert (CA), Sask.]\n",
      "│   ├── 116 [Member Name=Regina (CMA), Sask.]\n",
      "│   ├── 117 [Member Name=Saskatoon (CMA), Sask.]\n",
      "│   ├── 118 [Member Name=Swift Current (CA), Sask.]\n",
      "│   ├── 119 [Member Name=Weyburn (CA), Sask.]\n",
      "│   └── 120 [Member Name=Yorkton (CA), Sask.]\n",
      "├── 121 [Member Name=Alberta]\n",
      "│   ├── 122 [Member Name=Brooks (CA), Alta.]\n",
      "│   ├── 123 [Member Name=Calgary (CMA), Alta.]\n",
      "│   ├── 124 [Member Name=Camrose (CA), Alta.]\n",
      "│   ├── 125 [Member Name=Canmore (CA), Alta.]\n",
      "│   ├── 126 [Member Name=Edmonton (CMA), Alta.]\n",
      "│   ├── 127 [Member Name=Grande Prairie (CA), Alta.]\n",
      "│   ├── 128 [Member Name=High River (CA), Alta.]\n",
      "│   ├── 129 [Member Name=Lacombe (CA), Alta.]\n",
      "│   ├── 130 [Member Name=Lethbridge (CMA), Alta.]\n",
      "│   ├── 131 [Member Name=Lloydminster (CA), Alta./Sask.]\n",
      "│   │   ├── 132 [Member Name=Lloydminster (Alberta part) (CA), Alta.]\n",
      "│   │   └── 133 [Member Name=Lloydminster (Saskatchewan part) (CA), Sask.]\n",
      "│   ├── 134 [Member Name=Medicine Hat (CA), Alta.]\n",
      "│   ├── 135 [Member Name=Okotoks (CA), Alta.]\n",
      "│   ├── 136 [Member Name=Red Deer (CMA), Alta.]\n",
      "│   ├── 137 [Member Name=Strathmore (CA), Alta.]\n",
      "│   ├── 138 [Member Name=Sylvan Lake (CA), Alta.]\n",
      "│   ├── 139 [Member Name=Wetaskiwin (CA), Alta.]\n",
      "│   └── 140 [Member Name=Wood Buffalo (CA), Alta.]\n",
      "├── 141 [Member Name=British Columbia]\n",
      "│   ├── 142 [Member Name=Abbotsford - Mission (CMA), B.C.]\n",
      "│   ├── 143 [Member Name=Campbell River (CA), B.C.]\n",
      "│   ├── 144 [Member Name=Chilliwack (CMA), B.C.]\n",
      "│   ├── 145 [Member Name=Courtenay (CA), B.C.]\n",
      "│   ├── 146 [Member Name=Cranbrook (CA), B.C.]\n",
      "│   ├── 147 [Member Name=Dawson Creek (CA), B.C.]\n",
      "│   ├── 148 [Member Name=Duncan (CA), B.C.]\n",
      "│   ├── 149 [Member Name=Fort St. John (CA), B.C.]\n",
      "│   ├── 150 [Member Name=Kamloops (CMA), B.C.]\n",
      "│   ├── 151 [Member Name=Kelowna (CMA), B.C.]\n",
      "│   ├── 152 [Member Name=Ladysmith (CA), B.C.]\n",
      "│   ├── 153 [Member Name=Nanaimo (CMA), B.C.]\n",
      "│   ├── 154 [Member Name=Nelson (CA), B.C.]\n",
      "│   ├── 155 [Member Name=Parksville (CA), B.C.]\n",
      "│   ├── 156 [Member Name=Penticton (CA), B.C.]\n",
      "│   ├── 157 [Member Name=Port Alberni (CA), B.C.]\n",
      "│   ├── 158 [Member Name=Powell River (CA), B.C.]\n",
      "│   ├── 159 [Member Name=Prince George (CA), B.C.]\n",
      "│   ├── 160 [Member Name=Prince Rupert (CA), B.C.]\n",
      "│   ├── 161 [Member Name=Quesnel (CA), B.C.]\n",
      "│   ├── 162 [Member Name=Salmon Arm (CA), B.C.]\n",
      "│   ├── 163 [Member Name=Squamish (CA), B.C.]\n",
      "│   ├── 164 [Member Name=Terrace (CA), B.C.]\n",
      "│   ├── 165 [Member Name=Trail (CA), B.C.]\n",
      "│   ├── 166 [Member Name=Vancouver (CMA), B.C.]\n",
      "│   ├── 167 [Member Name=Vernon (CA), B.C.]\n",
      "│   ├── 168 [Member Name=Victoria (CMA), B.C.]\n",
      "│   └── 169 [Member Name=Williams Lake (CA), B.C.]\n",
      "├── 170 [Member Name=Yukon]\n",
      "│   └── 171 [Member Name=Whitehorse (CA), Y.T.]\n",
      "├── 172 [Member Name=Northwest Territories]\n",
      "│   └── 173 [Member Name=Yellowknife (CA), N.W.T.]\n",
      "└── 174 [Member Name=Nunavut]\n"
     ]
    }
   ],
   "source": [
    "geoTree = dataframe_to_tree_by_relation(geoReduced, 'Member ID','Parent Member ID')\n",
    "geoTree.show(attr_list = ['Member Name'])\n"
   ]
  },
  {
   "cell_type": "code",
   "execution_count": 21,
   "metadata": {},
   "outputs": [
    {
     "data": {
      "text/html": [
       "<div>\n",
       "<style scoped>\n",
       "    .dataframe tbody tr th:only-of-type {\n",
       "        vertical-align: middle;\n",
       "    }\n",
       "\n",
       "    .dataframe tbody tr th {\n",
       "        vertical-align: top;\n",
       "    }\n",
       "\n",
       "    .dataframe thead th {\n",
       "        text-align: right;\n",
       "    }\n",
       "</style>\n",
       "<table border=\"1\" class=\"dataframe\">\n",
       "  <thead>\n",
       "    <tr style=\"text-align: right;\">\n",
       "      <th></th>\n",
       "      <th>Member Name</th>\n",
       "      <th>Member ID</th>\n",
       "      <th>Parent Member ID</th>\n",
       "      <th>Is Parent Lang</th>\n",
       "    </tr>\n",
       "  </thead>\n",
       "  <tbody>\n",
       "    <tr>\n",
       "      <th>323</th>\n",
       "      <td>Hungarian</td>\n",
       "      <td>324</td>\n",
       "      <td>321.0</td>\n",
       "      <td>False</td>\n",
       "    </tr>\n",
       "    <tr>\n",
       "      <th>324</th>\n",
       "      <td>Other languages, n.i.e.</td>\n",
       "      <td>325</td>\n",
       "      <td>98.0</td>\n",
       "      <td>False</td>\n",
       "    </tr>\n",
       "    <tr>\n",
       "      <th>325</th>\n",
       "      <td>Multiple responses</td>\n",
       "      <td>326</td>\n",
       "      <td>1.0</td>\n",
       "      <td>True</td>\n",
       "    </tr>\n",
       "    <tr>\n",
       "      <th>326</th>\n",
       "      <td>English and French</td>\n",
       "      <td>327</td>\n",
       "      <td>326.0</td>\n",
       "      <td>False</td>\n",
       "    </tr>\n",
       "    <tr>\n",
       "      <th>327</th>\n",
       "      <td>English and non-official language(s)</td>\n",
       "      <td>328</td>\n",
       "      <td>326.0</td>\n",
       "      <td>False</td>\n",
       "    </tr>\n",
       "    <tr>\n",
       "      <th>328</th>\n",
       "      <td>French and non-official language(s)</td>\n",
       "      <td>329</td>\n",
       "      <td>326.0</td>\n",
       "      <td>False</td>\n",
       "    </tr>\n",
       "    <tr>\n",
       "      <th>329</th>\n",
       "      <td>English, French and non-official language(s)</td>\n",
       "      <td>330</td>\n",
       "      <td>326.0</td>\n",
       "      <td>False</td>\n",
       "    </tr>\n",
       "    <tr>\n",
       "      <th>330</th>\n",
       "      <td>Multiple non-official languages</td>\n",
       "      <td>331</td>\n",
       "      <td>326.0</td>\n",
       "      <td>False</td>\n",
       "    </tr>\n",
       "  </tbody>\n",
       "</table>\n",
       "</div>"
      ],
      "text/plain": [
       "                                      Member Name  Member ID  \\\n",
       "323                                     Hungarian        324   \n",
       "324                       Other languages, n.i.e.        325   \n",
       "325                            Multiple responses        326   \n",
       "326                            English and French        327   \n",
       "327          English and non-official language(s)        328   \n",
       "328           French and non-official language(s)        329   \n",
       "329  English, French and non-official language(s)        330   \n",
       "330               Multiple non-official languages        331   \n",
       "\n",
       "     Parent Member ID  Is Parent Lang  \n",
       "323             321.0           False  \n",
       "324              98.0           False  \n",
       "325               1.0            True  \n",
       "326             326.0           False  \n",
       "327             326.0           False  \n",
       "328             326.0           False  \n",
       "329             326.0           False  \n",
       "330             326.0           False  "
      ]
     },
     "execution_count": 21,
     "metadata": {},
     "output_type": "execute_result"
    }
   ],
   "source": [
    "motherTonguesMeta_filepath = '/home/grace/Documents/CapstoneProject/MotherTongues-Canada/MetaData_MotherTongue.csv'\n",
    "motherTongueData = pd.read_csv(motherTonguesMeta_filepath)\n",
    "\n",
    "motherTongueData.head()\n",
    "motherTongueData = motherTongueData[['Member Name','Member ID','Parent Member ID']]\n",
    "\n",
    "isLanguage = motherTongueData['Member ID'].isin(motherTongueData['Parent Member ID'])\n",
    "\n",
    "motherTongueData['Is Parent Lang'] = isLanguage\n",
    "motherTongueData.tail(8)"
   ]
  },
  {
   "cell_type": "code",
   "execution_count": 22,
   "metadata": {},
   "outputs": [
    {
     "name": "stdout",
     "output_type": "stream",
     "text": [
      "1 [Member Name=Total - Mother tongue]\n",
      "├── 2 [Member Name=Single responses]\n",
      "│   ├── 3 [Member Name=Official languages]\n",
      "│   │   ├── 4 [Member Name=English]\n",
      "│   │   └── 5 [Member Name=French]\n",
      "│   └── 6 [Member Name=Non-official languages]\n",
      "│       ├── 7 [Member Name=Indigenous languages]\n",
      "│       │   ├── 8 [Member Name=Algonquian languages]\n",
      "│       │   │   ├── 9 [Member Name=Blackfoot]\n",
      "│       │   │   ├── 10 [Member Name=Cree-Innu languages]\n",
      "│       │   │   │   ├── 11 [Member Name=Atikamekw]\n",
      "│       │   │   │   ├── 12 [Member Name=Cree languages]\n",
      "│       │   │   │   │   ├── 13 [Member Name=Ililimowin (Moose Cree)]\n",
      "│       │   │   │   │   ├── 14 [Member Name=Inu Ayimun (Southern East Cree)]\n",
      "│       │   │   │   │   ├── 15 [Member Name=Iyiyiw-Ayimiwin (Northern East Cree)]\n",
      "│       │   │   │   │   ├── 16 [Member Name=Nehinawewin (Swampy Cree)]\n",
      "│       │   │   │   │   ├── 17 [Member Name=Nehiyawewin (Plains Cree)]\n",
      "│       │   │   │   │   ├── 18 [Member Name=Nihithawiwin (Woods Cree)]\n",
      "│       │   │   │   │   └── 19 [Member Name=Cree, n.o.s.]\n",
      "│       │   │   │   ├── 20 [Member Name=Innu (Montagnais)]\n",
      "│       │   │   │   └── 21 [Member Name=Naskapi]\n",
      "│       │   │   ├── 22 [Member Name=Eastern Algonquian languages]\n",
      "│       │   │   │   ├── 23 [Member Name=Mi'kmaq]\n",
      "│       │   │   │   └── 24 [Member Name=Wolastoqewi (Malecite)]\n",
      "│       │   │   ├── 25 [Member Name=Ojibway-Potawatomi languages]\n",
      "│       │   │   │   ├── 26 [Member Name=Anicinabemowin (Algonquin)]\n",
      "│       │   │   │   ├── 27 [Member Name=Oji-Cree]\n",
      "│       │   │   │   └── 28 [Member Name=Ojibway languages]\n",
      "│       │   │   │       ├── 29 [Member Name=Anishinaabemowin (Chippewa)]\n",
      "│       │   │   │       ├── 30 [Member Name=Daawaamwin (Odawa)]\n",
      "│       │   │   │       ├── 31 [Member Name=Saulteau (Western Ojibway)]\n",
      "│       │   │   │       └── 32 [Member Name=Ojibway, n.o.s.]\n",
      "│       │   │   └── 33 [Member Name=Algonquian languages, n.i.e.]\n",
      "│       │   ├── 34 [Member Name=Athabaskan languages]\n",
      "│       │   │   ├── 35 [Member Name=Northern Athabaskan languages]\n",
      "│       │   │   │   ├── 36 [Member Name=Dakelh (Carrier)]\n",
      "│       │   │   │   ├── 37 [Member Name=Dane-zaa (Beaver)]\n",
      "│       │   │   │   ├── 38 [Member Name=Dene, n.o.s.]\n",
      "│       │   │   │   ├── 39 [Member Name=Gwich'in]\n",
      "│       │   │   │   ├── 40 [Member Name=Slavey-Hare languages]\n",
      "│       │   │   │   │   ├── 41 [Member Name=Deh Gah Ghotie Zhatie (South Slavey)]\n",
      "│       │   │   │   │   ├── 42 [Member Name=Satuotine Yati (North Slavey)]\n",
      "│       │   │   │   │   └── 43 [Member Name=Slavey, n.o.s.]\n",
      "│       │   │   │   ├── 44 [Member Name=Tahltan languages]\n",
      "│       │   │   │   │   ├── 45 [Member Name=Kaska (Nahani)]\n",
      "│       │   │   │   │   └── 46 [Member Name=Tahltan]\n",
      "│       │   │   │   ├── 47 [Member Name=Tlicho (Dogrib)]\n",
      "│       │   │   │   ├── 48 [Member Name=Tse'khene (Sekani)]\n",
      "│       │   │   │   ├── 49 [Member Name=Tsilhqot'in (Chilcotin)]\n",
      "│       │   │   │   ├── 50 [Member Name=Tsuu T'ina (Sarsi)]\n",
      "│       │   │   │   ├── 51 [Member Name=Tutchone languages]\n",
      "│       │   │   │   │   ├── 52 [Member Name=Northern Tutchone]\n",
      "│       │   │   │   │   ├── 53 [Member Name=Southern Tutchone]\n",
      "│       │   │   │   │   └── 54 [Member Name=Tutchone, n.o.s.]\n",
      "│       │   │   │   └── 55 [Member Name=Wetsuwet'en-Babine]\n",
      "│       │   │   ├── 56 [Member Name=Tlingit]\n",
      "│       │   │   └── 57 [Member Name=Athabaskan languages, n.i.e.]\n",
      "│       │   ├── 58 [Member Name=Haida]\n",
      "│       │   ├── 59 [Member Name=Inuktut (Inuit) languages]\n",
      "│       │   │   ├── 60 [Member Name=Inuinnaqtun (Inuvialuktun)]\n",
      "│       │   │   │   ├── 61 [Member Name=Inuinnaqtun]\n",
      "│       │   │   │   └── 62 [Member Name=Inuvialuktun]\n",
      "│       │   │   ├── 63 [Member Name=Inuktitut]\n",
      "│       │   │   └── 64 [Member Name=Inuktut (Inuit) languages, n.i.e.]\n",
      "│       │   ├── 65 [Member Name=Iroquoian languages]\n",
      "│       │   │   ├── 66 [Member Name=Cayuga]\n",
      "│       │   │   ├── 67 [Member Name=Mohawk]\n",
      "│       │   │   ├── 68 [Member Name=Oneida]\n",
      "│       │   │   └── 69 [Member Name=Iroquoian languages, n.i.e.]\n",
      "│       │   ├── 70 [Member Name=Ktunaxa (Kutenai)]\n",
      "│       │   ├── 71 [Member Name=Michif]\n",
      "│       │   ├── 72 [Member Name=Salish languages]\n",
      "│       │   │   ├── 73 [Member Name=Halkomelem]\n",
      "│       │   │   ├── 74 [Member Name=Lillooet]\n",
      "│       │   │   ├── 75 [Member Name=Ntlakapamux (Thompson)]\n",
      "│       │   │   ├── 76 [Member Name=Secwepemctsin (Shuswap)]\n",
      "│       │   │   ├── 77 [Member Name=Squamish]\n",
      "│       │   │   ├── 78 [Member Name=Straits]\n",
      "│       │   │   ├── 79 [Member Name=Syilx (Okanagan)]\n",
      "│       │   │   └── 80 [Member Name=Salish languages, n.i.e.]\n",
      "│       │   ├── 81 [Member Name=Siouan languages]\n",
      "│       │   │   ├── 82 [Member Name=Assiniboine]\n",
      "│       │   │   ├── 83 [Member Name=Dakota]\n",
      "│       │   │   ├── 84 [Member Name=Stoney]\n",
      "│       │   │   └── 85 [Member Name=Siouan languages, n.i.e.]\n",
      "│       │   ├── 86 [Member Name=Tsimshian languages]\n",
      "│       │   │   ├── 87 [Member Name=Gitxsan (Gitksan)]\n",
      "│       │   │   ├── 88 [Member Name=Nisga'a]\n",
      "│       │   │   └── 89 [Member Name=Tsimshian]\n",
      "│       │   ├── 90 [Member Name=Wakashan languages]\n",
      "│       │   │   ├── 91 [Member Name=Haisla]\n",
      "│       │   │   ├── 92 [Member Name=Heiltsuk]\n",
      "│       │   │   ├── 93 [Member Name=Kwak'wala (Kwakiutl)]\n",
      "│       │   │   ├── 94 [Member Name=Nuu-chah-nulth (Nootka)]\n",
      "│       │   │   └── 95 [Member Name=Wakashan languages, n.i.e.]\n",
      "│       │   ├── 96 [Member Name=Indigenous languages, n.i.e.]\n",
      "│       │   └── 97 [Member Name=Indigenous languages, n.o.s.]\n",
      "│       └── 98 [Member Name=Non-Indigenous languages]\n",
      "│           ├── 99 [Member Name=Afro-Asiatic languages]\n",
      "│           │   ├── 100 [Member Name=Berber languages]\n",
      "│           │   │   ├── 101 [Member Name=Kabyle]\n",
      "│           │   │   ├── 102 [Member Name=Tamazight]\n",
      "│           │   │   └── 103 [Member Name=Berber languages, n.i.e.]\n",
      "│           │   ├── 104 [Member Name=Chadic languages]\n",
      "│           │   │   ├── 105 [Member Name=Hausa]\n",
      "│           │   │   └── 106 [Member Name=Mina]\n",
      "│           │   ├── 107 [Member Name=Coptic]\n",
      "│           │   ├── 108 [Member Name=Cushitic languages]\n",
      "│           │   │   ├── 109 [Member Name=Bilen]\n",
      "│           │   │   ├── 110 [Member Name=Oromo]\n",
      "│           │   │   ├── 111 [Member Name=Somali]\n",
      "│           │   │   └── 112 [Member Name=Cushitic languages, n.i.e.]\n",
      "│           │   └── 113 [Member Name=Semitic languages]\n",
      "│           │       ├── 114 [Member Name=Amharic]\n",
      "│           │       ├── 115 [Member Name=Arabic]\n",
      "│           │       ├── 116 [Member Name=Aramaic languages]\n",
      "│           │       │   ├── 117 [Member Name=Assyrian Neo-Aramaic]\n",
      "│           │       │   ├── 118 [Member Name=Chaldean Neo-Aramaic]\n",
      "│           │       │   └── 119 [Member Name=Aramaic, n.o.s.]\n",
      "│           │       ├── 120 [Member Name=Harari]\n",
      "│           │       ├── 121 [Member Name=Hebrew]\n",
      "│           │       ├── 122 [Member Name=Maltese]\n",
      "│           │       ├── 123 [Member Name=Tigrigna]\n",
      "│           │       └── 124 [Member Name=Semitic languages, n.i.e.]\n",
      "│           ├── 125 [Member Name=Austro-Asiatic languages]\n",
      "│           │   ├── 126 [Member Name=Khmer (Cambodian)]\n",
      "│           │   ├── 127 [Member Name=Vietnamese]\n",
      "│           │   └── 128 [Member Name=Austro-Asiatic languages, n.i.e]\n",
      "│           ├── 129 [Member Name=Austronesian languages]\n",
      "│           │   ├── 130 [Member Name=Bikol]\n",
      "│           │   ├── 131 [Member Name=Bisaya, n.o.s.]\n",
      "│           │   ├── 132 [Member Name=Cebuano]\n",
      "│           │   ├── 133 [Member Name=Fijian]\n",
      "│           │   ├── 134 [Member Name=Hiligaynon]\n",
      "│           │   ├── 135 [Member Name=Ilocano]\n",
      "│           │   ├── 136 [Member Name=Indonesian]\n",
      "│           │   ├── 137 [Member Name=Kankanaey]\n",
      "│           │   ├── 138 [Member Name=Kinaray-a]\n",
      "│           │   ├── 139 [Member Name=Malagasy languages]\n",
      "│           │   │   ├── 140 [Member Name=Merina]\n",
      "│           │   │   └── 141 [Member Name=Malagasy, n.o.s.]\n",
      "│           │   ├── 142 [Member Name=Malay]\n",
      "│           │   ├── 143 [Member Name=Pampangan (Kapampangan, Pampango)]\n",
      "│           │   ├── 144 [Member Name=Pangasinan]\n",
      "│           │   ├── 145 [Member Name=Tagalog (Pilipino, Filipino)]\n",
      "│           │   ├── 146 [Member Name=Waray-Waray]\n",
      "│           │   └── 147 [Member Name=Austronesian languages, n.i.e.]\n",
      "│           ├── 148 [Member Name=Creole languages]\n",
      "│           │   ├── 149 [Member Name=Haitian Creole]\n",
      "│           │   ├── 150 [Member Name=Jamaican English Creole]\n",
      "│           │   ├── 151 [Member Name=Krio]\n",
      "│           │   ├── 152 [Member Name=Morisyen]\n",
      "│           │   ├── 153 [Member Name=Sango]\n",
      "│           │   ├── 154 [Member Name=Creole, n.o.s.]\n",
      "│           │   └── 155 [Member Name=Creole languages, n.i.e.]\n",
      "│           ├── 156 [Member Name=Dravidian languages]\n",
      "│           │   ├── 157 [Member Name=Kannada]\n",
      "│           │   ├── 158 [Member Name=Malayalam]\n",
      "│           │   ├── 159 [Member Name=Tamil]\n",
      "│           │   ├── 160 [Member Name=Telugu]\n",
      "│           │   ├── 161 [Member Name=Tulu]\n",
      "│           │   └── 162 [Member Name=Dravidian languages, n.i.e.]\n",
      "│           ├── 163 [Member Name=Georgian]\n",
      "│           ├── 164 [Member Name=Hmong-Mien languages]\n",
      "│           ├── 165 [Member Name=Indo-European languages]\n",
      "│           │   ├── 166 [Member Name=Albanian]\n",
      "│           │   ├── 167 [Member Name=Armenian]\n",
      "│           │   ├── 168 [Member Name=Balto-Slavic languages]\n",
      "│           │   │   ├── 169 [Member Name=Baltic languages]\n",
      "│           │   │   │   ├── 170 [Member Name=Latvian]\n",
      "│           │   │   │   └── 171 [Member Name=Lithuanian]\n",
      "│           │   │   └── 172 [Member Name=Slavic languages]\n",
      "│           │   │       ├── 173 [Member Name=Belarusian]\n",
      "│           │   │       ├── 174 [Member Name=Bulgarian]\n",
      "│           │   │       ├── 175 [Member Name=Czech]\n",
      "│           │   │       ├── 176 [Member Name=Macedonian]\n",
      "│           │   │       ├── 177 [Member Name=Polish]\n",
      "│           │   │       ├── 178 [Member Name=Russian]\n",
      "│           │   │       ├── 179 [Member Name=Rusyn]\n",
      "│           │   │       ├── 180 [Member Name=Serbo-Croatian]\n",
      "│           │   │       │   ├── 181 [Member Name=Bosnian]\n",
      "│           │   │       │   ├── 182 [Member Name=Croatian]\n",
      "│           │   │       │   ├── 183 [Member Name=Serbian]\n",
      "│           │   │       │   └── 184 [Member Name=Serbo-Croatian, n.i.e.]\n",
      "│           │   │       ├── 185 [Member Name=Slovak]\n",
      "│           │   │       ├── 186 [Member Name=Slovene (Slovenian)]\n",
      "│           │   │       ├── 187 [Member Name=Ukrainian]\n",
      "│           │   │       └── 188 [Member Name=Slavic languages, n.i.e.]\n",
      "│           │   ├── 189 [Member Name=Celtic languages]\n",
      "│           │   │   ├── 190 [Member Name=Irish]\n",
      "│           │   │   ├── 191 [Member Name=Scottish Gaelic]\n",
      "│           │   │   ├── 192 [Member Name=Welsh]\n",
      "│           │   │   └── 193 [Member Name=Celtic languages, n.i.e.]\n",
      "│           │   ├── 194 [Member Name=Germanic languages]\n",
      "│           │   │   ├── 195 [Member Name=Frisian]\n",
      "│           │   │   ├── 196 [Member Name=High German languages]\n",
      "│           │   │   │   ├── 197 [Member Name=German]\n",
      "│           │   │   │   ├── 198 [Member Name=Pennsylvania German]\n",
      "│           │   │   │   ├── 199 [Member Name=Swiss German]\n",
      "│           │   │   │   └── 200 [Member Name=Yiddish]\n",
      "│           │   │   ├── 201 [Member Name=Low Saxon-Low Franconian languages]\n",
      "│           │   │   │   ├── 202 [Member Name=Afrikaans]\n",
      "│           │   │   │   ├── 203 [Member Name=Dutch]\n",
      "│           │   │   │   ├── 204 [Member Name=Low German, n.o.s.]\n",
      "│           │   │   │   ├── 205 [Member Name=Low Saxon]\n",
      "│           │   │   │   ├── 206 [Member Name=Plautdietsch]\n",
      "│           │   │   │   └── 207 [Member Name=Vlaams (Flemish)]\n",
      "│           │   │   ├── 208 [Member Name=Scandinavian languages]\n",
      "│           │   │   │   ├── 209 [Member Name=Danish]\n",
      "│           │   │   │   ├── 210 [Member Name=Icelandic]\n",
      "│           │   │   │   ├── 211 [Member Name=Norwegian]\n",
      "│           │   │   │   └── 212 [Member Name=Swedish]\n",
      "│           │   │   └── 213 [Member Name=Germanic languages, n.i.e.]\n",
      "│           │   ├── 214 [Member Name=Greek]\n",
      "│           │   ├── 215 [Member Name=Indo-Iranian languages]\n",
      "│           │   │   ├── 216 [Member Name=Indo-Aryan languages]\n",
      "│           │   │   │   ├── 217 [Member Name=Assamese]\n",
      "│           │   │   │   ├── 218 [Member Name=Bengali]\n",
      "│           │   │   │   ├── 219 [Member Name=Gujarati]\n",
      "│           │   │   │   ├── 220 [Member Name=Hindi]\n",
      "│           │   │   │   ├── 221 [Member Name=Kacchi]\n",
      "│           │   │   │   ├── 222 [Member Name=Kashmiri]\n",
      "│           │   │   │   ├── 223 [Member Name=Konkani]\n",
      "│           │   │   │   ├── 224 [Member Name=Marathi]\n",
      "│           │   │   │   ├── 225 [Member Name=Nepali]\n",
      "│           │   │   │   ├── 226 [Member Name=Oriya languages]\n",
      "│           │   │   │   │   ├── 227 [Member Name=Odia]\n",
      "│           │   │   │   │   └── 228 [Member Name=Oriya, n.o.s.]\n",
      "│           │   │   │   ├── 229 [Member Name=Punjabi (Panjabi)]\n",
      "│           │   │   │   ├── 230 [Member Name=Rohingya]\n",
      "│           │   │   │   ├── 231 [Member Name=Sindhi]\n",
      "│           │   │   │   ├── 232 [Member Name=Sinhala (Sinhalese)]\n",
      "│           │   │   │   ├── 233 [Member Name=Urdu]\n",
      "│           │   │   │   └── 234 [Member Name=Indo-Aryan languages, n.i.e.]\n",
      "│           │   │   ├── 235 [Member Name=Iranian languages]\n",
      "│           │   │   │   ├── 236 [Member Name=Baluchi]\n",
      "│           │   │   │   ├── 237 [Member Name=Kurdish]\n",
      "│           │   │   │   ├── 238 [Member Name=Parsi]\n",
      "│           │   │   │   ├── 239 [Member Name=Pashto]\n",
      "│           │   │   │   ├── 240 [Member Name=Persian languages]\n",
      "│           │   │   │   │   ├── 241 [Member Name=Dari]\n",
      "│           │   │   │   │   ├── 242 [Member Name=Iranian Persian]\n",
      "│           │   │   │   │   └── 243 [Member Name=Persian (Farsi), n.o.s.]\n",
      "│           │   │   │   └── 244 [Member Name=Iranian languages, n.i.e.]\n",
      "│           │   │   └── 245 [Member Name=Indo-Iranian languages, n.i.e.]\n",
      "│           │   ├── 246 [Member Name=Italic (Romance) languages]\n",
      "│           │   │   ├── 247 [Member Name=Catalan]\n",
      "│           │   │   ├── 248 [Member Name=Italian]\n",
      "│           │   │   ├── 249 [Member Name=Portuguese]\n",
      "│           │   │   ├── 250 [Member Name=Romanian]\n",
      "│           │   │   ├── 251 [Member Name=Spanish]\n",
      "│           │   │   └── 252 [Member Name=Italic (Romance) languages, n.i.e.]\n",
      "│           │   └── 253 [Member Name=Indo-European languages, n.i.e.]\n",
      "│           ├── 254 [Member Name=Japanese]\n",
      "│           ├── 255 [Member Name=Korean]\n",
      "│           ├── 256 [Member Name=Mongolian]\n",
      "│           ├── 257 [Member Name=Niger-Congo languages]\n",
      "│           │   ├── 258 [Member Name=Akan (Twi)]\n",
      "│           │   ├── 259 [Member Name=Bamanankan]\n",
      "│           │   ├── 260 [Member Name=Edo]\n",
      "│           │   ├── 261 [Member Name=Éwé]\n",
      "│           │   ├── 262 [Member Name=Fulah (Pular, Pulaar, Fulfulde)]\n",
      "│           │   ├── 263 [Member Name=Ga]\n",
      "│           │   ├── 264 [Member Name=Ganda]\n",
      "│           │   ├── 265 [Member Name=Gikuyu]\n",
      "│           │   ├── 266 [Member Name=Igbo]\n",
      "│           │   ├── 267 [Member Name=Kinyarwanda (Rwanda)]\n",
      "│           │   ├── 268 [Member Name=Lingala]\n",
      "│           │   ├── 269 [Member Name=Luba-Kasai]\n",
      "│           │   ├── 270 [Member Name=Mòoré]\n",
      "│           │   ├── 271 [Member Name=Mwani]\n",
      "│           │   ├── 272 [Member Name=Ndebele]\n",
      "│           │   ├── 273 [Member Name=Rundi (Kirundi)]\n",
      "│           │   ├── 274 [Member Name=Shona]\n",
      "│           │   ├── 275 [Member Name=Soninke]\n",
      "│           │   ├── 276 [Member Name=Sotho-Tswana languages]\n",
      "│           │   ├── 277 [Member Name=Swahili]\n",
      "│           │   ├── 278 [Member Name=Wojenaka]\n",
      "│           │   ├── 279 [Member Name=Wolof]\n",
      "│           │   ├── 280 [Member Name=Yoruba]\n",
      "│           │   └── 281 [Member Name=Niger-Congo languages, n.i.e.]\n",
      "│           ├── 282 [Member Name=Nilo-Saharan languages]\n",
      "│           │   ├── 283 [Member Name=Dinka]\n",
      "│           │   ├── 284 [Member Name=Nuer]\n",
      "│           │   ├── 285 [Member Name=Nilo-Saharan languages, n.i.e.]\n",
      "│           │   └── 286 [Member Name=African, n.o.s.]\n",
      "│           ├── 287 [Member Name=Sign languages]\n",
      "│           │   ├── 288 [Member Name=American Sign Language]\n",
      "│           │   ├── 289 [Member Name=Quebec Sign Language]\n",
      "│           │   └── 290 [Member Name=Sign languages, n.i.e.]\n",
      "│           ├── 291 [Member Name=Sino-Tibetan languages]\n",
      "│           │   ├── 292 [Member Name=Chinese languages]\n",
      "│           │   │   ├── 293 [Member Name=Hakka]\n",
      "│           │   │   ├── 294 [Member Name=Mandarin]\n",
      "│           │   │   ├── 295 [Member Name=Min Dong]\n",
      "│           │   │   ├── 296 [Member Name=Min Nan (Chaochow, Teochow, Fukien, Taiwanese)]\n",
      "│           │   │   ├── 297 [Member Name=Wu (Shanghainese)]\n",
      "│           │   │   ├── 298 [Member Name=Yue (Cantonese)]\n",
      "│           │   │   ├── 299 [Member Name=Chinese, n.o.s.]\n",
      "│           │   │   └── 300 [Member Name=Chinese languages, n.i.e.]\n",
      "│           │   ├── 301 [Member Name=Tibeto-Burman languages]\n",
      "│           │   │   ├── 302 [Member Name=Burmese]\n",
      "│           │   │   ├── 303 [Member Name=Kuki-Chin languages]\n",
      "│           │   │   ├── 304 [Member Name=Karenic languages]\n",
      "│           │   │   │   ├── 305 [Member Name=S'gaw Karen]\n",
      "│           │   │   │   └── 306 [Member Name=Karenic languages, n.i.e.]\n",
      "│           │   │   ├── 307 [Member Name=Tibetan]\n",
      "│           │   │   └── 308 [Member Name=Tibeto-Burman languages, n.i.e.]\n",
      "│           │   └── 309 [Member Name=Sino-Tibetan languages, n.i.e.]\n",
      "│           ├── 310 [Member Name=Tai-Kadai languages]\n",
      "│           │   ├── 311 [Member Name=Lao]\n",
      "│           │   ├── 312 [Member Name=Thai]\n",
      "│           │   └── 313 [Member Name=Tai-Kadai languages, n.i.e.]\n",
      "│           ├── 314 [Member Name=Turkic languages]\n",
      "│           │   ├── 315 [Member Name=Azerbaijani]\n",
      "│           │   ├── 316 [Member Name=Kazakh]\n",
      "│           │   ├── 317 [Member Name=Turkish]\n",
      "│           │   ├── 318 [Member Name=Uyghur]\n",
      "│           │   ├── 319 [Member Name=Uzbek]\n",
      "│           │   └── 320 [Member Name=Turkic languages, n.i.e.]\n",
      "│           ├── 321 [Member Name=Uralic languages]\n",
      "│           │   ├── 322 [Member Name=Estonian]\n",
      "│           │   ├── 323 [Member Name=Finnish]\n",
      "│           │   └── 324 [Member Name=Hungarian]\n",
      "│           └── 325 [Member Name=Other languages, n.i.e.]\n",
      "└── 326 [Member Name=Multiple responses]\n",
      "    ├── 327 [Member Name=English and French]\n",
      "    ├── 328 [Member Name=English and non-official language(s)]\n",
      "    ├── 329 [Member Name=French and non-official language(s)]\n",
      "    ├── 330 [Member Name=English, French and non-official language(s)]\n",
      "    └── 331 [Member Name=Multiple non-official languages]\n"
     ]
    }
   ],
   "source": [
    "motherTongueTree = dataframe_to_tree_by_relation(motherTongueData,'Member ID','Parent Member ID')\n",
    "motherTongueTree.show(attr_list = ['Member Name'])"
   ]
  },
  {
   "cell_type": "code",
   "execution_count": 23,
   "metadata": {},
   "outputs": [
    {
     "data": {
      "text/html": [
       "<div>\n",
       "<style scoped>\n",
       "    .dataframe tbody tr th:only-of-type {\n",
       "        vertical-align: middle;\n",
       "    }\n",
       "\n",
       "    .dataframe tbody tr th {\n",
       "        vertical-align: top;\n",
       "    }\n",
       "\n",
       "    .dataframe thead th {\n",
       "        text-align: right;\n",
       "    }\n",
       "</style>\n",
       "<table border=\"1\" class=\"dataframe\">\n",
       "  <thead>\n",
       "    <tr style=\"text-align: right;\">\n",
       "      <th></th>\n",
       "      <th>Member Name</th>\n",
       "      <th>Member ID</th>\n",
       "      <th>Parent Member ID</th>\n",
       "      <th>Is Parent Lang</th>\n",
       "    </tr>\n",
       "  </thead>\n",
       "  <tbody>\n",
       "    <tr>\n",
       "      <th>3</th>\n",
       "      <td>English</td>\n",
       "      <td>4</td>\n",
       "      <td>3.0</td>\n",
       "      <td>False</td>\n",
       "    </tr>\n",
       "    <tr>\n",
       "      <th>4</th>\n",
       "      <td>French</td>\n",
       "      <td>5</td>\n",
       "      <td>3.0</td>\n",
       "      <td>False</td>\n",
       "    </tr>\n",
       "    <tr>\n",
       "      <th>8</th>\n",
       "      <td>Blackfoot</td>\n",
       "      <td>9</td>\n",
       "      <td>8.0</td>\n",
       "      <td>False</td>\n",
       "    </tr>\n",
       "    <tr>\n",
       "      <th>10</th>\n",
       "      <td>Atikamekw</td>\n",
       "      <td>11</td>\n",
       "      <td>10.0</td>\n",
       "      <td>False</td>\n",
       "    </tr>\n",
       "    <tr>\n",
       "      <th>12</th>\n",
       "      <td>Ililimowin (Moose Cree)</td>\n",
       "      <td>13</td>\n",
       "      <td>12.0</td>\n",
       "      <td>False</td>\n",
       "    </tr>\n",
       "    <tr>\n",
       "      <th>13</th>\n",
       "      <td>Inu Ayimun (Southern East Cree)</td>\n",
       "      <td>14</td>\n",
       "      <td>12.0</td>\n",
       "      <td>False</td>\n",
       "    </tr>\n",
       "    <tr>\n",
       "      <th>14</th>\n",
       "      <td>Iyiyiw-Ayimiwin (Northern East Cree)</td>\n",
       "      <td>15</td>\n",
       "      <td>12.0</td>\n",
       "      <td>False</td>\n",
       "    </tr>\n",
       "    <tr>\n",
       "      <th>15</th>\n",
       "      <td>Nehinawewin (Swampy Cree)</td>\n",
       "      <td>16</td>\n",
       "      <td>12.0</td>\n",
       "      <td>False</td>\n",
       "    </tr>\n",
       "    <tr>\n",
       "      <th>16</th>\n",
       "      <td>Nehiyawewin (Plains Cree)</td>\n",
       "      <td>17</td>\n",
       "      <td>12.0</td>\n",
       "      <td>False</td>\n",
       "    </tr>\n",
       "    <tr>\n",
       "      <th>17</th>\n",
       "      <td>Nihithawiwin (Woods Cree)</td>\n",
       "      <td>18</td>\n",
       "      <td>12.0</td>\n",
       "      <td>False</td>\n",
       "    </tr>\n",
       "  </tbody>\n",
       "</table>\n",
       "</div>"
      ],
      "text/plain": [
       "                             Member Name  Member ID  Parent Member ID  \\\n",
       "3                                English          4               3.0   \n",
       "4                                 French          5               3.0   \n",
       "8                              Blackfoot          9               8.0   \n",
       "10                             Atikamekw         11              10.0   \n",
       "12               Ililimowin (Moose Cree)         13              12.0   \n",
       "13       Inu Ayimun (Southern East Cree)         14              12.0   \n",
       "14  Iyiyiw-Ayimiwin (Northern East Cree)         15              12.0   \n",
       "15             Nehinawewin (Swampy Cree)         16              12.0   \n",
       "16             Nehiyawewin (Plains Cree)         17              12.0   \n",
       "17             Nihithawiwin (Woods Cree)         18              12.0   \n",
       "\n",
       "    Is Parent Lang  \n",
       "3            False  \n",
       "4            False  \n",
       "8            False  \n",
       "10           False  \n",
       "12           False  \n",
       "13           False  \n",
       "14           False  \n",
       "15           False  \n",
       "16           False  \n",
       "17           False  "
      ]
     },
     "execution_count": 23,
     "metadata": {},
     "output_type": "execute_result"
    }
   ],
   "source": [
    "motherTongueLangs = motherTongueData.loc[(motherTongueData['Is Parent Lang']== False) & (motherTongueData['Parent Member ID'] != 326)]\n",
    "motherTongueLangs.head(10)"
   ]
  },
  {
   "cell_type": "code",
   "execution_count": 24,
   "metadata": {},
   "outputs": [],
   "source": [
    "motherTonguesMeta_filepath = '/home/grace/Documents/CapstoneProject/MotherTongues-Canada/MetaData_Age.csv'\n",
    "motherTongueAge = pd.read_csv(motherTonguesMeta_filepath)\n",
    "motherTongueAge = motherTongueAge[['Member Name','Member ID','Parent Member ID']]\n",
    "\n",
    "isAgeGroup = motherTongueAge['Member ID'].isin(motherTongueAge['Parent Member ID'])\n",
    "motherTongueAge['Is Parent Age']=isAgeGroup\n",
    "#motherTongueAge.head()"
   ]
  },
  {
   "cell_type": "code",
   "execution_count": 25,
   "metadata": {},
   "outputs": [
    {
     "data": {
      "text/html": [
       "<div>\n",
       "<style scoped>\n",
       "    .dataframe tbody tr th:only-of-type {\n",
       "        vertical-align: middle;\n",
       "    }\n",
       "\n",
       "    .dataframe tbody tr th {\n",
       "        vertical-align: top;\n",
       "    }\n",
       "\n",
       "    .dataframe thead th {\n",
       "        text-align: right;\n",
       "    }\n",
       "</style>\n",
       "<table border=\"1\" class=\"dataframe\">\n",
       "  <thead>\n",
       "    <tr style=\"text-align: right;\">\n",
       "      <th></th>\n",
       "      <th>Member Name</th>\n",
       "      <th>Member ID</th>\n",
       "      <th>Parent Member ID</th>\n",
       "      <th>Is Parent Gender</th>\n",
       "    </tr>\n",
       "  </thead>\n",
       "  <tbody>\n",
       "    <tr>\n",
       "      <th>0</th>\n",
       "      <td>Total - Gender</td>\n",
       "      <td>1</td>\n",
       "      <td>NaN</td>\n",
       "      <td>True</td>\n",
       "    </tr>\n",
       "    <tr>\n",
       "      <th>1</th>\n",
       "      <td>Men+</td>\n",
       "      <td>2</td>\n",
       "      <td>1.0</td>\n",
       "      <td>False</td>\n",
       "    </tr>\n",
       "    <tr>\n",
       "      <th>2</th>\n",
       "      <td>Women+</td>\n",
       "      <td>3</td>\n",
       "      <td>1.0</td>\n",
       "      <td>False</td>\n",
       "    </tr>\n",
       "  </tbody>\n",
       "</table>\n",
       "</div>"
      ],
      "text/plain": [
       "      Member Name  Member ID  Parent Member ID  Is Parent Gender\n",
       "0  Total - Gender          1               NaN              True\n",
       "1            Men+          2               1.0             False\n",
       "2          Women+          3               1.0             False"
      ]
     },
     "execution_count": 25,
     "metadata": {},
     "output_type": "execute_result"
    }
   ],
   "source": [
    "motherTonguesMeta_filepath = '/home/grace/Documents/CapstoneProject/MotherTongues-Canada/MetaData_Gender.csv'\n",
    "motherTongueGender = pd.read_csv(motherTonguesMeta_filepath)\n",
    "motherTongueGender = motherTongueGender[['Member Name','Member ID','Parent Member ID']]\n",
    "\n",
    "isGenderGroup = motherTongueGender['Member ID'].isin(motherTongueGender['Parent Member ID'])\n",
    "motherTongueGender['Is Parent Gender']=isGenderGroup\n",
    "motherTongueGender.head()"
   ]
  },
  {
   "cell_type": "markdown",
   "metadata": {},
   "source": [
    "This next section takes the metadata dataframes from the previous section and joins them on the motherTongues data from earlier. This provides the option to filter out aggregations or keep only aggregations. "
   ]
  },
  {
   "cell_type": "code",
   "execution_count": 26,
   "metadata": {},
   "outputs": [
    {
     "data": {
      "text/plain": [
       "['GEO',\n",
       " 'Gender (3)',\n",
       " 'Age (15A)',\n",
       " 'Mother tongue (331)',\n",
       " 'Coordinate',\n",
       " 'Knowledge of official languages (5):Total - Knowledge of official languages[1]',\n",
       " 'Knowledge of official languages (5):English only[2]',\n",
       " 'Knowledge of official languages (5):French only[3]',\n",
       " 'Knowledge of official languages (5):English and French[4]',\n",
       " 'Knowledge of official languages (5):Neither English nor French[5]',\n",
       " 'Member ID',\n",
       " 'Parent Member ID',\n",
       " 'Is Parent Lang',\n",
       " 'Member ID_geo',\n",
       " 'Parent Member ID_geo',\n",
       " 'Is Parent Loc',\n",
       " 'Member ID_age',\n",
       " 'Parent Member ID_age',\n",
       " 'Is Parent Age',\n",
       " 'Member ID_gender',\n",
       " 'Parent Member ID_gender',\n",
       " 'Is Parent Gender']"
      ]
     },
     "execution_count": 26,
     "metadata": {},
     "output_type": "execute_result"
    }
   ],
   "source": [
    "df = df.join(motherTongueData.set_index('Member Name'), on='Mother tongue (331)', rsuffix='_lang')\n",
    "df = df.join(geoReduced.set_index('Member Name'), on='GEO',rsuffix='_geo')\n",
    "df = df.join(motherTongueAge.set_index('Member Name'), on='Age (15A)', rsuffix='_age')\n",
    "df = df.join(motherTongueGender.set_index('Member Name'),on='Gender (3)', rsuffix='_gender')\n",
    "list(df.columns)"
   ]
  },
  {
   "cell_type": "markdown",
   "metadata": {},
   "source": [
    "Excluding aggregate values - those that have parent = true. Also excluding the multiple mother tongues for consistency. "
   ]
  },
  {
   "cell_type": "code",
   "execution_count": 27,
   "metadata": {},
   "outputs": [],
   "source": [
    "\n",
    "dfFlat = df.loc[(df['Is Parent Lang'] == False) & (df['Parent Member ID'] != 326) & (df['Is Parent Loc'] == False)& (df['Is Parent Age'] == False)& (df['Is Parent Gender'] == False)]\n",
    "\n"
   ]
  },
  {
   "cell_type": "code",
   "execution_count": 28,
   "metadata": {},
   "outputs": [
    {
     "name": "stdout",
     "output_type": "stream",
     "text": [
      "<class 'pandas.core.frame.DataFrame'>\n",
      "Int64Index: 911856 entries, 35420 to 2591723\n",
      "Data columns (total 22 columns):\n",
      " #   Column                                                                          Non-Null Count   Dtype  \n",
      "---  ------                                                                          --------------   -----  \n",
      " 0   GEO                                                                             911856 non-null  object \n",
      " 1   Gender (3)                                                                      911856 non-null  object \n",
      " 2   Age (15A)                                                                       911856 non-null  object \n",
      " 3   Mother tongue (331)                                                             911856 non-null  object \n",
      " 4   Coordinate                                                                      911856 non-null  object \n",
      " 5   Knowledge of official languages (5):Total - Knowledge of official languages[1]  911856 non-null  int64  \n",
      " 6   Knowledge of official languages (5):English only[2]                             911856 non-null  int64  \n",
      " 7   Knowledge of official languages (5):French only[3]                              911856 non-null  int64  \n",
      " 8   Knowledge of official languages (5):English and French[4]                       911856 non-null  int64  \n",
      " 9   Knowledge of official languages (5):Neither English nor French[5]               911856 non-null  int64  \n",
      " 10  Member ID                                                                       911856 non-null  int64  \n",
      " 11  Parent Member ID                                                                911856 non-null  float64\n",
      " 12  Is Parent Lang                                                                  911856 non-null  bool   \n",
      " 13  Member ID_geo                                                                   911856 non-null  int64  \n",
      " 14  Parent Member ID_geo                                                            911856 non-null  float64\n",
      " 15  Is Parent Loc                                                                   911856 non-null  bool   \n",
      " 16  Member ID_age                                                                   911856 non-null  int64  \n",
      " 17  Parent Member ID_age                                                            911856 non-null  float64\n",
      " 18  Is Parent Age                                                                   911856 non-null  bool   \n",
      " 19  Member ID_gender                                                                911856 non-null  int64  \n",
      " 20  Parent Member ID_gender                                                         911856 non-null  float64\n",
      " 21  Is Parent Gender                                                                911856 non-null  bool   \n",
      "dtypes: bool(4), float64(4), int64(9), object(5)\n",
      "memory usage: 135.7+ MB\n"
     ]
    }
   ],
   "source": [
    "dfFlat.info()"
   ]
  },
  {
   "cell_type": "code",
   "execution_count": 29,
   "metadata": {},
   "outputs": [
    {
     "name": "stdout",
     "output_type": "stream",
     "text": [
      "<class 'pandas.core.frame.DataFrame'>\n",
      "Int64Index: 911856 entries, 35420 to 2591723\n",
      "Data columns (total 9 columns):\n",
      " #   Column                                                             Non-Null Count   Dtype \n",
      "---  ------                                                             --------------   ----- \n",
      " 0   GEO                                                                911856 non-null  object\n",
      " 1   Gender (3)                                                         911856 non-null  object\n",
      " 2   Age (15A)                                                          911856 non-null  object\n",
      " 3   Mother tongue (331)                                                911856 non-null  object\n",
      " 4   Coordinate                                                         911856 non-null  object\n",
      " 5   Knowledge of official languages (5):English only[2]                911856 non-null  int64 \n",
      " 6   Knowledge of official languages (5):French only[3]                 911856 non-null  int64 \n",
      " 7   Knowledge of official languages (5):English and French[4]          911856 non-null  int64 \n",
      " 8   Knowledge of official languages (5):Neither English nor French[5]  911856 non-null  int64 \n",
      "dtypes: int64(4), object(5)\n",
      "memory usage: 69.6+ MB\n"
     ]
    }
   ],
   "source": [
    "dfFlatReduced = dfFlat[['GEO', 'Gender (3)', 'Age (15A)', 'Mother tongue (331)', 'Coordinate',  'Knowledge of official languages (5):English only[2]', 'Knowledge of official languages (5):French only[3]', 'Knowledge of official languages (5):English and French[4]', 'Knowledge of official languages (5):Neither English nor French[5]']]\n",
    "dfFlatReduced.info()"
   ]
  },
  {
   "cell_type": "code",
   "execution_count": 30,
   "metadata": {},
   "outputs": [
    {
     "name": "stderr",
     "output_type": "stream",
     "text": [
      "/tmp/ipykernel_34980/1589484963.py:1: SettingWithCopyWarning: \n",
      "A value is trying to be set on a copy of a slice from a DataFrame.\n",
      "Try using .loc[row_indexer,col_indexer] = value instead\n",
      "\n",
      "See the caveats in the documentation: https://pandas.pydata.org/pandas-docs/stable/user_guide/indexing.html#returning-a-view-versus-a-copy\n",
      "  dfFlatReduced['Mother tongue (331)'] = dfFlatReduced['Mother tongue (331)'].astype('category')\n",
      "/tmp/ipykernel_34980/1589484963.py:2: SettingWithCopyWarning: \n",
      "A value is trying to be set on a copy of a slice from a DataFrame.\n",
      "Try using .loc[row_indexer,col_indexer] = value instead\n",
      "\n",
      "See the caveats in the documentation: https://pandas.pydata.org/pandas-docs/stable/user_guide/indexing.html#returning-a-view-versus-a-copy\n",
      "  dfFlatReduced['GEO'] = dfFlatReduced['GEO'].astype('category')\n"
     ]
    }
   ],
   "source": [
    "dfFlatReduced['Mother tongue (331)'] = dfFlatReduced['Mother tongue (331)'].astype('category')\n",
    "dfFlatReduced['GEO'] = dfFlatReduced['GEO'].astype('category')"
   ]
  },
  {
   "cell_type": "markdown",
   "metadata": {},
   "source": [
    "Repeating the YData Profile Report again, this time with the cleaned and flattened data. "
   ]
  },
  {
   "cell_type": "code",
   "execution_count": 31,
   "metadata": {},
   "outputs": [],
   "source": [
    "profileDF = ProfileReport(dfFlatReduced, title = \"Profiling Report (Reduced)\", explorative=True)\n",
    "#profileDF.to_file('/home/grace/Documents/CapstoneProject/MotherTongues-Canada/EDA-Flattened-reduced.html')"
   ]
  },
  {
   "cell_type": "markdown",
   "metadata": {},
   "source": [
    "Now that the data has been cleaned and flattened, we are ready to start applying machine learning models. The first step is to list which features are the target variables . We will also need to encode the categorical features as numbers; fortunately this has already been done, as the Coordinate feature is a combination of the member IDs. The string can be expanded by the deliminator. We will also divide the data into training and test sets at this time. "
   ]
  },
  {
   "cell_type": "code",
   "execution_count": 32,
   "metadata": {},
   "outputs": [],
   "source": [
    "col_namesX = list(dfFlatReduced[[c for c in dfFlatReduced.columns if 'Knowledge' not in c]].columns)\n",
    "col_namesY = list(dfFlatReduced[[c for c in dfFlatReduced.columns if 'Knowledge' in c]].columns)\n",
    "#dfFlatReduced['Total People'] = dfFlatReduced[col_namesY].sum(axis='columns')\n",
    "#dfFlatReduced['Not Empty'] = np.where(dfFlatReduced['Total People'] >0, True, False)\n",
    "\n",
    "dfFlatReduced.head()\n",
    "#print(col_namesX, col_namesY)\n",
    "X_Categories = dfFlatReduced[col_namesX]\n",
    "Y_Categories = dfFlatReduced[col_namesY]\n"
   ]
  },
  {
   "cell_type": "code",
   "execution_count": 33,
   "metadata": {},
   "outputs": [
    {
     "data": {
      "text/plain": [
       "35420      525\n",
       "35421        0\n",
       "35425        0\n",
       "35427        0\n",
       "35429        0\n",
       "          ... \n",
       "2591718      0\n",
       "2591720      0\n",
       "2591721      0\n",
       "2591722      0\n",
       "2591723      0\n",
       "Length: 911856, dtype: int64"
      ]
     },
     "execution_count": 33,
     "metadata": {},
     "output_type": "execute_result"
    }
   ],
   "source": [
    "dfFlatReduced[col_namesY].sum(axis='columns')"
   ]
  },
  {
   "cell_type": "code",
   "execution_count": 34,
   "metadata": {},
   "outputs": [
    {
     "name": "stderr",
     "output_type": "stream",
     "text": [
      "/tmp/ipykernel_34980/2786190882.py:1: SettingWithCopyWarning: \n",
      "A value is trying to be set on a copy of a slice from a DataFrame.\n",
      "Try using .loc[row_indexer,col_indexer] = value instead\n",
      "\n",
      "See the caveats in the documentation: https://pandas.pydata.org/pandas-docs/stable/user_guide/indexing.html#returning-a-view-versus-a-copy\n",
      "  X_Categories[['Geography','Gender','Age','Mother Tongue']]=X_Categories['Coordinate'].str.split('.', expand=True)\n",
      "/tmp/ipykernel_34980/2786190882.py:1: SettingWithCopyWarning: \n",
      "A value is trying to be set on a copy of a slice from a DataFrame.\n",
      "Try using .loc[row_indexer,col_indexer] = value instead\n",
      "\n",
      "See the caveats in the documentation: https://pandas.pydata.org/pandas-docs/stable/user_guide/indexing.html#returning-a-view-versus-a-copy\n",
      "  X_Categories[['Geography','Gender','Age','Mother Tongue']]=X_Categories['Coordinate'].str.split('.', expand=True)\n",
      "/tmp/ipykernel_34980/2786190882.py:1: SettingWithCopyWarning: \n",
      "A value is trying to be set on a copy of a slice from a DataFrame.\n",
      "Try using .loc[row_indexer,col_indexer] = value instead\n",
      "\n",
      "See the caveats in the documentation: https://pandas.pydata.org/pandas-docs/stable/user_guide/indexing.html#returning-a-view-versus-a-copy\n",
      "  X_Categories[['Geography','Gender','Age','Mother Tongue']]=X_Categories['Coordinate'].str.split('.', expand=True)\n"
     ]
    },
    {
     "data": {
      "text/html": [
       "<div>\n",
       "<style scoped>\n",
       "    .dataframe tbody tr th:only-of-type {\n",
       "        vertical-align: middle;\n",
       "    }\n",
       "\n",
       "    .dataframe tbody tr th {\n",
       "        vertical-align: top;\n",
       "    }\n",
       "\n",
       "    .dataframe thead th {\n",
       "        text-align: right;\n",
       "    }\n",
       "</style>\n",
       "<table border=\"1\" class=\"dataframe\">\n",
       "  <thead>\n",
       "    <tr style=\"text-align: right;\">\n",
       "      <th></th>\n",
       "      <th>GEO</th>\n",
       "      <th>Gender (3)</th>\n",
       "      <th>Age (15A)</th>\n",
       "      <th>Mother tongue (331)</th>\n",
       "      <th>Coordinate</th>\n",
       "      <th>Geography</th>\n",
       "      <th>Gender</th>\n",
       "      <th>Age</th>\n",
       "      <th>Mother Tongue</th>\n",
       "    </tr>\n",
       "  </thead>\n",
       "  <tbody>\n",
       "    <tr>\n",
       "      <th>35420</th>\n",
       "      <td>Corner Brook (CA), N.L.</td>\n",
       "      <td>Men+</td>\n",
       "      <td>0 to 4 years</td>\n",
       "      <td>English</td>\n",
       "      <td>3.2.3.4</td>\n",
       "      <td>3</td>\n",
       "      <td>2</td>\n",
       "      <td>3</td>\n",
       "      <td>4</td>\n",
       "    </tr>\n",
       "    <tr>\n",
       "      <th>35421</th>\n",
       "      <td>Corner Brook (CA), N.L.</td>\n",
       "      <td>Men+</td>\n",
       "      <td>0 to 4 years</td>\n",
       "      <td>French</td>\n",
       "      <td>3.2.3.5</td>\n",
       "      <td>3</td>\n",
       "      <td>2</td>\n",
       "      <td>3</td>\n",
       "      <td>5</td>\n",
       "    </tr>\n",
       "    <tr>\n",
       "      <th>35425</th>\n",
       "      <td>Corner Brook (CA), N.L.</td>\n",
       "      <td>Men+</td>\n",
       "      <td>0 to 4 years</td>\n",
       "      <td>Blackfoot</td>\n",
       "      <td>3.2.3.9</td>\n",
       "      <td>3</td>\n",
       "      <td>2</td>\n",
       "      <td>3</td>\n",
       "      <td>9</td>\n",
       "    </tr>\n",
       "    <tr>\n",
       "      <th>35427</th>\n",
       "      <td>Corner Brook (CA), N.L.</td>\n",
       "      <td>Men+</td>\n",
       "      <td>0 to 4 years</td>\n",
       "      <td>Atikamekw</td>\n",
       "      <td>3.2.3.11</td>\n",
       "      <td>3</td>\n",
       "      <td>2</td>\n",
       "      <td>3</td>\n",
       "      <td>11</td>\n",
       "    </tr>\n",
       "    <tr>\n",
       "      <th>35429</th>\n",
       "      <td>Corner Brook (CA), N.L.</td>\n",
       "      <td>Men+</td>\n",
       "      <td>0 to 4 years</td>\n",
       "      <td>Ililimowin (Moose Cree)</td>\n",
       "      <td>3.2.3.13</td>\n",
       "      <td>3</td>\n",
       "      <td>2</td>\n",
       "      <td>3</td>\n",
       "      <td>13</td>\n",
       "    </tr>\n",
       "  </tbody>\n",
       "</table>\n",
       "</div>"
      ],
      "text/plain": [
       "                           GEO Gender (3)     Age (15A)  \\\n",
       "35420  Corner Brook (CA), N.L.       Men+  0 to 4 years   \n",
       "35421  Corner Brook (CA), N.L.       Men+  0 to 4 years   \n",
       "35425  Corner Brook (CA), N.L.       Men+  0 to 4 years   \n",
       "35427  Corner Brook (CA), N.L.       Men+  0 to 4 years   \n",
       "35429  Corner Brook (CA), N.L.       Men+  0 to 4 years   \n",
       "\n",
       "           Mother tongue (331) Coordinate Geography Gender Age Mother Tongue  \n",
       "35420                  English    3.2.3.4         3      2   3             4  \n",
       "35421                   French    3.2.3.5         3      2   3             5  \n",
       "35425                Blackfoot    3.2.3.9         3      2   3             9  \n",
       "35427                Atikamekw   3.2.3.11         3      2   3            11  \n",
       "35429  Ililimowin (Moose Cree)   3.2.3.13         3      2   3            13  "
      ]
     },
     "execution_count": 34,
     "metadata": {},
     "output_type": "execute_result"
    }
   ],
   "source": [
    "\n",
    "X_Categories[['Geography','Gender','Age','Mother Tongue']]=X_Categories['Coordinate'].str.split('.', expand=True)\n",
    "X_Categories.head()"
   ]
  },
  {
   "cell_type": "code",
   "execution_count": 35,
   "metadata": {},
   "outputs": [
    {
     "name": "stdout",
     "output_type": "stream",
     "text": [
      "<class 'pandas.core.frame.DataFrame'>\n",
      "Int64Index: 911856 entries, 35420 to 2591723\n",
      "Data columns (total 4 columns):\n",
      " #   Column         Non-Null Count   Dtype \n",
      "---  ------         --------------   ----- \n",
      " 0   Geography      911856 non-null  object\n",
      " 1   Gender         911856 non-null  object\n",
      " 2   Age            911856 non-null  object\n",
      " 3   Mother Tongue  911856 non-null  object\n",
      "dtypes: object(4)\n",
      "memory usage: 34.8+ MB\n"
     ]
    }
   ],
   "source": [
    "X = X_Categories[['Geography','Gender','Age','Mother Tongue']]\n",
    "X.info()"
   ]
  },
  {
   "cell_type": "code",
   "execution_count": 36,
   "metadata": {},
   "outputs": [],
   "source": [
    "#mlb = MultiLabelBinarizer(classes=Y_Categories.columns)\n",
    "#y = mlb.fit(Y_Categories)\n",
    "#y"
   ]
  },
  {
   "cell_type": "code",
   "execution_count": 37,
   "metadata": {},
   "outputs": [
    {
     "data": {
      "text/html": [
       "<div>\n",
       "<style scoped>\n",
       "    .dataframe tbody tr th:only-of-type {\n",
       "        vertical-align: middle;\n",
       "    }\n",
       "\n",
       "    .dataframe tbody tr th {\n",
       "        vertical-align: top;\n",
       "    }\n",
       "\n",
       "    .dataframe thead th {\n",
       "        text-align: right;\n",
       "    }\n",
       "</style>\n",
       "<table border=\"1\" class=\"dataframe\">\n",
       "  <thead>\n",
       "    <tr style=\"text-align: right;\">\n",
       "      <th></th>\n",
       "      <th>Knowledge of official languages (5):English only[2]</th>\n",
       "      <th>Knowledge of official languages (5):French only[3]</th>\n",
       "      <th>Knowledge of official languages (5):English and French[4]</th>\n",
       "      <th>Knowledge of official languages (5):Neither English nor French[5]</th>\n",
       "    </tr>\n",
       "  </thead>\n",
       "  <tbody>\n",
       "    <tr>\n",
       "      <th>35420</th>\n",
       "      <td>525</td>\n",
       "      <td>0</td>\n",
       "      <td>0</td>\n",
       "      <td>0</td>\n",
       "    </tr>\n",
       "    <tr>\n",
       "      <th>35421</th>\n",
       "      <td>0</td>\n",
       "      <td>0</td>\n",
       "      <td>0</td>\n",
       "      <td>0</td>\n",
       "    </tr>\n",
       "    <tr>\n",
       "      <th>35425</th>\n",
       "      <td>0</td>\n",
       "      <td>0</td>\n",
       "      <td>0</td>\n",
       "      <td>0</td>\n",
       "    </tr>\n",
       "    <tr>\n",
       "      <th>35427</th>\n",
       "      <td>0</td>\n",
       "      <td>0</td>\n",
       "      <td>0</td>\n",
       "      <td>0</td>\n",
       "    </tr>\n",
       "    <tr>\n",
       "      <th>35429</th>\n",
       "      <td>0</td>\n",
       "      <td>0</td>\n",
       "      <td>0</td>\n",
       "      <td>0</td>\n",
       "    </tr>\n",
       "  </tbody>\n",
       "</table>\n",
       "</div>"
      ],
      "text/plain": [
       "       Knowledge of official languages (5):English only[2]  \\\n",
       "35420                                                525     \n",
       "35421                                                  0     \n",
       "35425                                                  0     \n",
       "35427                                                  0     \n",
       "35429                                                  0     \n",
       "\n",
       "       Knowledge of official languages (5):French only[3]  \\\n",
       "35420                                                  0    \n",
       "35421                                                  0    \n",
       "35425                                                  0    \n",
       "35427                                                  0    \n",
       "35429                                                  0    \n",
       "\n",
       "       Knowledge of official languages (5):English and French[4]  \\\n",
       "35420                                                  0           \n",
       "35421                                                  0           \n",
       "35425                                                  0           \n",
       "35427                                                  0           \n",
       "35429                                                  0           \n",
       "\n",
       "       Knowledge of official languages (5):Neither English nor French[5]  \n",
       "35420                                                  0                  \n",
       "35421                                                  0                  \n",
       "35425                                                  0                  \n",
       "35427                                                  0                  \n",
       "35429                                                  0                  "
      ]
     },
     "execution_count": 37,
     "metadata": {},
     "output_type": "execute_result"
    }
   ],
   "source": [
    "Y_Categories.head()"
   ]
  },
  {
   "cell_type": "code",
   "execution_count": 38,
   "metadata": {},
   "outputs": [
    {
     "data": {
      "text/plain": [
       "\"\\nY_Categories['Target Vector'] = Y_Categories.loc[:, Y_Categories.columns != 'Target Vector'].values.tolist()\\nY_Categories.head()\\nY = Y_Categories['Target Vector']\\nts = pd.Series(pd.arrays.SparseArray(Y_Categories['Target Vector']))\\nts.head()\\nY = MultiLabelBinarizer()\\nY.fit(Y_Categories['Target Vector'])\\n\""
      ]
     },
     "execution_count": 38,
     "metadata": {},
     "output_type": "execute_result"
    }
   ],
   "source": [
    "'''\n",
    "Y_Categories['Target Vector'] = Y_Categories.loc[:, Y_Categories.columns != 'Target Vector'].values.tolist()\n",
    "Y_Categories.head()\n",
    "Y = Y_Categories['Target Vector']\n",
    "ts = pd.Series(pd.arrays.SparseArray(Y_Categories['Target Vector']))\n",
    "ts.head()\n",
    "Y = MultiLabelBinarizer()\n",
    "Y.fit(Y_Categories['Target Vector'])\n",
    "'''"
   ]
  },
  {
   "cell_type": "markdown",
   "metadata": {},
   "source": [
    "Originally had the test set as 30% of the output data, however this crashed when the decision_tree predictor function was run. As such, reduced the test_size down to 25%. This still gives 227,964 records for the test set. "
   ]
  },
  {
   "cell_type": "markdown",
   "metadata": {},
   "source": [
    "## Model evaluation"
   ]
  },
  {
   "cell_type": "code",
   "execution_count": 39,
   "metadata": {},
   "outputs": [
    {
     "name": "stdout",
     "output_type": "stream",
     "text": [
      "683892 683892 227964 227964\n"
     ]
    }
   ],
   "source": [
    "X_train, X_test, Y_train, Y_test = train_test_split(X,Y_Categories, test_size=0.25,random_state=42)\n",
    "print(len(X_train),len(Y_train),len(X_test),len(Y_test))"
   ]
  },
  {
   "cell_type": "code",
   "execution_count": 40,
   "metadata": {},
   "outputs": [],
   "source": [
    "Y_EngOnly_train = Y_train['Knowledge of official languages (5):English only[2]']\n",
    "Y_EngOnly_test = Y_test['Knowledge of official languages (5):English only[2]']\n",
    "Y_FrOnly_train = Y_train['Knowledge of official languages (5):French only[3]']\n",
    "Y_FrOnly_test = Y_test['Knowledge of official languages (5):French only[3]']\n",
    "Y_Bilang_train = Y_train['Knowledge of official languages (5):English and French[4]']\n",
    "Y_Bilang_test = Y_test['Knowledge of official languages (5):English and French[4]']\n",
    "Y_Neither_train = Y_train['Knowledge of official languages (5):Neither English nor French[5]']\n",
    "Y_Neither_test = Y_test['Knowledge of official languages (5):Neither English nor French[5]']"
   ]
  },
  {
   "cell_type": "code",
   "execution_count": 40,
   "metadata": {},
   "outputs": [
    {
     "data": {
      "text/html": [
       "<div>\n",
       "<style scoped>\n",
       "    .dataframe tbody tr th:only-of-type {\n",
       "        vertical-align: middle;\n",
       "    }\n",
       "\n",
       "    .dataframe tbody tr th {\n",
       "        vertical-align: top;\n",
       "    }\n",
       "\n",
       "    .dataframe thead th {\n",
       "        text-align: right;\n",
       "    }\n",
       "</style>\n",
       "<table border=\"1\" class=\"dataframe\">\n",
       "  <thead>\n",
       "    <tr style=\"text-align: right;\">\n",
       "      <th></th>\n",
       "      <th>Geography</th>\n",
       "      <th>Gender</th>\n",
       "      <th>Age</th>\n",
       "      <th>Mother Tongue</th>\n",
       "    </tr>\n",
       "  </thead>\n",
       "  <tbody>\n",
       "    <tr>\n",
       "      <th>768626</th>\n",
       "      <td>52</td>\n",
       "      <td>2</td>\n",
       "      <td>13</td>\n",
       "      <td>45</td>\n",
       "    </tr>\n",
       "    <tr>\n",
       "      <th>594718</th>\n",
       "      <td>40</td>\n",
       "      <td>3</td>\n",
       "      <td>12</td>\n",
       "      <td>243</td>\n",
       "    </tr>\n",
       "    <tr>\n",
       "      <th>2052890</th>\n",
       "      <td>138</td>\n",
       "      <td>3</td>\n",
       "      <td>8</td>\n",
       "      <td>29</td>\n",
       "    </tr>\n",
       "    <tr>\n",
       "      <th>1665636</th>\n",
       "      <td>112</td>\n",
       "      <td>3</td>\n",
       "      <td>8</td>\n",
       "      <td>45</td>\n",
       "    </tr>\n",
       "    <tr>\n",
       "      <th>549509</th>\n",
       "      <td>37</td>\n",
       "      <td>3</td>\n",
       "      <td>11</td>\n",
       "      <td>50</td>\n",
       "    </tr>\n",
       "  </tbody>\n",
       "</table>\n",
       "</div>"
      ],
      "text/plain": [
       "        Geography Gender Age Mother Tongue\n",
       "768626         52      2  13            45\n",
       "594718         40      3  12           243\n",
       "2052890       138      3   8            29\n",
       "1665636       112      3   8            45\n",
       "549509         37      3  11            50"
      ]
     },
     "execution_count": 40,
     "metadata": {},
     "output_type": "execute_result"
    }
   ],
   "source": [
    "X_names = list(X_train.columns)\n",
    "X_train.head()"
   ]
  },
  {
   "cell_type": "markdown",
   "metadata": {},
   "source": [
    "Model evaluation - time and memory usages"
   ]
  },
  {
   "cell_type": "code",
   "execution_count": null,
   "metadata": {},
   "outputs": [],
   "source": [
    "%%timeit\n",
    "mtTreeEngOnly = DecisionTreeClassifier(max_depth=8)\n",
    "mtTreeEngOnly=mtTreeEngOnly.fit(X_train,Y_EngOnly_train)"
   ]
  },
  {
   "cell_type": "code",
   "execution_count": 42,
   "metadata": {},
   "outputs": [
    {
     "name": "stdout",
     "output_type": "stream",
     "text": [
      "peak memory: 2153.30 MiB, increment: 0.12 MiB\n"
     ]
    }
   ],
   "source": [
    "%%memit\n",
    "mtTreeEngOnly = DecisionTreeClassifier(max_depth=8)\n",
    "mtTreeEngOnly=mtTreeEngOnly.fit(X_train,Y_EngOnly_train)\n"
   ]
  },
  {
   "cell_type": "markdown",
   "metadata": {},
   "source": [
    "Model Training Time: \n",
    "\n",
    "2.2 s ± 209 ms per loop (mean ± std. dev. of 7 runs, 1 loop each)\n",
    "\n",
    "peak memory: 2792.07 MiB, increment: 0.62 MiB\n"
   ]
  },
  {
   "cell_type": "code",
   "execution_count": 43,
   "metadata": {},
   "outputs": [
    {
     "name": "stderr",
     "output_type": "stream",
     "text": [
      "/home/grace/anaconda3/lib/python3.11/site-packages/sklearn/model_selection/_split.py:725: UserWarning: The least populated class in y has only 1 members, which is less than n_splits=5.\n",
      "  warnings.warn(\n",
      "/home/grace/anaconda3/lib/python3.11/site-packages/sklearn/model_selection/_split.py:725: UserWarning: The least populated class in y has only 1 members, which is less than n_splits=5.\n",
      "  warnings.warn(\n",
      "/home/grace/anaconda3/lib/python3.11/site-packages/sklearn/model_selection/_split.py:725: UserWarning: The least populated class in y has only 1 members, which is less than n_splits=5.\n",
      "  warnings.warn(\n",
      "/home/grace/anaconda3/lib/python3.11/site-packages/sklearn/model_selection/_split.py:725: UserWarning: The least populated class in y has only 1 members, which is less than n_splits=5.\n",
      "  warnings.warn(\n",
      "/home/grace/anaconda3/lib/python3.11/site-packages/sklearn/model_selection/_split.py:725: UserWarning: The least populated class in y has only 1 members, which is less than n_splits=5.\n",
      "  warnings.warn(\n",
      "/home/grace/anaconda3/lib/python3.11/site-packages/sklearn/model_selection/_split.py:725: UserWarning: The least populated class in y has only 1 members, which is less than n_splits=5.\n",
      "  warnings.warn(\n",
      "/home/grace/anaconda3/lib/python3.11/site-packages/sklearn/model_selection/_split.py:725: UserWarning: The least populated class in y has only 1 members, which is less than n_splits=5.\n",
      "  warnings.warn(\n",
      "/home/grace/anaconda3/lib/python3.11/site-packages/sklearn/model_selection/_split.py:725: UserWarning: The least populated class in y has only 1 members, which is less than n_splits=5.\n",
      "  warnings.warn(\n"
     ]
    },
    {
     "name": "stdout",
     "output_type": "stream",
     "text": [
      "12.3 s ± 608 ms per loop (mean ± std. dev. of 7 runs, 1 loop each)\n"
     ]
    }
   ],
   "source": [
    "%%timeit\n",
    "\n",
    "crossValEngOnly = cross_validate(DecisionTreeClassifier(max_depth=8).fit(X_train,Y_EngOnly_train),X_train,Y_EngOnly_train, cv=5, scoring=('neg_mean_absolute_error', 'neg_mean_squared_error','matthews_corrcoef'))\n"
   ]
  },
  {
   "cell_type": "code",
   "execution_count": 44,
   "metadata": {},
   "outputs": [
    {
     "name": "stderr",
     "output_type": "stream",
     "text": [
      "/home/grace/anaconda3/lib/python3.11/site-packages/sklearn/model_selection/_split.py:725: UserWarning: The least populated class in y has only 1 members, which is less than n_splits=5.\n",
      "  warnings.warn(\n"
     ]
    },
    {
     "name": "stdout",
     "output_type": "stream",
     "text": [
      "peak memory: 3384.18 MiB, increment: 1246.60 MiB\n"
     ]
    }
   ],
   "source": [
    "%%memit\n",
    "crossValEngOnly = cross_validate(DecisionTreeClassifier(max_depth=8).fit(X_train,Y_EngOnly_train),X_train,Y_EngOnly_train, cv=5, scoring=('neg_mean_absolute_error', 'neg_mean_squared_error','matthews_corrcoef'))\n"
   ]
  },
  {
   "cell_type": "markdown",
   "metadata": {},
   "source": [
    "Cross Validation Time: \n",
    "\n",
    "15.2 s ± 1.67 s per loop (mean ± std. dev. of 7 runs, 1 loop each)\n",
    "\n",
    "peak memory: 3606.84 MiB, increment: 814.77 MiB"
   ]
  },
  {
   "cell_type": "markdown",
   "metadata": {},
   "source": [
    "Each of the models will have k-fold cross-validation applied on the training data. We will start with k=5. "
   ]
  },
  {
   "cell_type": "code",
   "execution_count": 41,
   "metadata": {},
   "outputs": [
    {
     "name": "stderr",
     "output_type": "stream",
     "text": [
      "/home/grace/anaconda3/lib/python3.11/site-packages/sklearn/model_selection/_split.py:725: UserWarning: The least populated class in y has only 1 members, which is less than n_splits=5.\n",
      "  warnings.warn(\n",
      "/home/grace/anaconda3/lib/python3.11/site-packages/sklearn/model_selection/_split.py:725: UserWarning: The least populated class in y has only 1 members, which is less than n_splits=5.\n",
      "  warnings.warn(\n",
      "/home/grace/anaconda3/lib/python3.11/site-packages/sklearn/model_selection/_split.py:725: UserWarning: The least populated class in y has only 1 members, which is less than n_splits=5.\n",
      "  warnings.warn(\n",
      "/home/grace/anaconda3/lib/python3.11/site-packages/sklearn/model_selection/_split.py:725: UserWarning: The least populated class in y has only 1 members, which is less than n_splits=5.\n",
      "  warnings.warn(\n"
     ]
    }
   ],
   "source": [
    "#%%timeit\n",
    "\n",
    "crossValEngOnly5 = cross_validate(DecisionTreeClassifier(max_depth=8).fit(X_train,Y_EngOnly_train),X_train,Y_EngOnly_train, cv=5, scoring=('neg_mean_absolute_error', 'neg_mean_squared_error','matthews_corrcoef'))\n",
    "crossValFrOnly5 = cross_validate(DecisionTreeClassifier(max_depth=8).fit(X_train,Y_FrOnly_train),X_train,Y_FrOnly_train, cv=5, scoring=('neg_mean_absolute_error', 'neg_mean_squared_error','matthews_corrcoef'))\n",
    "crossValBilang5 = cross_validate(DecisionTreeClassifier(max_depth=8).fit(X_train,Y_Bilang_train),X_train,Y_Bilang_train, cv=5, scoring=('neg_mean_absolute_error', 'neg_mean_squared_error','matthews_corrcoef'))\n",
    "crossValNeither5 = cross_validate(DecisionTreeClassifier(max_depth=8).fit(X_train,Y_Neither_train),X_train,Y_Neither_train, cv=5, scoring=('neg_mean_absolute_error', 'neg_mean_squared_error','matthews_corrcoef'))\n"
   ]
  },
  {
   "cell_type": "markdown",
   "metadata": {},
   "source": [
    "Cross-validation time on all four models: \n",
    "51.3 s ± 1.91 s per loop (mean ± std. dev. of 7 runs, 1 loop each)"
   ]
  },
  {
   "cell_type": "code",
   "execution_count": 42,
   "metadata": {},
   "outputs": [
    {
     "name": "stdout",
     "output_type": "stream",
     "text": [
      "5 Fold Cross Validation Decision Tree\n",
      "Metrics for English Only \n",
      "\n",
      " 0.12 mean and 0.01 std Matthews Correlation Coefficient \n",
      " -21.83 mean and 2.12 std Mean Absolute Error \n",
      " -858212.45 mean and 288894.46 std Mean Squared Error\n",
      "\n",
      "Matthews Correlation  [0.13137006 0.12247655 0.12899182 0.12812986 0.11096891]\n",
      "Mean Absolute Error  [-25.86720184 -21.81040218 -20.44005615 -19.90133647 -21.11582272]\n",
      "Mean Squared Error  [-1402143.06472485  -760499.36960352  -535290.1479039   -794113.63102984\n",
      "  -799016.02231353]\n",
      "Fit time  1.6166035175323485\n",
      "Score time  1.1869153022766112\n",
      "\n",
      "\n",
      "\n",
      "Metrics for French Only \n",
      "\n",
      " 0.23 mean and 0.01 std Matthews Correlation Coefficient \n",
      " -2.94 mean and 0.74 std Mean Absolute Error \n",
      " -97864.67 mean and 44123.85 std Mean Squared Error\n",
      "\n",
      "Matthews Correlation  [0.23536455 0.22094063 0.22023311 0.22613083 0.22255916]\n",
      "Mean Absolute Error  [-4.17205858 -2.15120742 -3.31957625 -2.30965506 -2.75175832]\n",
      "Mean Squared Error [-183711.62020486  -70907.46496173  -94854.32324643  -64099.87497989\n",
      "  -75750.06580006]\n",
      "Fit time  1.670566940307617\n",
      "Score time  0.27403931617736815\n",
      "\n",
      "\n",
      "\n",
      "Metrics for Both English and French \n",
      "\n",
      " 0.25 mean and 0.00 std Matthews Correlation Coefficient \n",
      " -5.98 mean and 0.52 std Mean Absolute Error \n",
      " -182186.74 mean and 58111.55 std Mean Squared Error\n",
      "\n",
      "Matthews Correlation  [0.25567659 0.24629002 0.25434834 0.25564739 0.25254124]\n",
      "Mean Absolute Error  [-6.735281   -6.48633928 -5.63917443 -5.46491395 -5.59443039]\n",
      "Mean Squared Error [-254677.99351509 -223532.36516571 -167093.3565705   -83736.63235316\n",
      " -181893.33792715]\n",
      "Fit time  1.5557636260986327\n",
      "Score time  0.2841519832611084\n",
      "\n",
      "\n",
      "\n",
      "Metrics for Neither English nor French \n",
      "\n",
      " 0.09 mean and 0.01 std Matthews Correlation Coefficient \n",
      " -0.73 mean and 0.06 std Mean Absolute Error \n",
      " -1466.53 mean and 351.72 std Mean Squared Error\n",
      "\n",
      "Matthews Correlation  [0.0983984  0.08922792 0.07795594 0.08632189 0.08587055]\n",
      "Mean Absolute Error  [-0.64860103 -0.80823811 -0.69799237 -0.79120911 -0.71148138]\n",
      "Mean Squared Error [ -992.38388203 -2003.04286477 -1201.57189022 -1654.81766073\n",
      " -1480.82202547]\n",
      "Fit time  1.6307359695434571\n",
      "Score time  0.19047694206237792\n"
     ]
    }
   ],
   "source": [
    "print(\"5 Fold Cross Validation Decision Tree\")\n",
    "print(\"Metrics for English Only \\n\\n %0.2f mean and %0.2f std Matthews Correlation Coefficient \\n %0.2f mean and %0.2f std Mean Absolute Error \\n %0.2f mean and %0.2f std Mean Squared Error\" \n",
    "      % (crossValEngOnly5['test_matthews_corrcoef'].mean(), crossValEngOnly5['test_matthews_corrcoef'].std(), crossValEngOnly5['test_neg_mean_absolute_error'].mean(),crossValEngOnly5['test_neg_mean_absolute_error'].std(), crossValEngOnly5['test_neg_mean_squared_error'].mean(), crossValEngOnly5['test_neg_mean_squared_error'].std()))\n",
    "\n",
    "print(\"\\nMatthews Correlation \", crossValEngOnly5['test_matthews_corrcoef'])\n",
    "print(\"Mean Absolute Error \", crossValEngOnly5['test_neg_mean_absolute_error'] )\n",
    "print(\"Mean Squared Error \" ,crossValEngOnly5['test_neg_mean_squared_error'])\n",
    "print(\"Fit time \", crossValEngOnly5['fit_time'].mean())\n",
    "print(\"Score time \", crossValEngOnly5['score_time'].mean())\n",
    "print(\"\\n\\n\")\n",
    "print(\"Metrics for French Only \\n\\n %0.2f mean and %0.2f std Matthews Correlation Coefficient \\n %0.2f mean and %0.2f std Mean Absolute Error \\n %0.2f mean and %0.2f std Mean Squared Error\" \n",
    "      % (crossValFrOnly5['test_matthews_corrcoef'].mean(),crossValFrOnly5['test_matthews_corrcoef'].std(), crossValFrOnly5['test_neg_mean_absolute_error'].mean(),crossValFrOnly5['test_neg_mean_absolute_error'].std(), crossValFrOnly5['test_neg_mean_squared_error'].mean(),crossValFrOnly5['test_neg_mean_squared_error'].std()))\n",
    "print(\"\\nMatthews Correlation \", crossValFrOnly5['test_matthews_corrcoef'])\n",
    "print(\"Mean Absolute Error \", crossValFrOnly5['test_neg_mean_absolute_error'] )\n",
    "print(\"Mean Squared Error\" ,crossValFrOnly5['test_neg_mean_squared_error'])\n",
    "print(\"Fit time \", crossValFrOnly5['fit_time'].mean())\n",
    "print(\"Score time \", crossValFrOnly5['score_time'].mean())\n",
    "print(\"\\n\\n\")\n",
    "print(\"Metrics for Both English and French \\n\\n %0.2f mean and %0.2f std Matthews Correlation Coefficient \\n %0.2f mean and %0.2f std Mean Absolute Error \\n %0.2f mean and %0.2f std Mean Squared Error\" \n",
    "      % (crossValBilang5['test_matthews_corrcoef'].mean(),crossValBilang5['test_matthews_corrcoef'].std(), crossValBilang5['test_neg_mean_absolute_error'].mean(),crossValBilang5['test_neg_mean_absolute_error'].std(), crossValBilang5['test_neg_mean_squared_error'].mean(), crossValBilang5['test_neg_mean_squared_error'].std()))\n",
    "print(\"\\nMatthews Correlation \", crossValBilang5['test_matthews_corrcoef'])\n",
    "print(\"Mean Absolute Error \", crossValBilang5['test_neg_mean_absolute_error'] )\n",
    "print(\"Mean Squared Error\" ,crossValBilang5['test_neg_mean_squared_error'])\n",
    "print(\"Fit time \", crossValBilang5['fit_time'].mean())\n",
    "print(\"Score time \", crossValBilang5['score_time'].mean())\n",
    "print(\"\\n\\n\")\n",
    "print(\"Metrics for Neither English nor French \\n\\n %0.2f mean and %0.2f std Matthews Correlation Coefficient \\n %0.2f mean and %0.2f std Mean Absolute Error \\n %0.2f mean and %0.2f std Mean Squared Error\" \n",
    "      % (crossValNeither5['test_matthews_corrcoef'].mean(),crossValNeither5['test_matthews_corrcoef'].std(), crossValNeither5['test_neg_mean_absolute_error'].mean(),crossValNeither5['test_neg_mean_absolute_error'].std(), crossValNeither5['test_neg_mean_squared_error'].mean(),crossValNeither5['test_neg_mean_squared_error'].std()))\n",
    "print(\"\\nMatthews Correlation \", crossValNeither5['test_matthews_corrcoef'])\n",
    "print(\"Mean Absolute Error \", crossValNeither5['test_neg_mean_absolute_error'] )\n",
    "print(\"Mean Squared Error\" ,crossValNeither5['test_neg_mean_squared_error'])\n",
    "print(\"Fit time \", crossValNeither5['fit_time'].mean())\n",
    "print(\"Score time \", crossValNeither5['score_time'].mean())"
   ]
  },
  {
   "cell_type": "code",
   "execution_count": 43,
   "metadata": {},
   "outputs": [],
   "source": [
    "#%%timeit\n",
    "engOnlyLR = cross_validate(LinearRegression().fit(X_train,Y_EngOnly_train), X_train,Y_EngOnly_train,cv=5,scoring=('neg_mean_absolute_error', 'neg_mean_squared_error'))\n",
    "frOnlyLR = cross_validate(LinearRegression().fit(X_train,Y_FrOnly_train), X_train,Y_FrOnly_train,cv=5,scoring=('neg_mean_absolute_error', 'neg_mean_squared_error'))\n",
    "bilangLR = cross_validate(LinearRegression().fit(X_train,Y_Bilang_train), X_train,Y_Bilang_train,cv=5,scoring=('neg_mean_absolute_error', 'neg_mean_squared_error'))\n",
    "neitherLR = cross_validate(LinearRegression().fit(X_train,Y_Neither_train), X_train,Y_Neither_train,cv=5,scoring=('neg_mean_absolute_error', 'neg_mean_squared_error'))"
   ]
  },
  {
   "cell_type": "code",
   "execution_count": 45,
   "metadata": {},
   "outputs": [
    {
     "name": "stdout",
     "output_type": "stream",
     "text": [
      "5 Fold Cross Validation Linear Regression\n",
      "Metrics for English Only \n",
      "\n",
      "  -52.59 mean and 0.99 std Mean Absolute Error \n",
      " -880639.42 mean and 252979.02 std Mean Squared Error\n",
      "Mean Absolute Error  [-53.07174397 -51.17338107 -54.16888675 -52.23153414 -52.30040055]\n",
      "Mean Squared Error  [ -672839.64412356  -642753.8863441  -1318410.16388243 -1004068.67105767\n",
      "  -765124.71042919]\n",
      "Fit time  0.49303603172302246\n",
      "Score time  0.09295215606689453\n",
      "\n",
      "\n",
      "\n",
      "5 Fold Cross Validation\n",
      "Metrics for French Only \n",
      "\n",
      "  -9.15 mean and 0.43 std Mean Absolute Error \n",
      " -103347.65 mean and 51837.02 std Mean Squared Error\n",
      "Mean Absolute Error  [-9.87889024 -9.3232363  -9.04385056 -8.89659613 -8.62868648]\n",
      "Mean Squared Error  [-168978.88100548 -106003.27285378 -149003.59848437  -62882.65592441\n",
      "  -29869.8365656 ]\n",
      "Fit time  0.46958150863647463\n",
      "Score time  0.09231619834899903\n",
      "\n",
      "\n",
      "\n",
      "5 Fold Cross Validation\n",
      "Metrics for Bilingual \n",
      "\n",
      "  -15.03 mean and 0.84 std Mean Absolute Error \n",
      " -182587.78 mean and 147774.86 std Mean Squared Error\n",
      "Mean Absolute Error  [-16.48347977 -15.43704955 -14.61350797 -14.41482879 -14.20075122]\n",
      "Mean Squared Error  [-431097.16992345 -268330.62902331 -113617.11071025  -58137.78467608\n",
      "  -41756.19495623]\n",
      "Fit time  0.4834122180938721\n",
      "Score time  0.09820399284362794\n",
      "\n",
      "\n",
      "\n",
      "5 Fold Cross Validation\n",
      "Metrics for Neither \n",
      "\n",
      "  -1.60 mean and 0.04 std Mean Absolute Error \n",
      " -1465.85 mean and 350.41 std Mean Squared Error\n",
      "Mean Absolute Error  [-1.62633024 -1.51693329 -1.60099684 -1.64764155 -1.61357406]\n",
      "Mean Squared Error  [-1636.74585939  -836.56494575 -1468.89376336 -1487.30000096\n",
      " -1899.75129286]\n",
      "Fit time  0.5194432735443115\n",
      "Score time  0.09853777885437012\n"
     ]
    }
   ],
   "source": [
    "print(\"5 Fold Cross Validation Linear Regression\")\n",
    "print(\"Metrics for English Only \\n\\n  %0.2f mean and %0.2f std Mean Absolute Error \\n %0.2f mean and %0.2f std Mean Squared Error\" \n",
    "      % (engOnlyLR['test_neg_mean_absolute_error'].mean(),engOnlyLR['test_neg_mean_absolute_error'].std(), engOnlyLR['test_neg_mean_squared_error'].mean(), engOnlyLR['test_neg_mean_squared_error'].std()))\n",
    "print(\"Mean Absolute Error \", engOnlyLR['test_neg_mean_absolute_error'] )\n",
    "print(\"Mean Squared Error \" ,engOnlyLR['test_neg_mean_squared_error'])\n",
    "print(\"Fit time \", engOnlyLR['fit_time'].mean())\n",
    "print(\"Score time \", engOnlyLR['score_time'].mean())\n",
    "print(\"\\n\\n\")\n",
    "print(\"5 Fold Cross Validation\")\n",
    "print(\"Metrics for French Only \\n\\n  %0.2f mean and %0.2f std Mean Absolute Error \\n %0.2f mean and %0.2f std Mean Squared Error\" \n",
    "      % (frOnlyLR['test_neg_mean_absolute_error'].mean(),frOnlyLR['test_neg_mean_absolute_error'].std(), frOnlyLR['test_neg_mean_squared_error'].mean(), frOnlyLR['test_neg_mean_squared_error'].std()))\n",
    "print(\"Mean Absolute Error \", frOnlyLR['test_neg_mean_absolute_error'] )\n",
    "print(\"Mean Squared Error \" ,frOnlyLR['test_neg_mean_squared_error'])\n",
    "print(\"Fit time \", frOnlyLR['fit_time'].mean())\n",
    "print(\"Score time \", frOnlyLR['score_time'].mean())\n",
    "print(\"\\n\\n\")\n",
    "\n",
    "print(\"Metrics for Bilingual \\n\\n  %0.2f mean and %0.2f std Mean Absolute Error \\n %0.2f mean and %0.2f std Mean Squared Error\" \n",
    "      % (bilangLR['test_neg_mean_absolute_error'].mean(),bilangLR['test_neg_mean_absolute_error'].std(), bilangLR['test_neg_mean_squared_error'].mean(), bilangLR['test_neg_mean_squared_error'].std()))\n",
    "print(\"Mean Absolute Error \", bilangLR['test_neg_mean_absolute_error'] )\n",
    "print(\"Mean Squared Error \" ,bilangLR['test_neg_mean_squared_error'])\n",
    "print(\"Fit time \", bilangLR['fit_time'].mean())\n",
    "print(\"Score time \", bilangLR['score_time'].mean())\n",
    "print(\"\\n\\n\")\n",
    "print(\"Metrics for Neither \\n\\n  %0.2f mean and %0.2f std Mean Absolute Error \\n %0.2f mean and %0.2f std Mean Squared Error\" \n",
    "      % (neitherLR['test_neg_mean_absolute_error'].mean(),neitherLR['test_neg_mean_absolute_error'].std(), neitherLR['test_neg_mean_squared_error'].mean(), neitherLR['test_neg_mean_squared_error'].std()))\n",
    "print(\"Mean Absolute Error \", neitherLR['test_neg_mean_absolute_error'] )\n",
    "print(\"Mean Squared Error \" ,neitherLR['test_neg_mean_squared_error'])\n",
    "print(\"Fit time \", neitherLR['fit_time'].mean())\n",
    "print(\"Score time \", neitherLR['score_time'].mean())"
   ]
  },
  {
   "cell_type": "code",
   "execution_count": 51,
   "metadata": {},
   "outputs": [],
   "source": [
    "engOnlyRF5 = cross_validate(RandomForestRegressor().fit(X_train,Y_EngOnly_train),X_train,Y_EngOnly_train,cv=5, scoring=('neg_mean_absolute_error', 'neg_mean_squared_error'))\n",
    "frOnlyRF5 = cross_validate(RandomForestRegressor().fit(X_train,Y_FrOnly_train),X_train,Y_FrOnly_train,cv=5, scoring=('neg_mean_absolute_error', 'neg_mean_squared_error'))\n",
    "bilangRF5 = cross_validate(RandomForestRegressor().fit(X_train,Y_Bilang_train),X_train,Y_Bilang_train,cv=5, scoring=('neg_mean_absolute_error', 'neg_mean_squared_error'))\n",
    "neitherRF5 = cross_validate(RandomForestRegressor().fit(X_train,Y_Neither_train),X_train,Y_Neither_train,cv=5, scoring=('neg_mean_absolute_error', 'neg_mean_squared_error'))"
   ]
  },
  {
   "cell_type": "code",
   "execution_count": 53,
   "metadata": {},
   "outputs": [
    {
     "name": "stdout",
     "output_type": "stream",
     "text": [
      "5 Fold Cross Validation Random Forest\n",
      "Metrics for English Only \n",
      "\n",
      "  -4.54 mean and 0.36 std Mean Absolute Error \n",
      " -19735.79 mean and 10160.64 std Mean Squared Error\n",
      "Mean Absolute Error  [-5.14129362 -4.23863276 -4.78010974 -4.20623273 -4.33219999]\n",
      "Mean Squared Error  [-18984.87132111 -15663.40343413 -39427.0434452  -12922.63288818\n",
      " -11680.98944361]\n",
      "Fit time  100.28504242897034\n",
      "Score time  2.2673812389373778\n",
      "\n",
      "\n",
      "\n",
      "Metrics for French Only \n",
      "\n",
      "  -0.77 mean and 0.16 std Mean Absolute Error \n",
      " -5675.54 mean and 3519.88 std Mean Squared Error\n",
      "Mean Absolute Error  [-0.9349626  -0.82231593 -0.77170269 -0.83421749 -0.46421318]\n",
      "Mean Squared Error  [ -4829.12237864  -3838.14972337  -8257.377451   -10785.38419402\n",
      "   -667.64762369]\n",
      "Fit time  68.8757480621338\n",
      "Score time  0.9868324279785157\n",
      "\n",
      "\n",
      "\n",
      "Metrics for Bilingual \n",
      "\n",
      "  -1.60 mean and 0.40 std Mean Absolute Error \n",
      " -7427.72 mean and 5664.99 std Mean Squared Error\n",
      "Mean Absolute Error  [-2.32594002 -1.62424751 -1.5274463  -1.3793015  -1.12920024]\n",
      "Mean Squared Error  [-17572.26204138  -8863.058009    -5856.03314815  -3635.32001857\n",
      "  -1211.91551973]\n",
      "Fit time  88.75043725967407\n",
      "Score time  1.5432844638824463\n",
      "\n",
      "\n",
      "\n",
      "Metrics for Neither \n",
      "\n",
      "  -0.48 mean and 0.03 std Mean Absolute Error \n",
      " -294.41 mean and 127.70 std Mean Squared Error\n",
      "Mean Absolute Error  [-0.47260837 -0.48521776 -0.4368261  -0.53066465 -0.46311212]\n",
      "Mean Squared Error  [-275.22126555 -352.0448079  -154.36293764 -508.11967818 -182.3221727 ]\n",
      "Fit time  85.17385458946228\n",
      "Score time  1.4113144397735595\n"
     ]
    }
   ],
   "source": [
    "print(\"5 Fold Cross Validation Random Forest\")\n",
    "print(\"Metrics for English Only \\n\\n  %0.2f mean and %0.2f std Mean Absolute Error \\n %0.2f mean and %0.2f std Mean Squared Error\" \n",
    "      % (engOnlyRF5['test_neg_mean_absolute_error'].mean(),engOnlyRF5['test_neg_mean_absolute_error'].std(), engOnlyRF5['test_neg_mean_squared_error'].mean(), engOnlyRF5['test_neg_mean_squared_error'].std()))\n",
    "print(\"Mean Absolute Error \", engOnlyRF5['test_neg_mean_absolute_error'] )\n",
    "print(\"Mean Squared Error \" ,engOnlyRF5['test_neg_mean_squared_error'])\n",
    "print(\"Fit time \", engOnlyRF5['fit_time'].mean())\n",
    "print(\"Score time \", engOnlyRF5['score_time'].mean())\n",
    "print(\"\\n\\n\")\n",
    "print(\"Metrics for French Only \\n\\n  %0.2f mean and %0.2f std Mean Absolute Error \\n %0.2f mean and %0.2f std Mean Squared Error\" \n",
    "      % (frOnlyRF5['test_neg_mean_absolute_error'].mean(),frOnlyRF5['test_neg_mean_absolute_error'].std(), frOnlyRF5['test_neg_mean_squared_error'].mean(), frOnlyRF5['test_neg_mean_squared_error'].std()))\n",
    "print(\"Mean Absolute Error \", frOnlyRF5['test_neg_mean_absolute_error'] )\n",
    "print(\"Mean Squared Error \" ,frOnlyRF5['test_neg_mean_squared_error'])\n",
    "print(\"Fit time \", frOnlyRF5['fit_time'].mean())\n",
    "print(\"Score time \", frOnlyRF5['score_time'].mean())\n",
    "print(\"\\n\\n\")\n",
    "\n",
    "print(\"Metrics for Bilingual \\n\\n  %0.2f mean and %0.2f std Mean Absolute Error \\n %0.2f mean and %0.2f std Mean Squared Error\" \n",
    "      % (bilangRF5['test_neg_mean_absolute_error'].mean(),bilangRF5['test_neg_mean_absolute_error'].std(), bilangRF5['test_neg_mean_squared_error'].mean(), bilangRF5['test_neg_mean_squared_error'].std()))\n",
    "print(\"Mean Absolute Error \", bilangRF5['test_neg_mean_absolute_error'] )\n",
    "print(\"Mean Squared Error \" ,bilangRF5['test_neg_mean_squared_error'])\n",
    "print(\"Fit time \", bilangRF5['fit_time'].mean())\n",
    "print(\"Score time \", bilangRF5['score_time'].mean())\n",
    "print(\"\\n\\n\")\n",
    "print(\"Metrics for Neither \\n\\n  %0.2f mean and %0.2f std Mean Absolute Error \\n %0.2f mean and %0.2f std Mean Squared Error\" \n",
    "      % (neitherRF5['test_neg_mean_absolute_error'].mean(),neitherRF5['test_neg_mean_absolute_error'].std(), neitherRF5['test_neg_mean_squared_error'].mean(), neitherRF5['test_neg_mean_squared_error'].std()))\n",
    "print(\"Mean Absolute Error \", neitherRF5['test_neg_mean_absolute_error'] )\n",
    "print(\"Mean Squared Error \" ,neitherRF5['test_neg_mean_squared_error'])\n",
    "print(\"Fit time \", neitherRF5['fit_time'].mean())\n",
    "print(\"Score time \", neitherRF5['score_time'].mean())"
   ]
  },
  {
   "cell_type": "markdown",
   "metadata": {},
   "source": [
    "To evaluate whether there is a difference between the number of folds, the above models will be run again with k=10"
   ]
  },
  {
   "cell_type": "code",
   "execution_count": 46,
   "metadata": {},
   "outputs": [
    {
     "name": "stderr",
     "output_type": "stream",
     "text": [
      "/home/grace/anaconda3/lib/python3.11/site-packages/sklearn/model_selection/_split.py:725: UserWarning: The least populated class in y has only 1 members, which is less than n_splits=10.\n",
      "  warnings.warn(\n",
      "/home/grace/anaconda3/lib/python3.11/site-packages/sklearn/model_selection/_split.py:725: UserWarning: The least populated class in y has only 1 members, which is less than n_splits=10.\n",
      "  warnings.warn(\n",
      "/home/grace/anaconda3/lib/python3.11/site-packages/sklearn/model_selection/_split.py:725: UserWarning: The least populated class in y has only 1 members, which is less than n_splits=10.\n",
      "  warnings.warn(\n",
      "/home/grace/anaconda3/lib/python3.11/site-packages/sklearn/model_selection/_split.py:725: UserWarning: The least populated class in y has only 1 members, which is less than n_splits=10.\n",
      "  warnings.warn(\n"
     ]
    }
   ],
   "source": [
    "\n",
    "crossValEngOnly = cross_validate(DecisionTreeClassifier(max_depth=8).fit(X_train,Y_EngOnly_train),X_train,Y_EngOnly_train, cv=10, scoring=('neg_mean_absolute_error', 'neg_mean_squared_error','matthews_corrcoef'))\n",
    "crossValFrOnly = cross_validate(DecisionTreeClassifier(max_depth=8).fit(X_train,Y_FrOnly_train),X_train,Y_FrOnly_train, cv=10, scoring=('neg_mean_absolute_error', 'neg_mean_squared_error','matthews_corrcoef'))\n",
    "crossValBilang = cross_validate(DecisionTreeClassifier(max_depth=8).fit(X_train,Y_Bilang_train),X_train,Y_Bilang_train, cv=10, scoring=('neg_mean_absolute_error', 'neg_mean_squared_error','matthews_corrcoef'))\n",
    "crossValNeither = cross_validate(DecisionTreeClassifier(max_depth=8).fit(X_train,Y_Neither_train),X_train,Y_Neither_train, cv=10, scoring=('neg_mean_absolute_error', 'neg_mean_squared_error','matthews_corrcoef'))\n"
   ]
  },
  {
   "cell_type": "code",
   "execution_count": 55,
   "metadata": {},
   "outputs": [
    {
     "name": "stdout",
     "output_type": "stream",
     "text": [
      "10 Fold Cross Validation Decision Tree\n",
      "Metrics for English Only \n",
      "\n",
      " 0.13 mean and 0.01 std Matthews Correlation Coefficient \n",
      " -21.69 mean and 3.80 std Mean Absolute Error \n",
      " -858493.21 mean and 546313.55 std Mean Squared Error\n",
      "\n",
      "Matthews Correlation  [0.12691609 0.12856789 0.1245371  0.13030507 0.12926085 0.10759225\n",
      " 0.133247   0.12638975 0.13453907 0.13113882]\n",
      "Mean Absolute Error  [-29.70931423 -18.14066384 -23.03294389 -16.79180862 -23.43256957\n",
      " -21.81198731 -25.11302987 -17.77413034 -22.62015821 -18.44616824]\n",
      "Mean Squared Error [-2109391.78388653  -333486.51703465  -682417.41800582  -323084.25806782\n",
      " -1181825.72562839  -694815.48933308 -1188222.34021553  -387899.22319379\n",
      " -1268787.46801386  -415001.88151603]\n",
      "Fit time  1.791214895248413\n",
      "Score time  0.26606791019439696\n",
      "\n",
      "\n",
      "\n",
      "Metrics for French Only \n",
      "\n",
      " 0.23 mean and 0.01 std Matthews Correlation Coefficient \n",
      " -2.90 mean and 1.04 std Mean Absolute Error \n",
      " -97869.21 mean and 76416.25 std Mean Squared Error\n",
      "\n",
      "Matthews Correlation  [0.22917734 0.24482342 0.22658993 0.22536012 0.22757401 0.24059482\n",
      " 0.2221392  0.24822981 0.21127735 0.22782127]\n",
      "Mean Absolute Error  [-2.85509577 -1.84464103 -3.55941745 -2.68127915 -3.48279694 -5.44729416\n",
      " -2.28355437 -3.02102677 -1.71789323 -2.10538244]\n",
      "Mean Squared Error [ -69512.88053809  -29598.02346834 -132468.30813435  -95047.11283978\n",
      " -121657.03731594 -298749.16982263 -111705.80429601  -59337.33385486\n",
      "  -29766.99213324  -30849.42644285]\n",
      "Fit time  1.6628027200698852\n",
      "Score time  0.12400598526000976\n",
      "\n",
      "\n",
      "\n",
      "Metrics for Both English and French \n",
      "\n",
      " 0.25 mean and 0.00 std Matthews Correlation Coefficient \n",
      " -5.94 mean and 0.95 std Mean Absolute Error \n",
      " -181817.81 mean and 105467.18 std Mean Squared Error\n",
      "\n",
      "Matthews Correlation  [0.25845177 0.24573523 0.25292543 0.2475096  0.2535192  0.25494266\n",
      " 0.25472056 0.2556893  0.25636933 0.24359126]\n",
      "Mean Absolute Error  [-6.61046937 -8.12165521 -5.50212754 -5.88098963 -5.80934068 -6.85037067\n",
      " -4.79404583 -5.6452061  -4.95627952 -5.27855357]\n",
      "Mean Squared Error [-225149.8603597  -382192.38631379  -58058.82415301 -102710.51082776\n",
      " -200274.64248636 -284052.55450438  -63714.43433886 -275378.38102619\n",
      "  -64569.9195046  -162076.61575692]\n",
      "Fit time  1.6695573806762696\n",
      "Score time  0.13959548473358155\n",
      "\n",
      "\n",
      "\n",
      "Metrics for Neither English nor French \n",
      "\n",
      " 0.09 mean and 0.01 std Matthews Correlation Coefficient \n",
      " -0.73 mean and 0.11 std Mean Absolute Error \n",
      " -1466.30 mean and 637.59 std Mean Squared Error\n",
      "\n",
      "Matthews Correlation  [0.11405236 0.07588973 0.09465338 0.08228758 0.08586884 0.07591765\n",
      " 0.07855652 0.08398536 0.08780204 0.09873197]\n",
      "Mean Absolute Error  [-0.55578301 -0.83952332 -0.73359751 -0.86709851 -0.87536007 -0.73893462\n",
      " -0.77614821 -0.66246034 -0.71751305 -0.54394713]\n",
      "Mean Squared Error [ -474.41877467 -1832.93573622 -1283.64137507 -1949.49699513\n",
      " -2492.48234365 -1507.1718405  -2173.0643817  -1120.82900759\n",
      " -1360.29405314  -468.66382021]\n",
      "Fit time  1.696592092514038\n",
      "Score time  0.09007065296173096\n"
     ]
    }
   ],
   "source": [
    "print(\"10 Fold Cross Validation Decision Tree\")\n",
    "print(\"Metrics for English Only \\n\\n %0.2f mean and %0.2f std Matthews Correlation Coefficient \\n %0.2f mean and %0.2f std Mean Absolute Error \\n %0.2f mean and %0.2f std Mean Squared Error\" % (crossValEngOnly['test_matthews_corrcoef'].mean(), crossValEngOnly['test_matthews_corrcoef'].std(), crossValEngOnly['test_neg_mean_absolute_error'].mean(),crossValEngOnly['test_neg_mean_absolute_error'].std(), crossValEngOnly['test_neg_mean_squared_error'].mean(), crossValEngOnly['test_neg_mean_squared_error'].std()))\n",
    "print(\"\\nMatthews Correlation \", crossValEngOnly['test_matthews_corrcoef'])\n",
    "print(\"Mean Absolute Error \", crossValEngOnly['test_neg_mean_absolute_error'] )\n",
    "print(\"Mean Squared Error\" ,crossValEngOnly['test_neg_mean_squared_error'])\n",
    "print(\"Fit time \", crossValEngOnly['fit_time'].mean())\n",
    "print(\"Score time \", crossValEngOnly['score_time'].mean())\n",
    "print(\"\\n\\n\")\n",
    "print(\"Metrics for French Only \\n\\n %0.2f mean and %0.2f std Matthews Correlation Coefficient \\n %0.2f mean and %0.2f std Mean Absolute Error \\n %0.2f mean and %0.2f std Mean Squared Error\" \n",
    "      % (crossValFrOnly['test_matthews_corrcoef'].mean(),crossValFrOnly['test_matthews_corrcoef'].std(), crossValFrOnly['test_neg_mean_absolute_error'].mean(),crossValFrOnly['test_neg_mean_absolute_error'].std(), crossValFrOnly['test_neg_mean_squared_error'].mean(),crossValFrOnly['test_neg_mean_squared_error'].std()))\n",
    "print(\"\\nMatthews Correlation \", crossValFrOnly['test_matthews_corrcoef'])\n",
    "print(\"Mean Absolute Error \", crossValFrOnly['test_neg_mean_absolute_error'] )\n",
    "print(\"Mean Squared Error\" ,crossValFrOnly['test_neg_mean_squared_error'])\n",
    "print(\"Fit time \", crossValFrOnly['fit_time'].mean())\n",
    "print(\"Score time \", crossValFrOnly['score_time'].mean())\n",
    "print(\"\\n\\n\")\n",
    "print(\"Metrics for Both English and French \\n\\n %0.2f mean and %0.2f std Matthews Correlation Coefficient \\n %0.2f mean and %0.2f std Mean Absolute Error \\n %0.2f mean and %0.2f std Mean Squared Error\" \n",
    "      % (crossValBilang['test_matthews_corrcoef'].mean(),crossValBilang['test_matthews_corrcoef'].std(), crossValBilang['test_neg_mean_absolute_error'].mean(),crossValBilang['test_neg_mean_absolute_error'].std(), crossValBilang['test_neg_mean_squared_error'].mean(), crossValBilang['test_neg_mean_squared_error'].std()))\n",
    "print(\"\\nMatthews Correlation \", crossValBilang['test_matthews_corrcoef'])\n",
    "print(\"Mean Absolute Error \", crossValBilang['test_neg_mean_absolute_error'] )\n",
    "print(\"Mean Squared Error\" ,crossValBilang['test_neg_mean_squared_error'])\n",
    "print(\"Fit time \", crossValBilang['fit_time'].mean())\n",
    "print(\"Score time \", crossValBilang['score_time'].mean())\n",
    "print(\"\\n\\n\")\n",
    "print(\"Metrics for Neither English nor French \\n\\n %0.2f mean and %0.2f std Matthews Correlation Coefficient \\n %0.2f mean and %0.2f std Mean Absolute Error \\n %0.2f mean and %0.2f std Mean Squared Error\" \n",
    "      % (crossValNeither['test_matthews_corrcoef'].mean(),crossValNeither['test_matthews_corrcoef'].std(), crossValNeither['test_neg_mean_absolute_error'].mean(),crossValNeither['test_neg_mean_absolute_error'].std(), crossValNeither['test_neg_mean_squared_error'].mean(),crossValNeither['test_neg_mean_squared_error'].std()))\n",
    "print(\"\\nMatthews Correlation \", crossValNeither['test_matthews_corrcoef'])\n",
    "print(\"Mean Absolute Error \", crossValNeither['test_neg_mean_absolute_error'] )\n",
    "print(\"Mean Squared Error\" ,crossValNeither['test_neg_mean_squared_error'])\n",
    "print(\"Fit time \", crossValNeither['fit_time'].mean())\n",
    "print(\"Score time \", crossValNeither['score_time'].mean())"
   ]
  },
  {
   "cell_type": "code",
   "execution_count": 54,
   "metadata": {},
   "outputs": [],
   "source": [
    "engOnlyLR10 = cross_validate(LinearRegression().fit(X_train,Y_EngOnly_train), X_train,Y_EngOnly_train,cv=10,scoring=('neg_mean_absolute_error', 'neg_mean_squared_error'))\n",
    "frOnlyLR10 = cross_validate(LinearRegression().fit(X_train,Y_FrOnly_train), X_train,Y_FrOnly_train,cv=10,scoring=('neg_mean_absolute_error', 'neg_mean_squared_error'))\n",
    "bilangLR10 = cross_validate(LinearRegression().fit(X_train,Y_Bilang_train), X_train,Y_Bilang_train,cv=10,scoring=('neg_mean_absolute_error', 'neg_mean_squared_error'))\n",
    "neitherLR10 = cross_validate(LinearRegression().fit(X_train,Y_Neither_train), X_train,Y_Neither_train,cv=10,scoring=('neg_mean_absolute_error', 'neg_mean_squared_error'))"
   ]
  },
  {
   "cell_type": "code",
   "execution_count": 56,
   "metadata": {},
   "outputs": [
    {
     "name": "stdout",
     "output_type": "stream",
     "text": [
      "10 Fold Cross Validation Linear Regression\n",
      "Metrics for English Only \n",
      "\n",
      "  -52.59 mean and 2.30 std Mean Absolute Error \n",
      " -880644.96 mean and 466775.15 std Mean Squared Error\n",
      "Mean Absolute Error  [-53.86773035 -52.20682107 -53.50353326 -48.13117946 -54.12662407\n",
      " -55.2559924  -49.42187826 -55.24522957 -53.3118241  -50.80630384]\n",
      "Mean Squared Error  [ -936262.78304307  -409407.02524254  -984251.55332466  -301297.47414691\n",
      "  -857543.13576213 -1779261.86816357  -415251.15498046 -1592922.68164257\n",
      "  -920990.95000658  -609261.0206065 ]\n",
      "Fit time  0.5085257053375244\n",
      "Score time  0.0502605676651001\n",
      "\n",
      "\n",
      "\n",
      "Metrics for French Only \n",
      "\n",
      "  -9.15 mean and 0.83 std Mean Absolute Error \n",
      " -103346.88 mean and 79672.01 std Mean Squared Error\n",
      "Mean Absolute Error  [-10.22134811 -10.09792638  -9.99098213  -8.83644225  -8.12520487\n",
      "  -9.98425067  -9.35313536  -8.09433565  -8.22377253  -8.554991  ]\n",
      "Mean Squared Error  [-182008.28185291 -155940.12632477 -154174.87666177  -57834.51341612\n",
      "  -31825.98058817 -266183.3575285  -106206.46535044  -19558.41012786\n",
      "  -15551.51641111  -44185.22895579]\n",
      "Fit time  0.5030405044555664\n",
      "Score time  0.04689781665802002\n",
      "\n",
      "\n",
      "\n",
      "Metrics for Bilingual \n",
      "\n",
      "  -15.03 mean and 1.44 std Mean Absolute Error \n",
      " -182585.32 mean and 186886.75 std Mean Squared Error\n",
      "Mean Absolute Error  [-15.69737023 -18.5070196  -16.37585567 -14.84751476 -13.90573105\n",
      " -15.03027264 -14.67276784 -13.55722037 -14.03227804 -13.65486383]\n",
      "Mean Squared Error  [-199050.55740057 -663124.41844282 -338664.8015935  -198002.09674695\n",
      "  -39348.39915503 -187886.79069323  -90188.97194527  -26082.28860453\n",
      "  -52618.94233114  -30885.92234163]\n",
      "Fit time  0.5584423303604126\n",
      "Score time  0.05517375469207764\n",
      "\n",
      "\n",
      "\n",
      "Metrics for Neither \n",
      "\n",
      "  -1.60 mean and 0.13 std Mean Absolute Error \n",
      " -1465.86 mean and 937.93 std Mean Squared Error\n",
      "Mean Absolute Error  [-1.5102503  -1.75985137 -1.440667   -1.54376562 -1.54416295 -1.65429621\n",
      " -1.74623826 -1.55662353 -1.81502713 -1.4384518 ]\n",
      "Mean Squared Error  [ -675.38287267 -2598.12179014  -307.74201874 -1365.37070955\n",
      " -1489.75722035 -1448.02168765 -1927.8084732  -1046.82078513\n",
      " -3444.52789736  -355.0841658 ]\n",
      "Fit time  0.5357931137084961\n",
      "Score time  0.05056841373443603\n"
     ]
    }
   ],
   "source": [
    "print(\"10 Fold Cross Validation Linear Regression\")\n",
    "print(\"Metrics for English Only \\n\\n  %0.2f mean and %0.2f std Mean Absolute Error \\n %0.2f mean and %0.2f std Mean Squared Error\" \n",
    "      % (engOnlyLR10['test_neg_mean_absolute_error'].mean(),engOnlyLR10['test_neg_mean_absolute_error'].std(), engOnlyLR10['test_neg_mean_squared_error'].mean(), engOnlyLR10['test_neg_mean_squared_error'].std()))\n",
    "print(\"Mean Absolute Error \", engOnlyLR10['test_neg_mean_absolute_error'] )\n",
    "print(\"Mean Squared Error \" ,engOnlyLR10['test_neg_mean_squared_error'])\n",
    "print(\"Fit time \", engOnlyLR10['fit_time'].mean())\n",
    "print(\"Score time \", engOnlyLR10['score_time'].mean())\n",
    "print(\"\\n\\n\")\n",
    "print(\"Metrics for French Only \\n\\n  %0.2f mean and %0.2f std Mean Absolute Error \\n %0.2f mean and %0.2f std Mean Squared Error\" \n",
    "      % (frOnlyLR10['test_neg_mean_absolute_error'].mean(),frOnlyLR10['test_neg_mean_absolute_error'].std(), frOnlyLR10['test_neg_mean_squared_error'].mean(), frOnlyLR10['test_neg_mean_squared_error'].std()))\n",
    "print(\"Mean Absolute Error \", frOnlyLR10['test_neg_mean_absolute_error'] )\n",
    "print(\"Mean Squared Error \" ,frOnlyLR10['test_neg_mean_squared_error'])\n",
    "print(\"Fit time \", frOnlyLR10['fit_time'].mean())\n",
    "print(\"Score time \", frOnlyLR10['score_time'].mean())\n",
    "print(\"\\n\\n\")\n",
    "\n",
    "print(\"Metrics for Bilingual \\n\\n  %0.2f mean and %0.2f std Mean Absolute Error \\n %0.2f mean and %0.2f std Mean Squared Error\" \n",
    "      % (bilangLR10['test_neg_mean_absolute_error'].mean(),bilangLR10['test_neg_mean_absolute_error'].std(), bilangLR10['test_neg_mean_squared_error'].mean(), bilangLR10['test_neg_mean_squared_error'].std()))\n",
    "print(\"Mean Absolute Error \", bilangLR10['test_neg_mean_absolute_error'] )\n",
    "print(\"Mean Squared Error \" ,bilangLR10['test_neg_mean_squared_error'])\n",
    "print(\"Fit time \", bilangLR10['fit_time'].mean())\n",
    "print(\"Score time \", bilangLR10['score_time'].mean())\n",
    "print(\"\\n\\n\")\n",
    "print(\"Metrics for Neither \\n\\n  %0.2f mean and %0.2f std Mean Absolute Error \\n %0.2f mean and %0.2f std Mean Squared Error\" \n",
    "      % (neitherLR10['test_neg_mean_absolute_error'].mean(),neitherLR10['test_neg_mean_absolute_error'].std(), neitherLR10['test_neg_mean_squared_error'].mean(), neitherLR10['test_neg_mean_squared_error'].std()))\n",
    "print(\"Mean Absolute Error \", neitherLR10['test_neg_mean_absolute_error'] )\n",
    "print(\"Mean Squared Error \" ,neitherLR10['test_neg_mean_squared_error'])\n",
    "print(\"Fit time \", neitherLR10['fit_time'].mean())\n",
    "print(\"Score time \", neitherLR10['score_time'].mean())"
   ]
  },
  {
   "cell_type": "code",
   "execution_count": 57,
   "metadata": {},
   "outputs": [],
   "source": [
    "engOnlyRF10 = cross_validate(RandomForestRegressor().fit(X_train,Y_EngOnly_train),X_train,Y_EngOnly_train,cv=10, scoring=('neg_mean_absolute_error', 'neg_mean_squared_error'))\n",
    "frOnlyRF10 = cross_validate(RandomForestRegressor().fit(X_train,Y_FrOnly_train),X_train,Y_FrOnly_train,cv=10, scoring=('neg_mean_absolute_error', 'neg_mean_squared_error'))\n",
    "bilangRF10 = cross_validate(RandomForestRegressor().fit(X_train,Y_Bilang_train),X_train,Y_Bilang_train,cv=10, scoring=('neg_mean_absolute_error', 'neg_mean_squared_error'))\n",
    "neitherRF10 = cross_validate(RandomForestRegressor().fit(X_train,Y_Neither_train),X_train,Y_Neither_train,cv=10, scoring=('neg_mean_absolute_error', 'neg_mean_squared_error'))"
   ]
  },
  {
   "cell_type": "code",
   "execution_count": 58,
   "metadata": {},
   "outputs": [
    {
     "name": "stdout",
     "output_type": "stream",
     "text": [
      "10 Fold Cross Validation Random Forest\n",
      "Metrics for English Only \n",
      "\n",
      "  -4.03 mean and 0.40 std Mean Absolute Error \n",
      " -18281.01 mean and 10088.35 std Mean Squared Error\n",
      "Mean Absolute Error  [-4.48220135 -4.53961983 -4.19477621 -3.44032885 -4.22680621 -4.02042288\n",
      " -3.45028586 -4.21496001 -4.21380924 -3.49722397]\n",
      "Mean Squared Error  [-21436.14324788 -12284.16869937 -21575.55006342  -9450.32922177\n",
      " -36490.07267422 -36172.07502318  -7090.76508846 -15913.12681345\n",
      " -10884.95496198 -11512.95300403]\n",
      "Fit time  114.55119349956513\n",
      "Score time  1.2340061664581299\n",
      "\n",
      "\n",
      "\n",
      "Metrics for French Only \n",
      "\n",
      "  -0.73 mean and 0.28 std Mean Absolute Error \n",
      " -5438.14 mean and 6289.41 std Mean Squared Error\n",
      "Mean Absolute Error  [-0.84105571 -0.69924404 -1.08033894 -0.66462808 -0.49262016 -0.90634971\n",
      " -1.28014666 -0.38377151 -0.45536344 -0.45407302]\n",
      "Mean Squared Error  [ -5017.21388229  -2679.04220412  -7625.26197503  -2616.28563793\n",
      "  -1491.43922751 -11851.62814192 -21210.43553346   -286.5903574\n",
      "   -688.42556073   -915.09774152]\n",
      "Fit time  80.71990542411804\n",
      "Score time  0.5183721303939819\n",
      "\n",
      "\n",
      "\n",
      "Metrics for Bilingual \n",
      "\n",
      "  -1.45 mean and 0.31 std Mean Absolute Error \n",
      " -5842.30 mean and 3949.50 std Mean Squared Error\n",
      "Mean Absolute Error  [-1.9245299  -1.81225033 -1.84410285 -1.22550264 -1.38236339 -1.43992309\n",
      " -1.60126702 -1.15629707 -1.01716358 -1.09096127]\n",
      "Mean Squared Error  [ -8917.43615733  -6427.33848794 -14075.38530879  -3463.67379922\n",
      "  -5809.46062024  -9173.33235681  -6519.96666076  -1641.88038032\n",
      "   -754.09984983  -1640.40901581]\n",
      "Fit time  101.08165307044983\n",
      "Score time  0.8034743070602417\n",
      "\n",
      "\n",
      "\n",
      "Metrics for Neither \n",
      "\n",
      "  -0.44 mean and 0.05 std Mean Absolute Error \n",
      " -240.65 mean and 141.82 std Mean Squared Error\n",
      "Mean Absolute Error  [-0.379739   -0.46161281 -0.45268026 -0.45886912 -0.40848967 -0.42283335\n",
      " -0.57682156 -0.41488909 -0.44921186 -0.39941657]\n",
      "Mean Squared Error  [-122.24007205 -272.11254738 -187.24013668 -485.74397586 -172.73923577\n",
      " -142.25582349 -508.96155979 -178.94222145 -274.35286519  -61.88324943]\n",
      "Fit time  91.37888371944427\n",
      "Score time  0.7225777387619019\n"
     ]
    }
   ],
   "source": [
    "print(\"10 Fold Cross Validation Random Forest\")\n",
    "print(\"Metrics for English Only \\n\\n  %0.2f mean and %0.2f std Mean Absolute Error \\n %0.2f mean and %0.2f std Mean Squared Error\" \n",
    "      % (engOnlyRF10['test_neg_mean_absolute_error'].mean(),engOnlyRF10['test_neg_mean_absolute_error'].std(), engOnlyRF10['test_neg_mean_squared_error'].mean(), engOnlyRF10['test_neg_mean_squared_error'].std()))\n",
    "print(\"Mean Absolute Error \", engOnlyRF10['test_neg_mean_absolute_error'] )\n",
    "print(\"Mean Squared Error \" ,engOnlyRF10['test_neg_mean_squared_error'])\n",
    "print(\"Fit time \", engOnlyRF10['fit_time'].mean())\n",
    "print(\"Score time \", engOnlyRF10['score_time'].mean())\n",
    "print(\"\\n\\n\")\n",
    "print(\"Metrics for French Only \\n\\n  %0.2f mean and %0.2f std Mean Absolute Error \\n %0.2f mean and %0.2f std Mean Squared Error\" \n",
    "      % (frOnlyRF10['test_neg_mean_absolute_error'].mean(),frOnlyRF10['test_neg_mean_absolute_error'].std(), frOnlyRF10['test_neg_mean_squared_error'].mean(), frOnlyRF10['test_neg_mean_squared_error'].std()))\n",
    "print(\"Mean Absolute Error \", frOnlyRF10['test_neg_mean_absolute_error'] )\n",
    "print(\"Mean Squared Error \" ,frOnlyRF10['test_neg_mean_squared_error'])\n",
    "print(\"Fit time \", frOnlyRF10['fit_time'].mean())\n",
    "print(\"Score time \", frOnlyRF10['score_time'].mean())\n",
    "print(\"\\n\\n\")\n",
    "\n",
    "print(\"Metrics for Bilingual \\n\\n  %0.2f mean and %0.2f std Mean Absolute Error \\n %0.2f mean and %0.2f std Mean Squared Error\" \n",
    "      % (bilangRF10['test_neg_mean_absolute_error'].mean(),bilangRF10['test_neg_mean_absolute_error'].std(), bilangRF10['test_neg_mean_squared_error'].mean(), bilangRF10['test_neg_mean_squared_error'].std()))\n",
    "print(\"Mean Absolute Error \", bilangRF10['test_neg_mean_absolute_error'] )\n",
    "print(\"Mean Squared Error \" ,bilangRF10['test_neg_mean_squared_error'])\n",
    "print(\"Fit time \", bilangRF10['fit_time'].mean())\n",
    "print(\"Score time \", bilangRF10['score_time'].mean())\n",
    "print(\"\\n\\n\")\n",
    "print(\"Metrics for Neither \\n\\n  %0.2f mean and %0.2f std Mean Absolute Error \\n %0.2f mean and %0.2f std Mean Squared Error\" \n",
    "      % (neitherRF10['test_neg_mean_absolute_error'].mean(),neitherRF10['test_neg_mean_absolute_error'].std(), neitherRF10['test_neg_mean_squared_error'].mean(), neitherRF10['test_neg_mean_squared_error'].std()))\n",
    "print(\"Mean Absolute Error \", neitherRF10['test_neg_mean_absolute_error'] )\n",
    "print(\"Mean Squared Error \" ,neitherRF10['test_neg_mean_squared_error'])\n",
    "print(\"Fit time \", neitherRF10['fit_time'].mean())\n",
    "print(\"Score time \", neitherRF10['score_time'].mean())"
   ]
  },
  {
   "cell_type": "code",
   "execution_count": 49,
   "metadata": {},
   "outputs": [
    {
     "data": {
      "text/plain": [
       "'\\nclass_values = dfFlatReduced[col_namesY].unique()\\nfeature_names = list(X_train.columns())\\ndot_data = export_graphviz(mtTree, out_file=None, feature_names=)\\n\\n\\ndot_data = export_graphviz(mtTree, \\n                           out_file=None, \\n                           filled=True, \\n                           special_characters= True, \\n                           class_names=col_namesY,\\n                           feature_names=X_names)\\ngraph = graphviz.Source(dot_data, format=\"png\")\\ngraph\\n'"
      ]
     },
     "execution_count": 49,
     "metadata": {},
     "output_type": "execute_result"
    }
   ],
   "source": [
    "'''\n",
    "class_values = dfFlatReduced[col_namesY].unique()\n",
    "feature_names = list(X_train.columns())\n",
    "dot_data = export_graphviz(mtTree, out_file=None, feature_names=)\n",
    "\n",
    "\n",
    "dot_data = export_graphviz(mtTree, \n",
    "                           out_file=None, \n",
    "                           filled=True, \n",
    "                           special_characters= True, \n",
    "                           class_names=col_namesY,\n",
    "                           feature_names=X_names)\n",
    "graph = graphviz.Source(dot_data, format=\"png\")\n",
    "graph\n",
    "'''"
   ]
  },
  {
   "cell_type": "code",
   "execution_count": 50,
   "metadata": {},
   "outputs": [
    {
     "data": {
      "text/plain": [
       "'\\ndecision_pred_EngOnly = mtTreeEngOnly.predict(X_test)\\n#decision_pred_EngOnly.shape\\nmean_absolute_error(Y_EngOnly_test, decision_pred_EngOnly)\\n'"
      ]
     },
     "execution_count": 50,
     "metadata": {},
     "output_type": "execute_result"
    }
   ],
   "source": [
    "'''\n",
    "decision_pred_EngOnly = mtTreeEngOnly.predict(X_test)\n",
    "#decision_pred_EngOnly.shape\n",
    "mean_absolute_error(Y_EngOnly_test, decision_pred_EngOnly)\n",
    "'''"
   ]
  },
  {
   "cell_type": "code",
   "execution_count": 51,
   "metadata": {},
   "outputs": [
    {
     "data": {
      "text/plain": [
       "Knowledge of official languages (5):English only[2]                  224905\n",
       "Knowledge of official languages (5):French only[3]                    97265\n",
       "Knowledge of official languages (5):English and French[4]            133175\n",
       "Knowledge of official languages (5):Neither English nor French[5]      9625\n",
       "dtype: int64"
      ]
     },
     "execution_count": 51,
     "metadata": {},
     "output_type": "execute_result"
    }
   ],
   "source": [
    "Y_Categories[[ c for c in col_namesY]].max()"
   ]
  },
  {
   "cell_type": "markdown",
   "metadata": {},
   "source": [
    "## T-tests\n",
    "The code below examines the differences between the 5-fold and 10-fold validation methods for each of the three models. "
   ]
  },
  {
   "cell_type": "markdown",
   "metadata": {},
   "source": [
    "Decision Trees:"
   ]
  },
  {
   "cell_type": "code",
   "execution_count": 59,
   "metadata": {},
   "outputs": [
    {
     "name": "stdout",
     "output_type": "stream",
     "text": [
      "English Only\n",
      " Ttest_indResult(statistic=-0.6738593091589552, pvalue=0.5122048750113432) \n",
      " Ttest_indResult(statistic=-0.07122906186139671, pvalue=0.9442995952164371) \n",
      " Ttest_indResult(statistic=0.0010020552973919227, pvalue=0.9992156894920718) \n",
      "\n",
      "French Only\n",
      " Ttest_indResult(statistic=-0.9800043403559678, pvalue=0.34497071461527806) \n",
      " Ttest_indResult(statistic=-0.07329698525616048, pvalue=0.9426855716329506) \n",
      " Ttest_indResult(statistic=0.00011447472441263734, pvalue=0.9999104004085874)\n",
      "Bilingual\n",
      " Ttest_indResult(statistic=0.21703612906027042, pvalue=0.831549238466061) \n",
      " Ttest_indResult(statistic=-0.07981476860303947, pvalue=0.9376001697742756) \n",
      " Ttest_indResult(statistic=-0.006784893895899928, pvalue=0.9946894941011726)\n",
      "Neither\n",
      " Ttest_indResult(statistic=-0.037454306356804815, pvalue=0.970691820282645) \n",
      " Ttest_indResult(statistic=-0.00818195116688814, pvalue=0.9935960477001329) \n",
      " Ttest_indResult(statistic=-0.0006929952218329842, pvalue=0.9994575913255996)\n"
     ]
    }
   ],
   "source": [
    "ttestEngMatt = ttest_ind(crossValEngOnly5['test_matthews_corrcoef'], crossValEngOnly['test_matthews_corrcoef'])\n",
    "ttestEngAbs = ttest_ind(crossValEngOnly5['test_neg_mean_absolute_error'], crossValEngOnly['test_neg_mean_absolute_error'])\n",
    "ttestEngSquare = ttest_ind(crossValEngOnly5['test_neg_mean_squared_error'],crossValEngOnly['test_neg_mean_squared_error'])\n",
    "\n",
    "print(\"English Only\\n\",ttestEngMatt, '\\n',ttestEngAbs,'\\n',ttestEngSquare, '\\n')\n",
    "\n",
    "ttestFrMatt = ttest_ind(crossValFrOnly5['test_matthews_corrcoef'], crossValFrOnly['test_matthews_corrcoef'])\n",
    "ttestFrAbs = ttest_ind(crossValFrOnly5['test_neg_mean_absolute_error'], crossValFrOnly['test_neg_mean_absolute_error'])\n",
    "ttestFrSquare = ttest_ind(crossValFrOnly5['test_neg_mean_squared_error'],crossValFrOnly['test_neg_mean_squared_error'])\n",
    "\n",
    "print(\"French Only\\n\",ttestFrMatt, '\\n',ttestFrAbs,'\\n',ttestFrSquare)\n",
    "\n",
    "ttestBiMatt = ttest_ind(crossValBilang5['test_matthews_corrcoef'], crossValBilang['test_matthews_corrcoef'])\n",
    "ttestBiAbs = ttest_ind(crossValBilang5['test_neg_mean_absolute_error'], crossValBilang['test_neg_mean_absolute_error'])\n",
    "ttestBiSquare = ttest_ind(crossValBilang5['test_neg_mean_squared_error'],crossValBilang['test_neg_mean_squared_error'])\n",
    "\n",
    "print(\"Bilingual\\n\",ttestBiMatt, '\\n',ttestBiAbs,'\\n',ttestBiSquare)\n",
    "\n",
    "ttestNeiMatt = ttest_ind(crossValNeither5['test_matthews_corrcoef'], crossValNeither['test_matthews_corrcoef'])\n",
    "ttestNeiAbs = ttest_ind(crossValNeither5['test_neg_mean_absolute_error'], crossValNeither['test_neg_mean_absolute_error'])\n",
    "ttestNeiSquare = ttest_ind(crossValNeither5['test_neg_mean_squared_error'],crossValNeither['test_neg_mean_squared_error'])\n",
    "\n",
    "print(\"Neither\\n\",ttestNeiMatt, '\\n',ttestNeiAbs,'\\n',ttestNeiSquare)"
   ]
  },
  {
   "cell_type": "markdown",
   "metadata": {},
   "source": [
    "As the pvalue for all of these is above 0.01, we do not reject the null hypothesis that these come from the same population. I.e. there is no significant difference between the 5-fold cross-validation and the 10-fold cross-validation for the decision tree model. "
   ]
  },
  {
   "cell_type": "markdown",
   "metadata": {},
   "source": [
    "Linear Regression: "
   ]
  },
  {
   "cell_type": "code",
   "execution_count": 61,
   "metadata": {},
   "outputs": [
    {
     "name": "stdout",
     "output_type": "stream",
     "text": [
      "English Only\n",
      " Ttest_indResult(statistic=-0.001280578931511478, pvalue=0.998997688650298) \n",
      " Ttest_indResult(statistic=2.3110141765807803e-05, pvalue=0.999981911646654) \n",
      "\n",
      "French Only\n",
      " \n",
      " Ttest_indResult(statistic=-0.014106008310877664, pvalue=0.9889595938907919) \n",
      " Ttest_indResult(statistic=-1.8354054593736034e-05, pvalue=0.9999856342454234)\n",
      "Bilingual\n",
      " \n",
      " Ttest_indResult(statistic=-0.0024469353410866103, pvalue=0.9980847809610536) \n",
      " Ttest_indResult(statistic=-2.390616605565168e-05, pvalue=0.9999812885968791)\n",
      "Neither\n",
      " \n",
      " Ttest_indResult(statistic=-0.0025541152530156107, pvalue=0.9980008913159713) \n",
      " Ttest_indResult(statistic=2.7015027866552288e-05, pvalue=0.9999788552846347)\n"
     ]
    }
   ],
   "source": [
    "#ttestEngMattLR = ttest_ind(engOnlyLR['test_matthews_corrcoef'], engOnlyLR['test_matthews_corrcoef'])\n",
    "ttestEngAbsLR = ttest_ind(engOnlyLR['test_neg_mean_absolute_error'], engOnlyLR10['test_neg_mean_absolute_error'])\n",
    "ttestEngSquareLR = ttest_ind(engOnlyLR['test_neg_mean_squared_error'],engOnlyLR10['test_neg_mean_squared_error'])\n",
    "\n",
    "print(\"English Only\\n\",ttestEngAbsLR,'\\n',ttestEngSquareLR, '\\n')\n",
    "\n",
    "#ttestFrMattLR = ttest_ind(frOnlyLR['test_matthews_corrcoef'], frOnlyLR['test_matthews_corrcoef'])\n",
    "ttestFrAbsLR = ttest_ind(frOnlyLR['test_neg_mean_absolute_error'], frOnlyLR10['test_neg_mean_absolute_error'])\n",
    "ttestFrSquareLR = ttest_ind(frOnlyLR['test_neg_mean_squared_error'],frOnlyLR10['test_neg_mean_squared_error'])\n",
    "\n",
    "print(\"French Only\\n\",'\\n',ttestFrAbsLR,'\\n',ttestFrSquareLR)\n",
    "\n",
    "#ttestBiMatt = ttest_ind(crossValBilang5['test_matthews_corrcoef'], crossValBilang['test_matthews_corrcoef'])\n",
    "ttestBiAbsLR = ttest_ind(bilangLR['test_neg_mean_absolute_error'], bilangLR10['test_neg_mean_absolute_error'])\n",
    "ttestBiSquareLR = ttest_ind(bilangLR['test_neg_mean_squared_error'],bilangLR10['test_neg_mean_squared_error'])\n",
    "\n",
    "print(\"Bilingual\\n\", '\\n',ttestBiAbsLR,'\\n',ttestBiSquareLR)\n",
    "\n",
    "#ttestNeiMatt = ttest_ind(crossValNeither5['test_matthews_corrcoef'], crossValNeither['test_matthews_corrcoef'])\n",
    "ttestNeiAbs = ttest_ind(neitherLR['test_neg_mean_absolute_error'], neitherLR10['test_neg_mean_absolute_error'])\n",
    "ttestNeiSquare = ttest_ind(neitherLR['test_neg_mean_squared_error'],neitherLR10['test_neg_mean_squared_error'])\n",
    "\n",
    "print(\"Neither\\n\", '\\n',ttestNeiAbs,'\\n',ttestNeiSquare)"
   ]
  },
  {
   "cell_type": "markdown",
   "metadata": {},
   "source": [
    "As the pvalue for all of these is above 0.01, we do not reject the null hypothesis that these come from the same population. I.e. there is no significant difference between the 5-fold cross-validation and the 10-fold cross-validation for the linear regression model. "
   ]
  },
  {
   "cell_type": "markdown",
   "metadata": {},
   "source": [
    "Random Forest: "
   ]
  },
  {
   "cell_type": "code",
   "execution_count": 62,
   "metadata": {},
   "outputs": [
    {
     "name": "stdout",
     "output_type": "stream",
     "text": [
      "English Only\n",
      " Ttest_indResult(statistic=-2.255254729519548, pvalue=0.04199787187789966) \n",
      " Ttest_indResult(statistic=-0.2445131790563954, pvalue=0.8106503065967875) \n",
      "\n",
      "French Only\n",
      " \n",
      " Ttest_indResult(statistic=-0.2712791272562318, pvalue=0.7904362987992007) \n",
      " Ttest_indResult(statistic=-0.0730598384724327, pvalue=0.9428706525442314)\n",
      "Bilingual\n",
      " \n",
      " Ttest_indResult(statistic=-0.0024469353410866103, pvalue=0.9980847809610536) \n",
      " Ttest_indResult(statistic=-2.390616605565168e-05, pvalue=0.9999812885968791)\n",
      "Neither\n",
      " \n",
      " Ttest_indResult(statistic=-1.302604604726378, pvalue=0.21531357686021543) \n",
      " Ttest_indResult(statistic=-0.6657261652682064, pvalue=0.5172249844503619)\n"
     ]
    }
   ],
   "source": [
    "#ttestEngMattLR = ttest_ind(engOnlyLR['test_matthews_corrcoef'], engOnlyLR['test_matthews_corrcoef'])\n",
    "ttestEngAbsRF = ttest_ind(engOnlyRF5['test_neg_mean_absolute_error'], engOnlyRF10['test_neg_mean_absolute_error'])\n",
    "ttestEngSquareRF = ttest_ind(engOnlyRF5['test_neg_mean_squared_error'],engOnlyRF10['test_neg_mean_squared_error'])\n",
    "\n",
    "print(\"English Only\\n\",ttestEngAbsRF,'\\n',ttestEngSquareRF, '\\n')\n",
    "\n",
    "#ttestFrMattLR = ttest_ind(frOnlyLR['test_matthews_corrcoef'], frOnlyLR['test_matthews_corrcoef'])\n",
    "ttestFrAbsRF = ttest_ind(frOnlyRF5['test_neg_mean_absolute_error'], frOnlyRF10['test_neg_mean_absolute_error'])\n",
    "ttestFrSquareRF = ttest_ind(frOnlyRF5['test_neg_mean_squared_error'],frOnlyRF10['test_neg_mean_squared_error'])\n",
    "\n",
    "print(\"French Only\\n\",'\\n',ttestFrAbsRF,'\\n',ttestFrSquareRF)\n",
    "\n",
    "#ttestBiMatt = ttest_ind(crossValBilang5['test_matthews_corrcoef'], crossValBilang['test_matthews_corrcoef'])\n",
    "ttestBiAbsRF = ttest_ind(bilangRF5['test_neg_mean_absolute_error'], bilangRF10['test_neg_mean_absolute_error'])\n",
    "ttestBiSquareRF = ttest_ind(bilangRF5['test_neg_mean_squared_error'],bilangRF10['test_neg_mean_squared_error'])\n",
    "\n",
    "print(\"Bilingual\\n\", '\\n',ttestBiAbsLR,'\\n',ttestBiSquareLR)\n",
    "\n",
    "#ttestNeiMatt = ttest_ind(crossValNeither5['test_matthews_corrcoef'], crossValNeither['test_matthews_corrcoef'])\n",
    "ttestNeiAbsRF = ttest_ind(neitherRF5['test_neg_mean_absolute_error'], neitherRF10['test_neg_mean_absolute_error'])\n",
    "ttestNeiSquareRF = ttest_ind(neitherRF5['test_neg_mean_squared_error'],neitherRF10['test_neg_mean_squared_error'])\n",
    "\n",
    "print(\"Neither\\n\", '\\n',ttestNeiAbsRF,'\\n',ttestNeiSquareRF)"
   ]
  },
  {
   "cell_type": "markdown",
   "metadata": {},
   "source": [
    "As the pvalue for all of these is above 0.01, we do not reject the null hypothesis that these come from the same population. I.e. there is no significant difference between the 5-fold cross-validation and the 10-fold cross-validation for the Random Forest model. Note that for the Mean Absolute Error for English Only is below the 0.05 confidence level. "
   ]
  },
  {
   "cell_type": "code",
   "execution_count": 56,
   "metadata": {},
   "outputs": [],
   "source": [
    "EngOnly = DecisionTreeRegressor(max_depth=8).fit(X_train,Y_EngOnly_train)\n",
    "FrOnly = DecisionTreeRegressor(max_depth=8).fit(X_train,Y_FrOnly_train)\n",
    "Bilang = DecisionTreeRegressor(max_depth=8).fit(X_train,Y_Bilang_train)\n",
    "Neither = DecisionTreeRegressor(max_depth=8).fit(X_train,Y_Neither_train)"
   ]
  },
  {
   "cell_type": "code",
   "execution_count": 57,
   "metadata": {},
   "outputs": [],
   "source": [
    "prEngOnly = EngOnly.predict(X_test)\n",
    "prFrOnly = FrOnly.predict(X_test)\n",
    "prBilang = Bilang.predict(X_test)\n",
    "prNeither = Neither.predict(X_test)"
   ]
  },
  {
   "cell_type": "code",
   "execution_count": 58,
   "metadata": {},
   "outputs": [
    {
     "name": "stdout",
     "output_type": "stream",
     "text": [
      "Mean Absolute Error for: \n",
      "English Only 15.31 \n",
      "French Only 1.59 \n",
      "Bilingual 3.24 \n",
      "Neither 0.84\n",
      "\n",
      "\n",
      "\n",
      "Mean Squared Error for: \n",
      "English Only 67883.19 \n",
      "French Only 10583.69 \n",
      "Bilingual 5556.19 \n",
      "Neither 242.97\n"
     ]
    }
   ],
   "source": [
    "print(\"Mean Absolute Error for: \\nEnglish Only %0.2f \\nFrench Only %0.2f \\nBilingual %0.2f \\nNeither %0.2f\" %(mean_absolute_error(Y_EngOnly_test, prEngOnly),mean_absolute_error(Y_FrOnly_test, prFrOnly),mean_absolute_error(Y_Bilang_test, prBilang), mean_absolute_error(Y_Neither_test, prNeither)))\n",
    "print('\\n\\n')\n",
    "print(\"Mean Squared Error for: \\nEnglish Only %0.2f \\nFrench Only %0.2f \\nBilingual %0.2f \\nNeither %0.2f\" %(mean_squared_error(Y_EngOnly_test, prEngOnly),mean_squared_error(Y_FrOnly_test, prFrOnly),mean_squared_error(Y_Bilang_test, prBilang), mean_squared_error(Y_Neither_test, prNeither)))"
   ]
  },
  {
   "cell_type": "code",
   "execution_count": 59,
   "metadata": {},
   "outputs": [
    {
     "data": {
      "text/plain": [
       "'\\npredictions = [prEngOnly, prFrOnly, prBilang, prNeither]\\nactual = [Y_EngOnly_test, Y_FrOnly_test, Y_Bilang_test, Y_Neither_test]\\nfor p in predictions: \\n    print(p)\\n    '"
      ]
     },
     "execution_count": 59,
     "metadata": {},
     "output_type": "execute_result"
    }
   ],
   "source": [
    "'''\n",
    "predictions = [prEngOnly, prFrOnly, prBilang, prNeither]\n",
    "actual = [Y_EngOnly_test, Y_FrOnly_test, Y_Bilang_test, Y_Neither_test]\n",
    "for p in predictions: \n",
    "    print(p)\n",
    "    '''"
   ]
  },
  {
   "cell_type": "code",
   "execution_count": 60,
   "metadata": {},
   "outputs": [
    {
     "data": {
      "text/plain": [
       "\"\\nmodel = MultiOutputClassifier(LogisticRegression(multi_class='multinomial', solver='lbfgs', random_state=42))\\nmodel.fit(X_train,Y_train)\\n\""
      ]
     },
     "execution_count": 60,
     "metadata": {},
     "output_type": "execute_result"
    }
   ],
   "source": [
    "'''\n",
    "model = MultiOutputClassifier(LogisticRegression(multi_class='multinomial', solver='lbfgs', random_state=42))\n",
    "model.fit(X_train,Y_train)\n",
    "'''"
   ]
  },
  {
   "cell_type": "code",
   "execution_count": 61,
   "metadata": {},
   "outputs": [
    {
     "name": "stdout",
     "output_type": "stream",
     "text": [
      "683892 683892 227964 227964\n"
     ]
    }
   ],
   "source": [
    "X_train, X_test, Y_train, Y_test = train_test_split(X,Y_Categories, test_size=0.25,random_state=1234)\n",
    "print(len(X_train),len(Y_train),len(X_test),len(Y_test))"
   ]
  },
  {
   "cell_type": "code",
   "execution_count": 62,
   "metadata": {},
   "outputs": [],
   "source": [
    "Y_EngOnly_train = Y_train['Knowledge of official languages (5):English only[2]']\n",
    "Y_EngOnly_test = Y_test['Knowledge of official languages (5):English only[2]']\n",
    "Y_FrOnly_train = Y_train['Knowledge of official languages (5):French only[3]']\n",
    "Y_FrOnly_test = Y_test['Knowledge of official languages (5):French only[3]']\n",
    "Y_Bilang_train = Y_train['Knowledge of official languages (5):English and French[4]']\n",
    "Y_Bilang_test = Y_test['Knowledge of official languages (5):English and French[4]']\n",
    "Y_Neither_train = Y_train['Knowledge of official languages (5):Neither English nor French[5]']\n",
    "Y_Neither_test = Y_test['Knowledge of official languages (5):Neither English nor French[5]']"
   ]
  },
  {
   "cell_type": "code",
   "execution_count": 63,
   "metadata": {},
   "outputs": [
    {
     "name": "stderr",
     "output_type": "stream",
     "text": [
      "/home/grace/anaconda3/lib/python3.11/site-packages/sklearn/model_selection/_split.py:725: UserWarning: The least populated class in y has only 1 members, which is less than n_splits=5.\n",
      "  warnings.warn(\n",
      "/home/grace/anaconda3/lib/python3.11/site-packages/sklearn/model_selection/_split.py:725: UserWarning: The least populated class in y has only 1 members, which is less than n_splits=5.\n",
      "  warnings.warn(\n",
      "/home/grace/anaconda3/lib/python3.11/site-packages/sklearn/model_selection/_split.py:725: UserWarning: The least populated class in y has only 1 members, which is less than n_splits=5.\n",
      "  warnings.warn(\n",
      "/home/grace/anaconda3/lib/python3.11/site-packages/sklearn/model_selection/_split.py:725: UserWarning: The least populated class in y has only 1 members, which is less than n_splits=5.\n",
      "  warnings.warn(\n"
     ]
    }
   ],
   "source": [
    "crossValEngOnly5 = cross_validate(DecisionTreeClassifier(max_depth=8).fit(X_train,Y_EngOnly_train),X_train,Y_EngOnly_train, cv=5, scoring=('neg_mean_absolute_error', 'neg_mean_squared_error','matthews_corrcoef'))\n",
    "crossValFrOnly5 = cross_validate(DecisionTreeClassifier(max_depth=8).fit(X_train,Y_FrOnly_train),X_train,Y_FrOnly_train, cv=5, scoring=('neg_mean_absolute_error', 'neg_mean_squared_error','matthews_corrcoef'))\n",
    "crossValBilang5 = cross_validate(DecisionTreeClassifier(max_depth=8).fit(X_train,Y_Bilang_train),X_train,Y_Bilang_train, cv=5, scoring=('neg_mean_absolute_error', 'neg_mean_squared_error','matthews_corrcoef'))\n",
    "crossValNeither5 = cross_validate(DecisionTreeClassifier(max_depth=8).fit(X_train,Y_Neither_train),X_train,Y_Neither_train, cv=5, scoring=('neg_mean_absolute_error', 'neg_mean_squared_error','matthews_corrcoef'))\n"
   ]
  },
  {
   "cell_type": "code",
   "execution_count": 64,
   "metadata": {},
   "outputs": [
    {
     "name": "stdout",
     "output_type": "stream",
     "text": [
      "5 Fold Cross Validation\n",
      "Metrics for English Only \n",
      "\n",
      " 0.13 mean and 0.00 std Matthews Correlation Coefficient \n",
      " -19.64 mean and 3.16 std Mean Absolute Error \n",
      " -645953.63 mean and 245239.90 std Mean Squared Error\n",
      "\n",
      "Matthews Correlation  [0.13736867 0.1310792  0.13238447 0.13252682 0.12314826]\n",
      "Mean Absolute Error  [-17.55485126 -18.00689433 -19.57405431 -25.76587609 -17.31864774]\n",
      "Mean Squared Error  [ -523594.50189722  -446144.36042814  -603887.60400064 -1126160.28765591\n",
      "  -529981.41952653]\n",
      "Fit time  1.4458868026733398\n",
      "Score time  0.4089373588562012\n",
      "\n",
      "\n",
      "\n",
      "Metrics for French Only \n",
      "\n",
      " 0.24 mean and 0.01 std Matthews Correlation Coefficient \n",
      " -2.86 mean and 0.55 std Mean Absolute Error \n",
      " -93278.75 mean and 34798.58 std Mean Squared Error\n",
      "\n",
      "Matthews Correlation  [0.26009135 0.2480817  0.23948608 0.22579342 0.23692184]\n",
      "Mean Absolute Error  [-2.5287142  -3.72586435 -2.77135212 -2.12450102 -3.1435611 ]\n",
      "Mean Squared Error [ -64462.6592898  -157896.18837687  -94373.62039217  -61283.29318311\n",
      "  -88377.96758251]\n",
      "Fit time  1.3474780082702638\n",
      "Score time  0.21048293113708497\n",
      "\n",
      "\n",
      "\n",
      "Metrics for Both English and French \n",
      "\n",
      " 0.25 mean and 0.00 std Matthews Correlation Coefficient \n",
      " -5.38 mean and 1.00 std Mean Absolute Error \n",
      " -125538.65 mean and 78083.44 std Mean Squared Error\n",
      "\n",
      "Matthews Correlation  [0.25173982 0.25701853 0.25947883 0.24946884 0.24646439]\n",
      "Mean Absolute Error  [-6.64725579 -4.43437955 -5.01235579 -6.48167103 -4.30197108]\n",
      "Mean Squared Error [-195737.37653441  -43946.66834821  -99523.94500578 -237847.02620304\n",
      "  -50638.24500285]\n",
      "Fit time  1.3846066474914551\n",
      "Score time  0.24309282302856444\n",
      "\n",
      "\n",
      "\n",
      "Metrics for Neither English nor French \n",
      "\n",
      " 0.10 mean and 0.01 std Matthews Correlation Coefficient \n",
      " -0.70 mean and 0.08 std Mean Absolute Error \n",
      " -1329.83 mean and 632.61 std Mean Squared Error\n",
      "\n",
      "Matthews Correlation  [0.11000796 0.09170005 0.08361728 0.10806877 0.09520406]\n",
      "Mean Absolute Error  [-0.64472616 -0.71535104 -0.71850005 -0.59300472 -0.82261036]\n",
      "Mean Squared Error [ -899.15538935 -1277.12130517 -1354.47641434  -635.39202211\n",
      " -2483.02376844]\n",
      "Fit time  1.3975476264953612\n",
      "Score time  0.16197009086608888\n"
     ]
    }
   ],
   "source": [
    "print(\"5 Fold Cross Validation\")\n",
    "print(\"Metrics for English Only \\n\\n %0.2f mean and %0.2f std Matthews Correlation Coefficient \\n %0.2f mean and %0.2f std Mean Absolute Error \\n %0.2f mean and %0.2f std Mean Squared Error\" \n",
    "      % (crossValEngOnly5['test_matthews_corrcoef'].mean(), crossValEngOnly5['test_matthews_corrcoef'].std(), crossValEngOnly5['test_neg_mean_absolute_error'].mean(),crossValEngOnly5['test_neg_mean_absolute_error'].std(), crossValEngOnly5['test_neg_mean_squared_error'].mean(), crossValEngOnly5['test_neg_mean_squared_error'].std()))\n",
    "\n",
    "print(\"\\nMatthews Correlation \", crossValEngOnly5['test_matthews_corrcoef'])\n",
    "print(\"Mean Absolute Error \", crossValEngOnly5['test_neg_mean_absolute_error'] )\n",
    "print(\"Mean Squared Error \" ,crossValEngOnly5['test_neg_mean_squared_error'])\n",
    "print(\"Fit time \", crossValEngOnly5['fit_time'].mean())\n",
    "print(\"Score time \", crossValEngOnly5['score_time'].mean())\n",
    "print(\"\\n\\n\")\n",
    "print(\"Metrics for French Only \\n\\n %0.2f mean and %0.2f std Matthews Correlation Coefficient \\n %0.2f mean and %0.2f std Mean Absolute Error \\n %0.2f mean and %0.2f std Mean Squared Error\" \n",
    "      % (crossValFrOnly5['test_matthews_corrcoef'].mean(),crossValFrOnly5['test_matthews_corrcoef'].std(), crossValFrOnly5['test_neg_mean_absolute_error'].mean(),crossValFrOnly5['test_neg_mean_absolute_error'].std(), crossValFrOnly5['test_neg_mean_squared_error'].mean(),crossValFrOnly5['test_neg_mean_squared_error'].std()))\n",
    "print(\"\\nMatthews Correlation \", crossValFrOnly5['test_matthews_corrcoef'])\n",
    "print(\"Mean Absolute Error \", crossValFrOnly5['test_neg_mean_absolute_error'] )\n",
    "print(\"Mean Squared Error\" ,crossValFrOnly5['test_neg_mean_squared_error'])\n",
    "print(\"Fit time \", crossValFrOnly5['fit_time'].mean())\n",
    "print(\"Score time \", crossValFrOnly5['score_time'].mean())\n",
    "print(\"\\n\\n\")\n",
    "print(\"Metrics for Both English and French \\n\\n %0.2f mean and %0.2f std Matthews Correlation Coefficient \\n %0.2f mean and %0.2f std Mean Absolute Error \\n %0.2f mean and %0.2f std Mean Squared Error\" \n",
    "      % (crossValBilang5['test_matthews_corrcoef'].mean(),crossValBilang5['test_matthews_corrcoef'].std(), crossValBilang5['test_neg_mean_absolute_error'].mean(),crossValBilang5['test_neg_mean_absolute_error'].std(), crossValBilang5['test_neg_mean_squared_error'].mean(), crossValBilang5['test_neg_mean_squared_error'].std()))\n",
    "print(\"\\nMatthews Correlation \", crossValBilang5['test_matthews_corrcoef'])\n",
    "print(\"Mean Absolute Error \", crossValBilang5['test_neg_mean_absolute_error'] )\n",
    "print(\"Mean Squared Error\" ,crossValBilang5['test_neg_mean_squared_error'])\n",
    "print(\"Fit time \", crossValBilang5['fit_time'].mean())\n",
    "print(\"Score time \", crossValBilang5['score_time'].mean())\n",
    "print(\"\\n\\n\")\n",
    "print(\"Metrics for Neither English nor French \\n\\n %0.2f mean and %0.2f std Matthews Correlation Coefficient \\n %0.2f mean and %0.2f std Mean Absolute Error \\n %0.2f mean and %0.2f std Mean Squared Error\" \n",
    "      % (crossValNeither5['test_matthews_corrcoef'].mean(),crossValNeither5['test_matthews_corrcoef'].std(), crossValNeither5['test_neg_mean_absolute_error'].mean(),crossValNeither5['test_neg_mean_absolute_error'].std(), crossValNeither5['test_neg_mean_squared_error'].mean(),crossValNeither5['test_neg_mean_squared_error'].std()))\n",
    "print(\"\\nMatthews Correlation \", crossValNeither5['test_matthews_corrcoef'])\n",
    "print(\"Mean Absolute Error \", crossValNeither5['test_neg_mean_absolute_error'] )\n",
    "print(\"Mean Squared Error\" ,crossValNeither5['test_neg_mean_squared_error'])\n",
    "print(\"Fit time \", crossValNeither5['fit_time'].mean())\n",
    "print(\"Score time \", crossValNeither5['score_time'].mean())"
   ]
  },
  {
   "cell_type": "code",
   "execution_count": 65,
   "metadata": {},
   "outputs": [
    {
     "name": "stdout",
     "output_type": "stream",
     "text": [
      "Ttest_indResult(statistic=1.1059072986393774, pvalue=0.28881295287831443) \n",
      " Ttest_indResult(statistic=0.9673462915519547, pvalue=0.35102375862848845) \n",
      " Ttest_indResult(statistic=0.7720146266388094, pvalue=0.4539120776701847) \n",
      "\n",
      "\n",
      "Ttest_indResult(statistic=1.8363965728681428, pvalue=0.08926577947532348) \n",
      " Ttest_indResult(statistic=0.07689430086994184, pvalue=0.9398784823012656) \n",
      " Ttest_indResult(statistic=0.11903069588091582, pvalue=0.9070707450441144) \n",
      "\n",
      "\n",
      "Ttest_indResult(statistic=0.18890968083607496, pvalue=0.8530809112546577) \n",
      " Ttest_indResult(statistic=0.9992280138834634, pvalue=0.33592109408675797) \n",
      " Ttest_indResult(statistic=0.9841141801324046, pvalue=0.3430214982124853) \n",
      "\n",
      "\n",
      "Ttest_indResult(statistic=1.475249112631501, pvalue=0.1639503573377313) \n",
      " Ttest_indResult(statistic=0.5363918774841319, pvalue=0.6007466180685779) \n",
      " Ttest_indResult(statistic=0.36466903863993116, pvalue=0.7212219760158857)\n"
     ]
    }
   ],
   "source": [
    "ttestEngMatt = ttest_ind(crossValEngOnly5['test_matthews_corrcoef'], crossValEngOnly['test_matthews_corrcoef'])\n",
    "ttestEngAbs = ttest_ind(crossValEngOnly5['test_neg_mean_absolute_error'], crossValEngOnly['test_neg_mean_absolute_error'])\n",
    "ttestEngSquare = ttest_ind(crossValEngOnly5['test_neg_mean_squared_error'],crossValEngOnly['test_neg_mean_squared_error'])\n",
    "print(ttestEngMatt, '\\n',ttestEngAbs,'\\n',ttestEngSquare, '\\n\\n')\n",
    "\n",
    "\n",
    "ttestFrMatt = ttest_ind(crossValFrOnly5['test_matthews_corrcoef'], crossValFrOnly['test_matthews_corrcoef'])\n",
    "ttestFrAbs = ttest_ind(crossValFrOnly5['test_neg_mean_absolute_error'], crossValFrOnly['test_neg_mean_absolute_error'])\n",
    "ttestFrSquare = ttest_ind(crossValFrOnly5['test_neg_mean_squared_error'],crossValFrOnly['test_neg_mean_squared_error'])\n",
    "print(ttestFrMatt, '\\n',ttestFrAbs,'\\n',ttestFrSquare, '\\n\\n')\n",
    "\n",
    "ttestBiMatt = ttest_ind(crossValBilang5['test_matthews_corrcoef'], crossValBilang['test_matthews_corrcoef'])\n",
    "ttestBiAbs = ttest_ind(crossValBilang5['test_neg_mean_absolute_error'], crossValBilang['test_neg_mean_absolute_error'])\n",
    "ttestBiSquare = ttest_ind(crossValBilang5['test_neg_mean_squared_error'],crossValBilang['test_neg_mean_squared_error'])\n",
    "print(ttestBiMatt, '\\n',ttestBiAbs,'\\n',ttestBiSquare,'\\n\\n')\n",
    "\n",
    "ttestNeiMatt = ttest_ind(crossValNeither5['test_matthews_corrcoef'], crossValNeither['test_matthews_corrcoef'])\n",
    "ttestNeiAbs = ttest_ind(crossValNeither5['test_neg_mean_absolute_error'], crossValNeither['test_neg_mean_absolute_error'])\n",
    "ttestNeiSquare = ttest_ind(crossValNeither5['test_neg_mean_squared_error'],crossValNeither['test_neg_mean_squared_error'])\n",
    "print(ttestNeiMatt, '\\n',ttestNeiAbs,'\\n',ttestNeiSquare)"
   ]
  },
  {
   "cell_type": "markdown",
   "metadata": {},
   "source": [
    "The Matthews Correlation Coefficient (MCC) is stable under a different training set. The range for the MCC is [-1,1] and the values of 0.09 to 0.25 are all weak relationships. This is noticeably a stronger relationship for French Only and for the Bilingual outputs, but still a weakly positive relationship. \n",
    "\n",
    "Both the Mean Absolute Error (MAE) and the Mean Squared Error (MSE) have the range (infinity,0] in the above tests, with the higher values closer to 0 indicating better prediction as the errors are smaller closer to 0. However, while the Mean Absolute Error represents the average size of the errors without considering the direction, the Mean Squared Error takes into account which direction the errors occurred in. The MSE gives high weight to large errors. In the metrics given above, while the MAE is relatively small, the MSE is large. This indicates that there is a great variance in the errors of the test set. \n",
    "\n"
   ]
  },
  {
   "cell_type": "markdown",
   "metadata": {},
   "source": [
    "14.2 s ± 248 ms per loop (mean ± std. dev. of 7 runs, 1 loop each)"
   ]
  },
  {
   "cell_type": "code",
   "execution_count": 77,
   "metadata": {},
   "outputs": [
    {
     "name": "stdout",
     "output_type": "stream",
     "text": [
      "5 Fold Cross Validation\n",
      "Metrics for Bilingual \n",
      "\n",
      "  -13.57 mean and 0.25 std Mean Absolute Error \n",
      " -126184.80 mean and 59721.68 std Mean Squared Error\n",
      "Mean Absolute Error  [-13.6471532  -13.12055962 -13.49926601 -13.73359451 -13.86214804]\n",
      "Mean Squared Error  [-134544.95292742  -39379.41031673 -104655.26729942 -127349.37748274\n",
      " -224994.98204926]\n",
      "Fit time  0.4804145336151123\n",
      "Score time  0.09563021659851074\n"
     ]
    }
   ],
   "source": []
  },
  {
   "cell_type": "code",
   "execution_count": 78,
   "metadata": {},
   "outputs": [
    {
     "name": "stdout",
     "output_type": "stream",
     "text": [
      "5 Fold Cross Validation\n",
      "Metrics for Neither \n",
      "\n",
      "  -1.54 mean and 0.03 std Mean Absolute Error \n",
      " -1329.27 mean and 214.96 std Mean Squared Error\n",
      "Mean Absolute Error  [-1.53417813 -1.51962314 -1.58555848 -1.54811396 -1.49765737]\n",
      "Mean Squared Error  [-1560.60096831 -1126.06646474 -1216.24166213 -1616.50408879\n",
      " -1126.92400202]\n",
      "Fit time  0.471939754486084\n",
      "Score time  0.09939084053039551\n"
     ]
    }
   ],
   "source": [
    "\n"
   ]
  },
  {
   "cell_type": "code",
   "execution_count": 82,
   "metadata": {},
   "outputs": [],
   "source": [
    "engOnlyRF = RandomForestRegressor()"
   ]
  },
  {
   "cell_type": "code",
   "execution_count": 85,
   "metadata": {},
   "outputs": [
    {
     "data": {
      "text/html": [
       "<style>#sk-container-id-3 {color: black;}#sk-container-id-3 pre{padding: 0;}#sk-container-id-3 div.sk-toggleable {background-color: white;}#sk-container-id-3 label.sk-toggleable__label {cursor: pointer;display: block;width: 100%;margin-bottom: 0;padding: 0.3em;box-sizing: border-box;text-align: center;}#sk-container-id-3 label.sk-toggleable__label-arrow:before {content: \"▸\";float: left;margin-right: 0.25em;color: #696969;}#sk-container-id-3 label.sk-toggleable__label-arrow:hover:before {color: black;}#sk-container-id-3 div.sk-estimator:hover label.sk-toggleable__label-arrow:before {color: black;}#sk-container-id-3 div.sk-toggleable__content {max-height: 0;max-width: 0;overflow: hidden;text-align: left;background-color: #f0f8ff;}#sk-container-id-3 div.sk-toggleable__content pre {margin: 0.2em;color: black;border-radius: 0.25em;background-color: #f0f8ff;}#sk-container-id-3 input.sk-toggleable__control:checked~div.sk-toggleable__content {max-height: 200px;max-width: 100%;overflow: auto;}#sk-container-id-3 input.sk-toggleable__control:checked~label.sk-toggleable__label-arrow:before {content: \"▾\";}#sk-container-id-3 div.sk-estimator input.sk-toggleable__control:checked~label.sk-toggleable__label {background-color: #d4ebff;}#sk-container-id-3 div.sk-label input.sk-toggleable__control:checked~label.sk-toggleable__label {background-color: #d4ebff;}#sk-container-id-3 input.sk-hidden--visually {border: 0;clip: rect(1px 1px 1px 1px);clip: rect(1px, 1px, 1px, 1px);height: 1px;margin: -1px;overflow: hidden;padding: 0;position: absolute;width: 1px;}#sk-container-id-3 div.sk-estimator {font-family: monospace;background-color: #f0f8ff;border: 1px dotted black;border-radius: 0.25em;box-sizing: border-box;margin-bottom: 0.5em;}#sk-container-id-3 div.sk-estimator:hover {background-color: #d4ebff;}#sk-container-id-3 div.sk-parallel-item::after {content: \"\";width: 100%;border-bottom: 1px solid gray;flex-grow: 1;}#sk-container-id-3 div.sk-label:hover label.sk-toggleable__label {background-color: #d4ebff;}#sk-container-id-3 div.sk-serial::before {content: \"\";position: absolute;border-left: 1px solid gray;box-sizing: border-box;top: 0;bottom: 0;left: 50%;z-index: 0;}#sk-container-id-3 div.sk-serial {display: flex;flex-direction: column;align-items: center;background-color: white;padding-right: 0.2em;padding-left: 0.2em;position: relative;}#sk-container-id-3 div.sk-item {position: relative;z-index: 1;}#sk-container-id-3 div.sk-parallel {display: flex;align-items: stretch;justify-content: center;background-color: white;position: relative;}#sk-container-id-3 div.sk-item::before, #sk-container-id-3 div.sk-parallel-item::before {content: \"\";position: absolute;border-left: 1px solid gray;box-sizing: border-box;top: 0;bottom: 0;left: 50%;z-index: -1;}#sk-container-id-3 div.sk-parallel-item {display: flex;flex-direction: column;z-index: 1;position: relative;background-color: white;}#sk-container-id-3 div.sk-parallel-item:first-child::after {align-self: flex-end;width: 50%;}#sk-container-id-3 div.sk-parallel-item:last-child::after {align-self: flex-start;width: 50%;}#sk-container-id-3 div.sk-parallel-item:only-child::after {width: 0;}#sk-container-id-3 div.sk-dashed-wrapped {border: 1px dashed gray;margin: 0 0.4em 0.5em 0.4em;box-sizing: border-box;padding-bottom: 0.4em;background-color: white;}#sk-container-id-3 div.sk-label label {font-family: monospace;font-weight: bold;display: inline-block;line-height: 1.2em;}#sk-container-id-3 div.sk-label-container {text-align: center;}#sk-container-id-3 div.sk-container {/* jupyter's `normalize.less` sets `[hidden] { display: none; }` but bootstrap.min.css set `[hidden] { display: none !important; }` so we also need the `!important` here to be able to override the default hidden behavior on the sphinx rendered scikit-learn.org. See: https://github.com/scikit-learn/scikit-learn/issues/21755 */display: inline-block !important;position: relative;}#sk-container-id-3 div.sk-text-repr-fallback {display: none;}</style><div id=\"sk-container-id-3\" class=\"sk-top-container\"><div class=\"sk-text-repr-fallback\"><pre>RandomForestRegressor()</pre><b>In a Jupyter environment, please rerun this cell to show the HTML representation or trust the notebook. <br />On GitHub, the HTML representation is unable to render, please try loading this page with nbviewer.org.</b></div><div class=\"sk-container\" hidden><div class=\"sk-item\"><div class=\"sk-estimator sk-toggleable\"><input class=\"sk-toggleable__control sk-hidden--visually\" id=\"sk-estimator-id-3\" type=\"checkbox\" checked><label for=\"sk-estimator-id-3\" class=\"sk-toggleable__label sk-toggleable__label-arrow\">RandomForestRegressor</label><div class=\"sk-toggleable__content\"><pre>RandomForestRegressor()</pre></div></div></div></div></div>"
      ],
      "text/plain": [
       "RandomForestRegressor()"
      ]
     },
     "execution_count": 85,
     "metadata": {},
     "output_type": "execute_result"
    }
   ],
   "source": [
    "engOnlyRF.fit(X_train, Y_EngOnly_train)"
   ]
  },
  {
   "cell_type": "code",
   "execution_count": 87,
   "metadata": {},
   "outputs": [],
   "source": [
    "prEngOnlyRF = engOnlyRF.predict(X_test)"
   ]
  },
  {
   "cell_type": "code",
   "execution_count": 91,
   "metadata": {},
   "outputs": [
    {
     "name": "stdout",
     "output_type": "stream",
     "text": [
      "Mean Absolute Error 4.204252864487375 0.0\n",
      "Mean Squared Error 30904.825010615703 0.0\n"
     ]
    }
   ],
   "source": [
    "print(\"Mean Absolute Error\", mean_absolute_error(Y_EngOnly_test,prEngOnlyRF).mean(), mean_absolute_error(Y_EngOnly_test,prEngOnlyRF).std())\n",
    "print(\"Mean Squared Error\", mean_squared_error(Y_EngOnly_test,prEngOnlyRF).mean(),mean_squared_error(Y_EngOnly_test,prEngOnlyRF).std())\n",
    "\n"
   ]
  }
 ],
 "metadata": {
  "kernelspec": {
   "display_name": "base",
   "language": "python",
   "name": "python3"
  },
  "language_info": {
   "codemirror_mode": {
    "name": "ipython",
    "version": 3
   },
   "file_extension": ".py",
   "mimetype": "text/x-python",
   "name": "python",
   "nbconvert_exporter": "python",
   "pygments_lexer": "ipython3",
   "version": "3.11.4"
  },
  "orig_nbformat": 4
 },
 "nbformat": 4,
 "nbformat_minor": 2
}
