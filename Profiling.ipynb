{
 "cells": [
  {
   "cell_type": "code",
   "execution_count": 5,
   "metadata": {},
   "outputs": [
    {
     "data": {
      "text/html": [
       "<div>\n",
       "<style scoped>\n",
       "    .dataframe tbody tr th:only-of-type {\n",
       "        vertical-align: middle;\n",
       "    }\n",
       "\n",
       "    .dataframe tbody tr th {\n",
       "        vertical-align: top;\n",
       "    }\n",
       "\n",
       "    .dataframe thead th {\n",
       "        text-align: right;\n",
       "    }\n",
       "</style>\n",
       "<table border=\"1\" class=\"dataframe\">\n",
       "  <thead>\n",
       "    <tr style=\"text-align: right;\">\n",
       "      <th></th>\n",
       "      <th>REF_DATE</th>\n",
       "      <th>Knowledge of official languages (5):Total - Knowledge of official languages[1]</th>\n",
       "      <th>Symbol</th>\n",
       "      <th>Knowledge of official languages (5):English only[2]</th>\n",
       "      <th>Symbol.1</th>\n",
       "      <th>Knowledge of official languages (5):French only[3]</th>\n",
       "      <th>Symbol.2</th>\n",
       "      <th>Knowledge of official languages (5):English and French[4]</th>\n",
       "      <th>Symbol.3</th>\n",
       "      <th>Knowledge of official languages (5):Neither English nor French[5]</th>\n",
       "      <th>Symbol.4</th>\n",
       "    </tr>\n",
       "  </thead>\n",
       "  <tbody>\n",
       "    <tr>\n",
       "      <th>count</th>\n",
       "      <td>2591730.0</td>\n",
       "      <td>2.591730e+06</td>\n",
       "      <td>0.0</td>\n",
       "      <td>2.591730e+06</td>\n",
       "      <td>0.0</td>\n",
       "      <td>2.591730e+06</td>\n",
       "      <td>0.0</td>\n",
       "      <td>2.591730e+06</td>\n",
       "      <td>0.0</td>\n",
       "      <td>2.591730e+06</td>\n",
       "      <td>0.0</td>\n",
       "    </tr>\n",
       "    <tr>\n",
       "      <th>mean</th>\n",
       "      <td>2021.0</td>\n",
       "      <td>1.067793e+03</td>\n",
       "      <td>NaN</td>\n",
       "      <td>7.499710e+02</td>\n",
       "      <td>NaN</td>\n",
       "      <td>1.010610e+02</td>\n",
       "      <td>NaN</td>\n",
       "      <td>1.881355e+02</td>\n",
       "      <td>NaN</td>\n",
       "      <td>2.855237e+01</td>\n",
       "      <td>NaN</td>\n",
       "    </tr>\n",
       "    <tr>\n",
       "      <th>std</th>\n",
       "      <td>0.0</td>\n",
       "      <td>6.512709e+04</td>\n",
       "      <td>NaN</td>\n",
       "      <td>4.737592e+04</td>\n",
       "      <td>NaN</td>\n",
       "      <td>1.002769e+04</td>\n",
       "      <td>NaN</td>\n",
       "      <td>1.314044e+04</td>\n",
       "      <td>NaN</td>\n",
       "      <td>1.603253e+03</td>\n",
       "      <td>NaN</td>\n",
       "    </tr>\n",
       "    <tr>\n",
       "      <th>min</th>\n",
       "      <td>2021.0</td>\n",
       "      <td>0.000000e+00</td>\n",
       "      <td>NaN</td>\n",
       "      <td>0.000000e+00</td>\n",
       "      <td>NaN</td>\n",
       "      <td>0.000000e+00</td>\n",
       "      <td>NaN</td>\n",
       "      <td>0.000000e+00</td>\n",
       "      <td>NaN</td>\n",
       "      <td>0.000000e+00</td>\n",
       "      <td>NaN</td>\n",
       "    </tr>\n",
       "    <tr>\n",
       "      <th>25%</th>\n",
       "      <td>2021.0</td>\n",
       "      <td>0.000000e+00</td>\n",
       "      <td>NaN</td>\n",
       "      <td>0.000000e+00</td>\n",
       "      <td>NaN</td>\n",
       "      <td>0.000000e+00</td>\n",
       "      <td>NaN</td>\n",
       "      <td>0.000000e+00</td>\n",
       "      <td>NaN</td>\n",
       "      <td>0.000000e+00</td>\n",
       "      <td>NaN</td>\n",
       "    </tr>\n",
       "    <tr>\n",
       "      <th>50%</th>\n",
       "      <td>2021.0</td>\n",
       "      <td>0.000000e+00</td>\n",
       "      <td>NaN</td>\n",
       "      <td>0.000000e+00</td>\n",
       "      <td>NaN</td>\n",
       "      <td>0.000000e+00</td>\n",
       "      <td>NaN</td>\n",
       "      <td>0.000000e+00</td>\n",
       "      <td>NaN</td>\n",
       "      <td>0.000000e+00</td>\n",
       "      <td>NaN</td>\n",
       "    </tr>\n",
       "    <tr>\n",
       "      <th>75%</th>\n",
       "      <td>2021.0</td>\n",
       "      <td>0.000000e+00</td>\n",
       "      <td>NaN</td>\n",
       "      <td>0.000000e+00</td>\n",
       "      <td>NaN</td>\n",
       "      <td>0.000000e+00</td>\n",
       "      <td>NaN</td>\n",
       "      <td>0.000000e+00</td>\n",
       "      <td>NaN</td>\n",
       "      <td>0.000000e+00</td>\n",
       "      <td>NaN</td>\n",
       "    </tr>\n",
       "    <tr>\n",
       "      <th>max</th>\n",
       "      <td>2021.0</td>\n",
       "      <td>3.662096e+07</td>\n",
       "      <td>NaN</td>\n",
       "      <td>2.526166e+07</td>\n",
       "      <td>NaN</td>\n",
       "      <td>4.087895e+06</td>\n",
       "      <td>NaN</td>\n",
       "      <td>6.581680e+06</td>\n",
       "      <td>NaN</td>\n",
       "      <td>6.897250e+05</td>\n",
       "      <td>NaN</td>\n",
       "    </tr>\n",
       "  </tbody>\n",
       "</table>\n",
       "</div>"
      ],
      "text/plain": [
       "        REF_DATE  \\\n",
       "count  2591730.0   \n",
       "mean      2021.0   \n",
       "std          0.0   \n",
       "min       2021.0   \n",
       "25%       2021.0   \n",
       "50%       2021.0   \n",
       "75%       2021.0   \n",
       "max       2021.0   \n",
       "\n",
       "       Knowledge of official languages (5):Total - Knowledge of official languages[1]  \\\n",
       "count                                       2.591730e+06                                \n",
       "mean                                        1.067793e+03                                \n",
       "std                                         6.512709e+04                                \n",
       "min                                         0.000000e+00                                \n",
       "25%                                         0.000000e+00                                \n",
       "50%                                         0.000000e+00                                \n",
       "75%                                         0.000000e+00                                \n",
       "max                                         3.662096e+07                                \n",
       "\n",
       "       Symbol  Knowledge of official languages (5):English only[2]  Symbol.1  \\\n",
       "count     0.0                                       2.591730e+06         0.0   \n",
       "mean      NaN                                       7.499710e+02         NaN   \n",
       "std       NaN                                       4.737592e+04         NaN   \n",
       "min       NaN                                       0.000000e+00         NaN   \n",
       "25%       NaN                                       0.000000e+00         NaN   \n",
       "50%       NaN                                       0.000000e+00         NaN   \n",
       "75%       NaN                                       0.000000e+00         NaN   \n",
       "max       NaN                                       2.526166e+07         NaN   \n",
       "\n",
       "       Knowledge of official languages (5):French only[3]  Symbol.2  \\\n",
       "count                                       2.591730e+06        0.0   \n",
       "mean                                        1.010610e+02        NaN   \n",
       "std                                         1.002769e+04        NaN   \n",
       "min                                         0.000000e+00        NaN   \n",
       "25%                                         0.000000e+00        NaN   \n",
       "50%                                         0.000000e+00        NaN   \n",
       "75%                                         0.000000e+00        NaN   \n",
       "max                                         4.087895e+06        NaN   \n",
       "\n",
       "       Knowledge of official languages (5):English and French[4]  Symbol.3  \\\n",
       "count                                       2.591730e+06               0.0   \n",
       "mean                                        1.881355e+02               NaN   \n",
       "std                                         1.314044e+04               NaN   \n",
       "min                                         0.000000e+00               NaN   \n",
       "25%                                         0.000000e+00               NaN   \n",
       "50%                                         0.000000e+00               NaN   \n",
       "75%                                         0.000000e+00               NaN   \n",
       "max                                         6.581680e+06               NaN   \n",
       "\n",
       "       Knowledge of official languages (5):Neither English nor French[5]  \\\n",
       "count                                       2.591730e+06                   \n",
       "mean                                        2.855237e+01                   \n",
       "std                                         1.603253e+03                   \n",
       "min                                         0.000000e+00                   \n",
       "25%                                         0.000000e+00                   \n",
       "50%                                         0.000000e+00                   \n",
       "75%                                         0.000000e+00                   \n",
       "max                                         6.897250e+05                   \n",
       "\n",
       "       Symbol.4  \n",
       "count       0.0  \n",
       "mean        NaN  \n",
       "std         NaN  \n",
       "min         NaN  \n",
       "25%         NaN  \n",
       "50%         NaN  \n",
       "75%         NaN  \n",
       "max         NaN  "
      ]
     },
     "execution_count": 5,
     "metadata": {},
     "output_type": "execute_result"
    }
   ],
   "source": [
    "import pandas as pd\n",
    "import matplotlib.pyplot as plt\n",
    "import numpy as np\n",
    "from ydata_profiling import ProfileReport\n",
    "\n",
    "motherTongues_filepath = '/home/grace/Documents/CapstoneProject/MotherTongues/98100175.csv'\n",
    "motherTongues_data = pd.read_csv(motherTongues_filepath)\n",
    "motherTongues_data.describe()"
   ]
  },
  {
   "cell_type": "code",
   "execution_count": 6,
   "metadata": {},
   "outputs": [
    {
     "name": "stdout",
     "output_type": "stream",
     "text": [
      "2591730\n"
     ]
    },
    {
     "data": {
      "text/plain": [
       "['REF_DATE',\n",
       " 'GEO',\n",
       " 'DGUID',\n",
       " 'Gender (3)',\n",
       " 'Age (15A)',\n",
       " 'Mother tongue (331)',\n",
       " 'Coordinate',\n",
       " 'Knowledge of official languages (5):Total - Knowledge of official languages[1]',\n",
       " 'Symbol',\n",
       " 'Knowledge of official languages (5):English only[2]',\n",
       " 'Symbol.1',\n",
       " 'Knowledge of official languages (5):French only[3]',\n",
       " 'Symbol.2',\n",
       " 'Knowledge of official languages (5):English and French[4]',\n",
       " 'Symbol.3',\n",
       " 'Knowledge of official languages (5):Neither English nor French[5]',\n",
       " 'Symbol.4']"
      ]
     },
     "execution_count": 6,
     "metadata": {},
     "output_type": "execute_result"
    }
   ],
   "source": [
    "print(len(motherTongues_data))\n",
    "list(motherTongues_data.columns)"
   ]
  },
  {
   "cell_type": "code",
   "execution_count": 7,
   "metadata": {},
   "outputs": [],
   "source": [
    "genderList = motherTongues_data[\"Gender (3)\"].unique()\n"
   ]
  },
  {
   "cell_type": "code",
   "execution_count": 2,
   "metadata": {},
   "outputs": [],
   "source": [
    "profile = ProfileReport(motherTongues_data, title = \"Profiling Report\", explorative=True)\n",
    "##profile"
   ]
  },
  {
   "cell_type": "code",
   "execution_count": 3,
   "metadata": {},
   "outputs": [
    {
     "data": {
      "application/vnd.jupyter.widget-view+json": {
       "model_id": "829218eee96d4768b190fe8687094713",
       "version_major": 2,
       "version_minor": 0
      },
      "text/plain": [
       "Summarize dataset:   0%|          | 0/5 [00:00<?, ?it/s]"
      ]
     },
     "metadata": {},
     "output_type": "display_data"
    },
    {
     "data": {
      "application/vnd.jupyter.widget-view+json": {
       "model_id": "b736931a705746d7ae5c80b4f0ea6f7e",
       "version_major": 2,
       "version_minor": 0
      },
      "text/plain": [
       "Generate report structure:   0%|          | 0/1 [00:00<?, ?it/s]"
      ]
     },
     "metadata": {},
     "output_type": "display_data"
    },
    {
     "data": {
      "application/vnd.jupyter.widget-view+json": {
       "model_id": "bf9c372b0ded4a44af57a0a03654aeb4",
       "version_major": 2,
       "version_minor": 0
      },
      "text/plain": [
       "Render HTML:   0%|          | 0/1 [00:00<?, ?it/s]"
      ]
     },
     "metadata": {},
     "output_type": "display_data"
    },
    {
     "data": {
      "application/vnd.jupyter.widget-view+json": {
       "model_id": "0433d53b9324447fa216f1397aa33fbb",
       "version_major": 2,
       "version_minor": 0
      },
      "text/plain": [
       "Export report to file:   0%|          | 0/1 [00:00<?, ?it/s]"
      ]
     },
     "metadata": {},
     "output_type": "display_data"
    }
   ],
   "source": [
    "profile.to_file('/home/grace/Documents/CapstoneProject/MotherTongues-Canada/EDA.html')\n"
   ]
  },
  {
   "cell_type": "code",
   "execution_count": 8,
   "metadata": {},
   "outputs": [
    {
     "data": {
      "text/plain": [
       "REF_DATE                                                                                0\n",
       "GEO                                                                                     0\n",
       "DGUID                                                                                   0\n",
       "Gender (3)                                                                              0\n",
       "Age (15A)                                                                               0\n",
       "Mother tongue (331)                                                                     0\n",
       "Coordinate                                                                              0\n",
       "Knowledge of official languages (5):Total - Knowledge of official languages[1]          0\n",
       "Symbol                                                                            2591730\n",
       "Knowledge of official languages (5):English only[2]                                     0\n",
       "Symbol.1                                                                          2591730\n",
       "Knowledge of official languages (5):French only[3]                                      0\n",
       "Symbol.2                                                                          2591730\n",
       "Knowledge of official languages (5):English and French[4]                               0\n",
       "Symbol.3                                                                          2591730\n",
       "Knowledge of official languages (5):Neither English nor French[5]                       0\n",
       "Symbol.4                                                                          2591730\n",
       "dtype: int64"
      ]
     },
     "execution_count": 8,
     "metadata": {},
     "output_type": "execute_result"
    }
   ],
   "source": [
    "motherTongues_data.isnull().sum()"
   ]
  },
  {
   "cell_type": "code",
   "execution_count": 16,
   "metadata": {},
   "outputs": [
    {
     "data": {
      "text/plain": [
       "['REF_DATE',\n",
       " 'GEO',\n",
       " 'DGUID',\n",
       " 'Gender (3)',\n",
       " 'Age (15A)',\n",
       " 'Mother tongue (331)',\n",
       " 'Coordinate',\n",
       " 'Knowledge of official languages (5):Total - Knowledge of official languages[1]',\n",
       " 'Knowledge of official languages (5):English only[2]',\n",
       " 'Knowledge of official languages (5):French only[3]',\n",
       " 'Knowledge of official languages (5):English and French[4]',\n",
       " 'Knowledge of official languages (5):Neither English nor French[5]']"
      ]
     },
     "execution_count": 16,
     "metadata": {},
     "output_type": "execute_result"
    }
   ],
   "source": [
    "df = motherTongues_data[[c for c in motherTongues_data.columns if 'Symbol' not in c]]\n",
    "list(df.columns)"
   ]
  },
  {
   "cell_type": "code",
   "execution_count": 17,
   "metadata": {},
   "outputs": [
    {
     "data": {
      "text/plain": [
       "REF_DATE                                                                          0\n",
       "GEO                                                                               0\n",
       "DGUID                                                                             0\n",
       "Gender (3)                                                                        0\n",
       "Age (15A)                                                                         0\n",
       "Mother tongue (331)                                                               0\n",
       "Coordinate                                                                        0\n",
       "Knowledge of official languages (5):Total - Knowledge of official languages[1]    0\n",
       "Knowledge of official languages (5):English only[2]                               0\n",
       "Knowledge of official languages (5):French only[3]                                0\n",
       "Knowledge of official languages (5):English and French[4]                         0\n",
       "Knowledge of official languages (5):Neither English nor French[5]                 0\n",
       "dtype: int64"
      ]
     },
     "execution_count": 17,
     "metadata": {},
     "output_type": "execute_result"
    }
   ],
   "source": [
    "df.isnull().sum()"
   ]
  },
  {
   "cell_type": "code",
   "execution_count": 18,
   "metadata": {},
   "outputs": [],
   "source": [
    "profileDF = ProfileReport(df, title = \"Profiling Report (Reduced)\", explorative=True)\n",
    "profileDF.to_file('/home/grace/Documents/CapstoneProject/MotherTongues-Canada/EDA-reduced.html')"
   ]
  }
 ],
 "metadata": {
  "kernelspec": {
   "display_name": "base",
   "language": "python",
   "name": "python3"
  },
  "language_info": {
   "codemirror_mode": {
    "name": "ipython",
    "version": 3
   },
   "file_extension": ".py",
   "mimetype": "text/x-python",
   "name": "python",
   "nbconvert_exporter": "python",
   "pygments_lexer": "ipython3",
   "version": "3.11.4"
  },
  "orig_nbformat": 4
 },
 "nbformat": 4,
 "nbformat_minor": 2
}
