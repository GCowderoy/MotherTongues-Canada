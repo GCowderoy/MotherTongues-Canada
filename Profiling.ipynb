{
 "cells": [
  {
   "cell_type": "code",
   "execution_count": 5,
   "metadata": {},
   "outputs": [
    {
     "data": {
      "text/html": [
       "<div>\n",
       "<style scoped>\n",
       "    .dataframe tbody tr th:only-of-type {\n",
       "        vertical-align: middle;\n",
       "    }\n",
       "\n",
       "    .dataframe tbody tr th {\n",
       "        vertical-align: top;\n",
       "    }\n",
       "\n",
       "    .dataframe thead th {\n",
       "        text-align: right;\n",
       "    }\n",
       "</style>\n",
       "<table border=\"1\" class=\"dataframe\">\n",
       "  <thead>\n",
       "    <tr style=\"text-align: right;\">\n",
       "      <th></th>\n",
       "      <th>REF_DATE</th>\n",
       "      <th>Knowledge of official languages (5):Total - Knowledge of official languages[1]</th>\n",
       "      <th>Symbol</th>\n",
       "      <th>Knowledge of official languages (5):English only[2]</th>\n",
       "      <th>Symbol.1</th>\n",
       "      <th>Knowledge of official languages (5):French only[3]</th>\n",
       "      <th>Symbol.2</th>\n",
       "      <th>Knowledge of official languages (5):English and French[4]</th>\n",
       "      <th>Symbol.3</th>\n",
       "      <th>Knowledge of official languages (5):Neither English nor French[5]</th>\n",
       "      <th>Symbol.4</th>\n",
       "    </tr>\n",
       "  </thead>\n",
       "  <tbody>\n",
       "    <tr>\n",
       "      <th>count</th>\n",
       "      <td>2591730.0</td>\n",
       "      <td>2.591730e+06</td>\n",
       "      <td>0.0</td>\n",
       "      <td>2.591730e+06</td>\n",
       "      <td>0.0</td>\n",
       "      <td>2.591730e+06</td>\n",
       "      <td>0.0</td>\n",
       "      <td>2.591730e+06</td>\n",
       "      <td>0.0</td>\n",
       "      <td>2.591730e+06</td>\n",
       "      <td>0.0</td>\n",
       "    </tr>\n",
       "    <tr>\n",
       "      <th>mean</th>\n",
       "      <td>2021.0</td>\n",
       "      <td>1.067793e+03</td>\n",
       "      <td>NaN</td>\n",
       "      <td>7.499710e+02</td>\n",
       "      <td>NaN</td>\n",
       "      <td>1.010610e+02</td>\n",
       "      <td>NaN</td>\n",
       "      <td>1.881355e+02</td>\n",
       "      <td>NaN</td>\n",
       "      <td>2.855237e+01</td>\n",
       "      <td>NaN</td>\n",
       "    </tr>\n",
       "    <tr>\n",
       "      <th>std</th>\n",
       "      <td>0.0</td>\n",
       "      <td>6.512709e+04</td>\n",
       "      <td>NaN</td>\n",
       "      <td>4.737592e+04</td>\n",
       "      <td>NaN</td>\n",
       "      <td>1.002769e+04</td>\n",
       "      <td>NaN</td>\n",
       "      <td>1.314044e+04</td>\n",
       "      <td>NaN</td>\n",
       "      <td>1.603253e+03</td>\n",
       "      <td>NaN</td>\n",
       "    </tr>\n",
       "    <tr>\n",
       "      <th>min</th>\n",
       "      <td>2021.0</td>\n",
       "      <td>0.000000e+00</td>\n",
       "      <td>NaN</td>\n",
       "      <td>0.000000e+00</td>\n",
       "      <td>NaN</td>\n",
       "      <td>0.000000e+00</td>\n",
       "      <td>NaN</td>\n",
       "      <td>0.000000e+00</td>\n",
       "      <td>NaN</td>\n",
       "      <td>0.000000e+00</td>\n",
       "      <td>NaN</td>\n",
       "    </tr>\n",
       "    <tr>\n",
       "      <th>25%</th>\n",
       "      <td>2021.0</td>\n",
       "      <td>0.000000e+00</td>\n",
       "      <td>NaN</td>\n",
       "      <td>0.000000e+00</td>\n",
       "      <td>NaN</td>\n",
       "      <td>0.000000e+00</td>\n",
       "      <td>NaN</td>\n",
       "      <td>0.000000e+00</td>\n",
       "      <td>NaN</td>\n",
       "      <td>0.000000e+00</td>\n",
       "      <td>NaN</td>\n",
       "    </tr>\n",
       "    <tr>\n",
       "      <th>50%</th>\n",
       "      <td>2021.0</td>\n",
       "      <td>0.000000e+00</td>\n",
       "      <td>NaN</td>\n",
       "      <td>0.000000e+00</td>\n",
       "      <td>NaN</td>\n",
       "      <td>0.000000e+00</td>\n",
       "      <td>NaN</td>\n",
       "      <td>0.000000e+00</td>\n",
       "      <td>NaN</td>\n",
       "      <td>0.000000e+00</td>\n",
       "      <td>NaN</td>\n",
       "    </tr>\n",
       "    <tr>\n",
       "      <th>75%</th>\n",
       "      <td>2021.0</td>\n",
       "      <td>0.000000e+00</td>\n",
       "      <td>NaN</td>\n",
       "      <td>0.000000e+00</td>\n",
       "      <td>NaN</td>\n",
       "      <td>0.000000e+00</td>\n",
       "      <td>NaN</td>\n",
       "      <td>0.000000e+00</td>\n",
       "      <td>NaN</td>\n",
       "      <td>0.000000e+00</td>\n",
       "      <td>NaN</td>\n",
       "    </tr>\n",
       "    <tr>\n",
       "      <th>max</th>\n",
       "      <td>2021.0</td>\n",
       "      <td>3.662096e+07</td>\n",
       "      <td>NaN</td>\n",
       "      <td>2.526166e+07</td>\n",
       "      <td>NaN</td>\n",
       "      <td>4.087895e+06</td>\n",
       "      <td>NaN</td>\n",
       "      <td>6.581680e+06</td>\n",
       "      <td>NaN</td>\n",
       "      <td>6.897250e+05</td>\n",
       "      <td>NaN</td>\n",
       "    </tr>\n",
       "  </tbody>\n",
       "</table>\n",
       "</div>"
      ],
      "text/plain": [
       "        REF_DATE  \\\n",
       "count  2591730.0   \n",
       "mean      2021.0   \n",
       "std          0.0   \n",
       "min       2021.0   \n",
       "25%       2021.0   \n",
       "50%       2021.0   \n",
       "75%       2021.0   \n",
       "max       2021.0   \n",
       "\n",
       "       Knowledge of official languages (5):Total - Knowledge of official languages[1]  \\\n",
       "count                                       2.591730e+06                                \n",
       "mean                                        1.067793e+03                                \n",
       "std                                         6.512709e+04                                \n",
       "min                                         0.000000e+00                                \n",
       "25%                                         0.000000e+00                                \n",
       "50%                                         0.000000e+00                                \n",
       "75%                                         0.000000e+00                                \n",
       "max                                         3.662096e+07                                \n",
       "\n",
       "       Symbol  Knowledge of official languages (5):English only[2]  Symbol.1  \\\n",
       "count     0.0                                       2.591730e+06         0.0   \n",
       "mean      NaN                                       7.499710e+02         NaN   \n",
       "std       NaN                                       4.737592e+04         NaN   \n",
       "min       NaN                                       0.000000e+00         NaN   \n",
       "25%       NaN                                       0.000000e+00         NaN   \n",
       "50%       NaN                                       0.000000e+00         NaN   \n",
       "75%       NaN                                       0.000000e+00         NaN   \n",
       "max       NaN                                       2.526166e+07         NaN   \n",
       "\n",
       "       Knowledge of official languages (5):French only[3]  Symbol.2  \\\n",
       "count                                       2.591730e+06        0.0   \n",
       "mean                                        1.010610e+02        NaN   \n",
       "std                                         1.002769e+04        NaN   \n",
       "min                                         0.000000e+00        NaN   \n",
       "25%                                         0.000000e+00        NaN   \n",
       "50%                                         0.000000e+00        NaN   \n",
       "75%                                         0.000000e+00        NaN   \n",
       "max                                         4.087895e+06        NaN   \n",
       "\n",
       "       Knowledge of official languages (5):English and French[4]  Symbol.3  \\\n",
       "count                                       2.591730e+06               0.0   \n",
       "mean                                        1.881355e+02               NaN   \n",
       "std                                         1.314044e+04               NaN   \n",
       "min                                         0.000000e+00               NaN   \n",
       "25%                                         0.000000e+00               NaN   \n",
       "50%                                         0.000000e+00               NaN   \n",
       "75%                                         0.000000e+00               NaN   \n",
       "max                                         6.581680e+06               NaN   \n",
       "\n",
       "       Knowledge of official languages (5):Neither English nor French[5]  \\\n",
       "count                                       2.591730e+06                   \n",
       "mean                                        2.855237e+01                   \n",
       "std                                         1.603253e+03                   \n",
       "min                                         0.000000e+00                   \n",
       "25%                                         0.000000e+00                   \n",
       "50%                                         0.000000e+00                   \n",
       "75%                                         0.000000e+00                   \n",
       "max                                         6.897250e+05                   \n",
       "\n",
       "       Symbol.4  \n",
       "count       0.0  \n",
       "mean        NaN  \n",
       "std         NaN  \n",
       "min         NaN  \n",
       "25%         NaN  \n",
       "50%         NaN  \n",
       "75%         NaN  \n",
       "max         NaN  "
      ]
     },
     "execution_count": 5,
     "metadata": {},
     "output_type": "execute_result"
    }
   ],
   "source": [
    "import pandas as pd\n",
    "import matplotlib.pyplot as plt\n",
    "import numpy as np\n",
    "from ydata_profiling import ProfileReport\n",
    "\n",
    "motherTongues_filepath = '/home/grace/Documents/CapstoneProject/MotherTongues/98100175.csv'\n",
    "motherTongues_data = pd.read_csv(motherTongues_filepath)\n",
    "motherTongues_data.describe()"
   ]
  },
  {
   "cell_type": "code",
   "execution_count": 6,
   "metadata": {},
   "outputs": [
    {
     "name": "stdout",
     "output_type": "stream",
     "text": [
      "2591730\n"
     ]
    },
    {
     "data": {
      "text/plain": [
       "['REF_DATE',\n",
       " 'GEO',\n",
       " 'DGUID',\n",
       " 'Gender (3)',\n",
       " 'Age (15A)',\n",
       " 'Mother tongue (331)',\n",
       " 'Coordinate',\n",
       " 'Knowledge of official languages (5):Total - Knowledge of official languages[1]',\n",
       " 'Symbol',\n",
       " 'Knowledge of official languages (5):English only[2]',\n",
       " 'Symbol.1',\n",
       " 'Knowledge of official languages (5):French only[3]',\n",
       " 'Symbol.2',\n",
       " 'Knowledge of official languages (5):English and French[4]',\n",
       " 'Symbol.3',\n",
       " 'Knowledge of official languages (5):Neither English nor French[5]',\n",
       " 'Symbol.4']"
      ]
     },
     "execution_count": 6,
     "metadata": {},
     "output_type": "execute_result"
    }
   ],
   "source": [
    "print(len(motherTongues_data))\n",
    "list(motherTongues_data.columns)"
   ]
  },
  {
   "cell_type": "code",
   "execution_count": 7,
   "metadata": {},
   "outputs": [],
   "source": [
    "genderList = motherTongues_data[\"Gender (3)\"].unique()\n"
   ]
  },
  {
   "cell_type": "code",
   "execution_count": 2,
   "metadata": {},
   "outputs": [],
   "source": [
    "profile = ProfileReport(motherTongues_data, title = \"Profiling Report\", explorative=True)\n",
    "##profile"
   ]
  },
  {
   "cell_type": "code",
   "execution_count": 3,
   "metadata": {},
   "outputs": [
    {
     "data": {
      "application/vnd.jupyter.widget-view+json": {
       "model_id": "829218eee96d4768b190fe8687094713",
       "version_major": 2,
       "version_minor": 0
      },
      "text/plain": [
       "Summarize dataset:   0%|          | 0/5 [00:00<?, ?it/s]"
      ]
     },
     "metadata": {},
     "output_type": "display_data"
    },
    {
     "data": {
      "application/vnd.jupyter.widget-view+json": {
       "model_id": "b736931a705746d7ae5c80b4f0ea6f7e",
       "version_major": 2,
       "version_minor": 0
      },
      "text/plain": [
       "Generate report structure:   0%|          | 0/1 [00:00<?, ?it/s]"
      ]
     },
     "metadata": {},
     "output_type": "display_data"
    },
    {
     "data": {
      "application/vnd.jupyter.widget-view+json": {
       "model_id": "bf9c372b0ded4a44af57a0a03654aeb4",
       "version_major": 2,
       "version_minor": 0
      },
      "text/plain": [
       "Render HTML:   0%|          | 0/1 [00:00<?, ?it/s]"
      ]
     },
     "metadata": {},
     "output_type": "display_data"
    },
    {
     "data": {
      "application/vnd.jupyter.widget-view+json": {
       "model_id": "0433d53b9324447fa216f1397aa33fbb",
       "version_major": 2,
       "version_minor": 0
      },
      "text/plain": [
       "Export report to file:   0%|          | 0/1 [00:00<?, ?it/s]"
      ]
     },
     "metadata": {},
     "output_type": "display_data"
    }
   ],
   "source": [
    "profile.to_file('/home/grace/Documents/CapstoneProject/MotherTongues-Canada/EDA.html')\n"
   ]
  },
  {
   "cell_type": "code",
   "execution_count": 8,
   "metadata": {},
   "outputs": [
    {
     "data": {
      "text/plain": [
       "REF_DATE                                                                                0\n",
       "GEO                                                                                     0\n",
       "DGUID                                                                                   0\n",
       "Gender (3)                                                                              0\n",
       "Age (15A)                                                                               0\n",
       "Mother tongue (331)                                                                     0\n",
       "Coordinate                                                                              0\n",
       "Knowledge of official languages (5):Total - Knowledge of official languages[1]          0\n",
       "Symbol                                                                            2591730\n",
       "Knowledge of official languages (5):English only[2]                                     0\n",
       "Symbol.1                                                                          2591730\n",
       "Knowledge of official languages (5):French only[3]                                      0\n",
       "Symbol.2                                                                          2591730\n",
       "Knowledge of official languages (5):English and French[4]                               0\n",
       "Symbol.3                                                                          2591730\n",
       "Knowledge of official languages (5):Neither English nor French[5]                       0\n",
       "Symbol.4                                                                          2591730\n",
       "dtype: int64"
      ]
     },
     "execution_count": 8,
     "metadata": {},
     "output_type": "execute_result"
    }
   ],
   "source": [
    "motherTongues_data.isnull().sum()"
   ]
  },
  {
   "cell_type": "code",
   "execution_count": 16,
   "metadata": {},
   "outputs": [
    {
     "data": {
      "text/plain": [
       "['REF_DATE',\n",
       " 'GEO',\n",
       " 'DGUID',\n",
       " 'Gender (3)',\n",
       " 'Age (15A)',\n",
       " 'Mother tongue (331)',\n",
       " 'Coordinate',\n",
       " 'Knowledge of official languages (5):Total - Knowledge of official languages[1]',\n",
       " 'Knowledge of official languages (5):English only[2]',\n",
       " 'Knowledge of official languages (5):French only[3]',\n",
       " 'Knowledge of official languages (5):English and French[4]',\n",
       " 'Knowledge of official languages (5):Neither English nor French[5]']"
      ]
     },
     "execution_count": 16,
     "metadata": {},
     "output_type": "execute_result"
    }
   ],
   "source": [
    "df = motherTongues_data[[c for c in motherTongues_data.columns if 'Symbol' not in c]]\n",
    "list(df.columns)"
   ]
  },
  {
   "cell_type": "code",
   "execution_count": 17,
   "metadata": {},
   "outputs": [
    {
     "data": {
      "text/plain": [
       "REF_DATE                                                                          0\n",
       "GEO                                                                               0\n",
       "DGUID                                                                             0\n",
       "Gender (3)                                                                        0\n",
       "Age (15A)                                                                         0\n",
       "Mother tongue (331)                                                               0\n",
       "Coordinate                                                                        0\n",
       "Knowledge of official languages (5):Total - Knowledge of official languages[1]    0\n",
       "Knowledge of official languages (5):English only[2]                               0\n",
       "Knowledge of official languages (5):French only[3]                                0\n",
       "Knowledge of official languages (5):English and French[4]                         0\n",
       "Knowledge of official languages (5):Neither English nor French[5]                 0\n",
       "dtype: int64"
      ]
     },
     "execution_count": 17,
     "metadata": {},
     "output_type": "execute_result"
    }
   ],
   "source": [
    "df.isnull().sum()"
   ]
  },
  {
   "cell_type": "code",
   "execution_count": 19,
   "metadata": {},
   "outputs": [
    {
     "name": "stderr",
     "output_type": "stream",
     "text": [
      "/home/grace/anaconda3/lib/python3.11/site-packages/ydata_profiling/utils/dataframe.py:137: SettingWithCopyWarning: \n",
      "A value is trying to be set on a copy of a slice from a DataFrame\n",
      "\n",
      "See the caveats in the documentation: https://pandas.pydata.org/pandas-docs/stable/user_guide/indexing.html#returning-a-view-versus-a-copy\n",
      "  df.rename(columns={\"index\": \"df_index\"}, inplace=True)\n"
     ]
    },
    {
     "data": {
      "application/vnd.jupyter.widget-view+json": {
       "model_id": "f205a351988a4363a15ab5af19189824",
       "version_major": 2,
       "version_minor": 0
      },
      "text/plain": [
       "Summarize dataset:   0%|          | 0/5 [00:00<?, ?it/s]"
      ]
     },
     "metadata": {},
     "output_type": "display_data"
    },
    {
     "data": {
      "application/vnd.jupyter.widget-view+json": {
       "model_id": "081994b5e9bb4f729794844a7219ae92",
       "version_major": 2,
       "version_minor": 0
      },
      "text/plain": [
       "Generate report structure:   0%|          | 0/1 [00:00<?, ?it/s]"
      ]
     },
     "metadata": {},
     "output_type": "display_data"
    },
    {
     "data": {
      "application/vnd.jupyter.widget-view+json": {
       "model_id": "fa4f12d7faa944978d6bcbfcbb9111b2",
       "version_major": 2,
       "version_minor": 0
      },
      "text/plain": [
       "Render HTML:   0%|          | 0/1 [00:00<?, ?it/s]"
      ]
     },
     "metadata": {},
     "output_type": "display_data"
    },
    {
     "data": {
      "application/vnd.jupyter.widget-view+json": {
       "model_id": "707ccf7b25c6431d85b0e7d5ce3d7678",
       "version_major": 2,
       "version_minor": 0
      },
      "text/plain": [
       "Export report to file:   0%|          | 0/1 [00:00<?, ?it/s]"
      ]
     },
     "metadata": {},
     "output_type": "display_data"
    }
   ],
   "source": [
    "profileDF = ProfileReport(df, title = \"Profiling Report (Reduced)\", explorative=True)\n",
    "profileDF.to_file('/home/grace/Documents/CapstoneProject/MotherTongues-Canada/EDA-reduced.html')"
   ]
  },
  {
   "cell_type": "code",
   "execution_count": 22,
   "metadata": {},
   "outputs": [
    {
     "data": {
      "text/html": [
       "<div>\n",
       "<style scoped>\n",
       "    .dataframe tbody tr th:only-of-type {\n",
       "        vertical-align: middle;\n",
       "    }\n",
       "\n",
       "    .dataframe tbody tr th {\n",
       "        vertical-align: top;\n",
       "    }\n",
       "\n",
       "    .dataframe thead th {\n",
       "        text-align: right;\n",
       "    }\n",
       "</style>\n",
       "<table border=\"1\" class=\"dataframe\">\n",
       "  <thead>\n",
       "    <tr style=\"text-align: right;\">\n",
       "      <th></th>\n",
       "      <th>REF_DATE</th>\n",
       "      <th>GEO</th>\n",
       "      <th>DGUID</th>\n",
       "      <th>Gender (3)</th>\n",
       "      <th>Age (15A)</th>\n",
       "      <th>Mother tongue (331)</th>\n",
       "      <th>Coordinate</th>\n",
       "      <th>Knowledge of official languages (5):Total - Knowledge of official languages[1]</th>\n",
       "      <th>Knowledge of official languages (5):English only[2]</th>\n",
       "      <th>Knowledge of official languages (5):French only[3]</th>\n",
       "      <th>Knowledge of official languages (5):English and French[4]</th>\n",
       "      <th>Knowledge of official languages (5):Neither English nor French[5]</th>\n",
       "    </tr>\n",
       "  </thead>\n",
       "  <tbody>\n",
       "    <tr>\n",
       "      <th>0</th>\n",
       "      <td>2021</td>\n",
       "      <td>Canada</td>\n",
       "      <td>2021A000011124</td>\n",
       "      <td>Total - Gender</td>\n",
       "      <td>Total - Age</td>\n",
       "      <td>Total - Mother tongue</td>\n",
       "      <td>1.1.1.1</td>\n",
       "      <td>36620955</td>\n",
       "      <td>25261655</td>\n",
       "      <td>4087895</td>\n",
       "      <td>6581680</td>\n",
       "      <td>689725</td>\n",
       "    </tr>\n",
       "    <tr>\n",
       "      <th>1</th>\n",
       "      <td>2021</td>\n",
       "      <td>Canada</td>\n",
       "      <td>2021A000011124</td>\n",
       "      <td>Total - Gender</td>\n",
       "      <td>Total - Age</td>\n",
       "      <td>Single responses</td>\n",
       "      <td>1.1.1.2</td>\n",
       "      <td>35145265</td>\n",
       "      <td>24306165</td>\n",
       "      <td>4029960</td>\n",
       "      <td>6130560</td>\n",
       "      <td>678580</td>\n",
       "    </tr>\n",
       "    <tr>\n",
       "      <th>2</th>\n",
       "      <td>2021</td>\n",
       "      <td>Canada</td>\n",
       "      <td>2021A000011124</td>\n",
       "      <td>Total - Gender</td>\n",
       "      <td>Total - Age</td>\n",
       "      <td>Official languages</td>\n",
       "      <td>1.1.1.3</td>\n",
       "      <td>27296445</td>\n",
       "      <td>18325325</td>\n",
       "      <td>3734010</td>\n",
       "      <td>5226490</td>\n",
       "      <td>10620</td>\n",
       "    </tr>\n",
       "    <tr>\n",
       "      <th>3</th>\n",
       "      <td>2021</td>\n",
       "      <td>Canada</td>\n",
       "      <td>2021A000011124</td>\n",
       "      <td>Total - Gender</td>\n",
       "      <td>Total - Age</td>\n",
       "      <td>English</td>\n",
       "      <td>1.1.1.4</td>\n",
       "      <td>20107200</td>\n",
       "      <td>18285580</td>\n",
       "      <td>5990</td>\n",
       "      <td>1806605</td>\n",
       "      <td>9025</td>\n",
       "    </tr>\n",
       "    <tr>\n",
       "      <th>4</th>\n",
       "      <td>2021</td>\n",
       "      <td>Canada</td>\n",
       "      <td>2021A000011124</td>\n",
       "      <td>Total - Gender</td>\n",
       "      <td>Total - Age</td>\n",
       "      <td>French</td>\n",
       "      <td>1.1.1.5</td>\n",
       "      <td>7189245</td>\n",
       "      <td>39740</td>\n",
       "      <td>3728020</td>\n",
       "      <td>3419880</td>\n",
       "      <td>1595</td>\n",
       "    </tr>\n",
       "    <tr>\n",
       "      <th>5</th>\n",
       "      <td>2021</td>\n",
       "      <td>Canada</td>\n",
       "      <td>2021A000011124</td>\n",
       "      <td>Total - Gender</td>\n",
       "      <td>Total - Age</td>\n",
       "      <td>Non-official languages</td>\n",
       "      <td>1.1.1.6</td>\n",
       "      <td>7848820</td>\n",
       "      <td>5980845</td>\n",
       "      <td>295950</td>\n",
       "      <td>904065</td>\n",
       "      <td>667955</td>\n",
       "    </tr>\n",
       "    <tr>\n",
       "      <th>6</th>\n",
       "      <td>2021</td>\n",
       "      <td>Canada</td>\n",
       "      <td>2021A000011124</td>\n",
       "      <td>Total - Gender</td>\n",
       "      <td>Total - Age</td>\n",
       "      <td>Indigenous languages</td>\n",
       "      <td>1.1.1.7</td>\n",
       "      <td>148895</td>\n",
       "      <td>123580</td>\n",
       "      <td>10995</td>\n",
       "      <td>8785</td>\n",
       "      <td>5535</td>\n",
       "    </tr>\n",
       "    <tr>\n",
       "      <th>7</th>\n",
       "      <td>2021</td>\n",
       "      <td>Canada</td>\n",
       "      <td>2021A000011124</td>\n",
       "      <td>Total - Gender</td>\n",
       "      <td>Total - Age</td>\n",
       "      <td>Algonquian languages</td>\n",
       "      <td>1.1.1.8</td>\n",
       "      <td>97125</td>\n",
       "      <td>79020</td>\n",
       "      <td>10730</td>\n",
       "      <td>5625</td>\n",
       "      <td>1760</td>\n",
       "    </tr>\n",
       "  </tbody>\n",
       "</table>\n",
       "</div>"
      ],
      "text/plain": [
       "   REF_DATE     GEO           DGUID      Gender (3)    Age (15A)  \\\n",
       "0      2021  Canada  2021A000011124  Total - Gender  Total - Age   \n",
       "1      2021  Canada  2021A000011124  Total - Gender  Total - Age   \n",
       "2      2021  Canada  2021A000011124  Total - Gender  Total - Age   \n",
       "3      2021  Canada  2021A000011124  Total - Gender  Total - Age   \n",
       "4      2021  Canada  2021A000011124  Total - Gender  Total - Age   \n",
       "5      2021  Canada  2021A000011124  Total - Gender  Total - Age   \n",
       "6      2021  Canada  2021A000011124  Total - Gender  Total - Age   \n",
       "7      2021  Canada  2021A000011124  Total - Gender  Total - Age   \n",
       "\n",
       "      Mother tongue (331) Coordinate  \\\n",
       "0   Total - Mother tongue    1.1.1.1   \n",
       "1        Single responses    1.1.1.2   \n",
       "2      Official languages    1.1.1.3   \n",
       "3                 English    1.1.1.4   \n",
       "4                  French    1.1.1.5   \n",
       "5  Non-official languages    1.1.1.6   \n",
       "6    Indigenous languages    1.1.1.7   \n",
       "7    Algonquian languages    1.1.1.8   \n",
       "\n",
       "   Knowledge of official languages (5):Total - Knowledge of official languages[1]  \\\n",
       "0                                           36620955                                \n",
       "1                                           35145265                                \n",
       "2                                           27296445                                \n",
       "3                                           20107200                                \n",
       "4                                            7189245                                \n",
       "5                                            7848820                                \n",
       "6                                             148895                                \n",
       "7                                              97125                                \n",
       "\n",
       "   Knowledge of official languages (5):English only[2]  \\\n",
       "0                                           25261655     \n",
       "1                                           24306165     \n",
       "2                                           18325325     \n",
       "3                                           18285580     \n",
       "4                                              39740     \n",
       "5                                            5980845     \n",
       "6                                             123580     \n",
       "7                                              79020     \n",
       "\n",
       "   Knowledge of official languages (5):French only[3]  \\\n",
       "0                                            4087895    \n",
       "1                                            4029960    \n",
       "2                                            3734010    \n",
       "3                                               5990    \n",
       "4                                            3728020    \n",
       "5                                             295950    \n",
       "6                                              10995    \n",
       "7                                              10730    \n",
       "\n",
       "   Knowledge of official languages (5):English and French[4]  \\\n",
       "0                                            6581680           \n",
       "1                                            6130560           \n",
       "2                                            5226490           \n",
       "3                                            1806605           \n",
       "4                                            3419880           \n",
       "5                                             904065           \n",
       "6                                               8785           \n",
       "7                                               5625           \n",
       "\n",
       "   Knowledge of official languages (5):Neither English nor French[5]  \n",
       "0                                             689725                  \n",
       "1                                             678580                  \n",
       "2                                              10620                  \n",
       "3                                               9025                  \n",
       "4                                               1595                  \n",
       "5                                             667955                  \n",
       "6                                               5535                  \n",
       "7                                               1760                  "
      ]
     },
     "execution_count": 22,
     "metadata": {},
     "output_type": "execute_result"
    }
   ],
   "source": [
    "df.head(n=8)"
   ]
  },
  {
   "cell_type": "markdown",
   "metadata": {},
   "source": [
    "The dataset includes aggregations as individual rows. The features 'Knowledge of Official languages' for Single responses (row 1, coordinate 1.1.1.2) is the sum of row 2 and row 5 - Official languages and Non-official languages respectively. Part of the data cleaning will require separating out these aggregations. \n"
   ]
  },
  {
   "cell_type": "markdown",
   "metadata": {},
   "source": [
    "Reviewing the metadata - each Geographical area has a unique member ID and is listed with its parent Member ID. \n",
    "E.g. Canada has ID 1; Nova Scotia has ID 10 and parent ID 1; and Halifax has ID 12 and parent member 10 (Nova Scotia)\n",
    "\n",
    "Similarly for age - Total Age has ID 1; 25 to 64 years has ID 9 and parent ID 1; 25 to 34 years has ID 10 and parent ID 9. \n",
    "\n",
    "Mother tongues, Gender, knowledge of official languages have similar encoding available in the metadata. "
   ]
  }
 ],
 "metadata": {
  "kernelspec": {
   "display_name": "base",
   "language": "python",
   "name": "python3"
  },
  "language_info": {
   "codemirror_mode": {
    "name": "ipython",
    "version": 3
   },
   "file_extension": ".py",
   "mimetype": "text/x-python",
   "name": "python",
   "nbconvert_exporter": "python",
   "pygments_lexer": "ipython3",
   "version": "3.11.4"
  },
  "orig_nbformat": 4
 },
 "nbformat": 4,
 "nbformat_minor": 2
}
